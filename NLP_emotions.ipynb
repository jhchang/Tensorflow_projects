{
  "nbformat": 4,
  "nbformat_minor": 0,
  "metadata": {
    "colab": {
      "provenance": [],
      "authorship_tag": "ABX9TyMf3Jx9W3bEA5gpwvK8D1Wo",
      "include_colab_link": true
    },
    "kernelspec": {
      "name": "python3",
      "display_name": "Python 3"
    },
    "language_info": {
      "name": "python"
    },
    "accelerator": "GPU",
    "gpuClass": "standard"
  },
  "cells": [
    {
      "cell_type": "markdown",
      "metadata": {
        "id": "view-in-github",
        "colab_type": "text"
      },
      "source": [
        "<a href=\"https://colab.research.google.com/github/jhchang/Tensorflow_projects/blob/main/NLP_emotions.ipynb\" target=\"_parent\"><img src=\"https://colab.research.google.com/assets/colab-badge.svg\" alt=\"Open In Colab\"/></a>"
      ]
    },
    {
      "cell_type": "code",
      "execution_count": null,
      "metadata": {
        "colab": {
          "base_uri": "https://localhost:8080/"
        },
        "id": "-saKGBhnyYBA",
        "outputId": "34b39b22-5adc-4074-a21f-710f38446938"
      },
      "outputs": [
        {
          "output_type": "stream",
          "name": "stdout",
          "text": [
            "GPU 0: Tesla T4 (UUID: GPU-d05aec7f-10f6-60c7-5b25-460321a8aeac)\n"
          ]
        }
      ],
      "source": [
        "# Need a compute power of 7.0+ to use mixed precision training\n",
        "!nvidia-smi -L"
      ]
    },
    {
      "cell_type": "code",
      "source": [
        "import tensorflow as tf\n",
        "print(tf.__version__)"
      ],
      "metadata": {
        "colab": {
          "base_uri": "https://localhost:8080/"
        },
        "id": "LZ4S5t9SG88q",
        "outputId": "c9f2fd1a-cb8c-4212-94ed-263ce398df44"
      },
      "execution_count": null,
      "outputs": [
        {
          "output_type": "stream",
          "name": "stdout",
          "text": [
            "2.9.2\n"
          ]
        }
      ]
    },
    {
      "cell_type": "code",
      "source": [
        "import numpy as np\n",
        "from tensorflow.keras import layers"
      ],
      "metadata": {
        "id": "AzaapjQ9G-HX"
      },
      "execution_count": null,
      "outputs": []
    },
    {
      "cell_type": "code",
      "source": [
        "# Get helper functions file\n",
        "import os \n",
        "\n",
        "if not os.path.exists(\"helper_functions.py\"):\n",
        "    !wget https://raw.githubusercontent.com/mrdbourke/tensorflow-deep-learning/main/extras/helper_functions.py\n",
        "else:\n",
        "    print(\"[INFO] 'helper_functions.py' already exists, skipping download.\")"
      ],
      "metadata": {
        "colab": {
          "base_uri": "https://localhost:8080/"
        },
        "id": "jVf4dZDuG_YD",
        "outputId": "320649da-502a-443f-d7b8-0e1bc3673643"
      },
      "execution_count": null,
      "outputs": [
        {
          "output_type": "stream",
          "name": "stdout",
          "text": [
            "--2023-01-15 06:59:24--  https://raw.githubusercontent.com/mrdbourke/tensorflow-deep-learning/main/extras/helper_functions.py\n",
            "Resolving raw.githubusercontent.com (raw.githubusercontent.com)... 185.199.111.133, 185.199.108.133, 185.199.109.133, ...\n",
            "Connecting to raw.githubusercontent.com (raw.githubusercontent.com)|185.199.111.133|:443... connected.\n",
            "HTTP request sent, awaiting response... 200 OK\n",
            "Length: 10246 (10K) [text/plain]\n",
            "Saving to: ‘helper_functions.py’\n",
            "\n",
            "helper_functions.py 100%[===================>]  10.01K  --.-KB/s    in 0s      \n",
            "\n",
            "2023-01-15 06:59:25 (79.8 MB/s) - ‘helper_functions.py’ saved [10246/10246]\n",
            "\n"
          ]
        }
      ]
    },
    {
      "cell_type": "code",
      "source": [
        "from helper_functions import create_tensorboard_callback, plot_loss_curves, compare_historys, unzip_data, walk_through_dir"
      ],
      "metadata": {
        "id": "EVD1p7lNHCOr"
      },
      "execution_count": null,
      "outputs": []
    },
    {
      "cell_type": "code",
      "source": [
        "from google.colab import drive\n",
        "drive.mount('/content/drive')"
      ],
      "metadata": {
        "colab": {
          "base_uri": "https://localhost:8080/"
        },
        "id": "7u5dUh_tHEVa",
        "outputId": "7c9f19ac-209c-46cb-9eb1-35be40af1dd5"
      },
      "execution_count": null,
      "outputs": [
        {
          "output_type": "stream",
          "name": "stdout",
          "text": [
            "Mounted at /content/drive\n"
          ]
        }
      ]
    },
    {
      "cell_type": "code",
      "source": [
        "if os.path.exists('NLP_emotions/'):\n",
        "    print('Directory already exists')\n",
        "else:\n",
        "    !mkdir -p NLP_emotions\n",
        "    !unzip /content/drive/MyDrive/NLPEmotions.zip -d NLP_emotions"
      ],
      "metadata": {
        "colab": {
          "base_uri": "https://localhost:8080/"
        },
        "id": "DRcomgndHF57",
        "outputId": "39db070a-b1f7-4180-9fed-5ad05ebfe6f0"
      },
      "execution_count": null,
      "outputs": [
        {
          "output_type": "stream",
          "name": "stdout",
          "text": [
            "Archive:  /content/drive/MyDrive/NLPEmotions.zip\n",
            "  inflating: NLP_emotions/test.txt   \n",
            "  inflating: NLP_emotions/train.txt  \n",
            "  inflating: NLP_emotions/val.txt    \n"
          ]
        }
      ]
    },
    {
      "cell_type": "code",
      "source": [
        "data_dir = \"NLP_emotions/\""
      ],
      "metadata": {
        "id": "4zLSv5aUIn72"
      },
      "execution_count": null,
      "outputs": []
    },
    {
      "cell_type": "code",
      "source": [
        "# Check all of the filenames in the target directory\n",
        "import os\n",
        "filenames = [data_dir + filename for filename in os.listdir(data_dir)]\n",
        "filenames"
      ],
      "metadata": {
        "colab": {
          "base_uri": "https://localhost:8080/"
        },
        "id": "Tit657UMjmYW",
        "outputId": "36e8b3ba-c769-4ef6-e145-9df2089f367c"
      },
      "execution_count": null,
      "outputs": [
        {
          "output_type": "execute_result",
          "data": {
            "text/plain": [
              "['NLP_emotions/val.txt', 'NLP_emotions/train.txt', 'NLP_emotions/test.txt']"
            ]
          },
          "metadata": {},
          "execution_count": 9
        }
      ]
    },
    {
      "cell_type": "code",
      "source": [
        "# Create function to read the lines of a document\n",
        "def get_lines(filename):\n",
        "  \"\"\"\n",
        "  Reads filename (a text file) and returns the lines of text as a list.\n",
        "  \n",
        "  Args:\n",
        "      filename: a string containing the target filepath to read.\n",
        "  \n",
        "  Returns:\n",
        "      A list of strings with one string per line from the target filename.\n",
        "      For example:\n",
        "      [\"this is the first line of filename\",\n",
        "       \"this is the second line of filename\",\n",
        "       \"...\"]\n",
        "  \"\"\"\n",
        "  with open(filename, \"r\") as f:\n",
        "    return f.readlines()"
      ],
      "metadata": {
        "id": "Q6j54QSnjuFm"
      },
      "execution_count": null,
      "outputs": []
    },
    {
      "cell_type": "code",
      "source": [
        "def get_label_and_lines(filename):\n",
        "    input_lines = get_lines(filename)\n",
        "    lines_and_targets = []\n",
        "\n",
        "    for line in input_lines:\n",
        "        line_data = {}\n",
        "        line_split = line.split(\";\")\n",
        "        line_data[\"text\"] = line_split[0]\n",
        "        line_data[\"target\"] = line_split[1].replace(\"\\n\", \"\")\n",
        "        lines_and_targets.append(line_data)\n",
        "\n",
        "    return lines_and_targets"
      ],
      "metadata": {
        "id": "hRT2jyj0lGKZ"
      },
      "execution_count": null,
      "outputs": []
    },
    {
      "cell_type": "code",
      "source": [
        "%%time\n",
        "train_samples = get_label_and_lines(data_dir + \"train.txt\")\n",
        "val_samples = get_label_and_lines(data_dir + \"val.txt\") # dev is another name for validation set\n",
        "test_samples = get_label_and_lines(data_dir + \"test.txt\")"
      ],
      "metadata": {
        "colab": {
          "base_uri": "https://localhost:8080/"
        },
        "id": "-Zn1SqQkkIkG",
        "outputId": "a557efab-8863-4e54-ad2b-01572c6f409f"
      },
      "execution_count": null,
      "outputs": [
        {
          "output_type": "stream",
          "name": "stdout",
          "text": [
            "CPU times: user 16.6 ms, sys: 7.62 ms, total: 24.2 ms\n",
            "Wall time: 25.8 ms\n"
          ]
        }
      ]
    },
    {
      "cell_type": "code",
      "source": [
        "import pandas as pd\n",
        "train_df = pd.DataFrame(train_samples)\n",
        "val_df = pd.DataFrame(val_samples)\n",
        "test_df = pd.DataFrame(test_samples)\n",
        "train_df.head(14)"
      ],
      "metadata": {
        "colab": {
          "base_uri": "https://localhost:8080/",
          "height": 488
        },
        "id": "IZrcTkl5k1NL",
        "outputId": "9248868e-5a7f-4e75-bbb0-2b548eb25b3d"
      },
      "execution_count": null,
      "outputs": [
        {
          "output_type": "execute_result",
          "data": {
            "text/plain": [
              "                                                 text    target\n",
              "0                             i didnt feel humiliated   sadness\n",
              "1   i can go from feeling so hopeless to so damned...   sadness\n",
              "2    im grabbing a minute to post i feel greedy wrong     anger\n",
              "3   i am ever feeling nostalgic about the fireplac...      love\n",
              "4                                i am feeling grouchy     anger\n",
              "5   ive been feeling a little burdened lately wasn...   sadness\n",
              "6   ive been taking or milligrams or times recomme...  surprise\n",
              "7   i feel as confused about life as a teenager or...      fear\n",
              "8   i have been with petronas for years i feel tha...       joy\n",
              "9                                 i feel romantic too      love\n",
              "10  i feel like i have to make the suffering i m s...   sadness\n",
              "11  i do feel that running is a divine experience ...       joy\n",
              "12  i think it s the easiest time of year to feel ...     anger\n",
              "13                 i feel low energy i m just thirsty   sadness"
            ],
            "text/html": [
              "\n",
              "  <div id=\"df-bcef1932-2196-481f-bfa4-21ab656f798d\">\n",
              "    <div class=\"colab-df-container\">\n",
              "      <div>\n",
              "<style scoped>\n",
              "    .dataframe tbody tr th:only-of-type {\n",
              "        vertical-align: middle;\n",
              "    }\n",
              "\n",
              "    .dataframe tbody tr th {\n",
              "        vertical-align: top;\n",
              "    }\n",
              "\n",
              "    .dataframe thead th {\n",
              "        text-align: right;\n",
              "    }\n",
              "</style>\n",
              "<table border=\"1\" class=\"dataframe\">\n",
              "  <thead>\n",
              "    <tr style=\"text-align: right;\">\n",
              "      <th></th>\n",
              "      <th>text</th>\n",
              "      <th>target</th>\n",
              "    </tr>\n",
              "  </thead>\n",
              "  <tbody>\n",
              "    <tr>\n",
              "      <th>0</th>\n",
              "      <td>i didnt feel humiliated</td>\n",
              "      <td>sadness</td>\n",
              "    </tr>\n",
              "    <tr>\n",
              "      <th>1</th>\n",
              "      <td>i can go from feeling so hopeless to so damned...</td>\n",
              "      <td>sadness</td>\n",
              "    </tr>\n",
              "    <tr>\n",
              "      <th>2</th>\n",
              "      <td>im grabbing a minute to post i feel greedy wrong</td>\n",
              "      <td>anger</td>\n",
              "    </tr>\n",
              "    <tr>\n",
              "      <th>3</th>\n",
              "      <td>i am ever feeling nostalgic about the fireplac...</td>\n",
              "      <td>love</td>\n",
              "    </tr>\n",
              "    <tr>\n",
              "      <th>4</th>\n",
              "      <td>i am feeling grouchy</td>\n",
              "      <td>anger</td>\n",
              "    </tr>\n",
              "    <tr>\n",
              "      <th>5</th>\n",
              "      <td>ive been feeling a little burdened lately wasn...</td>\n",
              "      <td>sadness</td>\n",
              "    </tr>\n",
              "    <tr>\n",
              "      <th>6</th>\n",
              "      <td>ive been taking or milligrams or times recomme...</td>\n",
              "      <td>surprise</td>\n",
              "    </tr>\n",
              "    <tr>\n",
              "      <th>7</th>\n",
              "      <td>i feel as confused about life as a teenager or...</td>\n",
              "      <td>fear</td>\n",
              "    </tr>\n",
              "    <tr>\n",
              "      <th>8</th>\n",
              "      <td>i have been with petronas for years i feel tha...</td>\n",
              "      <td>joy</td>\n",
              "    </tr>\n",
              "    <tr>\n",
              "      <th>9</th>\n",
              "      <td>i feel romantic too</td>\n",
              "      <td>love</td>\n",
              "    </tr>\n",
              "    <tr>\n",
              "      <th>10</th>\n",
              "      <td>i feel like i have to make the suffering i m s...</td>\n",
              "      <td>sadness</td>\n",
              "    </tr>\n",
              "    <tr>\n",
              "      <th>11</th>\n",
              "      <td>i do feel that running is a divine experience ...</td>\n",
              "      <td>joy</td>\n",
              "    </tr>\n",
              "    <tr>\n",
              "      <th>12</th>\n",
              "      <td>i think it s the easiest time of year to feel ...</td>\n",
              "      <td>anger</td>\n",
              "    </tr>\n",
              "    <tr>\n",
              "      <th>13</th>\n",
              "      <td>i feel low energy i m just thirsty</td>\n",
              "      <td>sadness</td>\n",
              "    </tr>\n",
              "  </tbody>\n",
              "</table>\n",
              "</div>\n",
              "      <button class=\"colab-df-convert\" onclick=\"convertToInteractive('df-bcef1932-2196-481f-bfa4-21ab656f798d')\"\n",
              "              title=\"Convert this dataframe to an interactive table.\"\n",
              "              style=\"display:none;\">\n",
              "        \n",
              "  <svg xmlns=\"http://www.w3.org/2000/svg\" height=\"24px\"viewBox=\"0 0 24 24\"\n",
              "       width=\"24px\">\n",
              "    <path d=\"M0 0h24v24H0V0z\" fill=\"none\"/>\n",
              "    <path d=\"M18.56 5.44l.94 2.06.94-2.06 2.06-.94-2.06-.94-.94-2.06-.94 2.06-2.06.94zm-11 1L8.5 8.5l.94-2.06 2.06-.94-2.06-.94L8.5 2.5l-.94 2.06-2.06.94zm10 10l.94 2.06.94-2.06 2.06-.94-2.06-.94-.94-2.06-.94 2.06-2.06.94z\"/><path d=\"M17.41 7.96l-1.37-1.37c-.4-.4-.92-.59-1.43-.59-.52 0-1.04.2-1.43.59L10.3 9.45l-7.72 7.72c-.78.78-.78 2.05 0 2.83L4 21.41c.39.39.9.59 1.41.59.51 0 1.02-.2 1.41-.59l7.78-7.78 2.81-2.81c.8-.78.8-2.07 0-2.86zM5.41 20L4 18.59l7.72-7.72 1.47 1.35L5.41 20z\"/>\n",
              "  </svg>\n",
              "      </button>\n",
              "      \n",
              "  <style>\n",
              "    .colab-df-container {\n",
              "      display:flex;\n",
              "      flex-wrap:wrap;\n",
              "      gap: 12px;\n",
              "    }\n",
              "\n",
              "    .colab-df-convert {\n",
              "      background-color: #E8F0FE;\n",
              "      border: none;\n",
              "      border-radius: 50%;\n",
              "      cursor: pointer;\n",
              "      display: none;\n",
              "      fill: #1967D2;\n",
              "      height: 32px;\n",
              "      padding: 0 0 0 0;\n",
              "      width: 32px;\n",
              "    }\n",
              "\n",
              "    .colab-df-convert:hover {\n",
              "      background-color: #E2EBFA;\n",
              "      box-shadow: 0px 1px 2px rgba(60, 64, 67, 0.3), 0px 1px 3px 1px rgba(60, 64, 67, 0.15);\n",
              "      fill: #174EA6;\n",
              "    }\n",
              "\n",
              "    [theme=dark] .colab-df-convert {\n",
              "      background-color: #3B4455;\n",
              "      fill: #D2E3FC;\n",
              "    }\n",
              "\n",
              "    [theme=dark] .colab-df-convert:hover {\n",
              "      background-color: #434B5C;\n",
              "      box-shadow: 0px 1px 3px 1px rgba(0, 0, 0, 0.15);\n",
              "      filter: drop-shadow(0px 1px 2px rgba(0, 0, 0, 0.3));\n",
              "      fill: #FFFFFF;\n",
              "    }\n",
              "  </style>\n",
              "\n",
              "      <script>\n",
              "        const buttonEl =\n",
              "          document.querySelector('#df-bcef1932-2196-481f-bfa4-21ab656f798d button.colab-df-convert');\n",
              "        buttonEl.style.display =\n",
              "          google.colab.kernel.accessAllowed ? 'block' : 'none';\n",
              "\n",
              "        async function convertToInteractive(key) {\n",
              "          const element = document.querySelector('#df-bcef1932-2196-481f-bfa4-21ab656f798d');\n",
              "          const dataTable =\n",
              "            await google.colab.kernel.invokeFunction('convertToInteractive',\n",
              "                                                     [key], {});\n",
              "          if (!dataTable) return;\n",
              "\n",
              "          const docLinkHtml = 'Like what you see? Visit the ' +\n",
              "            '<a target=\"_blank\" href=https://colab.research.google.com/notebooks/data_table.ipynb>data table notebook</a>'\n",
              "            + ' to learn more about interactive tables.';\n",
              "          element.innerHTML = '';\n",
              "          dataTable['output_type'] = 'display_data';\n",
              "          await google.colab.output.renderOutput(dataTable, element);\n",
              "          const docLink = document.createElement('div');\n",
              "          docLink.innerHTML = docLinkHtml;\n",
              "          element.appendChild(docLink);\n",
              "        }\n",
              "      </script>\n",
              "    </div>\n",
              "  </div>\n",
              "  "
            ]
          },
          "metadata": {},
          "execution_count": 13
        }
      ]
    },
    {
      "cell_type": "code",
      "source": [
        "train_df.target.value_counts()"
      ],
      "metadata": {
        "colab": {
          "base_uri": "https://localhost:8080/"
        },
        "id": "RzrDwsMtnLea",
        "outputId": "31492037-1f91-43f3-dea1-b89b5b0bbb86"
      },
      "execution_count": null,
      "outputs": [
        {
          "output_type": "execute_result",
          "data": {
            "text/plain": [
              "joy         5362\n",
              "sadness     4666\n",
              "anger       2159\n",
              "fear        1937\n",
              "love        1304\n",
              "surprise     572\n",
              "Name: target, dtype: int64"
            ]
          },
          "metadata": {},
          "execution_count": 14
        }
      ]
    },
    {
      "cell_type": "code",
      "source": [
        "# Convert abstract text lines into lists \n",
        "train_sentences = train_df[\"text\"].tolist()\n",
        "val_sentences = val_df[\"text\"].tolist()\n",
        "test_sentences = test_df[\"text\"].tolist()\n",
        "len(train_sentences), len(val_sentences), len(test_sentences)"
      ],
      "metadata": {
        "colab": {
          "base_uri": "https://localhost:8080/"
        },
        "id": "W1YSRt2qpHyK",
        "outputId": "6aa6385e-99df-4103-f802-be58ddcbf549"
      },
      "execution_count": null,
      "outputs": [
        {
          "output_type": "execute_result",
          "data": {
            "text/plain": [
              "(16000, 2000, 2000)"
            ]
          },
          "metadata": {},
          "execution_count": 15
        }
      ]
    },
    {
      "cell_type": "code",
      "source": [
        "\n",
        "# View first 10 lines of training sentences\n",
        "train_sentences[:10]"
      ],
      "metadata": {
        "colab": {
          "base_uri": "https://localhost:8080/"
        },
        "id": "UhWLZTGepL1U",
        "outputId": "6d8a360f-c054-464b-daf7-ec7552abe522"
      },
      "execution_count": null,
      "outputs": [
        {
          "output_type": "execute_result",
          "data": {
            "text/plain": [
              "['i didnt feel humiliated',\n",
              " 'i can go from feeling so hopeless to so damned hopeful just from being around someone who cares and is awake',\n",
              " 'im grabbing a minute to post i feel greedy wrong',\n",
              " 'i am ever feeling nostalgic about the fireplace i will know that it is still on the property',\n",
              " 'i am feeling grouchy',\n",
              " 'ive been feeling a little burdened lately wasnt sure why that was',\n",
              " 'ive been taking or milligrams or times recommended amount and ive fallen asleep a lot faster but i also feel like so funny',\n",
              " 'i feel as confused about life as a teenager or as jaded as a year old man',\n",
              " 'i have been with petronas for years i feel that petronas has performed well and made a huge profit',\n",
              " 'i feel romantic too']"
            ]
          },
          "metadata": {},
          "execution_count": 16
        }
      ]
    },
    {
      "cell_type": "code",
      "source": [
        "from sklearn.preprocessing import OneHotEncoder\n",
        "one_hot_encoder = OneHotEncoder(sparse=False)\n",
        "train_labels_one_hot = one_hot_encoder.fit_transform(train_df[\"target\"].to_numpy().reshape(-1, 1))\n",
        "val_labels_one_hot = one_hot_encoder.transform(val_df[\"target\"].to_numpy().reshape(-1, 1))\n",
        "test_labels_one_hot = one_hot_encoder.transform(test_df[\"target\"].to_numpy().reshape(-1, 1))\n",
        "\n",
        "# Check what training labels look like\n",
        "train_labels_one_hot"
      ],
      "metadata": {
        "colab": {
          "base_uri": "https://localhost:8080/"
        },
        "id": "g0jPcybWpi-0",
        "outputId": "63dacc51-fac8-4ec9-a0b9-979d7c5ff9f8"
      },
      "execution_count": null,
      "outputs": [
        {
          "output_type": "execute_result",
          "data": {
            "text/plain": [
              "array([[0., 0., 0., 0., 1., 0.],\n",
              "       [0., 0., 0., 0., 1., 0.],\n",
              "       [1., 0., 0., 0., 0., 0.],\n",
              "       ...,\n",
              "       [0., 0., 1., 0., 0., 0.],\n",
              "       [1., 0., 0., 0., 0., 0.],\n",
              "       [0., 0., 0., 0., 1., 0.]])"
            ]
          },
          "metadata": {},
          "execution_count": 17
        }
      ]
    },
    {
      "cell_type": "code",
      "source": [
        "\n",
        "# Extract labels (\"target\" columns) and encode them into integers \n",
        "from sklearn.preprocessing import LabelEncoder\n",
        "label_encoder = LabelEncoder()\n",
        "train_labels_encoded = label_encoder.fit_transform(train_df[\"target\"].to_numpy())\n",
        "val_labels_encoded = label_encoder.transform(val_df[\"target\"].to_numpy())\n",
        "test_labels_encoded = label_encoder.transform(test_df[\"target\"].to_numpy())\n",
        "\n",
        "# Check what training labels look like\n",
        "train_labels_encoded"
      ],
      "metadata": {
        "colab": {
          "base_uri": "https://localhost:8080/"
        },
        "id": "6TG3dAz-pvYy",
        "outputId": "e6281221-fdc8-469b-f159-01516ac7b4b4"
      },
      "execution_count": null,
      "outputs": [
        {
          "output_type": "execute_result",
          "data": {
            "text/plain": [
              "array([4, 4, 0, ..., 2, 0, 4])"
            ]
          },
          "metadata": {},
          "execution_count": 18
        }
      ]
    },
    {
      "cell_type": "code",
      "source": [
        "# Get class names and number of classes from LabelEncoder instance \n",
        "num_classes = len(label_encoder.classes_)\n",
        "class_names = label_encoder.classes_\n",
        "num_classes, class_names"
      ],
      "metadata": {
        "colab": {
          "base_uri": "https://localhost:8080/"
        },
        "id": "MqG2w5kNpxnU",
        "outputId": "8e8aea5b-0afe-47b8-ccc3-96276b159a6d"
      },
      "execution_count": null,
      "outputs": [
        {
          "output_type": "execute_result",
          "data": {
            "text/plain": [
              "(6, array(['anger', 'fear', 'joy', 'love', 'sadness', 'surprise'],\n",
              "       dtype=object))"
            ]
          },
          "metadata": {},
          "execution_count": 19
        }
      ]
    },
    {
      "cell_type": "code",
      "source": [
        "from sklearn.feature_extraction.text import TfidfVectorizer\n",
        "from sklearn.naive_bayes import MultinomialNB\n",
        "from sklearn.pipeline import Pipeline\n",
        "\n",
        "# Create a pipeline\n",
        "model_0 = Pipeline([\n",
        "  (\"tf-idf\", TfidfVectorizer()),\n",
        "  (\"clf\", MultinomialNB())\n",
        "])\n",
        "\n",
        "# Fit the pipeline to the training data\n",
        "model_0.fit(X=train_sentences, \n",
        "            y=train_labels_encoded);"
      ],
      "metadata": {
        "id": "ZSla4RWHsYhG"
      },
      "execution_count": null,
      "outputs": []
    },
    {
      "cell_type": "code",
      "source": [
        "# Evaluate baseline on validation dataset\n",
        "model_0.score(X=val_sentences,\n",
        "              y=val_labels_encoded)"
      ],
      "metadata": {
        "colab": {
          "base_uri": "https://localhost:8080/"
        },
        "id": "HsAedB51saty",
        "outputId": "8c6e23ee-0768-4313-a30f-1af9e08d18bf"
      },
      "execution_count": null,
      "outputs": [
        {
          "output_type": "execute_result",
          "data": {
            "text/plain": [
              "0.641"
            ]
          },
          "metadata": {},
          "execution_count": 21
        }
      ]
    },
    {
      "cell_type": "code",
      "source": [
        "# Make predictions\n",
        "baseline_preds = model_0.predict(val_sentences)\n",
        "baseline_preds"
      ],
      "metadata": {
        "colab": {
          "base_uri": "https://localhost:8080/"
        },
        "id": "wfPbqRKFsci8",
        "outputId": "782fa7c0-af55-4069-848d-3b7f390a3f85"
      },
      "execution_count": null,
      "outputs": [
        {
          "output_type": "execute_result",
          "data": {
            "text/plain": [
              "array([4, 4, 2, ..., 2, 2, 2])"
            ]
          },
          "metadata": {},
          "execution_count": 22
        }
      ]
    },
    {
      "cell_type": "code",
      "source": [
        "from helper_functions import calculate_results"
      ],
      "metadata": {
        "id": "GdOtblQOp9_k"
      },
      "execution_count": null,
      "outputs": []
    },
    {
      "cell_type": "code",
      "source": [
        "# Calculate baseline results\n",
        "baseline_results = calculate_results(y_true=val_labels_encoded,\n",
        "                                     y_pred=baseline_preds)\n",
        "baseline_results\n",
        "     "
      ],
      "metadata": {
        "colab": {
          "base_uri": "https://localhost:8080/"
        },
        "id": "2-fa9loAsfbg",
        "outputId": "5f88d581-6d50-4728-bbe7-d57ffac5d460"
      },
      "execution_count": null,
      "outputs": [
        {
          "output_type": "stream",
          "name": "stderr",
          "text": [
            "/usr/local/lib/python3.8/dist-packages/sklearn/metrics/_classification.py:1318: UndefinedMetricWarning: Precision and F-score are ill-defined and being set to 0.0 in labels with no predicted samples. Use `zero_division` parameter to control this behavior.\n",
            "  _warn_prf(average, modifier, msg_start, len(result))\n"
          ]
        },
        {
          "output_type": "execute_result",
          "data": {
            "text/plain": [
              "{'accuracy': 64.1,\n",
              " 'precision': 0.7148671181119123,\n",
              " 'recall': 0.641,\n",
              " 'f1': 0.5476309366603793}"
            ]
          },
          "metadata": {},
          "execution_count": 24
        }
      ]
    },
    {
      "cell_type": "code",
      "source": [
        "# How long is each sentence on average?\n",
        "sent_lens = [len(sentence.split()) for sentence in train_sentences]\n",
        "avg_sent_len = np.mean(sent_lens)\n",
        "avg_sent_len # return average sentence length (in tokens)"
      ],
      "metadata": {
        "colab": {
          "base_uri": "https://localhost:8080/"
        },
        "id": "K4Bw-w6mqYh3",
        "outputId": "329c2004-e547-42c6-eeba-baedd0f2ebbc"
      },
      "execution_count": null,
      "outputs": [
        {
          "output_type": "execute_result",
          "data": {
            "text/plain": [
              "19.1663125"
            ]
          },
          "metadata": {},
          "execution_count": 25
        }
      ]
    },
    {
      "cell_type": "code",
      "source": [
        "# What's the distribution look like?\n",
        "import matplotlib.pyplot as plt\n",
        "plt.hist(sent_lens, bins=7);"
      ],
      "metadata": {
        "colab": {
          "base_uri": "https://localhost:8080/",
          "height": 265
        },
        "id": "3EhXSOyTqlQH",
        "outputId": "91cd3532-04f3-4d7d-8a25-01d0a0953637"
      },
      "execution_count": null,
      "outputs": [
        {
          "output_type": "display_data",
          "data": {
            "text/plain": [
              "<Figure size 432x288 with 1 Axes>"
            ],
            "image/png": "[encoded data removed]"
          },
          "metadata": {
            "needs_background": "light"
          }
        }
      ]
    },
    {
      "cell_type": "code",
      "source": [
        "# How long of a sentence covers 95% of the lengths?\n",
        "output_seq_len = int(np.percentile(sent_lens, 95))\n",
        "output_seq_len"
      ],
      "metadata": {
        "colab": {
          "base_uri": "https://localhost:8080/"
        },
        "id": "WqFfIHv6qmFF",
        "outputId": "5cfac3b6-f973-4280-a066-63240a0c789b"
      },
      "execution_count": null,
      "outputs": [
        {
          "output_type": "execute_result",
          "data": {
            "text/plain": [
              "41"
            ]
          },
          "metadata": {},
          "execution_count": 27
        }
      ]
    },
    {
      "cell_type": "code",
      "source": [
        "max(sent_lens)"
      ],
      "metadata": {
        "colab": {
          "base_uri": "https://localhost:8080/"
        },
        "id": "VVBdkiYhqphN",
        "outputId": "cf0ab882-25f0-40bd-d48f-f28b3cb0c0d7"
      },
      "execution_count": null,
      "outputs": [
        {
          "output_type": "execute_result",
          "data": {
            "text/plain": [
              "66"
            ]
          },
          "metadata": {},
          "execution_count": 28
        }
      ]
    },
    {
      "cell_type": "code",
      "source": [
        "from tensorflow.keras.layers.experimental.preprocessing import TextVectorization\n",
        "\n",
        "text_vectorizer = TextVectorization(output_sequence_length=41) # desired output length of vectorized"
      ],
      "metadata": {
        "id": "xxXM8ILeqtG9"
      },
      "execution_count": null,
      "outputs": []
    },
    {
      "cell_type": "code",
      "source": [
        "# Adapt text vectorizer to training sentences\n",
        "text_vectorizer.adapt(train_sentences)"
      ],
      "metadata": {
        "id": "1BMIjDNwq2VV"
      },
      "execution_count": null,
      "outputs": []
    },
    {
      "cell_type": "code",
      "source": [
        "# Test out text vectorizer\n",
        "import random\n",
        "target_sentence = random.choice(train_sentences)\n",
        "print(f\"Text:\\n{target_sentence}\")\n",
        "print(f\"\\nLength of text: {len(target_sentence.split())}\")\n",
        "print(f\"\\nVectorized text:\\n{text_vectorizer([target_sentence])}\")"
      ],
      "metadata": {
        "colab": {
          "base_uri": "https://localhost:8080/"
        },
        "id": "hSb3NYxuq5lP",
        "outputId": "a79f5cfa-d6c0-4a15-bb2b-22b8d7a62688"
      },
      "execution_count": null,
      "outputs": [
        {
          "output_type": "stream",
          "name": "stdout",
          "text": [
            "Text:\n",
            "i personally don t think a cavalier should be trimmed i feel it spoils the look of this breed especially when it has such a gorgeous full coat\n",
            "\n",
            "Length of text: 28\n",
            "\n",
            "Vectorized text:\n",
            "[[    2   927   104    43    70     7 14137   121    28  8078     2     3\n",
            "     13  8712     6   162    10    23  7181   291    34    13    99   181\n",
            "      7   575   471  2253     0     0     0     0     0     0     0     0\n",
            "      0     0     0     0     0]]\n"
          ]
        }
      ]
    },
    {
      "cell_type": "code",
      "source": [
        "vocab = text_vectorizer.get_vocabulary()\n",
        "print(f\"Number of words in vocabulary: {len(vocab)}\"), \n",
        "print(f\"Most common words in the vocabulary: {vocab[:5]}\")\n",
        "print(f\"Least common words in the vocabulary: {vocab[-5:]}\")"
      ],
      "metadata": {
        "colab": {
          "base_uri": "https://localhost:8080/"
        },
        "id": "kx0McKT-rKct",
        "outputId": "20e43fe1-3ce9-4d6c-a206-6c73474c31d1"
      },
      "execution_count": null,
      "outputs": [
        {
          "output_type": "stream",
          "name": "stdout",
          "text": [
            "Number of words in vocabulary: 15214\n",
            "Most common words in the vocabulary: ['', '[UNK]', 'i', 'feel', 'and']\n",
            "Least common words in the vocabulary: ['aahhh', 'aac', 'aaaand', 'aaaaand', 'aaaaaaand']\n"
          ]
        }
      ]
    },
    {
      "cell_type": "code",
      "source": [
        "# Get the config of our text vectorizer\n",
        "text_vectorizer.get_config()"
      ],
      "metadata": {
        "colab": {
          "base_uri": "https://localhost:8080/"
        },
        "id": "WVxUiGD9rVBd",
        "outputId": "70d45bd4-9cbb-4a9f-b1ab-21df1a59b1e3"
      },
      "execution_count": null,
      "outputs": [
        {
          "output_type": "execute_result",
          "data": {
            "text/plain": [
              "{'name': 'text_vectorization',\n",
              " 'trainable': True,\n",
              " 'batch_input_shape': (None,),\n",
              " 'dtype': 'string',\n",
              " 'max_tokens': None,\n",
              " 'standardize': 'lower_and_strip_punctuation',\n",
              " 'split': 'whitespace',\n",
              " 'ngrams': None,\n",
              " 'output_mode': 'int',\n",
              " 'output_sequence_length': 41,\n",
              " 'pad_to_max_tokens': False,\n",
              " 'sparse': False,\n",
              " 'ragged': False,\n",
              " 'vocabulary': None,\n",
              " 'idf_weights': None}"
            ]
          },
          "metadata": {},
          "execution_count": 33
        }
      ]
    },
    {
      "cell_type": "code",
      "source": [
        "token_embed = layers.Embedding(input_dim=len(vocab), # length of vocabulary\n",
        "                               output_dim=128, # Note: different embedding sizes result in drastically different numbers of parameters to train\n",
        "                               # Use masking to handle variable sequence lengths (save space)\n",
        "                               mask_zero=True,\n",
        "                               name=\"token_embedding\") \n",
        "# Show example embedding\n",
        "print(f\"Sentence before vectorization:\\n{target_sentence}\\n\")\n",
        "vectorized_sentence = text_vectorizer([target_sentence])\n",
        "print(f\"Sentence after vectorization (before embedding):\\n{vectorized_sentence}\\n\")\n",
        "embedded_sentence = token_embed(vectorized_sentence)\n",
        "print(f\"Sentence after embedding:\\n{embedded_sentence}\\n\")\n",
        "print(f\"Embedded sentence shape: {embedded_sentence.shape}\")"
      ],
      "metadata": {
        "colab": {
          "base_uri": "https://localhost:8080/"
        },
        "id": "LcqnFgolraBI",
        "outputId": "2f28282b-b8fd-423a-81fd-edeef141094c"
      },
      "execution_count": null,
      "outputs": [
        {
          "output_type": "stream",
          "name": "stdout",
          "text": [
            "Sentence before vectorization:\n",
            "i personally don t think a cavalier should be trimmed i feel it spoils the look of this breed especially when it has such a gorgeous full coat\n",
            "\n",
            "Sentence after vectorization (before embedding):\n",
            "[[    2   927   104    43    70     7 14137   121    28  8078     2     3\n",
            "     13  8712     6   162    10    23  7181   291    34    13    99   181\n",
            "      7   575   471  2253     0     0     0     0     0     0     0     0\n",
            "      0     0     0     0     0]]\n",
            "\n",
            "Sentence after embedding:\n",
            "[[[ 0.04310874 -0.02704724  0.04340434 ... -0.03581102  0.01289989\n",
            "   -0.01728301]\n",
            "  [ 0.02790971 -0.03510116  0.00660003 ... -0.03376085  0.00890658\n",
            "   -0.00082918]\n",
            "  [-0.03389638  0.04323092  0.0423282  ...  0.01507088 -0.03619323\n",
            "    0.0452869 ]\n",
            "  ...\n",
            "  [-0.04507234  0.03719566 -0.01531184 ...  0.04792393 -0.04170827\n",
            "    0.02227679]\n",
            "  [-0.04507234  0.03719566 -0.01531184 ...  0.04792393 -0.04170827\n",
            "    0.02227679]\n",
            "  [-0.04507234  0.03719566 -0.01531184 ...  0.04792393 -0.04170827\n",
            "    0.02227679]]]\n",
            "\n",
            "Embedded sentence shape: (1, 41, 128)\n"
          ]
        }
      ]
    },
    {
      "cell_type": "code",
      "source": [
        "# Turn our data into TensorFlow Datasets\n",
        "train_dataset = tf.data.Dataset.from_tensor_slices((train_sentences, train_labels_one_hot))\n",
        "valid_dataset = tf.data.Dataset.from_tensor_slices((val_sentences, val_labels_one_hot))\n",
        "test_dataset = tf.data.Dataset.from_tensor_slices((test_sentences, test_labels_one_hot))\n",
        "\n",
        "train_dataset"
      ],
      "metadata": {
        "colab": {
          "base_uri": "https://localhost:8080/"
        },
        "id": "ShuYw5H3roOg",
        "outputId": "ed2ae76b-9729-43d4-c50d-e9dc0cc1a79a"
      },
      "execution_count": null,
      "outputs": [
        {
          "output_type": "execute_result",
          "data": {
            "text/plain": [
              "<TensorSliceDataset element_spec=(TensorSpec(shape=(), dtype=tf.string, name=None), TensorSpec(shape=(6,), dtype=tf.float64, name=None))>"
            ]
          },
          "metadata": {},
          "execution_count": 35
        }
      ]
    },
    {
      "cell_type": "code",
      "source": [
        "# Take the TensorSliceDataset's and turn them into prefetched batches\n",
        "train_dataset = train_dataset.batch(32).prefetch(tf.data.AUTOTUNE)\n",
        "valid_dataset = valid_dataset.batch(32).prefetch(tf.data.AUTOTUNE)\n",
        "test_dataset = test_dataset.batch(32).prefetch(tf.data.AUTOTUNE)\n",
        "\n",
        "train_dataset"
      ],
      "metadata": {
        "colab": {
          "base_uri": "https://localhost:8080/"
        },
        "id": "VAFLBdlFsJIW",
        "outputId": "fdff1e05-07ce-4f73-e2b0-f0828b40d98e"
      },
      "execution_count": null,
      "outputs": [
        {
          "output_type": "execute_result",
          "data": {
            "text/plain": [
              "<PrefetchDataset element_spec=(TensorSpec(shape=(None,), dtype=tf.string, name=None), TensorSpec(shape=(None, 6), dtype=tf.float64, name=None))>"
            ]
          },
          "metadata": {},
          "execution_count": 36
        }
      ]
    },
    {
      "cell_type": "code",
      "source": [
        "# Create 1D convolutional model to process sequences\n",
        "inputs = layers.Input(shape=(1,), dtype=tf.string)\n",
        "text_vectors = text_vectorizer(inputs) # vectorize text inputs\n",
        "token_embeddings = token_embed(text_vectors) # create embedding\n",
        "x = layers.Conv1D(64, kernel_size=5, padding=\"same\", activation=\"relu\")(token_embeddings)\n",
        "x = layers.GlobalAveragePooling1D()(x) # condense the output of our feature vector\n",
        "outputs = layers.Dense(num_classes, activation=\"softmax\")(x)\n",
        "model_1 = tf.keras.Model(inputs, outputs)\n",
        "\n",
        "# Compile\n",
        "model_1.compile(loss=\"categorical_crossentropy\", # if your labels are integer form (not one hot) use sparse_categorical_crossentropy\n",
        "                optimizer=tf.keras.optimizers.Adam(),\n",
        "                metrics=[\"accuracy\"])"
      ],
      "metadata": {
        "id": "H7j3PsKfsRbW"
      },
      "execution_count": null,
      "outputs": []
    },
    {
      "cell_type": "code",
      "source": [
        "model_1.summary()"
      ],
      "metadata": {
        "colab": {
          "base_uri": "https://localhost:8080/"
        },
        "id": "fXnRdMZps4s0",
        "outputId": "ec7d473f-f077-4a05-e49a-3553dcaf83b3"
      },
      "execution_count": null,
      "outputs": [
        {
          "output_type": "stream",
          "name": "stdout",
          "text": [
            "Model: \"model\"\n",
            "_________________________________________________________________\n",
            " Layer (type)                Output Shape              Param #   \n",
            "=================================================================\n",
            " input_1 (InputLayer)        [(None, 1)]               0         \n",
            "                                                                 \n",
            " text_vectorization (TextVec  (None, 41)               0         \n",
            " torization)                                                     \n",
            "                                                                 \n",
            " token_embedding (Embedding)  (None, 41, 128)          1947392   \n",
            "                                                                 \n",
            " conv1d (Conv1D)             (None, 41, 64)            41024     \n",
            "                                                                 \n",
            " global_average_pooling1d (G  (None, 64)               0         \n",
            " lobalAveragePooling1D)                                          \n",
            "                                                                 \n",
            " dense (Dense)               (None, 6)                 390       \n",
            "                                                                 \n",
            "=================================================================\n",
            "Total params: 1,988,806\n",
            "Trainable params: 1,988,806\n",
            "Non-trainable params: 0\n",
            "_________________________________________________________________\n"
          ]
        }
      ]
    },
    {
      "cell_type": "code",
      "source": [
        "# Fit the model\n",
        "model_1_history = model_1.fit(train_dataset,\n",
        "                              steps_per_epoch=int(len(train_dataset)), # only fit on 10% of batches for faster training time\n",
        "                              epochs=3,\n",
        "                              validation_data=valid_dataset,\n",
        "                              validation_steps=int(len(valid_dataset))) # only validate on 10% of batches"
      ],
      "metadata": {
        "colab": {
          "base_uri": "https://localhost:8080/"
        },
        "id": "dLobiL2utoa1",
        "outputId": "404c868f-2bb1-4a27-f881-2323ac29526b"
      },
      "execution_count": null,
      "outputs": [
        {
          "output_type": "stream",
          "name": "stdout",
          "text": [
            "Epoch 1/3\n",
            "500/500 [==============================] - 12s 5ms/step - loss: 1.1921 - accuracy: 0.5604 - val_loss: 0.6032 - val_accuracy: 0.8440\n",
            "Epoch 2/3\n",
            "500/500 [==============================] - 3s 5ms/step - loss: 0.3189 - accuracy: 0.9035 - val_loss: 0.3493 - val_accuracy: 0.8865\n",
            "Epoch 3/3\n",
            "500/500 [==============================] - 3s 5ms/step - loss: 0.1297 - accuracy: 0.9608 - val_loss: 0.3388 - val_accuracy: 0.8950\n"
          ]
        }
      ]
    },
    {
      "cell_type": "code",
      "source": [
        "# Evaluate on whole validation dataset (we only validated on 10% of batches during training)\n",
        "model_1.evaluate(valid_dataset)"
      ],
      "metadata": {
        "colab": {
          "base_uri": "https://localhost:8080/"
        },
        "id": "HopxZlBJtu7c",
        "outputId": "239bf31b-651a-461e-aea2-634790f663dc"
      },
      "execution_count": null,
      "outputs": [
        {
          "output_type": "stream",
          "name": "stdout",
          "text": [
            "63/63 [==============================] - 0s 3ms/step - loss: 0.3388 - accuracy: 0.8950\n"
          ]
        },
        {
          "output_type": "execute_result",
          "data": {
            "text/plain": [
              "[0.338755339384079, 0.8949999809265137]"
            ]
          },
          "metadata": {},
          "execution_count": 40
        }
      ]
    },
    {
      "cell_type": "code",
      "source": [
        "# Make predictions (our model outputs prediction probabilities for each class)\n",
        "model_1_pred_probs = model_1.predict(valid_dataset)\n",
        "model_1_pred_probs"
      ],
      "metadata": {
        "colab": {
          "base_uri": "https://localhost:8080/"
        },
        "id": "UJIvUu1ZtxfR",
        "outputId": "77c935bc-c52e-4e68-c61e-057a1100d4a5"
      },
      "execution_count": null,
      "outputs": [
        {
          "output_type": "stream",
          "name": "stdout",
          "text": [
            "63/63 [==============================] - 0s 2ms/step\n"
          ]
        },
        {
          "output_type": "execute_result",
          "data": {
            "text/plain": [
              "array([[4.3537039e-03, 5.0246324e-03, 1.7712136e-04, 1.1036532e-05,\n",
              "        9.9025095e-01, 1.8251929e-04],\n",
              "       [1.7595864e-04, 4.4139900e-04, 1.6087528e-04, 3.8146509e-06,\n",
              "        9.9917847e-01, 3.9435239e-05],\n",
              "       [3.9960360e-03, 7.8672660e-04, 5.4301846e-01, 4.3604505e-01,\n",
              "        1.7357295e-04, 1.5980152e-02],\n",
              "       ...,\n",
              "       [1.3444683e-04, 2.8825414e-05, 9.9757975e-01, 9.5662440e-04,\n",
              "        1.0362365e-03, 2.6414971e-04],\n",
              "       [6.7218523e-03, 3.0404783e-04, 2.2075231e-01, 7.6380283e-01,\n",
              "        1.0636346e-04, 8.3126100e-03],\n",
              "       [2.6460248e-03, 4.0060766e-03, 9.7495544e-01, 3.2628819e-03,\n",
              "        6.6919127e-03, 8.4377527e-03]], dtype=float32)"
            ]
          },
          "metadata": {},
          "execution_count": 41
        }
      ]
    },
    {
      "cell_type": "code",
      "source": [
        "# Convert pred probs to classes\n",
        "model_1_preds = tf.argmax(model_1_pred_probs, axis=1)\n",
        "model_1_preds"
      ],
      "metadata": {
        "colab": {
          "base_uri": "https://localhost:8080/"
        },
        "id": "Jr1oM28RuA01",
        "outputId": "a0f04a3d-d801-4b59-cdcf-56ad8dc105d1"
      },
      "execution_count": null,
      "outputs": [
        {
          "output_type": "execute_result",
          "data": {
            "text/plain": [
              "<tf.Tensor: shape=(2000,), dtype=int64, numpy=array([4, 4, 2, ..., 2, 3, 2])>"
            ]
          },
          "metadata": {},
          "execution_count": 42
        }
      ]
    },
    {
      "cell_type": "code",
      "source": [
        "# Calculate model_1 results\n",
        "model_1_results = calculate_results(y_true=val_labels_encoded,\n",
        "                                    y_pred=model_1_preds)\n",
        "model_1_results"
      ],
      "metadata": {
        "colab": {
          "base_uri": "https://localhost:8080/"
        },
        "id": "qucW9NJEuDuj",
        "outputId": "460d4f2d-ad16-47b8-9f11-4b4b81c5a7f9"
      },
      "execution_count": null,
      "outputs": [
        {
          "output_type": "execute_result",
          "data": {
            "text/plain": [
              "{'accuracy': 89.5,\n",
              " 'precision': 0.8960668773661761,\n",
              " 'recall': 0.895,\n",
              " 'f1': 0.8946883533265092}"
            ]
          },
          "metadata": {},
          "execution_count": 43
        }
      ]
    },
    {
      "cell_type": "code",
      "source": [
        "# Download pretrained TensorFlow Hub USE\n",
        "import tensorflow_hub as hub\n",
        "tf_hub_embedding_layer = hub.KerasLayer(\"https://tfhub.dev/google/universal-sentence-encoder/4\",\n",
        "                                        trainable=False,\n",
        "                                        name=\"universal_sentence_encoder\")"
      ],
      "metadata": {
        "id": "vn6qNQni9Zws"
      },
      "execution_count": null,
      "outputs": []
    },
    {
      "cell_type": "code",
      "source": [
        "# Test out the embedding on a random sentence\n",
        "random_training_sentence = random.choice(train_sentences)\n",
        "print(f\"Random training sentence:\\n{random_training_sentence}\\n\")\n",
        "use_embedded_sentence = tf_hub_embedding_layer([random_training_sentence])\n",
        "print(f\"Sentence after embedding:\\n{use_embedded_sentence[0][:30]} (truncated output)...\\n\")\n",
        "print(f\"Length of sentence embedding:\\n{len(use_embedded_sentence[0])}\")"
      ],
      "metadata": {
        "colab": {
          "base_uri": "https://localhost:8080/"
        },
        "id": "jfBA7lbc9aSw",
        "outputId": "887f46f2-4e6a-482e-a2e1-62c8b6bc5b5e"
      },
      "execution_count": null,
      "outputs": [
        {
          "output_type": "stream",
          "name": "stdout",
          "text": [
            "Random training sentence:\n",
            "i feel much more energetic generally im sleeping better and so is my wife\n",
            "\n",
            "Sentence after embedding:\n",
            "[-0.02277522 -0.04377345  0.06470869 -0.04304386 -0.04331494  0.0516881\n",
            " -0.02457372 -0.03802719  0.03883015  0.08161023 -0.03139051  0.06074153\n",
            "  0.02241157  0.05931654  0.01035249 -0.07804526 -0.02205069  0.00090049\n",
            " -0.01858154  0.05706659  0.05613578  0.02515873  0.08333541  0.0610592\n",
            " -0.02326226 -0.0442704  -0.04002713  0.03799411  0.01833928 -0.05474805] (truncated output)...\n",
            "\n",
            "Length of sentence embedding:\n",
            "512\n"
          ]
        }
      ]
    },
    {
      "cell_type": "code",
      "source": [
        "# Define feature extractor model using TF Hub layer\n",
        "inputs = layers.Input(shape=[], dtype=tf.string)\n",
        "pretrained_embedding = tf_hub_embedding_layer(inputs) # tokenize text and create embedding\n",
        "x = layers.Dense(128, activation=\"relu\")(pretrained_embedding) # add a fully connected layer on top of the embedding\n",
        "# Note: you could add more layers here if you wanted to\n",
        "outputs = layers.Dense(num_classes, activation=\"softmax\")(x) # create the output layer\n",
        "model_2 = tf.keras.Model(inputs=inputs,\n",
        "                        outputs=outputs)\n",
        "\n",
        "# Compile the model\n",
        "model_2.compile(loss=\"categorical_crossentropy\",\n",
        "                optimizer=tf.keras.optimizers.Adam(),\n",
        "                metrics=[\"accuracy\"])\n"
      ],
      "metadata": {
        "id": "rPKoxTBF-Esp"
      },
      "execution_count": null,
      "outputs": []
    },
    {
      "cell_type": "code",
      "source": [
        "# Get a summary of the model\n",
        "model_2.summary()"
      ],
      "metadata": {
        "colab": {
          "base_uri": "https://localhost:8080/"
        },
        "id": "artLyR4d-HhJ",
        "outputId": "aea43e21-9bae-4e06-afba-ebc61ba37468"
      },
      "execution_count": null,
      "outputs": [
        {
          "output_type": "stream",
          "name": "stdout",
          "text": [
            "Model: \"model_1\"\n",
            "_________________________________________________________________\n",
            " Layer (type)                Output Shape              Param #   \n",
            "=================================================================\n",
            " input_2 (InputLayer)        [(None,)]                 0         \n",
            "                                                                 \n",
            " universal_sentence_encoder   (None, 512)              256797824 \n",
            " (KerasLayer)                                                    \n",
            "                                                                 \n",
            " dense_1 (Dense)             (None, 128)               65664     \n",
            "                                                                 \n",
            " dense_2 (Dense)             (None, 6)                 774       \n",
            "                                                                 \n",
            "=================================================================\n",
            "Total params: 256,864,262\n",
            "Trainable params: 66,438\n",
            "Non-trainable params: 256,797,824\n",
            "_________________________________________________________________\n"
          ]
        }
      ]
    },
    {
      "cell_type": "code",
      "source": [
        "# Fit feature extractor model for 3 epochs\n",
        "model_2.fit(train_dataset,\n",
        "            steps_per_epoch=int(len(train_dataset)),\n",
        "            epochs=3,\n",
        "            validation_data=valid_dataset,\n",
        "            validation_steps=int(len(valid_dataset)))"
      ],
      "metadata": {
        "colab": {
          "base_uri": "https://localhost:8080/"
        },
        "id": "1K5kVqoC-JaY",
        "outputId": "b986c72b-da46-4942-e6c4-357c49c28d08"
      },
      "execution_count": null,
      "outputs": [
        {
          "output_type": "stream",
          "name": "stdout",
          "text": [
            "Epoch 1/3\n",
            "500/500 [==============================] - 9s 13ms/step - loss: 1.1486 - accuracy: 0.5828 - val_loss: 0.9822 - val_accuracy: 0.6350\n",
            "Epoch 2/3\n",
            "500/500 [==============================] - 6s 13ms/step - loss: 0.9412 - accuracy: 0.6517 - val_loss: 0.9443 - val_accuracy: 0.6485\n",
            "Epoch 3/3\n",
            "500/500 [==============================] - 6s 12ms/step - loss: 0.8979 - accuracy: 0.6646 - val_loss: 0.9253 - val_accuracy: 0.6560\n"
          ]
        },
        {
          "output_type": "execute_result",
          "data": {
            "text/plain": [
              "<keras.callbacks.History at 0x7fad20405820>"
            ]
          },
          "metadata": {},
          "execution_count": 48
        }
      ]
    },
    {
      "cell_type": "code",
      "source": [
        "# Evaluate on whole validation dataset\n",
        "model_2.evaluate(valid_dataset)"
      ],
      "metadata": {
        "colab": {
          "base_uri": "https://localhost:8080/"
        },
        "id": "pAnwNQKZ-a0O",
        "outputId": "fbdce5fb-6466-4dec-f656-c07ee285e49f"
      },
      "execution_count": null,
      "outputs": [
        {
          "output_type": "stream",
          "name": "stdout",
          "text": [
            "63/63 [==============================] - 1s 10ms/step - loss: 0.9253 - accuracy: 0.6560\n"
          ]
        },
        {
          "output_type": "execute_result",
          "data": {
            "text/plain": [
              "[0.9252979159355164, 0.656000018119812]"
            ]
          },
          "metadata": {},
          "execution_count": 49
        }
      ]
    },
    {
      "cell_type": "code",
      "source": [
        "# Make predictions with feature extraction model\n",
        "model_2_pred_probs = model_2.predict(valid_dataset)\n",
        "model_2_pred_probs"
      ],
      "metadata": {
        "colab": {
          "base_uri": "https://localhost:8080/"
        },
        "id": "ltK0Q04B-b_o",
        "outputId": "4aee15ac-7b8e-47a5-fa84-be612935f740"
      },
      "execution_count": null,
      "outputs": [
        {
          "output_type": "stream",
          "name": "stdout",
          "text": [
            "63/63 [==============================] - 1s 10ms/step\n"
          ]
        },
        {
          "output_type": "execute_result",
          "data": {
            "text/plain": [
              "array([[3.5369780e-02, 1.1426521e-01, 2.5687860e-02, 1.9224685e-02,\n",
              "        7.9086107e-01, 1.4591413e-02],\n",
              "       [2.7458253e-03, 2.3185660e-01, 2.7820408e-01, 3.4978986e-03,\n",
              "        4.4007599e-01, 4.3619607e-02],\n",
              "       [3.1509348e-03, 9.5288752e-04, 2.2257662e-01, 7.6228023e-01,\n",
              "        1.0326002e-02, 7.1338308e-04],\n",
              "       ...,\n",
              "       [1.4180297e-02, 5.0677940e-02, 6.4796412e-01, 8.3733998e-02,\n",
              "        5.3232159e-02, 1.5021144e-01],\n",
              "       [3.9236867e-03, 4.6523474e-03, 8.5528809e-01, 1.2957731e-01,\n",
              "        4.8750783e-03, 1.6834716e-03],\n",
              "       [1.8790014e-02, 3.9388981e-02, 7.2799253e-01, 1.6943038e-01,\n",
              "        3.9627440e-02, 4.7707614e-03]], dtype=float32)"
            ]
          },
          "metadata": {},
          "execution_count": 50
        }
      ]
    },
    {
      "cell_type": "code",
      "source": [
        "# Convert the predictions with feature extraction model to classes\n",
        "model_2_preds = tf.argmax(model_2_pred_probs, axis=1)\n",
        "model_2_preds"
      ],
      "metadata": {
        "colab": {
          "base_uri": "https://localhost:8080/"
        },
        "id": "CKQQ27T_-cyy",
        "outputId": "1eccd01a-6b33-46f3-c755-1ed54e35596d"
      },
      "execution_count": null,
      "outputs": [
        {
          "output_type": "execute_result",
          "data": {
            "text/plain": [
              "<tf.Tensor: shape=(2000,), dtype=int64, numpy=array([4, 4, 3, ..., 2, 2, 2])>"
            ]
          },
          "metadata": {},
          "execution_count": 51
        }
      ]
    },
    {
      "cell_type": "code",
      "source": [
        "# Calculate results from TF Hub pretrained embeddings results on validation set\n",
        "model_2_results = calculate_results(y_true=val_labels_encoded,\n",
        "                                    y_pred=model_2_preds)\n",
        "model_2_results"
      ],
      "metadata": {
        "colab": {
          "base_uri": "https://localhost:8080/"
        },
        "id": "fzoVi1wR-fpk",
        "outputId": "78b932c4-407b-45c0-e095-3e0de9f42214"
      },
      "execution_count": null,
      "outputs": [
        {
          "output_type": "execute_result",
          "data": {
            "text/plain": [
              "{'accuracy': 65.60000000000001,\n",
              " 'precision': 0.6565044543275763,\n",
              " 'recall': 0.656,\n",
              " 'f1': 0.6509080711772137}"
            ]
          },
          "metadata": {},
          "execution_count": 52
        }
      ]
    },
    {
      "cell_type": "code",
      "source": [
        "# Make function to split sentences into characters\n",
        "def split_chars(text):\n",
        "  return \" \".join(list(text))\n",
        "\n",
        "# Test splitting non-character-level sequence into characters\n",
        "split_chars(random_training_sentence)"
      ],
      "metadata": {
        "colab": {
          "base_uri": "https://localhost:8080/",
          "height": 52
        },
        "id": "jd7r7Qxg-phl",
        "outputId": "dc9f67da-825b-4b54-b442-048d5da5f355"
      },
      "execution_count": null,
      "outputs": [
        {
          "output_type": "execute_result",
          "data": {
            "text/plain": [
              "'i   f e e l   m u c h   m o r e   e n e r g e t i c   g e n e r a l l y   i m   s l e e p i n g   b e t t e r   a n d   s o   i s   m y   w i f e'"
            ],
            "application/vnd.google.colaboratory.intrinsic+json": {
              "type": "string"
            }
          },
          "metadata": {},
          "execution_count": 53
        }
      ]
    },
    {
      "cell_type": "code",
      "source": [
        "# Split sequence-level data splits into character-level data splits\n",
        "train_chars = [split_chars(sentence) for sentence in train_sentences]\n",
        "val_chars = [split_chars(sentence) for sentence in val_sentences]\n",
        "test_chars = [split_chars(sentence) for sentence in test_sentences]\n",
        "print(train_chars[0])"
      ],
      "metadata": {
        "colab": {
          "base_uri": "https://localhost:8080/"
        },
        "id": "mTOcO_BU-ryU",
        "outputId": "283cb7b7-5f4e-49ff-9356-69d982d2c18b"
      },
      "execution_count": null,
      "outputs": [
        {
          "output_type": "stream",
          "name": "stdout",
          "text": [
            "i   d i d n t   f e e l   h u m i l i a t e d\n"
          ]
        }
      ]
    },
    {
      "cell_type": "code",
      "source": [
        "# What's the average character length?\n",
        "char_lens = [len(sentence) for sentence in train_sentences]\n",
        "mean_char_len = np.mean(char_lens)\n",
        "mean_char_len"
      ],
      "metadata": {
        "colab": {
          "base_uri": "https://localhost:8080/"
        },
        "id": "kH4hyosd-tLI",
        "outputId": "9861c26a-ce56-459e-f8da-404486c05848"
      },
      "execution_count": null,
      "outputs": [
        {
          "output_type": "execute_result",
          "data": {
            "text/plain": [
              "96.8458125"
            ]
          },
          "metadata": {},
          "execution_count": 55
        }
      ]
    },
    {
      "cell_type": "code",
      "source": [
        "# Check the distribution of our sequences at character-level\n",
        "import matplotlib.pyplot as plt\n",
        "plt.hist(char_lens, bins=7);"
      ],
      "metadata": {
        "colab": {
          "base_uri": "https://localhost:8080/",
          "height": 265
        },
        "id": "OX7oLQUY-u-8",
        "outputId": "9438ec6c-91eb-4724-992e-e812e03d7051"
      },
      "execution_count": null,
      "outputs": [
        {
          "output_type": "display_data",
          "data": {
            "text/plain": [
              "<Figure size 432x288 with 1 Axes>"
            ],
            "image/png": "[encoded data removed]"
          },
          "metadata": {
            "needs_background": "light"
          }
        }
      ]
    },
    {
      "cell_type": "code",
      "source": [
        "# Find what character length covers 95% of sequences\n",
        "output_seq_char_len = int(np.percentile(char_lens, 95))\n",
        "output_seq_char_len"
      ],
      "metadata": {
        "colab": {
          "base_uri": "https://localhost:8080/"
        },
        "id": "5WKvGwnR-wLE",
        "outputId": "8be549db-5803-4324-a3c7-96dcd7bf3862"
      },
      "execution_count": null,
      "outputs": [
        {
          "output_type": "execute_result",
          "data": {
            "text/plain": [
              "207"
            ]
          },
          "metadata": {},
          "execution_count": 57
        }
      ]
    },
    {
      "cell_type": "code",
      "source": [
        "# Get all keyboard characters for char-level embedding\n",
        "import string\n",
        "alphabet = string.ascii_lowercase + string.digits + string.punctuation\n",
        "alphabet"
      ],
      "metadata": {
        "colab": {
          "base_uri": "https://localhost:8080/",
          "height": 35
        },
        "id": "LBy9P6BX-yJk",
        "outputId": "f8044282-34be-472a-f962-3ab1ca18ac68"
      },
      "execution_count": null,
      "outputs": [
        {
          "output_type": "execute_result",
          "data": {
            "text/plain": [
              "'abcdefghijklmnopqrstuvwxyz0123456789!\"#$%&\\'()*+,-./:;<=>?@[\\\\]^_`{|}~'"
            ],
            "application/vnd.google.colaboratory.intrinsic+json": {
              "type": "string"
            }
          },
          "metadata": {},
          "execution_count": 58
        }
      ]
    },
    {
      "cell_type": "code",
      "source": [
        "# Create char-level token vectorizer instance\n",
        "NUM_CHAR_TOKENS = len(alphabet) + 2 # num characters in alphabet + space + OOV token\n",
        "char_vectorizer = TextVectorization(max_tokens=NUM_CHAR_TOKENS,  \n",
        "                                    output_sequence_length=output_seq_char_len,\n",
        "                                    standardize=\"lower_and_strip_punctuation\",\n",
        "                                    name=\"char_vectorizer\")\n",
        "\n",
        "# Adapt character vectorizer to training characters\n",
        "char_vectorizer.adapt(train_chars)"
      ],
      "metadata": {
        "id": "rTuqOCex_kUU"
      },
      "execution_count": null,
      "outputs": []
    },
    {
      "cell_type": "code",
      "source": [
        "# Check character vocabulary characteristics\n",
        "char_vocab = char_vectorizer.get_vocabulary()\n",
        "print(f\"Number of different characters in character vocab: {len(char_vocab)}\")\n",
        "print(f\"5 most common characters: {char_vocab[:5]}\")\n",
        "print(f\"5 least common characters: {char_vocab[-5:]}\")"
      ],
      "metadata": {
        "colab": {
          "base_uri": "https://localhost:8080/"
        },
        "id": "Td4QDGC8_fWA",
        "outputId": "269cf793-75bc-4911-ec13-d5f16ab498b6"
      },
      "execution_count": null,
      "outputs": [
        {
          "output_type": "stream",
          "name": "stdout",
          "text": [
            "Number of different characters in character vocab: 28\n",
            "5 most common characters: ['', '[UNK]', 'e', 't', 'i']\n",
            "5 least common characters: ['k', 'j', 'x', 'z', 'q']\n"
          ]
        }
      ]
    },
    {
      "cell_type": "code",
      "source": [
        "# Test out character vectorizer\n",
        "random_train_chars = random.choice(train_chars)\n",
        "print(f\"Charified text:\\n{random_train_chars}\")\n",
        "print(f\"\\nLength of chars: {len(random_train_chars.split())}\")\n",
        "vectorized_chars = char_vectorizer([random_train_chars])\n",
        "print(f\"\\nVectorized chars:\\n{vectorized_chars}\")\n",
        "print(f\"\\nLength of vectorized chars: {len(vectorized_chars[0])}\")"
      ],
      "metadata": {
        "colab": {
          "base_uri": "https://localhost:8080/"
        },
        "id": "idEmuTlv_ybF",
        "outputId": "b36d83c1-d176-4ce8-958e-070a92a7d2f0"
      },
      "execution_count": null,
      "outputs": [
        {
          "output_type": "stream",
          "name": "stdout",
          "text": [
            "Charified text:\n",
            "i   d o n t   k n o w   w h a t   c r a z y   g i r l   i   t h i n k   h e r   n a m e   w a s   k a t j a   d o e s   f o r   a   l i v i n g   i   f e e l   l i k e   s h e   s h o u l d   j u s t   d o   w h a t   i   d o   i n   r e a l   l i f e   a n d   b e   s o m e   s o r t   o f   d i s h e a r t e n e d   d i s a l l u s i o n e d   c l e r k\n",
            "\n",
            "Length of chars: 143\n",
            "\n",
            "Vectorized chars:\n",
            "[[ 4 12  6  7  3 23  7  6 19 19 11  5  3 18 10  5 26 17 16  4 10  9  4  3\n",
            "  11  4  7 23 11  2 10  7  5 14  2 19  5  8 23  5  3 24  5 12  6  2  8 13\n",
            "   6 10  5  9  4 22  4  7 16  4 13  2  2  9  9  4 23  2  8 11  2  8 11  6\n",
            "  15  9 12 24 15  8  3 12  6 19 11  5  3  4 12  6  4  7 10  2  5  9  9  4\n",
            "  13  2  5  7 12 21  2  8  6 14  2  8  6 10  3  6 13 12  4  8 11  2  5 10\n",
            "   3  2  7  2 12 12  4  8  5  9  9 15  8  4  6  7  2 12 18  9  2 10 23  0\n",
            "   0  0  0  0  0  0  0  0  0  0  0  0  0  0  0  0  0  0  0  0  0  0  0  0\n",
            "   0  0  0  0  0  0  0  0  0  0  0  0  0  0  0  0  0  0  0  0  0  0  0  0\n",
            "   0  0  0  0  0  0  0  0  0  0  0  0  0  0  0]]\n",
            "\n",
            "Length of vectorized chars: 207\n"
          ]
        }
      ]
    },
    {
      "cell_type": "code",
      "source": [
        "# Create char embedding layer\n",
        "char_embed = layers.Embedding(input_dim=NUM_CHAR_TOKENS, # number of different characters\n",
        "                              output_dim=25, # embedding dimension of each character (same as Figure 1 in https://arxiv.org/pdf/1612.05251.pdf)\n",
        "                              mask_zero=False, # don't use masks (this messes up model_5 if set to True)\n",
        "                              name=\"char_embed\")\n",
        "\n",
        "# Test out character embedding layer\n",
        "print(f\"Charified text (before vectorization and embedding):\\n{random_train_chars}\\n\")\n",
        "char_embed_example = char_embed(char_vectorizer([random_train_chars]))\n",
        "print(f\"Embedded chars (after vectorization and embedding):\\n{char_embed_example}\\n\")\n",
        "print(f\"Character embedding shape: {char_embed_example.shape}\")"
      ],
      "metadata": {
        "colab": {
          "base_uri": "https://localhost:8080/"
        },
        "id": "cpYA86c6AADd",
        "outputId": "94408a51-46b7-46b5-cf2d-d3e369166725"
      },
      "execution_count": null,
      "outputs": [
        {
          "output_type": "stream",
          "name": "stdout",
          "text": [
            "Charified text (before vectorization and embedding):\n",
            "i   d o n t   k n o w   w h a t   c r a z y   g i r l   i   t h i n k   h e r   n a m e   w a s   k a t j a   d o e s   f o r   a   l i v i n g   i   f e e l   l i k e   s h e   s h o u l d   j u s t   d o   w h a t   i   d o   i n   r e a l   l i f e   a n d   b e   s o m e   s o r t   o f   d i s h e a r t e n e d   d i s a l l u s i o n e d   c l e r k\n",
            "\n",
            "Embedded chars (after vectorization and embedding):\n",
            "[[[-0.03769059  0.03139142  0.03115015 ...  0.03774318  0.00070591\n",
            "    0.02199394]\n",
            "  [-0.03095314  0.00029372 -0.03538664 ... -0.04708546  0.03410678\n",
            "    0.01026715]\n",
            "  [-0.00535287  0.00549395 -0.00526615 ... -0.01291878 -0.04382492\n",
            "    0.01092433]\n",
            "  ...\n",
            "  [-0.02557671 -0.02151252 -0.00078349 ...  0.01971154  0.01055641\n",
            "   -0.027518  ]\n",
            "  [-0.02557671 -0.02151252 -0.00078349 ...  0.01971154  0.01055641\n",
            "   -0.027518  ]\n",
            "  [-0.02557671 -0.02151252 -0.00078349 ...  0.01971154  0.01055641\n",
            "   -0.027518  ]]]\n",
            "\n",
            "Character embedding shape: (1, 207, 25)\n"
          ]
        }
      ]
    },
    {
      "cell_type": "code",
      "source": [
        "# Make Conv1D on chars only\n",
        "inputs = layers.Input(shape=(1,), dtype=\"string\")\n",
        "char_vectors = char_vectorizer(inputs)\n",
        "char_embeddings = char_embed(char_vectors)\n",
        "x = layers.Conv1D(64, kernel_size=5, padding=\"same\", activation=\"relu\")(char_embeddings)\n",
        "x = layers.GlobalMaxPool1D()(x)\n",
        "outputs = layers.Dense(num_classes, activation=\"softmax\")(x)\n",
        "model_3 = tf.keras.Model(inputs=inputs,\n",
        "                         outputs=outputs,\n",
        "                         name=\"model_3_conv1D_char_embedding\")\n",
        "\n",
        "# Compile model\n",
        "model_3.compile(loss=\"categorical_crossentropy\",\n",
        "                optimizer=tf.keras.optimizers.Adam(),\n",
        "                metrics=[\"accuracy\"])"
      ],
      "metadata": {
        "id": "OQl7bMN2AOst"
      },
      "execution_count": null,
      "outputs": []
    },
    {
      "cell_type": "code",
      "source": [
        "model_3.summary()"
      ],
      "metadata": {
        "colab": {
          "base_uri": "https://localhost:8080/"
        },
        "id": "XXxY1XInAlBj",
        "outputId": "3e98e097-2c92-4f92-a486-2a090d0c35aa"
      },
      "execution_count": null,
      "outputs": [
        {
          "output_type": "stream",
          "name": "stdout",
          "text": [
            "Model: \"model_3_conv1D_char_embedding\"\n",
            "_________________________________________________________________\n",
            " Layer (type)                Output Shape              Param #   \n",
            "=================================================================\n",
            " input_3 (InputLayer)        [(None, 1)]               0         \n",
            "                                                                 \n",
            " char_vectorizer (TextVector  (None, 207)              0         \n",
            " ization)                                                        \n",
            "                                                                 \n",
            " char_embed (Embedding)      (None, 207, 25)           1750      \n",
            "                                                                 \n",
            " conv1d_1 (Conv1D)           (None, 207, 64)           8064      \n",
            "                                                                 \n",
            " global_max_pooling1d (Globa  (None, 64)               0         \n",
            " lMaxPooling1D)                                                  \n",
            "                                                                 \n",
            " dense_3 (Dense)             (None, 6)                 390       \n",
            "                                                                 \n",
            "=================================================================\n",
            "Total params: 10,204\n",
            "Trainable params: 10,204\n",
            "Non-trainable params: 0\n",
            "_________________________________________________________________\n"
          ]
        }
      ]
    },
    {
      "cell_type": "code",
      "source": [
        "# Create char datasets\n",
        "train_char_dataset = tf.data.Dataset.from_tensor_slices((train_chars, train_labels_one_hot)).batch(32).prefetch(tf.data.AUTOTUNE)\n",
        "val_char_dataset = tf.data.Dataset.from_tensor_slices((val_chars, val_labels_one_hot)).batch(32).prefetch(tf.data.AUTOTUNE)\n",
        "\n",
        "train_char_dataset"
      ],
      "metadata": {
        "colab": {
          "base_uri": "https://localhost:8080/"
        },
        "id": "qXDOh5xCAmYl",
        "outputId": "b4e627ac-6e38-45f7-cbb7-86f558c2fa54"
      },
      "execution_count": null,
      "outputs": [
        {
          "output_type": "execute_result",
          "data": {
            "text/plain": [
              "<PrefetchDataset element_spec=(TensorSpec(shape=(None,), dtype=tf.string, name=None), TensorSpec(shape=(None, 6), dtype=tf.float64, name=None))>"
            ]
          },
          "metadata": {},
          "execution_count": 65
        }
      ]
    },
    {
      "cell_type": "code",
      "source": [
        "# Fit the model on chars only\n",
        "model_3_history = model_3.fit(train_char_dataset,\n",
        "                              steps_per_epoch=int(len(train_char_dataset)),\n",
        "                              epochs=3,\n",
        "                              validation_data=val_char_dataset,\n",
        "                              validation_steps=int(len(val_char_dataset)))"
      ],
      "metadata": {
        "colab": {
          "base_uri": "https://localhost:8080/"
        },
        "id": "s2ePea4kBwWT",
        "outputId": "ab0aa5b4-2f05-4fb2-a515-dd69036d4a3f"
      },
      "execution_count": null,
      "outputs": [
        {
          "output_type": "stream",
          "name": "stdout",
          "text": [
            "Epoch 1/3\n",
            "500/500 [==============================] - 3s 5ms/step - loss: 1.5669 - accuracy: 0.3579 - val_loss: 1.5266 - val_accuracy: 0.3965\n",
            "Epoch 2/3\n",
            "500/500 [==============================] - 4s 8ms/step - loss: 1.4520 - accuracy: 0.4331 - val_loss: 1.3905 - val_accuracy: 0.4680\n",
            "Epoch 3/3\n",
            "500/500 [==============================] - 5s 10ms/step - loss: 1.3025 - accuracy: 0.5042 - val_loss: 1.2680 - val_accuracy: 0.5175\n"
          ]
        }
      ]
    },
    {
      "cell_type": "code",
      "source": [
        "# Evaluate model_3 on whole validation char dataset\n",
        "model_3.evaluate(val_char_dataset)"
      ],
      "metadata": {
        "colab": {
          "base_uri": "https://localhost:8080/"
        },
        "id": "o5KoOol-CIXy",
        "outputId": "931d6f87-1adb-4082-e754-f3f685b6c3c5"
      },
      "execution_count": null,
      "outputs": [
        {
          "output_type": "stream",
          "name": "stdout",
          "text": [
            "63/63 [==============================] - 0s 3ms/step - loss: 1.2680 - accuracy: 0.5175\n"
          ]
        },
        {
          "output_type": "execute_result",
          "data": {
            "text/plain": [
              "[1.2679928541183472, 0.5174999833106995]"
            ]
          },
          "metadata": {},
          "execution_count": 67
        }
      ]
    },
    {
      "cell_type": "code",
      "source": [
        "# Make predictions with character model only\n",
        "model_3_pred_probs = model_3.predict(val_char_dataset)\n",
        "model_3_pred_probs"
      ],
      "metadata": {
        "colab": {
          "base_uri": "https://localhost:8080/"
        },
        "id": "zUhKCE5dCLLT",
        "outputId": "0393dba2-81cd-4994-bdab-7d021465e3e4"
      },
      "execution_count": null,
      "outputs": [
        {
          "output_type": "stream",
          "name": "stdout",
          "text": [
            "63/63 [==============================] - 0s 2ms/step\n"
          ]
        },
        {
          "output_type": "execute_result",
          "data": {
            "text/plain": [
              "array([[0.1796258 , 0.09822425, 0.05965136, 0.04584673, 0.58231944,\n",
              "        0.03433241],\n",
              "       [0.0503747 , 0.05355325, 0.5323744 , 0.06351077, 0.2963025 ,\n",
              "        0.00388447],\n",
              "       [0.08699457, 0.29378912, 0.19069931, 0.1710932 , 0.18681936,\n",
              "        0.07060444],\n",
              "       ...,\n",
              "       [0.04925229, 0.07818184, 0.50701344, 0.04528892, 0.31588647,\n",
              "        0.00437695],\n",
              "       [0.07740096, 0.25692675, 0.44852933, 0.09029388, 0.11571424,\n",
              "        0.0111349 ],\n",
              "       [0.04386357, 0.09868936, 0.64173967, 0.08548935, 0.1147917 ,\n",
              "        0.01542637]], dtype=float32)"
            ]
          },
          "metadata": {},
          "execution_count": 68
        }
      ]
    },
    {
      "cell_type": "code",
      "source": [
        "# Convert predictions to classes\n",
        "model_3_preds = tf.argmax(model_3_pred_probs, axis=1)\n",
        "model_3_preds"
      ],
      "metadata": {
        "colab": {
          "base_uri": "https://localhost:8080/"
        },
        "id": "4l1h33d6CMSc",
        "outputId": "3f8a21ed-ddb9-4874-ea4c-226a9c7af20f"
      },
      "execution_count": null,
      "outputs": [
        {
          "output_type": "execute_result",
          "data": {
            "text/plain": [
              "<tf.Tensor: shape=(2000,), dtype=int64, numpy=array([4, 2, 1, ..., 2, 2, 2])>"
            ]
          },
          "metadata": {},
          "execution_count": 69
        }
      ]
    },
    {
      "cell_type": "code",
      "source": [
        "# Calculate Conv1D char only model results\n",
        "model_3_results = calculate_results(y_true=val_labels_encoded,\n",
        "                                        y_pred=model_3_preds)\n",
        "model_3_results"
      ],
      "metadata": {
        "colab": {
          "base_uri": "https://localhost:8080/"
        },
        "id": "vygwP-5ECNWq",
        "outputId": "52d66f47-b5ac-46ae-92a5-a32f942282c3"
      },
      "execution_count": null,
      "outputs": [
        {
          "output_type": "execute_result",
          "data": {
            "text/plain": [
              "{'accuracy': 51.74999999999999,\n",
              " 'precision': 0.5259327949354555,\n",
              " 'recall': 0.5175,\n",
              " 'f1': 0.4728969148750304}"
            ]
          },
          "metadata": {},
          "execution_count": 70
        }
      ]
    },
    {
      "cell_type": "code",
      "source": [
        "# 1. Setup token inputs/model\n",
        "token_inputs = layers.Input(shape=[], dtype=tf.string, name=\"token_input\")\n",
        "token_embeddings = tf_hub_embedding_layer(token_inputs)\n",
        "token_output = layers.Dense(128, activation=\"relu\")(token_embeddings)\n",
        "token_model = tf.keras.Model(inputs=token_inputs,\n",
        "                             outputs=token_output)\n",
        "\n",
        "# 2. Setup char inputs/model\n",
        "char_inputs = layers.Input(shape=(1,), dtype=tf.string, name=\"char_input\")\n",
        "char_vectors = char_vectorizer(char_inputs)\n",
        "char_embeddings = char_embed(char_vectors)\n",
        "char_bi_lstm = layers.Bidirectional(layers.LSTM(25))(char_embeddings) # bi-LSTM shown in Figure 1 of https://arxiv.org/pdf/1612.05251.pdf\n",
        "char_model = tf.keras.Model(inputs=char_inputs,\n",
        "                            outputs=char_bi_lstm)\n",
        "\n",
        "# 3. Concatenate token and char inputs (create hybrid token embedding)\n",
        "token_char_concat = layers.Concatenate(name=\"token_char_hybrid\")([token_model.output, \n",
        "                                                                  char_model.output])\n",
        "\n",
        "# 4. Create output layers - addition of dropout discussed in 4.2 of https://arxiv.org/pdf/1612.05251.pdf\n",
        "combined_dropout = layers.Dropout(0.5)(token_char_concat)\n",
        "combined_dense = layers.Dense(200, activation=\"relu\")(combined_dropout) # slightly different to Figure 1 due to different shapes of token/char embedding layers\n",
        "final_dropout = layers.Dropout(0.5)(combined_dense)\n",
        "output_layer = layers.Dense(num_classes, activation=\"softmax\")(final_dropout)\n",
        "\n",
        "# 5. Construct model with char and token inputs\n",
        "model_4 = tf.keras.Model(inputs=[token_model.input, char_model.input],\n",
        "                         outputs=output_layer,\n",
        "                         name=\"model_4_token_and_char_embeddings\")"
      ],
      "metadata": {
        "id": "C6bsKmsdCQL1"
      },
      "execution_count": null,
      "outputs": []
    },
    {
      "cell_type": "code",
      "source": [
        "model_4.summary()"
      ],
      "metadata": {
        "colab": {
          "base_uri": "https://localhost:8080/"
        },
        "id": "dWYtj10IFHkQ",
        "outputId": "49b368aa-5c2b-4d3a-e2e9-423cdaaf6528"
      },
      "execution_count": null,
      "outputs": [
        {
          "output_type": "stream",
          "name": "stdout",
          "text": [
            "Model: \"model_4_token_and_char_embeddings\"\n",
            "__________________________________________________________________________________________________\n",
            " Layer (type)                   Output Shape         Param #     Connected to                     \n",
            "==================================================================================================\n",
            " char_input (InputLayer)        [(None, 1)]          0           []                               \n",
            "                                                                                                  \n",
            " token_input (InputLayer)       [(None,)]            0           []                               \n",
            "                                                                                                  \n",
            " char_vectorizer (TextVectoriza  (None, 207)         0           ['char_input[0][0]']             \n",
            " tion)                                                                                            \n",
            "                                                                                                  \n",
            " universal_sentence_encoder (Ke  (None, 512)         256797824   ['token_input[0][0]']            \n",
            " rasLayer)                                                                                        \n",
            "                                                                                                  \n",
            " char_embed (Embedding)         (None, 207, 25)      1750        ['char_vectorizer[1][0]']        \n",
            "                                                                                                  \n",
            " dense_4 (Dense)                (None, 128)          65664       ['universal_sentence_encoder[1][0\n",
            "                                                                 ]']                              \n",
            "                                                                                                  \n",
            " bidirectional (Bidirectional)  (None, 50)           10200       ['char_embed[1][0]']             \n",
            "                                                                                                  \n",
            " token_char_hybrid (Concatenate  (None, 178)         0           ['dense_4[0][0]',                \n",
            " )                                                                'bidirectional[0][0]']          \n",
            "                                                                                                  \n",
            " dropout (Dropout)              (None, 178)          0           ['token_char_hybrid[0][0]']      \n",
            "                                                                                                  \n",
            " dense_5 (Dense)                (None, 200)          35800       ['dropout[0][0]']                \n",
            "                                                                                                  \n",
            " dropout_1 (Dropout)            (None, 200)          0           ['dense_5[0][0]']                \n",
            "                                                                                                  \n",
            " dense_6 (Dense)                (None, 6)            1206        ['dropout_1[0][0]']              \n",
            "                                                                                                  \n",
            "==================================================================================================\n",
            "Total params: 256,912,444\n",
            "Trainable params: 114,620\n",
            "Non-trainable params: 256,797,824\n",
            "__________________________________________________________________________________________________\n"
          ]
        }
      ]
    },
    {
      "cell_type": "code",
      "source": [
        "# Plot hybrid token and character model\n",
        "from tensorflow.keras.utils import plot_model\n",
        "plot_model(model_4)"
      ],
      "metadata": {
        "colab": {
          "base_uri": "https://localhost:8080/",
          "height": 856
        },
        "id": "V6K0dJ0EFI2t",
        "outputId": "d69858a4-e8f9-4ae2-908b-c46cda95a853"
      },
      "execution_count": null,
      "outputs": [
        {
          "output_type": "execute_result",
          "data": {
            "image/png": "[encoded data removed]",
            "text/plain": [
              "<IPython.core.display.Image object>"
            ]
          },
          "metadata": {},
          "execution_count": 73
        }
      ]
    },
    {
      "cell_type": "code",
      "source": [
        "# Compile token char model\n",
        "model_4.compile(loss=\"categorical_crossentropy\",\n",
        "                optimizer=tf.keras.optimizers.Adam(), # section 4.2 of https://arxiv.org/pdf/1612.05251.pdf mentions using SGD but we'll stick with Adam\n",
        "                metrics=[\"accuracy\"])"
      ],
      "metadata": {
        "id": "hPQDFnf6FLWB"
      },
      "execution_count": null,
      "outputs": []
    },
    {
      "cell_type": "code",
      "source": [
        "# Combine chars and tokens into a dataset\n",
        "train_char_token_data = tf.data.Dataset.from_tensor_slices((train_sentences, train_chars)) # make data\n",
        "train_char_token_labels = tf.data.Dataset.from_tensor_slices(train_labels_one_hot) # make labels\n",
        "train_char_token_dataset = tf.data.Dataset.zip((train_char_token_data, train_char_token_labels)) # combine data and labels\n",
        "\n",
        "# Prefetch and batch train data\n",
        "train_char_token_dataset = train_char_token_dataset.batch(32).prefetch(tf.data.AUTOTUNE) \n",
        "\n",
        "# Repeat same steps validation data\n",
        "val_char_token_data = tf.data.Dataset.from_tensor_slices((val_sentences, val_chars))\n",
        "val_char_token_labels = tf.data.Dataset.from_tensor_slices(val_labels_one_hot)\n",
        "val_char_token_dataset = tf.data.Dataset.zip((val_char_token_data, val_char_token_labels))\n",
        "val_char_token_dataset = val_char_token_dataset.batch(32).prefetch(tf.data.AUTOTUNE)"
      ],
      "metadata": {
        "id": "rJ8k4hyyFNFD"
      },
      "execution_count": null,
      "outputs": []
    },
    {
      "cell_type": "code",
      "source": [
        "# Check out training char and token embedding dataset\n",
        "train_char_token_dataset, val_char_token_dataset"
      ],
      "metadata": {
        "colab": {
          "base_uri": "https://localhost:8080/"
        },
        "id": "-asGrgkUFPc3",
        "outputId": "3be240b1-0605-48ee-ca98-3ffe03669021"
      },
      "execution_count": null,
      "outputs": [
        {
          "output_type": "execute_result",
          "data": {
            "text/plain": [
              "(<PrefetchDataset element_spec=((TensorSpec(shape=(None,), dtype=tf.string, name=None), TensorSpec(shape=(None,), dtype=tf.string, name=None)), TensorSpec(shape=(None, 6), dtype=tf.float64, name=None))>,\n",
              " <PrefetchDataset element_spec=((TensorSpec(shape=(None,), dtype=tf.string, name=None), TensorSpec(shape=(None,), dtype=tf.string, name=None)), TensorSpec(shape=(None, 6), dtype=tf.float64, name=None))>)"
            ]
          },
          "metadata": {},
          "execution_count": 92
        }
      ]
    },
    {
      "cell_type": "code",
      "source": [
        "# Fit the model on tokens and chars\n",
        "model_4_history = model_4.fit(train_char_token_dataset, # train on dataset of token and characters\n",
        "                              steps_per_epoch=int(len(train_char_token_dataset)),\n",
        "                              epochs=3,\n",
        "                              validation_data=val_char_token_dataset,\n",
        "                              validation_steps=int(len(val_char_token_dataset)))"
      ],
      "metadata": {
        "colab": {
          "base_uri": "https://localhost:8080/"
        },
        "id": "ibsW5bPWFTQg",
        "outputId": "154c1c27-95f9-4477-dc11-94550dcd31cf"
      },
      "execution_count": null,
      "outputs": [
        {
          "output_type": "stream",
          "name": "stdout",
          "text": [
            "Epoch 1/3\n",
            "500/500 [==============================] - 21s 31ms/step - loss: 1.2351 - accuracy: 0.5444 - val_loss: 1.0030 - val_accuracy: 0.6325\n",
            "Epoch 2/3\n",
            "500/500 [==============================] - 16s 32ms/step - loss: 1.0178 - accuracy: 0.6287 - val_loss: 0.9337 - val_accuracy: 0.6445\n",
            "Epoch 3/3\n",
            "500/500 [==============================] - 19s 38ms/step - loss: 0.9503 - accuracy: 0.6509 - val_loss: 0.9073 - val_accuracy: 0.6555\n"
          ]
        }
      ]
    },
    {
      "cell_type": "code",
      "source": [
        "# Evaluate on the whole validation dataset\n",
        "model_4.evaluate(val_char_token_dataset)"
      ],
      "metadata": {
        "colab": {
          "base_uri": "https://localhost:8080/"
        },
        "id": "vB3ZXblYFiRD",
        "outputId": "45b84366-8496-4eda-8412-4b055c970665"
      },
      "execution_count": null,
      "outputs": [
        {
          "output_type": "stream",
          "name": "stdout",
          "text": [
            "63/63 [==============================] - 1s 19ms/step - loss: 0.9073 - accuracy: 0.6555\n"
          ]
        },
        {
          "output_type": "execute_result",
          "data": {
            "text/plain": [
              "[0.9073348045349121, 0.6554999947547913]"
            ]
          },
          "metadata": {},
          "execution_count": 78
        }
      ]
    },
    {
      "cell_type": "code",
      "source": [
        "# Make predictions using the token-character model hybrid\n",
        "model_4_pred_probs = model_4.predict(val_char_token_dataset)\n",
        "model_4_pred_probs"
      ],
      "metadata": {
        "colab": {
          "base_uri": "https://localhost:8080/"
        },
        "id": "wQqVifRqFjMl",
        "outputId": "f21b0dbb-40df-4b22-fb31-b13450e716cc"
      },
      "execution_count": null,
      "outputs": [
        {
          "output_type": "stream",
          "name": "stdout",
          "text": [
            "63/63 [==============================] - 2s 18ms/step\n"
          ]
        },
        {
          "output_type": "execute_result",
          "data": {
            "text/plain": [
              "array([[4.7107749e-02, 1.0608906e-01, 3.9119083e-02, 1.7974664e-02,\n",
              "        7.6859903e-01, 2.1110492e-02],\n",
              "       [3.0999724e-03, 1.3206202e-01, 2.7136022e-01, 4.4949059e-03,\n",
              "        5.7249880e-01, 1.6484050e-02],\n",
              "       [9.8243169e-04, 3.0813453e-04, 2.4760042e-01, 7.4614698e-01,\n",
              "        4.5962222e-03, 3.6594237e-04],\n",
              "       ...,\n",
              "       [8.1310207e-03, 3.3940371e-02, 7.3257917e-01, 8.1169523e-02,\n",
              "        2.7179824e-02, 1.1700007e-01],\n",
              "       [5.0153821e-03, 4.4891723e-03, 8.1609607e-01, 1.6069618e-01,\n",
              "        1.1546678e-02, 2.1565182e-03],\n",
              "       [1.3421308e-02, 1.3517022e-02, 6.9349730e-01, 2.4133536e-01,\n",
              "        2.6968971e-02, 1.1259949e-02]], dtype=float32)"
            ]
          },
          "metadata": {},
          "execution_count": 79
        }
      ]
    },
    {
      "cell_type": "code",
      "source": [
        "# Turn prediction probabilities into prediction classes\n",
        "model_4_preds = tf.argmax(model_4_pred_probs, axis=1)\n",
        "model_4_preds\n"
      ],
      "metadata": {
        "colab": {
          "base_uri": "https://localhost:8080/"
        },
        "id": "lyIUK0bgFnv4",
        "outputId": "24fab0d2-de7b-4e22-9a89-4466f1cab2ba"
      },
      "execution_count": null,
      "outputs": [
        {
          "output_type": "execute_result",
          "data": {
            "text/plain": [
              "<tf.Tensor: shape=(2000,), dtype=int64, numpy=array([4, 4, 3, ..., 2, 2, 2])>"
            ]
          },
          "metadata": {},
          "execution_count": 80
        }
      ]
    },
    {
      "cell_type": "code",
      "source": [
        "# Get results of token-char-hybrid model\n",
        "model_4_results = calculate_results(y_true=val_labels_encoded,\n",
        "                                    y_pred=model_4_preds)\n",
        "model_4_results"
      ],
      "metadata": {
        "colab": {
          "base_uri": "https://localhost:8080/"
        },
        "id": "tBGx6SqOFpwX",
        "outputId": "83c9c78c-defc-419a-c0a7-195f73a68bac"
      },
      "execution_count": null,
      "outputs": [
        {
          "output_type": "execute_result",
          "data": {
            "text/plain": [
              "{'accuracy': 65.55,\n",
              " 'precision': 0.6565008708648195,\n",
              " 'recall': 0.6555,\n",
              " 'f1': 0.6469136260822403}"
            ]
          },
          "metadata": {},
          "execution_count": 81
        }
      ]
    },
    {
      "cell_type": "code",
      "source": [
        "# Repeat same steps test data\n",
        "test_char_token_data = tf.data.Dataset.from_tensor_slices((test_sentences, test_chars))\n",
        "test_char_token_labels = tf.data.Dataset.from_tensor_slices(test_labels_one_hot)\n",
        "test_char_token_dataset = tf.data.Dataset.zip((test_char_token_data, test_char_token_labels))\n",
        "test_char_token_dataset = test_char_token_dataset.batch(32).prefetch(tf.data.AUTOTUNE)"
      ],
      "metadata": {
        "id": "WRZXl-DPGRWn"
      },
      "execution_count": null,
      "outputs": []
    },
    {
      "cell_type": "code",
      "source": [
        "# This model is like model_4, but it uses our custom word embeddings instead\n",
        "\n",
        "# Create 1D convolutional model to process sequences\n",
        "token_inputs = layers.Input(shape=(1,), dtype=tf.string)\n",
        "text_vectors = text_vectorizer(token_inputs) # vectorize text inputs\n",
        "token_embeddings = token_embed(text_vectors) # create embedding\n",
        "x = layers.Conv1D(64, kernel_size=5, padding=\"same\", activation=\"relu\")(token_embeddings)\n",
        "x = layers.GlobalAveragePooling1D()(x) # condense the output of our feature vector\n",
        "token_outputs = layers.Dense(128, activation=\"relu\")(x)\n",
        "token_model = tf.keras.Model(token_inputs, token_outputs)\n",
        "\n",
        "# 2. Char inputs\n",
        "char_inputs = layers.Input(shape=(1,), dtype=\"string\", name=\"char_inputs\")\n",
        "char_vectors = char_vectorizer(char_inputs)\n",
        "char_embeddings = char_embed(char_vectors)\n",
        "char_bi_lstm = layers.Bidirectional(layers.LSTM(32))(char_embeddings)\n",
        "char_model = tf.keras.Model(inputs=char_inputs,\n",
        "                            outputs=char_bi_lstm)\n",
        "\n",
        "# 3. Concatenate token and char inputs (create hybrid token embedding)\n",
        "token_char_concat = layers.Concatenate(name=\"token_char_hybrid\")([token_model.output, \n",
        "                                                                  char_model.output])\n",
        "\n",
        "# 4. Create output layers - addition of dropout discussed in 4.2 of https://arxiv.org/pdf/1612.05251.pdf\n",
        "combined_dropout = layers.Dropout(0.5)(token_char_concat)\n",
        "combined_dense = layers.Dense(200, activation=\"relu\")(combined_dropout) # slightly different to Figure 1 due to different shapes of token/char embedding layers\n",
        "final_dropout = layers.Dropout(0.5)(combined_dense)\n",
        "output_layer = layers.Dense(num_classes, activation=\"softmax\")(final_dropout)\n",
        "\n",
        "# 5. Construct model with char and token inputs\n",
        "model_5 = tf.keras.Model(inputs=[token_model.input, char_model.input],\n",
        "                         outputs=output_layer,\n",
        "                         name=\"model_4_token_and_char_embeddings\")\n"
      ],
      "metadata": {
        "id": "0m5LtHQgHEqW"
      },
      "execution_count": null,
      "outputs": []
    },
    {
      "cell_type": "code",
      "source": [
        "model_5.summary()"
      ],
      "metadata": {
        "colab": {
          "base_uri": "https://localhost:8080/"
        },
        "id": "1D-KKm3RHxJ4",
        "outputId": "25ff6b8f-4efe-4564-feee-d00541386ecd"
      },
      "execution_count": null,
      "outputs": [
        {
          "output_type": "stream",
          "name": "stdout",
          "text": [
            "Model: \"model_4_token_and_char_embeddings\"\n",
            "__________________________________________________________________________________________________\n",
            " Layer (type)                   Output Shape         Param #     Connected to                     \n",
            "==================================================================================================\n",
            " input_5 (InputLayer)           [(None, 1)]          0           []                               \n",
            "                                                                                                  \n",
            " text_vectorization (TextVector  (None, 41)          0           ['input_5[0][0]']                \n",
            " ization)                                                                                         \n",
            "                                                                                                  \n",
            " token_embedding (Embedding)    (None, 41, 128)      1947392     ['text_vectorization[2][0]']     \n",
            "                                                                                                  \n",
            " char_inputs (InputLayer)       [(None, 1)]          0           []                               \n",
            "                                                                                                  \n",
            " conv1d_3 (Conv1D)              (None, 41, 64)       41024       ['token_embedding[2][0]']        \n",
            "                                                                                                  \n",
            " char_vectorizer (TextVectoriza  (None, 207)         0           ['char_inputs[0][0]']            \n",
            " tion)                                                                                            \n",
            "                                                                                                  \n",
            " global_average_pooling1d_2 (Gl  (None, 64)          0           ['conv1d_3[0][0]']               \n",
            " obalAveragePooling1D)                                                                            \n",
            "                                                                                                  \n",
            " char_embed (Embedding)         (None, 207, 25)      1750        ['char_vectorizer[2][0]']        \n",
            "                                                                                                  \n",
            " dense_8 (Dense)                (None, 128)          8320        ['global_average_pooling1d_2[0][0\n",
            "                                                                 ]']                              \n",
            "                                                                                                  \n",
            " bidirectional_1 (Bidirectional  (None, 64)          14848       ['char_embed[2][0]']             \n",
            " )                                                                                                \n",
            "                                                                                                  \n",
            " token_char_hybrid (Concatenate  (None, 192)         0           ['dense_8[0][0]',                \n",
            " )                                                                'bidirectional_1[0][0]']        \n",
            "                                                                                                  \n",
            " dropout_2 (Dropout)            (None, 192)          0           ['token_char_hybrid[0][0]']      \n",
            "                                                                                                  \n",
            " dense_9 (Dense)                (None, 200)          38600       ['dropout_2[0][0]']              \n",
            "                                                                                                  \n",
            " dropout_3 (Dropout)            (None, 200)          0           ['dense_9[0][0]']                \n",
            "                                                                                                  \n",
            " dense_10 (Dense)               (None, 6)            1206        ['dropout_3[0][0]']              \n",
            "                                                                                                  \n",
            "==================================================================================================\n",
            "Total params: 2,053,140\n",
            "Trainable params: 2,053,140\n",
            "Non-trainable params: 0\n",
            "__________________________________________________________________________________________________\n"
          ]
        }
      ]
    },
    {
      "cell_type": "code",
      "source": [
        "# Compile\n",
        "model_5.compile(loss=\"categorical_crossentropy\", # if your labels are integer form (not one hot) use sparse_categorical_crossentropy\n",
        "                optimizer=tf.keras.optimizers.Adam(),\n",
        "                metrics=[\"accuracy\"])"
      ],
      "metadata": {
        "id": "tEcplhr8QUhg"
      },
      "execution_count": null,
      "outputs": []
    },
    {
      "cell_type": "code",
      "source": [
        "# Fit the model on tokens and chars\n",
        "model_5_history = model_4.fit(train_char_token_dataset, # train on dataset of token and characters\n",
        "                              steps_per_epoch=int(len(train_char_token_dataset)),\n",
        "                              epochs=3,\n",
        "                              validation_data=val_char_token_dataset,\n",
        "                              validation_steps=int(len(val_char_token_dataset)))"
      ],
      "metadata": {
        "colab": {
          "base_uri": "https://localhost:8080/"
        },
        "id": "yOIxO-upHo39",
        "outputId": "b201379d-eed6-4332-c941-da9470dfa93d"
      },
      "execution_count": null,
      "outputs": [
        {
          "output_type": "stream",
          "name": "stdout",
          "text": [
            "Epoch 1/3\n",
            "500/500 [==============================] - 15s 30ms/step - loss: 0.9056 - accuracy: 0.6654 - val_loss: 0.8804 - val_accuracy: 0.6615\n",
            "Epoch 2/3\n",
            "500/500 [==============================] - 15s 29ms/step - loss: 0.8637 - accuracy: 0.6796 - val_loss: 0.8554 - val_accuracy: 0.6750\n",
            "Epoch 3/3\n",
            "500/500 [==============================] - 16s 31ms/step - loss: 0.8305 - accuracy: 0.6932 - val_loss: 0.8463 - val_accuracy: 0.6840\n"
          ]
        }
      ]
    },
    {
      "cell_type": "code",
      "source": [
        "# Make predictions on the test dataset\n",
        "test_pred_probs = model_1.predict(test_dataset,\n",
        "                                  verbose=1)\n",
        "test_preds = tf.argmax(test_pred_probs, axis=1)\n",
        "test_preds[:10]"
      ],
      "metadata": {
        "colab": {
          "base_uri": "https://localhost:8080/"
        },
        "id": "W-IGhT9fRGi1",
        "outputId": "844515cc-a84d-4828-80fb-2ee2bb2e3aea"
      },
      "execution_count": null,
      "outputs": [
        {
          "output_type": "stream",
          "name": "stdout",
          "text": [
            "63/63 [==============================] - 0s 2ms/step\n"
          ]
        },
        {
          "output_type": "execute_result",
          "data": {
            "text/plain": [
              "<tf.Tensor: shape=(10,), dtype=int64, numpy=array([4, 4, 4, 2, 4, 1, 0, 3, 2, 0])>"
            ]
          },
          "metadata": {},
          "execution_count": 99
        }
      ]
    },
    {
      "cell_type": "code",
      "source": [
        "# Evaluate loaded model test predictions\n",
        "model_1_test_results = calculate_results(y_true=test_labels_encoded,\n",
        "                                         y_pred=test_preds)\n",
        "model_1_test_results"
      ],
      "metadata": {
        "colab": {
          "base_uri": "https://localhost:8080/"
        },
        "id": "GtQUeTaRRmDr",
        "outputId": "a5174d23-7c91-4825-b4ec-dcc1fd53e661"
      },
      "execution_count": null,
      "outputs": [
        {
          "output_type": "execute_result",
          "data": {
            "text/plain": [
              "{'accuracy': 85.45,\n",
              " 'precision': 0.8770684334583302,\n",
              " 'recall': 0.8545,\n",
              " 'f1': 0.8580875655945481}"
            ]
          },
          "metadata": {},
          "execution_count": 100
        }
      ]
    },
    {
      "cell_type": "code",
      "source": [
        "%%time\n",
        "# Get list of class names of test predictions\n",
        "test_pred_classes = [label_encoder.classes_[pred] for pred in test_preds]\n",
        "test_pred_classes"
      ],
      "metadata": {
        "colab": {
          "base_uri": "https://localhost:8080/"
        },
        "id": "KZylUF4QR2Hm",
        "outputId": "af3c0bb4-55e5-4342-8063-41cfdcb9d776"
      },
      "execution_count": null,
      "outputs": [
        {
          "output_type": "stream",
          "name": "stdout",
          "text": [
            "CPU times: user 796 ms, sys: 62.6 ms, total: 859 ms\n",
            "Wall time: 756 ms\n"
          ]
        },
        {
          "output_type": "execute_result",
          "data": {
            "text/plain": [
              "['sadness',\n",
              " 'sadness',\n",
              " 'sadness',\n",
              " 'joy',\n",
              " 'sadness',\n",
              " 'fear',\n",
              " 'anger',\n",
              " 'love',\n",
              " 'joy',\n",
              " 'anger',\n",
              " 'anger',\n",
              " 'fear',\n",
              " 'fear',\n",
              " 'joy',\n",
              " 'love',\n",
              " 'sadness',\n",
              " 'joy',\n",
              " 'sadness',\n",
              " 'anger',\n",
              " 'joy',\n",
              " 'joy',\n",
              " 'joy',\n",
              " 'joy',\n",
              " 'sadness',\n",
              " 'sadness',\n",
              " 'fear',\n",
              " 'anger',\n",
              " 'sadness',\n",
              " 'fear',\n",
              " 'anger',\n",
              " 'fear',\n",
              " 'anger',\n",
              " 'sadness',\n",
              " 'anger',\n",
              " 'sadness',\n",
              " 'joy',\n",
              " 'surprise',\n",
              " 'sadness',\n",
              " 'joy',\n",
              " 'joy',\n",
              " 'anger',\n",
              " 'sadness',\n",
              " 'joy',\n",
              " 'sadness',\n",
              " 'joy',\n",
              " 'anger',\n",
              " 'joy',\n",
              " 'joy',\n",
              " 'fear',\n",
              " 'fear',\n",
              " 'sadness',\n",
              " 'fear',\n",
              " 'joy',\n",
              " 'sadness',\n",
              " 'joy',\n",
              " 'anger',\n",
              " 'anger',\n",
              " 'joy',\n",
              " 'sadness',\n",
              " 'anger',\n",
              " 'sadness',\n",
              " 'sadness',\n",
              " 'joy',\n",
              " 'joy',\n",
              " 'sadness',\n",
              " 'fear',\n",
              " 'sadness',\n",
              " 'anger',\n",
              " 'fear',\n",
              " 'surprise',\n",
              " 'joy',\n",
              " 'love',\n",
              " 'fear',\n",
              " 'joy',\n",
              " 'love',\n",
              " 'anger',\n",
              " 'joy',\n",
              " 'sadness',\n",
              " 'joy',\n",
              " 'love',\n",
              " 'joy',\n",
              " 'anger',\n",
              " 'sadness',\n",
              " 'joy',\n",
              " 'sadness',\n",
              " 'sadness',\n",
              " 'joy',\n",
              " 'joy',\n",
              " 'joy',\n",
              " 'sadness',\n",
              " 'anger',\n",
              " 'fear',\n",
              " 'anger',\n",
              " 'fear',\n",
              " 'anger',\n",
              " 'anger',\n",
              " 'love',\n",
              " 'joy',\n",
              " 'fear',\n",
              " 'sadness',\n",
              " 'fear',\n",
              " 'fear',\n",
              " 'sadness',\n",
              " 'anger',\n",
              " 'anger',\n",
              " 'anger',\n",
              " 'joy',\n",
              " 'joy',\n",
              " 'fear',\n",
              " 'sadness',\n",
              " 'joy',\n",
              " 'love',\n",
              " 'fear',\n",
              " 'joy',\n",
              " 'sadness',\n",
              " 'joy',\n",
              " 'joy',\n",
              " 'fear',\n",
              " 'sadness',\n",
              " 'joy',\n",
              " 'anger',\n",
              " 'anger',\n",
              " 'sadness',\n",
              " 'anger',\n",
              " 'sadness',\n",
              " 'love',\n",
              " 'sadness',\n",
              " 'fear',\n",
              " 'sadness',\n",
              " 'sadness',\n",
              " 'joy',\n",
              " 'love',\n",
              " 'sadness',\n",
              " 'anger',\n",
              " 'anger',\n",
              " 'joy',\n",
              " 'fear',\n",
              " 'anger',\n",
              " 'fear',\n",
              " 'joy',\n",
              " 'joy',\n",
              " 'sadness',\n",
              " 'fear',\n",
              " 'joy',\n",
              " 'anger',\n",
              " 'sadness',\n",
              " 'joy',\n",
              " 'fear',\n",
              " 'fear',\n",
              " 'love',\n",
              " 'sadness',\n",
              " 'love',\n",
              " 'fear',\n",
              " 'sadness',\n",
              " 'joy',\n",
              " 'sadness',\n",
              " 'joy',\n",
              " 'joy',\n",
              " 'anger',\n",
              " 'sadness',\n",
              " 'anger',\n",
              " 'anger',\n",
              " 'joy',\n",
              " 'fear',\n",
              " 'fear',\n",
              " 'joy',\n",
              " 'love',\n",
              " 'love',\n",
              " 'love',\n",
              " 'sadness',\n",
              " 'love',\n",
              " 'anger',\n",
              " 'joy',\n",
              " 'joy',\n",
              " 'sadness',\n",
              " 'anger',\n",
              " 'joy',\n",
              " 'joy',\n",
              " 'anger',\n",
              " 'sadness',\n",
              " 'fear',\n",
              " 'joy',\n",
              " 'sadness',\n",
              " 'love',\n",
              " 'fear',\n",
              " 'sadness',\n",
              " 'joy',\n",
              " 'joy',\n",
              " 'fear',\n",
              " 'anger',\n",
              " 'joy',\n",
              " 'anger',\n",
              " 'joy',\n",
              " 'sadness',\n",
              " 'sadness',\n",
              " 'sadness',\n",
              " 'fear',\n",
              " 'fear',\n",
              " 'joy',\n",
              " 'joy',\n",
              " 'joy',\n",
              " 'love',\n",
              " 'love',\n",
              " 'joy',\n",
              " 'joy',\n",
              " 'joy',\n",
              " 'love',\n",
              " 'fear',\n",
              " 'fear',\n",
              " 'joy',\n",
              " 'anger',\n",
              " 'sadness',\n",
              " 'joy',\n",
              " 'fear',\n",
              " 'joy',\n",
              " 'sadness',\n",
              " 'anger',\n",
              " 'sadness',\n",
              " 'anger',\n",
              " 'anger',\n",
              " 'joy',\n",
              " 'fear',\n",
              " 'surprise',\n",
              " 'joy',\n",
              " 'joy',\n",
              " 'joy',\n",
              " 'anger',\n",
              " 'joy',\n",
              " 'love',\n",
              " 'sadness',\n",
              " 'sadness',\n",
              " 'sadness',\n",
              " 'fear',\n",
              " 'joy',\n",
              " 'fear',\n",
              " 'joy',\n",
              " 'sadness',\n",
              " 'joy',\n",
              " 'sadness',\n",
              " 'joy',\n",
              " 'sadness',\n",
              " 'love',\n",
              " 'sadness',\n",
              " 'joy',\n",
              " 'sadness',\n",
              " 'sadness',\n",
              " 'sadness',\n",
              " 'anger',\n",
              " 'joy',\n",
              " 'joy',\n",
              " 'sadness',\n",
              " 'anger',\n",
              " 'sadness',\n",
              " 'anger',\n",
              " 'love',\n",
              " 'sadness',\n",
              " 'joy',\n",
              " 'fear',\n",
              " 'sadness',\n",
              " 'anger',\n",
              " 'anger',\n",
              " 'anger',\n",
              " 'love',\n",
              " 'anger',\n",
              " 'anger',\n",
              " 'joy',\n",
              " 'surprise',\n",
              " 'joy',\n",
              " 'anger',\n",
              " 'sadness',\n",
              " 'anger',\n",
              " 'anger',\n",
              " 'fear',\n",
              " 'sadness',\n",
              " 'anger',\n",
              " 'sadness',\n",
              " 'joy',\n",
              " 'fear',\n",
              " 'anger',\n",
              " 'sadness',\n",
              " 'love',\n",
              " 'sadness',\n",
              " 'sadness',\n",
              " 'joy',\n",
              " 'joy',\n",
              " 'joy',\n",
              " 'love',\n",
              " 'sadness',\n",
              " 'joy',\n",
              " 'joy',\n",
              " 'fear',\n",
              " 'fear',\n",
              " 'love',\n",
              " 'sadness',\n",
              " 'love',\n",
              " 'fear',\n",
              " 'anger',\n",
              " 'sadness',\n",
              " 'joy',\n",
              " 'anger',\n",
              " 'joy',\n",
              " 'anger',\n",
              " 'love',\n",
              " 'love',\n",
              " 'love',\n",
              " 'fear',\n",
              " 'fear',\n",
              " 'love',\n",
              " 'anger',\n",
              " 'fear',\n",
              " 'joy',\n",
              " 'sadness',\n",
              " 'fear',\n",
              " 'joy',\n",
              " 'anger',\n",
              " 'anger',\n",
              " 'anger',\n",
              " 'surprise',\n",
              " 'anger',\n",
              " 'fear',\n",
              " 'sadness',\n",
              " 'sadness',\n",
              " 'sadness',\n",
              " 'joy',\n",
              " 'sadness',\n",
              " 'sadness',\n",
              " 'love',\n",
              " 'anger',\n",
              " 'sadness',\n",
              " 'sadness',\n",
              " 'fear',\n",
              " 'sadness',\n",
              " 'sadness',\n",
              " 'love',\n",
              " 'sadness',\n",
              " 'love',\n",
              " 'anger',\n",
              " 'joy',\n",
              " 'surprise',\n",
              " 'sadness',\n",
              " 'anger',\n",
              " 'love',\n",
              " 'surprise',\n",
              " 'sadness',\n",
              " 'joy',\n",
              " 'joy',\n",
              " 'joy',\n",
              " 'fear',\n",
              " 'fear',\n",
              " 'joy',\n",
              " 'sadness',\n",
              " 'sadness',\n",
              " 'sadness',\n",
              " 'love',\n",
              " 'anger',\n",
              " 'love',\n",
              " 'love',\n",
              " 'sadness',\n",
              " 'sadness',\n",
              " 'joy',\n",
              " 'anger',\n",
              " 'sadness',\n",
              " 'sadness',\n",
              " 'anger',\n",
              " 'joy',\n",
              " 'joy',\n",
              " 'love',\n",
              " 'sadness',\n",
              " 'anger',\n",
              " 'love',\n",
              " 'sadness',\n",
              " 'joy',\n",
              " 'joy',\n",
              " 'anger',\n",
              " 'joy',\n",
              " 'sadness',\n",
              " 'anger',\n",
              " 'sadness',\n",
              " 'anger',\n",
              " 'fear',\n",
              " 'fear',\n",
              " 'anger',\n",
              " 'surprise',\n",
              " 'fear',\n",
              " 'joy',\n",
              " 'anger',\n",
              " 'anger',\n",
              " 'fear',\n",
              " 'joy',\n",
              " 'sadness',\n",
              " 'sadness',\n",
              " 'love',\n",
              " 'sadness',\n",
              " 'sadness',\n",
              " 'fear',\n",
              " 'sadness',\n",
              " 'anger',\n",
              " 'sadness',\n",
              " 'anger',\n",
              " 'fear',\n",
              " 'fear',\n",
              " 'joy',\n",
              " 'surprise',\n",
              " 'sadness',\n",
              " 'love',\n",
              " 'joy',\n",
              " 'joy',\n",
              " 'sadness',\n",
              " 'love',\n",
              " 'sadness',\n",
              " 'fear',\n",
              " 'anger',\n",
              " 'joy',\n",
              " 'joy',\n",
              " 'anger',\n",
              " 'surprise',\n",
              " 'fear',\n",
              " 'sadness',\n",
              " 'anger',\n",
              " 'sadness',\n",
              " 'joy',\n",
              " 'fear',\n",
              " 'fear',\n",
              " 'joy',\n",
              " 'sadness',\n",
              " 'joy',\n",
              " 'fear',\n",
              " 'joy',\n",
              " 'anger',\n",
              " 'fear',\n",
              " 'anger',\n",
              " 'sadness',\n",
              " 'fear',\n",
              " 'fear',\n",
              " 'fear',\n",
              " 'sadness',\n",
              " 'joy',\n",
              " 'anger',\n",
              " 'anger',\n",
              " 'sadness',\n",
              " 'joy',\n",
              " 'surprise',\n",
              " 'anger',\n",
              " 'anger',\n",
              " 'sadness',\n",
              " 'joy',\n",
              " 'sadness',\n",
              " 'sadness',\n",
              " 'joy',\n",
              " 'anger',\n",
              " 'sadness',\n",
              " 'anger',\n",
              " 'sadness',\n",
              " 'sadness',\n",
              " 'fear',\n",
              " 'sadness',\n",
              " 'joy',\n",
              " 'fear',\n",
              " 'joy',\n",
              " 'anger',\n",
              " 'surprise',\n",
              " 'joy',\n",
              " 'sadness',\n",
              " 'sadness',\n",
              " 'sadness',\n",
              " 'joy',\n",
              " 'love',\n",
              " 'sadness',\n",
              " 'sadness',\n",
              " 'surprise',\n",
              " 'fear',\n",
              " 'sadness',\n",
              " 'joy',\n",
              " 'joy',\n",
              " 'anger',\n",
              " 'joy',\n",
              " 'fear',\n",
              " 'anger',\n",
              " 'joy',\n",
              " 'fear',\n",
              " 'sadness',\n",
              " 'sadness',\n",
              " 'anger',\n",
              " 'joy',\n",
              " 'joy',\n",
              " 'sadness',\n",
              " 'fear',\n",
              " 'anger',\n",
              " 'joy',\n",
              " 'anger',\n",
              " 'joy',\n",
              " 'sadness',\n",
              " 'joy',\n",
              " 'fear',\n",
              " 'love',\n",
              " 'joy',\n",
              " 'love',\n",
              " 'sadness',\n",
              " 'joy',\n",
              " 'fear',\n",
              " 'anger',\n",
              " 'anger',\n",
              " 'fear',\n",
              " 'joy',\n",
              " 'joy',\n",
              " 'joy',\n",
              " 'sadness',\n",
              " 'anger',\n",
              " 'sadness',\n",
              " 'sadness',\n",
              " 'joy',\n",
              " 'love',\n",
              " 'fear',\n",
              " 'love',\n",
              " 'fear',\n",
              " 'anger',\n",
              " 'joy',\n",
              " 'joy',\n",
              " 'anger',\n",
              " 'joy',\n",
              " 'love',\n",
              " 'anger',\n",
              " 'fear',\n",
              " 'anger',\n",
              " 'joy',\n",
              " 'sadness',\n",
              " 'fear',\n",
              " 'sadness',\n",
              " 'anger',\n",
              " 'love',\n",
              " 'joy',\n",
              " 'love',\n",
              " 'anger',\n",
              " 'joy',\n",
              " 'joy',\n",
              " 'love',\n",
              " 'fear',\n",
              " 'anger',\n",
              " 'joy',\n",
              " 'sadness',\n",
              " 'love',\n",
              " 'anger',\n",
              " 'love',\n",
              " 'surprise',\n",
              " 'sadness',\n",
              " 'anger',\n",
              " 'love',\n",
              " 'joy',\n",
              " 'joy',\n",
              " 'sadness',\n",
              " 'joy',\n",
              " 'sadness',\n",
              " 'surprise',\n",
              " 'sadness',\n",
              " 'joy',\n",
              " 'joy',\n",
              " 'sadness',\n",
              " 'anger',\n",
              " 'joy',\n",
              " 'joy',\n",
              " 'joy',\n",
              " 'anger',\n",
              " 'sadness',\n",
              " 'joy',\n",
              " 'anger',\n",
              " 'fear',\n",
              " 'sadness',\n",
              " 'sadness',\n",
              " 'sadness',\n",
              " 'joy',\n",
              " 'joy',\n",
              " 'sadness',\n",
              " 'joy',\n",
              " 'fear',\n",
              " 'love',\n",
              " 'love',\n",
              " 'love',\n",
              " 'anger',\n",
              " 'fear',\n",
              " 'joy',\n",
              " 'joy',\n",
              " 'joy',\n",
              " 'sadness',\n",
              " 'joy',\n",
              " 'sadness',\n",
              " 'fear',\n",
              " 'fear',\n",
              " 'sadness',\n",
              " 'sadness',\n",
              " 'joy',\n",
              " 'fear',\n",
              " 'sadness',\n",
              " 'sadness',\n",
              " 'love',\n",
              " 'sadness',\n",
              " 'love',\n",
              " 'surprise',\n",
              " 'joy',\n",
              " 'sadness',\n",
              " 'fear',\n",
              " 'sadness',\n",
              " 'anger',\n",
              " 'sadness',\n",
              " 'anger',\n",
              " 'anger',\n",
              " 'sadness',\n",
              " 'joy',\n",
              " 'fear',\n",
              " 'love',\n",
              " 'joy',\n",
              " 'anger',\n",
              " 'sadness',\n",
              " 'joy',\n",
              " 'surprise',\n",
              " 'love',\n",
              " 'love',\n",
              " 'sadness',\n",
              " 'joy',\n",
              " 'joy',\n",
              " 'joy',\n",
              " 'sadness',\n",
              " 'anger',\n",
              " 'joy',\n",
              " 'fear',\n",
              " 'anger',\n",
              " 'fear',\n",
              " 'fear',\n",
              " 'love',\n",
              " 'joy',\n",
              " 'love',\n",
              " 'joy',\n",
              " 'joy',\n",
              " 'fear',\n",
              " 'joy',\n",
              " 'sadness',\n",
              " 'joy',\n",
              " 'joy',\n",
              " 'love',\n",
              " 'anger',\n",
              " 'love',\n",
              " 'joy',\n",
              " 'sadness',\n",
              " 'joy',\n",
              " 'love',\n",
              " 'joy',\n",
              " 'joy',\n",
              " 'anger',\n",
              " 'joy',\n",
              " 'anger',\n",
              " 'sadness',\n",
              " 'love',\n",
              " 'joy',\n",
              " 'sadness',\n",
              " 'joy',\n",
              " 'fear',\n",
              " 'joy',\n",
              " 'sadness',\n",
              " 'anger',\n",
              " 'fear',\n",
              " 'joy',\n",
              " 'joy',\n",
              " 'sadness',\n",
              " 'anger',\n",
              " 'sadness',\n",
              " 'anger',\n",
              " 'anger',\n",
              " 'fear',\n",
              " 'sadness',\n",
              " 'fear',\n",
              " 'sadness',\n",
              " 'love',\n",
              " 'fear',\n",
              " 'joy',\n",
              " 'joy',\n",
              " 'joy',\n",
              " 'joy',\n",
              " 'anger',\n",
              " 'sadness',\n",
              " 'joy',\n",
              " 'sadness',\n",
              " 'sadness',\n",
              " 'surprise',\n",
              " 'joy',\n",
              " 'sadness',\n",
              " 'sadness',\n",
              " 'fear',\n",
              " 'sadness',\n",
              " 'fear',\n",
              " 'anger',\n",
              " 'sadness',\n",
              " 'sadness',\n",
              " 'sadness',\n",
              " 'fear',\n",
              " 'anger',\n",
              " 'fear',\n",
              " 'surprise',\n",
              " 'sadness',\n",
              " 'fear',\n",
              " 'anger',\n",
              " 'love',\n",
              " 'anger',\n",
              " 'joy',\n",
              " 'sadness',\n",
              " 'sadness',\n",
              " 'sadness',\n",
              " 'fear',\n",
              " 'anger',\n",
              " 'joy',\n",
              " 'joy',\n",
              " 'sadness',\n",
              " 'sadness',\n",
              " 'joy',\n",
              " 'sadness',\n",
              " 'love',\n",
              " 'fear',\n",
              " 'love',\n",
              " 'joy',\n",
              " 'fear',\n",
              " 'anger',\n",
              " 'joy',\n",
              " 'love',\n",
              " 'fear',\n",
              " 'love',\n",
              " 'love',\n",
              " 'anger',\n",
              " 'sadness',\n",
              " 'fear',\n",
              " 'sadness',\n",
              " 'joy',\n",
              " 'love',\n",
              " 'joy',\n",
              " 'fear',\n",
              " 'sadness',\n",
              " 'joy',\n",
              " 'sadness',\n",
              " 'love',\n",
              " 'anger',\n",
              " 'fear',\n",
              " 'sadness',\n",
              " 'anger',\n",
              " 'joy',\n",
              " 'joy',\n",
              " 'joy',\n",
              " 'sadness',\n",
              " 'joy',\n",
              " 'joy',\n",
              " 'love',\n",
              " 'joy',\n",
              " 'sadness',\n",
              " 'sadness',\n",
              " 'sadness',\n",
              " 'joy',\n",
              " 'joy',\n",
              " 'sadness',\n",
              " 'fear',\n",
              " 'fear',\n",
              " 'anger',\n",
              " 'anger',\n",
              " 'joy',\n",
              " 'love',\n",
              " 'joy',\n",
              " 'joy',\n",
              " 'anger',\n",
              " 'joy',\n",
              " 'sadness',\n",
              " 'love',\n",
              " 'love',\n",
              " 'anger',\n",
              " 'sadness',\n",
              " 'anger',\n",
              " 'joy',\n",
              " 'love',\n",
              " 'anger',\n",
              " 'joy',\n",
              " 'sadness',\n",
              " 'joy',\n",
              " 'surprise',\n",
              " 'sadness',\n",
              " 'joy',\n",
              " 'joy',\n",
              " 'fear',\n",
              " 'joy',\n",
              " 'joy',\n",
              " 'anger',\n",
              " 'sadness',\n",
              " 'anger',\n",
              " 'joy',\n",
              " 'joy',\n",
              " 'joy',\n",
              " 'joy',\n",
              " 'love',\n",
              " 'sadness',\n",
              " 'fear',\n",
              " 'joy',\n",
              " 'joy',\n",
              " 'fear',\n",
              " 'joy',\n",
              " 'joy',\n",
              " 'sadness',\n",
              " 'joy',\n",
              " 'joy',\n",
              " 'joy',\n",
              " 'love',\n",
              " 'sadness',\n",
              " 'sadness',\n",
              " 'joy',\n",
              " 'sadness',\n",
              " 'sadness',\n",
              " 'joy',\n",
              " 'sadness',\n",
              " 'anger',\n",
              " 'sadness',\n",
              " 'love',\n",
              " 'surprise',\n",
              " 'joy',\n",
              " 'joy',\n",
              " 'joy',\n",
              " 'fear',\n",
              " 'sadness',\n",
              " 'joy',\n",
              " 'fear',\n",
              " 'joy',\n",
              " 'anger',\n",
              " 'anger',\n",
              " 'fear',\n",
              " 'joy',\n",
              " 'sadness',\n",
              " 'sadness',\n",
              " 'fear',\n",
              " 'sadness',\n",
              " 'fear',\n",
              " 'joy',\n",
              " 'fear',\n",
              " 'love',\n",
              " 'fear',\n",
              " 'sadness',\n",
              " 'anger',\n",
              " 'sadness',\n",
              " 'sadness',\n",
              " 'sadness',\n",
              " 'joy',\n",
              " 'sadness',\n",
              " 'joy',\n",
              " 'joy',\n",
              " 'anger',\n",
              " 'joy',\n",
              " 'sadness',\n",
              " 'sadness',\n",
              " 'fear',\n",
              " 'joy',\n",
              " 'fear',\n",
              " 'sadness',\n",
              " 'joy',\n",
              " 'joy',\n",
              " 'sadness',\n",
              " 'sadness',\n",
              " 'sadness',\n",
              " 'surprise',\n",
              " 'sadness',\n",
              " 'joy',\n",
              " 'anger',\n",
              " 'sadness',\n",
              " 'sadness',\n",
              " 'anger',\n",
              " 'joy',\n",
              " 'sadness',\n",
              " 'sadness',\n",
              " 'joy',\n",
              " 'sadness',\n",
              " 'love',\n",
              " 'joy',\n",
              " 'fear',\n",
              " 'sadness',\n",
              " 'sadness',\n",
              " 'joy',\n",
              " 'surprise',\n",
              " 'sadness',\n",
              " 'love',\n",
              " 'anger',\n",
              " 'surprise',\n",
              " 'fear',\n",
              " 'anger',\n",
              " 'sadness',\n",
              " 'fear',\n",
              " 'sadness',\n",
              " 'joy',\n",
              " 'love',\n",
              " 'sadness',\n",
              " 'love',\n",
              " 'joy',\n",
              " 'anger',\n",
              " 'joy',\n",
              " 'anger',\n",
              " 'joy',\n",
              " 'love',\n",
              " 'love',\n",
              " 'joy',\n",
              " 'joy',\n",
              " 'sadness',\n",
              " 'joy',\n",
              " 'anger',\n",
              " 'love',\n",
              " 'fear',\n",
              " 'joy',\n",
              " 'sadness',\n",
              " 'fear',\n",
              " 'sadness',\n",
              " 'anger',\n",
              " 'sadness',\n",
              " 'love',\n",
              " 'sadness',\n",
              " 'joy',\n",
              " 'sadness',\n",
              " 'joy',\n",
              " 'joy',\n",
              " 'sadness',\n",
              " 'fear',\n",
              " 'love',\n",
              " 'fear',\n",
              " 'sadness',\n",
              " 'joy',\n",
              " 'sadness',\n",
              " 'fear',\n",
              " 'love',\n",
              " 'anger',\n",
              " 'joy',\n",
              " 'fear',\n",
              " 'fear',\n",
              " 'joy',\n",
              " 'love',\n",
              " 'anger',\n",
              " 'joy',\n",
              " 'sadness',\n",
              " 'anger',\n",
              " 'joy',\n",
              " 'anger',\n",
              " 'love',\n",
              " 'anger',\n",
              " 'joy',\n",
              " 'surprise',\n",
              " 'love',\n",
              " 'fear',\n",
              " 'fear',\n",
              " 'sadness',\n",
              " 'sadness',\n",
              " 'surprise',\n",
              " 'sadness',\n",
              " 'sadness',\n",
              " 'joy',\n",
              " 'sadness',\n",
              " 'sadness',\n",
              " 'joy',\n",
              " 'joy',\n",
              " 'sadness',\n",
              " 'fear',\n",
              " 'joy',\n",
              " 'joy',\n",
              " 'love',\n",
              " 'joy',\n",
              " 'love',\n",
              " 'joy',\n",
              " 'sadness',\n",
              " 'sadness',\n",
              " 'joy',\n",
              " 'joy',\n",
              " 'sadness',\n",
              " 'joy',\n",
              " 'anger',\n",
              " 'anger',\n",
              " 'fear',\n",
              " 'anger',\n",
              " 'joy',\n",
              " 'fear',\n",
              " 'anger',\n",
              " 'sadness',\n",
              " 'love',\n",
              " 'anger',\n",
              " 'fear',\n",
              " 'love',\n",
              " 'anger',\n",
              " 'fear',\n",
              " 'sadness',\n",
              " 'love',\n",
              " 'sadness',\n",
              " 'anger',\n",
              " 'anger',\n",
              " 'joy',\n",
              " 'joy',\n",
              " 'joy',\n",
              " 'sadness',\n",
              " 'sadness',\n",
              " 'sadness',\n",
              " 'love',\n",
              " 'anger',\n",
              " 'love',\n",
              " 'fear',\n",
              " 'fear',\n",
              " 'love',\n",
              " 'joy',\n",
              " 'sadness',\n",
              " ...]"
            ]
          },
          "metadata": {},
          "execution_count": 101
        }
      ]
    },
    {
      "cell_type": "code",
      "source": [
        "# Create prediction-enriched test dataframe\n",
        "test_df[\"prediction\"] = test_pred_classes # create column with test prediction class names\n",
        "test_df[\"pred_prob\"] = tf.reduce_max(test_pred_probs, axis=1).numpy() # get the maximum prediction probability\n",
        "test_df[\"correct\"] = test_df[\"prediction\"] == test_df[\"target\"] # create binary column for whether the prediction is right or not\n",
        "test_df.head(20)"
      ],
      "metadata": {
        "colab": {
          "base_uri": "https://localhost:8080/",
          "height": 721
        },
        "id": "qPxsxlUnR4vh",
        "outputId": "42522809-c2e2-40ce-d83b-3a0eccf0ef10"
      },
      "execution_count": null,
      "outputs": [
        {
          "output_type": "execute_result",
          "data": {
            "text/plain": [
              "                                                 text   target prediction  \\\n",
              "0   im feeling rather rotten so im not very ambiti...  sadness    sadness   \n",
              "1           im updating my blog because i feel shitty  sadness    sadness   \n",
              "2   i never make her separate from me because i do...  sadness    sadness   \n",
              "3   i left with my bouquet of red and yellow tulip...      joy        joy   \n",
              "4     i was feeling a little vain when i did this one  sadness    sadness   \n",
              "5   i cant walk into a shop anywhere where i do no...     fear       fear   \n",
              "6    i felt anger when at the end of a telephone call    anger      anger   \n",
              "7   i explain why i clung to a relationship with a...      joy       love   \n",
              "8   i like to have the same breathless feeling as ...      joy        joy   \n",
              "9   i jest i feel grumpy tired and pre menstrual w...    anger      anger   \n",
              "10                 i don t feel particularly agitated     fear      anger   \n",
              "11  i feel beautifully emotional knowing that thes...  sadness       fear   \n",
              "12  i pay attention it deepens into a feeling of b...     fear       fear   \n",
              "13  i just feel extremely comfortable with the gro...      joy        joy   \n",
              "14  i find myself in the odd position of feeling s...     love       love   \n",
              "15  i was feeling as heartbroken as im sure katnis...  sadness    sadness   \n",
              "16                       i feel a little mellow today      joy        joy   \n",
              "17  i feel like my only role now would be to tear ...  sadness    sadness   \n",
              "18  i feel just bcoz a fight we get mad to each ot...    anger      anger   \n",
              "19  i feel like reds and purples are just so rich ...      joy        joy   \n",
              "\n",
              "    pred_prob  correct  \n",
              "0    0.996748     True  \n",
              "1    0.998414     True  \n",
              "2    0.973476     True  \n",
              "3    0.957053     True  \n",
              "4    0.997522     True  \n",
              "5    0.969780     True  \n",
              "6    0.906847     True  \n",
              "7    0.579521    False  \n",
              "8    0.996844     True  \n",
              "9    0.994792     True  \n",
              "10   0.917460    False  \n",
              "11   0.458189    False  \n",
              "12   0.560989     True  \n",
              "13   0.823242     True  \n",
              "14   0.979789     True  \n",
              "15   0.996097     True  \n",
              "16   0.999487     True  \n",
              "17   0.970304     True  \n",
              "18   0.966264     True  \n",
              "19   0.997217     True  "
            ],
            "text/html": [
              "\n",
              "  <div id=\"df-fa8d0b39-a51e-420a-bf05-2916efa1df10\">\n",
              "    <div class=\"colab-df-container\">\n",
              "      <div>\n",
              "<style scoped>\n",
              "    .dataframe tbody tr th:only-of-type {\n",
              "        vertical-align: middle;\n",
              "    }\n",
              "\n",
              "    .dataframe tbody tr th {\n",
              "        vertical-align: top;\n",
              "    }\n",
              "\n",
              "    .dataframe thead th {\n",
              "        text-align: right;\n",
              "    }\n",
              "</style>\n",
              "<table border=\"1\" class=\"dataframe\">\n",
              "  <thead>\n",
              "    <tr style=\"text-align: right;\">\n",
              "      <th></th>\n",
              "      <th>text</th>\n",
              "      <th>target</th>\n",
              "      <th>prediction</th>\n",
              "      <th>pred_prob</th>\n",
              "      <th>correct</th>\n",
              "    </tr>\n",
              "  </thead>\n",
              "  <tbody>\n",
              "    <tr>\n",
              "      <th>0</th>\n",
              "      <td>im feeling rather rotten so im not very ambiti...</td>\n",
              "      <td>sadness</td>\n",
              "      <td>sadness</td>\n",
              "      <td>0.996748</td>\n",
              "      <td>True</td>\n",
              "    </tr>\n",
              "    <tr>\n",
              "      <th>1</th>\n",
              "      <td>im updating my blog because i feel shitty</td>\n",
              "      <td>sadness</td>\n",
              "      <td>sadness</td>\n",
              "      <td>0.998414</td>\n",
              "      <td>True</td>\n",
              "    </tr>\n",
              "    <tr>\n",
              "      <th>2</th>\n",
              "      <td>i never make her separate from me because i do...</td>\n",
              "      <td>sadness</td>\n",
              "      <td>sadness</td>\n",
              "      <td>0.973476</td>\n",
              "      <td>True</td>\n",
              "    </tr>\n",
              "    <tr>\n",
              "      <th>3</th>\n",
              "      <td>i left with my bouquet of red and yellow tulip...</td>\n",
              "      <td>joy</td>\n",
              "      <td>joy</td>\n",
              "      <td>0.957053</td>\n",
              "      <td>True</td>\n",
              "    </tr>\n",
              "    <tr>\n",
              "      <th>4</th>\n",
              "      <td>i was feeling a little vain when i did this one</td>\n",
              "      <td>sadness</td>\n",
              "      <td>sadness</td>\n",
              "      <td>0.997522</td>\n",
              "      <td>True</td>\n",
              "    </tr>\n",
              "    <tr>\n",
              "      <th>5</th>\n",
              "      <td>i cant walk into a shop anywhere where i do no...</td>\n",
              "      <td>fear</td>\n",
              "      <td>fear</td>\n",
              "      <td>0.969780</td>\n",
              "      <td>True</td>\n",
              "    </tr>\n",
              "    <tr>\n",
              "      <th>6</th>\n",
              "      <td>i felt anger when at the end of a telephone call</td>\n",
              "      <td>anger</td>\n",
              "      <td>anger</td>\n",
              "      <td>0.906847</td>\n",
              "      <td>True</td>\n",
              "    </tr>\n",
              "    <tr>\n",
              "      <th>7</th>\n",
              "      <td>i explain why i clung to a relationship with a...</td>\n",
              "      <td>joy</td>\n",
              "      <td>love</td>\n",
              "      <td>0.579521</td>\n",
              "      <td>False</td>\n",
              "    </tr>\n",
              "    <tr>\n",
              "      <th>8</th>\n",
              "      <td>i like to have the same breathless feeling as ...</td>\n",
              "      <td>joy</td>\n",
              "      <td>joy</td>\n",
              "      <td>0.996844</td>\n",
              "      <td>True</td>\n",
              "    </tr>\n",
              "    <tr>\n",
              "      <th>9</th>\n",
              "      <td>i jest i feel grumpy tired and pre menstrual w...</td>\n",
              "      <td>anger</td>\n",
              "      <td>anger</td>\n",
              "      <td>0.994792</td>\n",
              "      <td>True</td>\n",
              "    </tr>\n",
              "    <tr>\n",
              "      <th>10</th>\n",
              "      <td>i don t feel particularly agitated</td>\n",
              "      <td>fear</td>\n",
              "      <td>anger</td>\n",
              "      <td>0.917460</td>\n",
              "      <td>False</td>\n",
              "    </tr>\n",
              "    <tr>\n",
              "      <th>11</th>\n",
              "      <td>i feel beautifully emotional knowing that thes...</td>\n",
              "      <td>sadness</td>\n",
              "      <td>fear</td>\n",
              "      <td>0.458189</td>\n",
              "      <td>False</td>\n",
              "    </tr>\n",
              "    <tr>\n",
              "      <th>12</th>\n",
              "      <td>i pay attention it deepens into a feeling of b...</td>\n",
              "      <td>fear</td>\n",
              "      <td>fear</td>\n",
              "      <td>0.560989</td>\n",
              "      <td>True</td>\n",
              "    </tr>\n",
              "    <tr>\n",
              "      <th>13</th>\n",
              "      <td>i just feel extremely comfortable with the gro...</td>\n",
              "      <td>joy</td>\n",
              "      <td>joy</td>\n",
              "      <td>0.823242</td>\n",
              "      <td>True</td>\n",
              "    </tr>\n",
              "    <tr>\n",
              "      <th>14</th>\n",
              "      <td>i find myself in the odd position of feeling s...</td>\n",
              "      <td>love</td>\n",
              "      <td>love</td>\n",
              "      <td>0.979789</td>\n",
              "      <td>True</td>\n",
              "    </tr>\n",
              "    <tr>\n",
              "      <th>15</th>\n",
              "      <td>i was feeling as heartbroken as im sure katnis...</td>\n",
              "      <td>sadness</td>\n",
              "      <td>sadness</td>\n",
              "      <td>0.996097</td>\n",
              "      <td>True</td>\n",
              "    </tr>\n",
              "    <tr>\n",
              "      <th>16</th>\n",
              "      <td>i feel a little mellow today</td>\n",
              "      <td>joy</td>\n",
              "      <td>joy</td>\n",
              "      <td>0.999487</td>\n",
              "      <td>True</td>\n",
              "    </tr>\n",
              "    <tr>\n",
              "      <th>17</th>\n",
              "      <td>i feel like my only role now would be to tear ...</td>\n",
              "      <td>sadness</td>\n",
              "      <td>sadness</td>\n",
              "      <td>0.970304</td>\n",
              "      <td>True</td>\n",
              "    </tr>\n",
              "    <tr>\n",
              "      <th>18</th>\n",
              "      <td>i feel just bcoz a fight we get mad to each ot...</td>\n",
              "      <td>anger</td>\n",
              "      <td>anger</td>\n",
              "      <td>0.966264</td>\n",
              "      <td>True</td>\n",
              "    </tr>\n",
              "    <tr>\n",
              "      <th>19</th>\n",
              "      <td>i feel like reds and purples are just so rich ...</td>\n",
              "      <td>joy</td>\n",
              "      <td>joy</td>\n",
              "      <td>0.997217</td>\n",
              "      <td>True</td>\n",
              "    </tr>\n",
              "  </tbody>\n",
              "</table>\n",
              "</div>\n",
              "      <button class=\"colab-df-convert\" onclick=\"convertToInteractive('df-fa8d0b39-a51e-420a-bf05-2916efa1df10')\"\n",
              "              title=\"Convert this dataframe to an interactive table.\"\n",
              "              style=\"display:none;\">\n",
              "        \n",
              "  <svg xmlns=\"http://www.w3.org/2000/svg\" height=\"24px\"viewBox=\"0 0 24 24\"\n",
              "       width=\"24px\">\n",
              "    <path d=\"M0 0h24v24H0V0z\" fill=\"none\"/>\n",
              "    <path d=\"M18.56 5.44l.94 2.06.94-2.06 2.06-.94-2.06-.94-.94-2.06-.94 2.06-2.06.94zm-11 1L8.5 8.5l.94-2.06 2.06-.94-2.06-.94L8.5 2.5l-.94 2.06-2.06.94zm10 10l.94 2.06.94-2.06 2.06-.94-2.06-.94-.94-2.06-.94 2.06-2.06.94z\"/><path d=\"M17.41 7.96l-1.37-1.37c-.4-.4-.92-.59-1.43-.59-.52 0-1.04.2-1.43.59L10.3 9.45l-7.72 7.72c-.78.78-.78 2.05 0 2.83L4 21.41c.39.39.9.59 1.41.59.51 0 1.02-.2 1.41-.59l7.78-7.78 2.81-2.81c.8-.78.8-2.07 0-2.86zM5.41 20L4 18.59l7.72-7.72 1.47 1.35L5.41 20z\"/>\n",
              "  </svg>\n",
              "      </button>\n",
              "      \n",
              "  <style>\n",
              "    .colab-df-container {\n",
              "      display:flex;\n",
              "      flex-wrap:wrap;\n",
              "      gap: 12px;\n",
              "    }\n",
              "\n",
              "    .colab-df-convert {\n",
              "      background-color: #E8F0FE;\n",
              "      border: none;\n",
              "      border-radius: 50%;\n",
              "      cursor: pointer;\n",
              "      display: none;\n",
              "      fill: #1967D2;\n",
              "      height: 32px;\n",
              "      padding: 0 0 0 0;\n",
              "      width: 32px;\n",
              "    }\n",
              "\n",
              "    .colab-df-convert:hover {\n",
              "      background-color: #E2EBFA;\n",
              "      box-shadow: 0px 1px 2px rgba(60, 64, 67, 0.3), 0px 1px 3px 1px rgba(60, 64, 67, 0.15);\n",
              "      fill: #174EA6;\n",
              "    }\n",
              "\n",
              "    [theme=dark] .colab-df-convert {\n",
              "      background-color: #3B4455;\n",
              "      fill: #D2E3FC;\n",
              "    }\n",
              "\n",
              "    [theme=dark] .colab-df-convert:hover {\n",
              "      background-color: #434B5C;\n",
              "      box-shadow: 0px 1px 3px 1px rgba(0, 0, 0, 0.15);\n",
              "      filter: drop-shadow(0px 1px 2px rgba(0, 0, 0, 0.3));\n",
              "      fill: #FFFFFF;\n",
              "    }\n",
              "  </style>\n",
              "\n",
              "      <script>\n",
              "        const buttonEl =\n",
              "          document.querySelector('#df-fa8d0b39-a51e-420a-bf05-2916efa1df10 button.colab-df-convert');\n",
              "        buttonEl.style.display =\n",
              "          google.colab.kernel.accessAllowed ? 'block' : 'none';\n",
              "\n",
              "        async function convertToInteractive(key) {\n",
              "          const element = document.querySelector('#df-fa8d0b39-a51e-420a-bf05-2916efa1df10');\n",
              "          const dataTable =\n",
              "            await google.colab.kernel.invokeFunction('convertToInteractive',\n",
              "                                                     [key], {});\n",
              "          if (!dataTable) return;\n",
              "\n",
              "          const docLinkHtml = 'Like what you see? Visit the ' +\n",
              "            '<a target=\"_blank\" href=https://colab.research.google.com/notebooks/data_table.ipynb>data table notebook</a>'\n",
              "            + ' to learn more about interactive tables.';\n",
              "          element.innerHTML = '';\n",
              "          dataTable['output_type'] = 'display_data';\n",
              "          await google.colab.output.renderOutput(dataTable, element);\n",
              "          const docLink = document.createElement('div');\n",
              "          docLink.innerHTML = docLinkHtml;\n",
              "          element.appendChild(docLink);\n",
              "        }\n",
              "      </script>\n",
              "    </div>\n",
              "  </div>\n",
              "  "
            ]
          },
          "metadata": {},
          "execution_count": 102
        }
      ]
    },
    {
      "cell_type": "code",
      "source": [
        "# Find top 100 most wrong samples (note: 100 is an abitrary number, you could go through all of them if you wanted)\n",
        "top_100_wrong = test_df[test_df[\"correct\"] == False].sort_values(\"pred_prob\", ascending=False)[:100]\n",
        "top_100_wrong"
      ],
      "metadata": {
        "colab": {
          "base_uri": "https://localhost:8080/",
          "height": 468
        },
        "id": "hhfKC1ncSD07",
        "outputId": "da5c0672-5f09-42ab-bee5-4ae129acd20a"
      },
      "execution_count": null,
      "outputs": [
        {
          "output_type": "execute_result",
          "data": {
            "text/plain": [
              "                                                   text   target prediction  \\\n",
              "1026  i have not conducted a survey but it is quite ...  sadness       fear   \n",
              "1943  i didn t mean to get angry with you bommie i j...  sadness      anger   \n",
              "1698  i work well with almost every client ive ever ...  sadness      anger   \n",
              "693   i can say is that as long as you enjoy the sto...  sadness      anger   \n",
              "1837  i hate these feelings in my heart i hate that ...  sadness      anger   \n",
              "...                                                 ...      ...        ...   \n",
              "1732  i have not had any serious injuries or setback...     love      anger   \n",
              "1772  i have this grave feeling it will not be back ...      joy       love   \n",
              "98      i feel my heart is tortured by what i have done    anger       fear   \n",
              "1569  i feel lonely who make me feel special when i ...  sadness        joy   \n",
              "1873  i entered the office though feeling the monday...      joy    sadness   \n",
              "\n",
              "      pred_prob  correct  \n",
              "1026   0.999999    False  \n",
              "1943   0.999996    False  \n",
              "1698   0.999993    False  \n",
              "693    0.999939    False  \n",
              "1837   0.999915    False  \n",
              "...         ...      ...  \n",
              "1732   0.913543    False  \n",
              "1772   0.912729    False  \n",
              "98     0.912055    False  \n",
              "1569   0.907525    False  \n",
              "1873   0.906715    False  \n",
              "\n",
              "[100 rows x 5 columns]"
            ],
            "text/html": [
              "\n",
              "  <div id=\"df-ad7f3501-d930-450e-b939-9725f7b84006\">\n",
              "    <div class=\"colab-df-container\">\n",
              "      <div>\n",
              "<style scoped>\n",
              "    .dataframe tbody tr th:only-of-type {\n",
              "        vertical-align: middle;\n",
              "    }\n",
              "\n",
              "    .dataframe tbody tr th {\n",
              "        vertical-align: top;\n",
              "    }\n",
              "\n",
              "    .dataframe thead th {\n",
              "        text-align: right;\n",
              "    }\n",
              "</style>\n",
              "<table border=\"1\" class=\"dataframe\">\n",
              "  <thead>\n",
              "    <tr style=\"text-align: right;\">\n",
              "      <th></th>\n",
              "      <th>text</th>\n",
              "      <th>target</th>\n",
              "      <th>prediction</th>\n",
              "      <th>pred_prob</th>\n",
              "      <th>correct</th>\n",
              "    </tr>\n",
              "  </thead>\n",
              "  <tbody>\n",
              "    <tr>\n",
              "      <th>1026</th>\n",
              "      <td>i have not conducted a survey but it is quite ...</td>\n",
              "      <td>sadness</td>\n",
              "      <td>fear</td>\n",
              "      <td>0.999999</td>\n",
              "      <td>False</td>\n",
              "    </tr>\n",
              "    <tr>\n",
              "      <th>1943</th>\n",
              "      <td>i didn t mean to get angry with you bommie i j...</td>\n",
              "      <td>sadness</td>\n",
              "      <td>anger</td>\n",
              "      <td>0.999996</td>\n",
              "      <td>False</td>\n",
              "    </tr>\n",
              "    <tr>\n",
              "      <th>1698</th>\n",
              "      <td>i work well with almost every client ive ever ...</td>\n",
              "      <td>sadness</td>\n",
              "      <td>anger</td>\n",
              "      <td>0.999993</td>\n",
              "      <td>False</td>\n",
              "    </tr>\n",
              "    <tr>\n",
              "      <th>693</th>\n",
              "      <td>i can say is that as long as you enjoy the sto...</td>\n",
              "      <td>sadness</td>\n",
              "      <td>anger</td>\n",
              "      <td>0.999939</td>\n",
              "      <td>False</td>\n",
              "    </tr>\n",
              "    <tr>\n",
              "      <th>1837</th>\n",
              "      <td>i hate these feelings in my heart i hate that ...</td>\n",
              "      <td>sadness</td>\n",
              "      <td>anger</td>\n",
              "      <td>0.999915</td>\n",
              "      <td>False</td>\n",
              "    </tr>\n",
              "    <tr>\n",
              "      <th>...</th>\n",
              "      <td>...</td>\n",
              "      <td>...</td>\n",
              "      <td>...</td>\n",
              "      <td>...</td>\n",
              "      <td>...</td>\n",
              "    </tr>\n",
              "    <tr>\n",
              "      <th>1732</th>\n",
              "      <td>i have not had any serious injuries or setback...</td>\n",
              "      <td>love</td>\n",
              "      <td>anger</td>\n",
              "      <td>0.913543</td>\n",
              "      <td>False</td>\n",
              "    </tr>\n",
              "    <tr>\n",
              "      <th>1772</th>\n",
              "      <td>i have this grave feeling it will not be back ...</td>\n",
              "      <td>joy</td>\n",
              "      <td>love</td>\n",
              "      <td>0.912729</td>\n",
              "      <td>False</td>\n",
              "    </tr>\n",
              "    <tr>\n",
              "      <th>98</th>\n",
              "      <td>i feel my heart is tortured by what i have done</td>\n",
              "      <td>anger</td>\n",
              "      <td>fear</td>\n",
              "      <td>0.912055</td>\n",
              "      <td>False</td>\n",
              "    </tr>\n",
              "    <tr>\n",
              "      <th>1569</th>\n",
              "      <td>i feel lonely who make me feel special when i ...</td>\n",
              "      <td>sadness</td>\n",
              "      <td>joy</td>\n",
              "      <td>0.907525</td>\n",
              "      <td>False</td>\n",
              "    </tr>\n",
              "    <tr>\n",
              "      <th>1873</th>\n",
              "      <td>i entered the office though feeling the monday...</td>\n",
              "      <td>joy</td>\n",
              "      <td>sadness</td>\n",
              "      <td>0.906715</td>\n",
              "      <td>False</td>\n",
              "    </tr>\n",
              "  </tbody>\n",
              "</table>\n",
              "<p>100 rows × 5 columns</p>\n",
              "</div>\n",
              "      <button class=\"colab-df-convert\" onclick=\"convertToInteractive('df-ad7f3501-d930-450e-b939-9725f7b84006')\"\n",
              "              title=\"Convert this dataframe to an interactive table.\"\n",
              "              style=\"display:none;\">\n",
              "        \n",
              "  <svg xmlns=\"http://www.w3.org/2000/svg\" height=\"24px\"viewBox=\"0 0 24 24\"\n",
              "       width=\"24px\">\n",
              "    <path d=\"M0 0h24v24H0V0z\" fill=\"none\"/>\n",
              "    <path d=\"M18.56 5.44l.94 2.06.94-2.06 2.06-.94-2.06-.94-.94-2.06-.94 2.06-2.06.94zm-11 1L8.5 8.5l.94-2.06 2.06-.94-2.06-.94L8.5 2.5l-.94 2.06-2.06.94zm10 10l.94 2.06.94-2.06 2.06-.94-2.06-.94-.94-2.06-.94 2.06-2.06.94z\"/><path d=\"M17.41 7.96l-1.37-1.37c-.4-.4-.92-.59-1.43-.59-.52 0-1.04.2-1.43.59L10.3 9.45l-7.72 7.72c-.78.78-.78 2.05 0 2.83L4 21.41c.39.39.9.59 1.41.59.51 0 1.02-.2 1.41-.59l7.78-7.78 2.81-2.81c.8-.78.8-2.07 0-2.86zM5.41 20L4 18.59l7.72-7.72 1.47 1.35L5.41 20z\"/>\n",
              "  </svg>\n",
              "      </button>\n",
              "      \n",
              "  <style>\n",
              "    .colab-df-container {\n",
              "      display:flex;\n",
              "      flex-wrap:wrap;\n",
              "      gap: 12px;\n",
              "    }\n",
              "\n",
              "    .colab-df-convert {\n",
              "      background-color: #E8F0FE;\n",
              "      border: none;\n",
              "      border-radius: 50%;\n",
              "      cursor: pointer;\n",
              "      display: none;\n",
              "      fill: #1967D2;\n",
              "      height: 32px;\n",
              "      padding: 0 0 0 0;\n",
              "      width: 32px;\n",
              "    }\n",
              "\n",
              "    .colab-df-convert:hover {\n",
              "      background-color: #E2EBFA;\n",
              "      box-shadow: 0px 1px 2px rgba(60, 64, 67, 0.3), 0px 1px 3px 1px rgba(60, 64, 67, 0.15);\n",
              "      fill: #174EA6;\n",
              "    }\n",
              "\n",
              "    [theme=dark] .colab-df-convert {\n",
              "      background-color: #3B4455;\n",
              "      fill: #D2E3FC;\n",
              "    }\n",
              "\n",
              "    [theme=dark] .colab-df-convert:hover {\n",
              "      background-color: #434B5C;\n",
              "      box-shadow: 0px 1px 3px 1px rgba(0, 0, 0, 0.15);\n",
              "      filter: drop-shadow(0px 1px 2px rgba(0, 0, 0, 0.3));\n",
              "      fill: #FFFFFF;\n",
              "    }\n",
              "  </style>\n",
              "\n",
              "      <script>\n",
              "        const buttonEl =\n",
              "          document.querySelector('#df-ad7f3501-d930-450e-b939-9725f7b84006 button.colab-df-convert');\n",
              "        buttonEl.style.display =\n",
              "          google.colab.kernel.accessAllowed ? 'block' : 'none';\n",
              "\n",
              "        async function convertToInteractive(key) {\n",
              "          const element = document.querySelector('#df-ad7f3501-d930-450e-b939-9725f7b84006');\n",
              "          const dataTable =\n",
              "            await google.colab.kernel.invokeFunction('convertToInteractive',\n",
              "                                                     [key], {});\n",
              "          if (!dataTable) return;\n",
              "\n",
              "          const docLinkHtml = 'Like what you see? Visit the ' +\n",
              "            '<a target=\"_blank\" href=https://colab.research.google.com/notebooks/data_table.ipynb>data table notebook</a>'\n",
              "            + ' to learn more about interactive tables.';\n",
              "          element.innerHTML = '';\n",
              "          dataTable['output_type'] = 'display_data';\n",
              "          await google.colab.output.renderOutput(dataTable, element);\n",
              "          const docLink = document.createElement('div');\n",
              "          docLink.innerHTML = docLinkHtml;\n",
              "          element.appendChild(docLink);\n",
              "        }\n",
              "      </script>\n",
              "    </div>\n",
              "  </div>\n",
              "  "
            ]
          },
          "metadata": {},
          "execution_count": 103
        }
      ]
    },
    {
      "cell_type": "code",
      "source": [
        "# Investigate top wrong preds\n",
        "for row in top_100_wrong[0:10].itertuples(): # adjust indexes to view different samples\n",
        "  _,text, target, prediction, pred_prob, _ = row\n",
        "  print(f\"Target: {target}, Pred: {prediction}, Prob: {pred_prob}\\n\")\n",
        "  print(f\"Text:\\n{text}\\n\")\n",
        "  print(\"-----\\n\")"
      ],
      "metadata": {
        "colab": {
          "base_uri": "https://localhost:8080/"
        },
        "id": "ubDK4FZ2SKbT",
        "outputId": "83da18f7-8d81-40bb-e5dd-77e519da662d"
      },
      "execution_count": null,
      "outputs": [
        {
          "output_type": "stream",
          "name": "stdout",
          "text": [
            "Target: sadness, Pred: fear, Prob: 0.9999986886978149\n",
            "\n",
            "Text:\n",
            "i have not conducted a survey but it is quite likely that many of them feel as assaulted by onel s demons and other creators as i would have felt had the walls been covered only with eminent figures patriotic heroes and epic deeds\n",
            "\n",
            "-----\n",
            "\n",
            "Target: sadness, Pred: anger, Prob: 0.9999960660934448\n",
            "\n",
            "Text:\n",
            "i didn t mean to get angry with you bommie i just can t control my feelings hellip i just hated myself why i am like this the dara who can t get over with that b\n",
            "\n",
            "-----\n",
            "\n",
            "Target: sadness, Pred: anger, Prob: 0.9999934434890747\n",
            "\n",
            "Text:\n",
            "i work well with almost every client ive ever been in contact with because i know what it means to feel depressed angry frustrated irritated hopeless and apathetic because i feel it daily\n",
            "\n",
            "-----\n",
            "\n",
            "Target: sadness, Pred: anger, Prob: 0.9999394416809082\n",
            "\n",
            "Text:\n",
            "i can say is that as long as you enjoy the story it entertains you and makes you feel emotional whether it be sad happy angry disgusted or just plain horny then who really gives a damn\n",
            "\n",
            "-----\n",
            "\n",
            "Target: sadness, Pred: anger, Prob: 0.9999148845672607\n",
            "\n",
            "Text:\n",
            "i hate these feelings in my heart i hate that work stressed me out i hate that cornelius wont let me get my way im frustrated lord\n",
            "\n",
            "-----\n",
            "\n",
            "Target: joy, Pred: love, Prob: 0.9998990297317505\n",
            "\n",
            "Text:\n",
            "i feel respected and secure where i can journey toward loving and be loved in return\n",
            "\n",
            "-----\n",
            "\n",
            "Target: joy, Pred: love, Prob: 0.9997435212135315\n",
            "\n",
            "Text:\n",
            "i feel the need to pimp this since raini my beloved rocky casting director loves it so much\n",
            "\n",
            "-----\n",
            "\n",
            "Target: joy, Pred: love, Prob: 0.9996970891952515\n",
            "\n",
            "Text:\n",
            "i feel accepted and loved by a community of derby girls that i helped to create\n",
            "\n",
            "-----\n",
            "\n",
            "Target: sadness, Pred: anger, Prob: 0.9996812343597412\n",
            "\n",
            "Text:\n",
            "i don t care if any of you read this but this is just what i feel when i m around you guys i feel hated\n",
            "\n",
            "-----\n",
            "\n",
            "Target: sadness, Pred: anger, Prob: 0.9995576739311218\n",
            "\n",
            "Text:\n",
            "i also know that if today i refuse to hate jews or anybody else it is because i know how it feels to be hated\n",
            "\n",
            "-----\n",
            "\n"
          ]
        }
      ]
    }
  ]
}