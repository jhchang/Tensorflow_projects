{
  "nbformat": 4,
  "nbformat_minor": 0,
  "metadata": {
    "colab": {
      "provenance": [],
      "include_colab_link": true
    },
    "kernelspec": {
      "name": "python3",
      "display_name": "Python 3"
    },
    "language_info": {
      "name": "python"
    },
    "accelerator": "GPU",
    "gpuClass": "standard"
  },
  "cells": [
    {
      "cell_type": "markdown",
      "metadata": {
        "id": "view-in-github",
        "colab_type": "text"
      },
      "source": [
        "<a href=\"https://colab.research.google.com/github/jhchang/Tensorflow_projects/blob/main/Vegetable_Image_Classification.ipynb\" target=\"_parent\"><img src=\"https://colab.research.google.com/assets/colab-badge.svg\" alt=\"Open In Colab\"/></a>"
      ]
    },
    {
      "cell_type": "code",
      "source": [
        "# Need a compute power of 7.0+ to use mixed precision training\n",
        "!nvidia-smi -L"
      ],
      "metadata": {
        "colab": {
          "base_uri": "https://localhost:8080/"
        },
        "id": "Qcr5DGv0Oqft",
        "outputId": "09f293e3-24e8-4530-bc77-e9a13016a03b"
      },
      "execution_count": null,
      "outputs": [
        {
          "output_type": "stream",
          "name": "stdout",
          "text": [
            "GPU 0: Tesla T4 (UUID: GPU-d911830c-ac5f-8311-f30c-9d2d010e18bc)\n"
          ]
        }
      ]
    },
    {
      "cell_type": "code",
      "source": [
        "import tensorflow as tf\n",
        "print(tf.__version__)"
      ],
      "metadata": {
        "colab": {
          "base_uri": "https://localhost:8080/"
        },
        "id": "4MB1VIa8OsAc",
        "outputId": "397db076-571c-461d-8ebb-354f446a8e04"
      },
      "execution_count": null,
      "outputs": [
        {
          "output_type": "stream",
          "name": "stdout",
          "text": [
            "2.9.2\n"
          ]
        }
      ]
    },
    {
      "cell_type": "code",
      "source": [
        "import numpy as np"
      ],
      "metadata": {
        "id": "21_Y95dSk69B"
      },
      "execution_count": null,
      "outputs": []
    },
    {
      "cell_type": "code",
      "source": [
        "# Get helper functions file\n",
        "import os \n",
        "\n",
        "if not os.path.exists(\"helper_functions.py\"):\n",
        "    !wget https://raw.githubusercontent.com/mrdbourke/tensorflow-deep-learning/main/extras/helper_functions.py\n",
        "else:\n",
        "    print(\"[INFO] 'helper_functions.py' already exists, skipping download.\")"
      ],
      "metadata": {
        "colab": {
          "base_uri": "https://localhost:8080/"
        },
        "id": "m6b0sMCAFMJw",
        "outputId": "9f1f4263-a970-41d3-d353-eae6d9ca0cd8"
      },
      "execution_count": null,
      "outputs": [
        {
          "output_type": "stream",
          "name": "stdout",
          "text": [
            "[INFO] 'helper_functions.py' already exists, skipping download.\n"
          ]
        }
      ]
    },
    {
      "cell_type": "code",
      "source": [
        "from helper_functions import create_tensorboard_callback, plot_loss_curves, compare_historys, unzip_data, walk_through_dir"
      ],
      "metadata": {
        "id": "ibXOIGGUOwjJ"
      },
      "execution_count": null,
      "outputs": []
    },
    {
      "cell_type": "code",
      "source": [
        "from google.colab import drive\n",
        "drive.mount('/content/drive')"
      ],
      "metadata": {
        "colab": {
          "base_uri": "https://localhost:8080/"
        },
        "id": "LWcEYvQYBd7M",
        "outputId": "4e3edc50-0c0a-4f88-9b18-0ca995eb7225"
      },
      "execution_count": null,
      "outputs": [
        {
          "output_type": "stream",
          "name": "stdout",
          "text": [
            "Drive already mounted at /content/drive; to attempt to forcibly remount, call drive.mount(\"/content/drive\", force_remount=True).\n"
          ]
        }
      ]
    },
    {
      "cell_type": "code",
      "source": [
        "if os.path.exists('Vegetable Images/'):\n",
        "    print('Directory already exists')\n",
        "else:\n",
        "    unzip_data('/content/drive/MyDrive/VeggieImageDataset.zip')"
      ],
      "metadata": {
        "colab": {
          "base_uri": "https://localhost:8080/"
        },
        "id": "rDTXpvxtGEf1",
        "outputId": "f5baf908-7ca2-4fb5-cccc-cd5272c8046b"
      },
      "execution_count": null,
      "outputs": [
        {
          "output_type": "stream",
          "name": "stdout",
          "text": [
            "Directoy already exists\n"
          ]
        }
      ]
    },
    {
      "cell_type": "code",
      "source": [
        "train_dir = \"Vegetable Images/train\"\n",
        "test_dir = \"Vegetable Images/validation\""
      ],
      "metadata": {
        "id": "1yal_EbPGV85"
      },
      "execution_count": null,
      "outputs": []
    },
    {
      "cell_type": "code",
      "source": [
        "walk_through_dir(\"Vegetable Images\")"
      ],
      "metadata": {
        "colab": {
          "base_uri": "https://localhost:8080/"
        },
        "id": "nG1J2QzfRSN-",
        "outputId": "154ee98b-c326-44c1-ba6d-6c24aefa4295"
      },
      "execution_count": null,
      "outputs": [
        {
          "output_type": "stream",
          "name": "stdout",
          "text": [
            "There are 3 directories and 0 images in 'Vegetable Images'.\n",
            "There are 15 directories and 0 images in 'Vegetable Images/test'.\n",
            "There are 0 directories and 200 images in 'Vegetable Images/test/Tomato'.\n",
            "There are 0 directories and 200 images in 'Vegetable Images/test/Cabbage'.\n",
            "There are 0 directories and 200 images in 'Vegetable Images/test/Bitter_Gourd'.\n",
            "There are 0 directories and 200 images in 'Vegetable Images/test/Radish'.\n",
            "There are 0 directories and 200 images in 'Vegetable Images/test/Bean'.\n",
            "There are 0 directories and 200 images in 'Vegetable Images/test/Cauliflower'.\n",
            "There are 0 directories and 200 images in 'Vegetable Images/test/Cucumber'.\n",
            "There are 0 directories and 200 images in 'Vegetable Images/test/Capsicum'.\n",
            "There are 0 directories and 200 images in 'Vegetable Images/test/Carrot'.\n",
            "There are 0 directories and 200 images in 'Vegetable Images/test/Papaya'.\n",
            "There are 0 directories and 200 images in 'Vegetable Images/test/Bottle_Gourd'.\n",
            "There are 0 directories and 200 images in 'Vegetable Images/test/Broccoli'.\n",
            "There are 0 directories and 200 images in 'Vegetable Images/test/Pumpkin'.\n",
            "There are 0 directories and 200 images in 'Vegetable Images/test/Brinjal'.\n",
            "There are 0 directories and 200 images in 'Vegetable Images/test/Potato'.\n",
            "There are 15 directories and 0 images in 'Vegetable Images/validation'.\n",
            "There are 0 directories and 200 images in 'Vegetable Images/validation/Tomato'.\n",
            "There are 0 directories and 200 images in 'Vegetable Images/validation/Cabbage'.\n",
            "There are 0 directories and 200 images in 'Vegetable Images/validation/Bitter_Gourd'.\n",
            "There are 0 directories and 200 images in 'Vegetable Images/validation/Radish'.\n",
            "There are 0 directories and 200 images in 'Vegetable Images/validation/Bean'.\n",
            "There are 0 directories and 200 images in 'Vegetable Images/validation/Cauliflower'.\n",
            "There are 0 directories and 200 images in 'Vegetable Images/validation/Cucumber'.\n",
            "There are 0 directories and 200 images in 'Vegetable Images/validation/Capsicum'.\n",
            "There are 0 directories and 200 images in 'Vegetable Images/validation/Carrot'.\n",
            "There are 0 directories and 200 images in 'Vegetable Images/validation/Papaya'.\n",
            "There are 0 directories and 200 images in 'Vegetable Images/validation/Bottle_Gourd'.\n",
            "There are 0 directories and 200 images in 'Vegetable Images/validation/Broccoli'.\n",
            "There are 0 directories and 200 images in 'Vegetable Images/validation/Pumpkin'.\n",
            "There are 0 directories and 200 images in 'Vegetable Images/validation/Brinjal'.\n",
            "There are 0 directories and 200 images in 'Vegetable Images/validation/Potato'.\n",
            "There are 15 directories and 0 images in 'Vegetable Images/train'.\n",
            "There are 0 directories and 1000 images in 'Vegetable Images/train/Tomato'.\n",
            "There are 0 directories and 1000 images in 'Vegetable Images/train/Cabbage'.\n",
            "There are 0 directories and 1000 images in 'Vegetable Images/train/Bitter_Gourd'.\n",
            "There are 0 directories and 1000 images in 'Vegetable Images/train/Radish'.\n",
            "There are 0 directories and 1000 images in 'Vegetable Images/train/Bean'.\n",
            "There are 0 directories and 1000 images in 'Vegetable Images/train/Cauliflower'.\n",
            "There are 0 directories and 1000 images in 'Vegetable Images/train/Cucumber'.\n",
            "There are 0 directories and 1000 images in 'Vegetable Images/train/Capsicum'.\n",
            "There are 0 directories and 1000 images in 'Vegetable Images/train/Carrot'.\n",
            "There are 0 directories and 1000 images in 'Vegetable Images/train/Papaya'.\n",
            "There are 0 directories and 1000 images in 'Vegetable Images/train/Bottle_Gourd'.\n",
            "There are 0 directories and 1000 images in 'Vegetable Images/train/Broccoli'.\n",
            "There are 0 directories and 1000 images in 'Vegetable Images/train/Pumpkin'.\n",
            "There are 0 directories and 1000 images in 'Vegetable Images/train/Brinjal'.\n",
            "There are 0 directories and 1000 images in 'Vegetable Images/train/Potato'.\n"
          ]
        }
      ]
    },
    {
      "cell_type": "code",
      "source": [
        "IMG_SIZE = (224, 224)\n",
        "train_data = tf.keras.preprocessing.image_dataset_from_directory(train_dir,\n",
        "                                                                 label_mode=\"categorical\",\n",
        "                                                                 batch_size=None,\n",
        "                                                                 image_size=IMG_SIZE,\n",
        "                                                                 shuffle=False)\n",
        "                                                                                \n",
        "test_data = tf.keras.preprocessing.image_dataset_from_directory(test_dir,\n",
        "                                                                label_mode=\"categorical\",\n",
        "                                                                image_size=IMG_SIZE,\n",
        "                                                                batch_size=None,\n",
        "                                                                shuffle=False) # don't shuffle test data"
      ],
      "metadata": {
        "colab": {
          "base_uri": "https://localhost:8080/"
        },
        "id": "0l92vfL3Z1GS",
        "outputId": "527e3fba-b506-497b-c90d-61428a1ee790"
      },
      "execution_count": null,
      "outputs": [
        {
          "output_type": "stream",
          "name": "stdout",
          "text": [
            "Found 15000 files belonging to 15 classes.\n",
            "Found 3000 files belonging to 15 classes.\n"
          ]
        }
      ]
    },
    {
      "cell_type": "code",
      "source": [
        "class_names = train_data.class_names\n",
        "print(class_names)"
      ],
      "metadata": {
        "colab": {
          "base_uri": "https://localhost:8080/"
        },
        "id": "cYRi6hXfd0CC",
        "outputId": "b0e3de58-66e9-488c-8929-15887707588e"
      },
      "execution_count": null,
      "outputs": [
        {
          "output_type": "stream",
          "name": "stdout",
          "text": [
            "['Bean', 'Bitter_Gourd', 'Bottle_Gourd', 'Brinjal', 'Broccoli', 'Cabbage', 'Capsicum', 'Carrot', 'Cauliflower', 'Cucumber', 'Papaya', 'Potato', 'Pumpkin', 'Radish', 'Tomato']\n"
          ]
        }
      ]
    },
    {
      "cell_type": "code",
      "source": [
        "for images, labels in train_data.take(1):\n",
        "  print(images, labels)"
      ],
      "metadata": {
        "colab": {
          "base_uri": "https://localhost:8080/"
        },
        "id": "R4jijFA9jGqD",
        "outputId": "c81e022f-bb92-469a-c35c-4864eaa9fd01"
      },
      "execution_count": null,
      "outputs": [
        {
          "output_type": "stream",
          "name": "stdout",
          "text": [
            "tf.Tensor(\n",
            "[[[184. 181. 188.]\n",
            "  [185. 182. 189.]\n",
            "  [185. 182. 189.]\n",
            "  ...\n",
            "  [192. 192. 190.]\n",
            "  [192. 193. 188.]\n",
            "  [192. 193. 188.]]\n",
            "\n",
            " [[184. 181. 188.]\n",
            "  [185. 182. 189.]\n",
            "  [185. 182. 189.]\n",
            "  ...\n",
            "  [192. 192. 190.]\n",
            "  [192. 193. 188.]\n",
            "  [192. 193. 188.]]\n",
            "\n",
            " [[184. 181. 188.]\n",
            "  [185. 182. 189.]\n",
            "  [185. 182. 189.]\n",
            "  ...\n",
            "  [191. 191. 189.]\n",
            "  [191. 192. 187.]\n",
            "  [191. 192. 187.]]\n",
            "\n",
            " ...\n",
            "\n",
            " [[169. 164. 161.]\n",
            "  [169. 164. 161.]\n",
            "  [169. 164. 161.]\n",
            "  ...\n",
            "  [175. 174. 172.]\n",
            "  [175. 174. 172.]\n",
            "  [175. 174. 172.]]\n",
            "\n",
            " [[171. 163. 161.]\n",
            "  [171. 163. 161.]\n",
            "  [171. 163. 161.]\n",
            "  ...\n",
            "  [174. 173. 169.]\n",
            "  [174. 173. 169.]\n",
            "  [174. 173. 169.]]\n",
            "\n",
            " [[170. 162. 160.]\n",
            "  [170. 162. 160.]\n",
            "  [171. 163. 161.]\n",
            "  ...\n",
            "  [174. 173. 169.]\n",
            "  [174. 173. 169.]\n",
            "  [174. 173. 169.]]], shape=(224, 224, 3), dtype=float32) tf.Tensor([1. 0. 0. 0. 0. 0. 0. 0. 0. 0. 0. 0. 0. 0. 0.], shape=(15,), dtype=float32)\n"
          ]
        }
      ]
    },
    {
      "cell_type": "code",
      "source": [
        "# Output info about our training sample\n",
        "for image, label in train_data.take(1):\n",
        "  print(f\"\"\"\n",
        "  Image shape: {image.shape}\n",
        "  Image dtype: {image.dtype}\n",
        "  Target class from Food101 (tensor form): {np.array(label).argmax()}\n",
        "  Class name (str form): {class_names[np.array(label).argmax()]}\n",
        "        \"\"\")"
      ],
      "metadata": {
        "colab": {
          "base_uri": "https://localhost:8080/"
        },
        "id": "j-d6yDM4e4TA",
        "outputId": "ce05d6e1-3371-469c-a3af-6f15da64a2d9"
      },
      "execution_count": null,
      "outputs": [
        {
          "output_type": "stream",
          "name": "stdout",
          "text": [
            "\n",
            "  Image shape: (224, 224, 3)\n",
            "  Image dtype: <dtype: 'float32'>\n",
            "  Target class from Food101 (tensor form): 0\n",
            "  Class name (str form): Bean\n",
            "        \n"
          ]
        }
      ]
    },
    {
      "cell_type": "code",
      "source": [
        "def preprocess_img(image, label, img_shape=224):\n",
        "    \"\"\"\n",
        "    Converts image datatype from 'uint8' -> 'float32' and reshapes image to\n",
        "    [img_shape, img_shape, color_channels]\n",
        "    \"\"\"\n",
        "    image = tf.image.resize(image, [img_shape, img_shape]) # reshape to img_shape\n",
        "    return tf.cast(image, tf.float32), tf.cast(label, tf.int64) # return (float32_image, label) tuple"
      ],
      "metadata": {
        "id": "ciPDHobYdOnd"
      },
      "execution_count": null,
      "outputs": []
    },
    {
      "cell_type": "code",
      "source": [
        "# Map preprocessing function to training data (and paralellize)\n",
        "train_data = train_data.map(map_func=preprocess_img, num_parallel_calls=tf.data.AUTOTUNE)\n",
        "# Shuffle train_data and turn it into batches and prefetch it (load it faster)\n",
        "train_data = train_data.shuffle(buffer_size=1000).batch(batch_size=32).prefetch(buffer_size=tf.data.AUTOTUNE)\n",
        "\n",
        "# Map prepreprocessing function to test data\n",
        "test_data = test_data.map(preprocess_img, num_parallel_calls=tf.data.AUTOTUNE)\n",
        "# Turn test data into batches (don't need to shuffle)\n",
        "test_data = test_data.batch(32).prefetch(tf.data.AUTOTUNE)"
      ],
      "metadata": {
        "id": "mv8Yh8qiZ80p"
      },
      "execution_count": null,
      "outputs": []
    },
    {
      "cell_type": "code",
      "source": [
        "train_data, test_data"
      ],
      "metadata": {
        "colab": {
          "base_uri": "https://localhost:8080/"
        },
        "id": "aiDg0klZdfC2",
        "outputId": "cbf15c16-cea0-4b83-84a5-b59ca8873fe0"
      },
      "execution_count": null,
      "outputs": [
        {
          "output_type": "execute_result",
          "data": {
            "text/plain": [
              "(<PrefetchDataset element_spec=(TensorSpec(shape=(None, 224, 224, 3), dtype=tf.float32, name=None), TensorSpec(shape=(None, 15), dtype=tf.int64, name=None))>,\n",
              " <PrefetchDataset element_spec=(TensorSpec(shape=(None, 224, 224, 3), dtype=tf.float32, name=None), TensorSpec(shape=(None, 15), dtype=tf.int64, name=None))>)"
            ]
          },
          "metadata": {},
          "execution_count": 16
        }
      ]
    },
    {
      "cell_type": "code",
      "source": [
        "'''\n",
        "Callbacks for transfer learning\n",
        "'''\n",
        "checkpoint_path = \"model_checkpoints/cp.ckpt\" # saving weights requires \".ckpt\" extension\n",
        "model_checkpoint = tf.keras.callbacks.ModelCheckpoint(checkpoint_path,\n",
        "                                                      monitor=\"val_accuracy\", # save the model weights with best validation accuracy\n",
        "                                                      save_best_only=True, # only save the best weights\n",
        "                                                      save_weights_only=True, # only save model weights (not whole model)\n",
        "                                                      verbose=1) # print out whether or not model is being saved "
      ],
      "metadata": {
        "id": "H8wGcIBDgddM"
      },
      "execution_count": null,
      "outputs": []
    },
    {
      "cell_type": "code",
      "source": [
        "from tensorflow.keras import layers\n",
        "\n",
        "# Create base model\n",
        "input_shape = (224, 224, 3)\n",
        "base_model = tf.keras.applications.EfficientNetB0(include_top=False)\n",
        "base_model.trainable = False # freeze base model layers\n",
        "\n",
        "# Create Functional model \n",
        "inputs = layers.Input(shape=input_shape, name=\"input_layer\")\n",
        "# Note: EfficientNetBX models have rescaling built-in but if your model didn't you could have a layer like below\n",
        "# x = layers.Rescaling(1./255)(x)\n",
        "x = base_model(inputs, training=False) # set base_model to inference mode only\n",
        "x = layers.GlobalAveragePooling2D(name=\"pooling_layer\")(x)\n",
        "outputs = layers.Dense(len(class_names), activation=\"softmax\")(x) # want one output neuron per class \n",
        "model = tf.keras.Model(inputs, outputs)\n",
        "\n",
        "# Compile the model\n",
        "model.compile(loss=\"categorical_crossentropy\", # Use sparse_categorical_crossentropy when labels are *not* one-hot\n",
        "              optimizer=tf.keras.optimizers.Adam(),\n",
        "              metrics=[\"accuracy\"])"
      ],
      "metadata": {
        "id": "E8AwWwi6q2WD"
      },
      "execution_count": null,
      "outputs": []
    },
    {
      "cell_type": "code",
      "source": [
        "model.summary()"
      ],
      "metadata": {
        "colab": {
          "base_uri": "https://localhost:8080/"
        },
        "id": "LwlK89I4rEUY",
        "outputId": "bb0b69ad-44db-47e3-e6fa-d1d4a890bc04"
      },
      "execution_count": null,
      "outputs": [
        {
          "output_type": "stream",
          "name": "stdout",
          "text": [
            "Model: \"model\"\n",
            "_________________________________________________________________\n",
            " Layer (type)                Output Shape              Param #   \n",
            "=================================================================\n",
            " input_layer (InputLayer)    [(None, 224, 224, 3)]     0         \n",
            "                                                                 \n",
            " efficientnetb0 (Functional)  (None, None, None, 1280)  4049571  \n",
            "                                                                 \n",
            " pooling_layer (GlobalAverag  (None, 1280)             0         \n",
            " ePooling2D)                                                     \n",
            "                                                                 \n",
            " dense (Dense)               (None, 15)                19215     \n",
            "                                                                 \n",
            "=================================================================\n",
            "Total params: 4,068,786\n",
            "Trainable params: 19,215\n",
            "Non-trainable params: 4,049,571\n",
            "_________________________________________________________________\n"
          ]
        }
      ]
    },
    {
      "cell_type": "code",
      "source": [
        "# Turn off all warnings except for errors\n",
        "tf.get_logger().setLevel('ERROR')\n",
        "\n",
        "# Fit the model with callbacks\n",
        "history_efficientnetb0_veg_feature_extract = model.fit(train_data, \n",
        "                                                     epochs=3,\n",
        "                                                     steps_per_epoch=len(train_data),\n",
        "                                                     validation_data=test_data,\n",
        "                                                     validation_steps=int(0.15 * len(test_data)),\n",
        "                                                     callbacks=[create_tensorboard_callback(\"training_logs\", \n",
        "                                                                                            \"efficientnetb0_veg_feature_extract\"),\n",
        "                                                                model_checkpoint])"
      ],
      "metadata": {
        "colab": {
          "base_uri": "https://localhost:8080/"
        },
        "id": "DhAc7a6k3pL4",
        "outputId": "0b696ce9-4534-40e4-a71c-857c38aa6622"
      },
      "execution_count": null,
      "outputs": [
        {
          "output_type": "stream",
          "name": "stdout",
          "text": [
            "Saving TensorBoard log files to: training_logs/efficientnetb0_veg_feature_extract/20230111-003902\n",
            "Epoch 1/3\n",
            "469/469 [==============================] - ETA: 0s - loss: 0.4062 - accuracy: 0.8975\n",
            "Epoch 1: val_accuracy improved from -inf to 0.39062, saving model to model_checkpoints/cp.ckpt\n",
            "469/469 [==============================] - 45s 75ms/step - loss: 0.4062 - accuracy: 0.8975 - val_loss: 1.4626 - val_accuracy: 0.3906\n",
            "Epoch 2/3\n",
            "469/469 [==============================] - ETA: 0s - loss: 0.0728 - accuracy: 0.9799\n",
            "Epoch 2: val_accuracy improved from 0.39062 to 0.95089, saving model to model_checkpoints/cp.ckpt\n",
            "469/469 [==============================] - 34s 71ms/step - loss: 0.0728 - accuracy: 0.9799 - val_loss: 0.1523 - val_accuracy: 0.9509\n",
            "Epoch 3/3\n",
            "469/469 [==============================] - ETA: 0s - loss: 0.0286 - accuracy: 0.9946\n",
            "Epoch 3: val_accuracy improved from 0.95089 to 0.97768, saving model to model_checkpoints/cp.ckpt\n",
            "469/469 [==============================] - 34s 71ms/step - loss: 0.0286 - accuracy: 0.9946 - val_loss: 0.0632 - val_accuracy: 0.9777\n"
          ]
        }
      ]
    },
    {
      "cell_type": "code",
      "source": [
        "# Evaluate model (unsaved version) on whole test dataset\n",
        "results_feature_extract_model = model.evaluate(test_data)\n",
        "results_feature_extract_model"
      ],
      "metadata": {
        "colab": {
          "base_uri": "https://localhost:8080/"
        },
        "id": "XNi_MPUt54WD",
        "outputId": "a7c6a49e-870a-4ce4-fb15-240068ef6113"
      },
      "execution_count": null,
      "outputs": [
        {
          "output_type": "stream",
          "name": "stdout",
          "text": [
            "94/94 [==============================] - 6s 63ms/step - loss: 0.0806 - accuracy: 0.9687\n"
          ]
        },
        {
          "output_type": "execute_result",
          "data": {
            "text/plain": [
              "[0.0805649533867836, 0.968666672706604]"
            ]
          },
          "metadata": {},
          "execution_count": 21
        }
      ]
    },
    {
      "cell_type": "code",
      "source": [
        "loaded_saved_model = tf.keras.models.clone_model(model)\n",
        "loaded_saved_model.summary()"
      ],
      "metadata": {
        "colab": {
          "base_uri": "https://localhost:8080/"
        },
        "id": "61UFxGvU5LyE",
        "outputId": "3da09dc6-f85c-4b37-fba7-395825c8cf00"
      },
      "execution_count": null,
      "outputs": [
        {
          "output_type": "stream",
          "name": "stdout",
          "text": [
            "Model: \"model\"\n",
            "_________________________________________________________________\n",
            " Layer (type)                Output Shape              Param #   \n",
            "=================================================================\n",
            " input_layer (InputLayer)    [(None, 224, 224, 3)]     0         \n",
            "                                                                 \n",
            " efficientnetb0 (Functional)  (None, None, None, 1280)  4049571  \n",
            "                                                                 \n",
            " pooling_layer (GlobalAverag  (None, 1280)             0         \n",
            " ePooling2D)                                                     \n",
            "                                                                 \n",
            " dense (Dense)               (None, 15)                19215     \n",
            "                                                                 \n",
            "=================================================================\n",
            "Total params: 4,068,786\n",
            "Trainable params: 19,215\n",
            "Non-trainable params: 4,049,571\n",
            "_________________________________________________________________\n"
          ]
        }
      ]
    },
    {
      "cell_type": "code",
      "source": [
        "checkpoint_path"
      ],
      "metadata": {
        "colab": {
          "base_uri": "https://localhost:8080/",
          "height": 35
        },
        "id": "qhCMTAlL5NDZ",
        "outputId": "cf9bdfd0-fc5e-4a89-9b1d-0c6e9bb9deb4"
      },
      "execution_count": null,
      "outputs": [
        {
          "output_type": "execute_result",
          "data": {
            "text/plain": [
              "'model_checkpoints/cp.ckpt'"
            ],
            "application/vnd.google.colaboratory.intrinsic+json": {
              "type": "string"
            }
          },
          "metadata": {},
          "execution_count": 23
        }
      ]
    },
    {
      "cell_type": "code",
      "source": [
        "loaded_saved_model.load_weights(checkpoint_path)"
      ],
      "metadata": {
        "colab": {
          "base_uri": "https://localhost:8080/"
        },
        "id": "URTR-yD85mz7",
        "outputId": "71880dbc-4919-4af9-9cf0-3dcbec4add3c"
      },
      "execution_count": null,
      "outputs": [
        {
          "output_type": "execute_result",
          "data": {
            "text/plain": [
              "<tensorflow.python.training.tracking.util.CheckpointLoadStatus at 0x7fd46c332490>"
            ]
          },
          "metadata": {},
          "execution_count": 24
        }
      ]
    },
    {
      "cell_type": "code",
      "source": [
        "loaded_saved_model.compile(loss=\"categorical_crossentropy\",\n",
        "                           optimizer=tf.keras.optimizers.Adam(),\n",
        "                           metrics=[\"accuracy\"])"
      ],
      "metadata": {
        "id": "pAUG3lRy5qdZ"
      },
      "execution_count": null,
      "outputs": []
    },
    {
      "cell_type": "code",
      "source": [
        "# Evalaute cloned model with loaded weights (should be same score as trained model)\n",
        "results_loaded_save_model = loaded_saved_model.evaluate(test_data)"
      ],
      "metadata": {
        "colab": {
          "base_uri": "https://localhost:8080/"
        },
        "id": "EJ0txvdN5tdt",
        "outputId": "355b0004-2b4e-46c1-baea-115c9000a013"
      },
      "execution_count": null,
      "outputs": [
        {
          "output_type": "stream",
          "name": "stdout",
          "text": [
            "94/94 [==============================] - 9s 62ms/step - loss: 0.0835 - accuracy: 0.9777\n"
          ]
        }
      ]
    },
    {
      "cell_type": "code",
      "source": [
        "'''\n",
        "# Loaded checkpoint weights should return very similar results to checkpoint weights prior to saving\n",
        "import numpy as np\n",
        "assert np.isclose(results_feature_extract_model, results_cloned_model_with_loaded_weights).all(), \"Loaded weights results are not close to original model.\"  # check if all elements in array are close\n",
        "'''"
      ],
      "metadata": {
        "colab": {
          "base_uri": "https://localhost:8080/",
          "height": 52
        },
        "id": "luO9bQwS5u03",
        "outputId": "01d220a8-26bb-4a2c-f923-94e7c3b21532"
      },
      "execution_count": null,
      "outputs": [
        {
          "output_type": "execute_result",
          "data": {
            "text/plain": [
              "'\\n# Loaded checkpoint weights should return very similar results to checkpoint weights prior to saving\\nimport numpy as np\\nassert np.isclose(results_feature_extract_model, results_cloned_model_with_loaded_weights).all(), \"Loaded weights results are not close to original model.\"  # check if all elements in array are close\\n'"
            ],
            "application/vnd.google.colaboratory.intrinsic+json": {
              "type": "string"
            }
          },
          "metadata": {},
          "execution_count": 27
        }
      ]
    },
    {
      "cell_type": "code",
      "source": [
        "'''\n",
        "Callbacks for fine tuning\n",
        "'''\n",
        "\n",
        "\n",
        "# Create ModelCheckpoint callback to save best model during fine-tuning\n",
        "checkpoint_path = \"fine_tune_checkpoints/\"\n",
        "model_checkpoint = tf.keras.callbacks.ModelCheckpoint(checkpoint_path,\n",
        "                                                      save_best_only=True,\n",
        "                                                      monitor=\"val_loss\")\n",
        "\n",
        "# Setup EarlyStopping callback to stop training if model's val_loss doesn't improve for 3 epochs\n",
        "early_stopping = tf.keras.callbacks.EarlyStopping(monitor=\"val_loss\", # watch the val loss metric\n",
        "                                                  patience=3) # if val loss decreases for 3 epochs in a row, stop training\n",
        "\n",
        "# Creating learning rate reduction callback\n",
        "reduce_lr = tf.keras.callbacks.ReduceLROnPlateau(monitor=\"val_loss\",  \n",
        "                                                 factor=0.2, # multiply the learning rate by 0.2 (reduce by 5x)\n",
        "                                                 patience=2,\n",
        "                                                 verbose=1, # print out when learning rate goes down \n",
        "                                                 min_lr=1e-7)\n"
      ],
      "metadata": {
        "id": "BrTKexaL2en7"
      },
      "execution_count": null,
      "outputs": []
    },
    {
      "cell_type": "code",
      "source": [
        "'''\n",
        "TODO: set layers to be trainable\n",
        "'''"
      ],
      "metadata": {
        "colab": {
          "base_uri": "https://localhost:8080/",
          "height": 35
        },
        "id": "Qew1milP-MjV",
        "outputId": "83a1f41e-3561-4619-9968-bdb519d97743"
      },
      "execution_count": null,
      "outputs": [
        {
          "output_type": "execute_result",
          "data": {
            "text/plain": [
              "'\\nTODO: set layers to be trainable\\n'"
            ],
            "application/vnd.google.colaboratory.intrinsic+json": {
              "type": "string"
            }
          },
          "metadata": {},
          "execution_count": 29
        }
      ]
    },
    {
      "cell_type": "code",
      "source": [
        "# Check the layers in the base model and see what dtype policy they're using\n",
        "for layer in loaded_saved_model.layers[1].layers[:20]: # check only the first 20 layers to save output space\n",
        "    print(layer.name, layer.trainable, layer.dtype, layer.dtype_policy)"
      ],
      "metadata": {
        "colab": {
          "base_uri": "https://localhost:8080/"
        },
        "id": "qfsKHSnkNh8L",
        "outputId": "5d9dc1ed-0688-48c2-b836-27bbc2dfacf7"
      },
      "execution_count": null,
      "outputs": [
        {
          "output_type": "stream",
          "name": "stdout",
          "text": [
            "input_1 True float32 <Policy \"float32\">\n",
            "rescaling False float32 <Policy \"float32\">\n",
            "normalization False float32 <Policy \"float32\">\n",
            "tf.math.truediv False float32 <Policy \"float32\">\n",
            "stem_conv_pad False float32 <Policy \"float32\">\n",
            "stem_conv False float32 <Policy \"float32\">\n",
            "stem_bn False float32 <Policy \"float32\">\n",
            "stem_activation False float32 <Policy \"float32\">\n",
            "block1a_dwconv False float32 <Policy \"float32\">\n",
            "block1a_bn False float32 <Policy \"float32\">\n",
            "block1a_activation False float32 <Policy \"float32\">\n",
            "block1a_se_squeeze False float32 <Policy \"float32\">\n",
            "block1a_se_reshape False float32 <Policy \"float32\">\n",
            "block1a_se_reduce False float32 <Policy \"float32\">\n",
            "block1a_se_expand False float32 <Policy \"float32\">\n",
            "block1a_se_excite False float32 <Policy \"float32\">\n",
            "block1a_project_conv False float32 <Policy \"float32\">\n",
            "block1a_project_bn False float32 <Policy \"float32\">\n",
            "block2a_expand_conv False float32 <Policy \"float32\">\n",
            "block2a_expand_bn False float32 <Policy \"float32\">\n"
          ]
        }
      ]
    },
    {
      "cell_type": "code",
      "source": [
        "for layer in loaded_saved_model.layers:\n",
        "    layer.trainable = True # set all layers to trainable\n",
        "    print(layer.name, layer.trainable, layer.dtype, layer.dtype_policy) # make sure loaded model is using mixed precision dtype_policy (\"mixed_float16\")"
      ],
      "metadata": {
        "colab": {
          "base_uri": "https://localhost:8080/"
        },
        "id": "4MKhD73yOSNJ",
        "outputId": "6425cd1f-6108-4cfc-9958-c42887e1e4c2"
      },
      "execution_count": null,
      "outputs": [
        {
          "output_type": "stream",
          "name": "stdout",
          "text": [
            "input_layer True float32 <Policy \"float32\">\n",
            "efficientnetb0 True float32 <Policy \"float32\">\n",
            "pooling_layer True float32 <Policy \"float32\">\n",
            "dense True float32 <Policy \"float32\">\n"
          ]
        }
      ]
    },
    {
      "cell_type": "code",
      "source": [
        "# Check the layers in the base model and see what dtype policy they're using\n",
        "for layer in loaded_saved_model.layers[1].layers[:20]:\n",
        "    print(layer.name, layer.trainable, layer.dtype, layer.dtype_policy)"
      ],
      "metadata": {
        "colab": {
          "base_uri": "https://localhost:8080/"
        },
        "id": "5tsyxnzDOT_4",
        "outputId": "feafc4ac-9585-41ea-b0b0-912157b1ff56"
      },
      "execution_count": null,
      "outputs": [
        {
          "output_type": "stream",
          "name": "stdout",
          "text": [
            "input_1 True float32 <Policy \"float32\">\n",
            "rescaling True float32 <Policy \"float32\">\n",
            "normalization True float32 <Policy \"float32\">\n",
            "tf.math.truediv True float32 <Policy \"float32\">\n",
            "stem_conv_pad True float32 <Policy \"float32\">\n",
            "stem_conv True float32 <Policy \"float32\">\n",
            "stem_bn True float32 <Policy \"float32\">\n",
            "stem_activation True float32 <Policy \"float32\">\n",
            "block1a_dwconv True float32 <Policy \"float32\">\n",
            "block1a_bn True float32 <Policy \"float32\">\n",
            "block1a_activation True float32 <Policy \"float32\">\n",
            "block1a_se_squeeze True float32 <Policy \"float32\">\n",
            "block1a_se_reshape True float32 <Policy \"float32\">\n",
            "block1a_se_reduce True float32 <Policy \"float32\">\n",
            "block1a_se_expand True float32 <Policy \"float32\">\n",
            "block1a_se_excite True float32 <Policy \"float32\">\n",
            "block1a_project_conv True float32 <Policy \"float32\">\n",
            "block1a_project_bn True float32 <Policy \"float32\">\n",
            "block2a_expand_conv True float32 <Policy \"float32\">\n",
            "block2a_expand_bn True float32 <Policy \"float32\">\n"
          ]
        }
      ]
    },
    {
      "cell_type": "code",
      "source": [
        "# Refreeze every layer except for the last 5\n",
        "for layer in base_model.layers[:-5]:\n",
        "    layer.trainable = False"
      ],
      "metadata": {
        "id": "7dpv6F1pOWKN"
      },
      "execution_count": null,
      "outputs": []
    },
    {
      "cell_type": "code",
      "source": [
        "# Check the layers in the base model and see what dtype policy they're using\n",
        "for layer in loaded_saved_model.layers[1].layers[:-10]:\n",
        "    print(layer.name, layer.trainable, layer.dtype, layer.dtype_policy)"
      ],
      "metadata": {
        "colab": {
          "base_uri": "https://localhost:8080/"
        },
        "id": "K6qx84wdQ4Gz",
        "outputId": "409340a0-4588-4665-f317-dbb2ba1f59c7"
      },
      "execution_count": null,
      "outputs": [
        {
          "output_type": "stream",
          "name": "stdout",
          "text": [
            "input_1 True float32 <Policy \"float32\">\n",
            "rescaling True float32 <Policy \"float32\">\n",
            "normalization True float32 <Policy \"float32\">\n",
            "tf.math.truediv True float32 <Policy \"float32\">\n",
            "stem_conv_pad True float32 <Policy \"float32\">\n",
            "stem_conv True float32 <Policy \"float32\">\n",
            "stem_bn True float32 <Policy \"float32\">\n",
            "stem_activation True float32 <Policy \"float32\">\n",
            "block1a_dwconv True float32 <Policy \"float32\">\n",
            "block1a_bn True float32 <Policy \"float32\">\n",
            "block1a_activation True float32 <Policy \"float32\">\n",
            "block1a_se_squeeze True float32 <Policy \"float32\">\n",
            "block1a_se_reshape True float32 <Policy \"float32\">\n",
            "block1a_se_reduce True float32 <Policy \"float32\">\n",
            "block1a_se_expand True float32 <Policy \"float32\">\n",
            "block1a_se_excite True float32 <Policy \"float32\">\n",
            "block1a_project_conv True float32 <Policy \"float32\">\n",
            "block1a_project_bn True float32 <Policy \"float32\">\n",
            "block2a_expand_conv True float32 <Policy \"float32\">\n",
            "block2a_expand_bn True float32 <Policy \"float32\">\n",
            "block2a_expand_activation True float32 <Policy \"float32\">\n",
            "block2a_dwconv_pad True float32 <Policy \"float32\">\n",
            "block2a_dwconv True float32 <Policy \"float32\">\n",
            "block2a_bn True float32 <Policy \"float32\">\n",
            "block2a_activation True float32 <Policy \"float32\">\n",
            "block2a_se_squeeze True float32 <Policy \"float32\">\n",
            "block2a_se_reshape True float32 <Policy \"float32\">\n",
            "block2a_se_reduce True float32 <Policy \"float32\">\n",
            "block2a_se_expand True float32 <Policy \"float32\">\n",
            "block2a_se_excite True float32 <Policy \"float32\">\n",
            "block2a_project_conv True float32 <Policy \"float32\">\n",
            "block2a_project_bn True float32 <Policy \"float32\">\n",
            "block2b_expand_conv True float32 <Policy \"float32\">\n",
            "block2b_expand_bn True float32 <Policy \"float32\">\n",
            "block2b_expand_activation True float32 <Policy \"float32\">\n",
            "block2b_dwconv True float32 <Policy \"float32\">\n",
            "block2b_bn True float32 <Policy \"float32\">\n",
            "block2b_activation True float32 <Policy \"float32\">\n",
            "block2b_se_squeeze True float32 <Policy \"float32\">\n",
            "block2b_se_reshape True float32 <Policy \"float32\">\n",
            "block2b_se_reduce True float32 <Policy \"float32\">\n",
            "block2b_se_expand True float32 <Policy \"float32\">\n",
            "block2b_se_excite True float32 <Policy \"float32\">\n",
            "block2b_project_conv True float32 <Policy \"float32\">\n",
            "block2b_project_bn True float32 <Policy \"float32\">\n",
            "block2b_drop True float32 <Policy \"float32\">\n",
            "block2b_add True float32 <Policy \"float32\">\n",
            "block3a_expand_conv True float32 <Policy \"float32\">\n",
            "block3a_expand_bn True float32 <Policy \"float32\">\n",
            "block3a_expand_activation True float32 <Policy \"float32\">\n",
            "block3a_dwconv_pad True float32 <Policy \"float32\">\n",
            "block3a_dwconv True float32 <Policy \"float32\">\n",
            "block3a_bn True float32 <Policy \"float32\">\n",
            "block3a_activation True float32 <Policy \"float32\">\n",
            "block3a_se_squeeze True float32 <Policy \"float32\">\n",
            "block3a_se_reshape True float32 <Policy \"float32\">\n",
            "block3a_se_reduce True float32 <Policy \"float32\">\n",
            "block3a_se_expand True float32 <Policy \"float32\">\n",
            "block3a_se_excite True float32 <Policy \"float32\">\n",
            "block3a_project_conv True float32 <Policy \"float32\">\n",
            "block3a_project_bn True float32 <Policy \"float32\">\n",
            "block3b_expand_conv True float32 <Policy \"float32\">\n",
            "block3b_expand_bn True float32 <Policy \"float32\">\n",
            "block3b_expand_activation True float32 <Policy \"float32\">\n",
            "block3b_dwconv True float32 <Policy \"float32\">\n",
            "block3b_bn True float32 <Policy \"float32\">\n",
            "block3b_activation True float32 <Policy \"float32\">\n",
            "block3b_se_squeeze True float32 <Policy \"float32\">\n",
            "block3b_se_reshape True float32 <Policy \"float32\">\n",
            "block3b_se_reduce True float32 <Policy \"float32\">\n",
            "block3b_se_expand True float32 <Policy \"float32\">\n",
            "block3b_se_excite True float32 <Policy \"float32\">\n",
            "block3b_project_conv True float32 <Policy \"float32\">\n",
            "block3b_project_bn True float32 <Policy \"float32\">\n",
            "block3b_drop True float32 <Policy \"float32\">\n",
            "block3b_add True float32 <Policy \"float32\">\n",
            "block4a_expand_conv True float32 <Policy \"float32\">\n",
            "block4a_expand_bn True float32 <Policy \"float32\">\n",
            "block4a_expand_activation True float32 <Policy \"float32\">\n",
            "block4a_dwconv_pad True float32 <Policy \"float32\">\n",
            "block4a_dwconv True float32 <Policy \"float32\">\n",
            "block4a_bn True float32 <Policy \"float32\">\n",
            "block4a_activation True float32 <Policy \"float32\">\n",
            "block4a_se_squeeze True float32 <Policy \"float32\">\n",
            "block4a_se_reshape True float32 <Policy \"float32\">\n",
            "block4a_se_reduce True float32 <Policy \"float32\">\n",
            "block4a_se_expand True float32 <Policy \"float32\">\n",
            "block4a_se_excite True float32 <Policy \"float32\">\n",
            "block4a_project_conv True float32 <Policy \"float32\">\n",
            "block4a_project_bn True float32 <Policy \"float32\">\n",
            "block4b_expand_conv True float32 <Policy \"float32\">\n",
            "block4b_expand_bn True float32 <Policy \"float32\">\n",
            "block4b_expand_activation True float32 <Policy \"float32\">\n",
            "block4b_dwconv True float32 <Policy \"float32\">\n",
            "block4b_bn True float32 <Policy \"float32\">\n",
            "block4b_activation True float32 <Policy \"float32\">\n",
            "block4b_se_squeeze True float32 <Policy \"float32\">\n",
            "block4b_se_reshape True float32 <Policy \"float32\">\n",
            "block4b_se_reduce True float32 <Policy \"float32\">\n",
            "block4b_se_expand True float32 <Policy \"float32\">\n",
            "block4b_se_excite True float32 <Policy \"float32\">\n",
            "block4b_project_conv True float32 <Policy \"float32\">\n",
            "block4b_project_bn True float32 <Policy \"float32\">\n",
            "block4b_drop True float32 <Policy \"float32\">\n",
            "block4b_add True float32 <Policy \"float32\">\n",
            "block4c_expand_conv True float32 <Policy \"float32\">\n",
            "block4c_expand_bn True float32 <Policy \"float32\">\n",
            "block4c_expand_activation True float32 <Policy \"float32\">\n",
            "block4c_dwconv True float32 <Policy \"float32\">\n",
            "block4c_bn True float32 <Policy \"float32\">\n",
            "block4c_activation True float32 <Policy \"float32\">\n",
            "block4c_se_squeeze True float32 <Policy \"float32\">\n",
            "block4c_se_reshape True float32 <Policy \"float32\">\n",
            "block4c_se_reduce True float32 <Policy \"float32\">\n",
            "block4c_se_expand True float32 <Policy \"float32\">\n",
            "block4c_se_excite True float32 <Policy \"float32\">\n",
            "block4c_project_conv True float32 <Policy \"float32\">\n",
            "block4c_project_bn True float32 <Policy \"float32\">\n",
            "block4c_drop True float32 <Policy \"float32\">\n",
            "block4c_add True float32 <Policy \"float32\">\n",
            "block5a_expand_conv True float32 <Policy \"float32\">\n",
            "block5a_expand_bn True float32 <Policy \"float32\">\n",
            "block5a_expand_activation True float32 <Policy \"float32\">\n",
            "block5a_dwconv True float32 <Policy \"float32\">\n",
            "block5a_bn True float32 <Policy \"float32\">\n",
            "block5a_activation True float32 <Policy \"float32\">\n",
            "block5a_se_squeeze True float32 <Policy \"float32\">\n",
            "block5a_se_reshape True float32 <Policy \"float32\">\n",
            "block5a_se_reduce True float32 <Policy \"float32\">\n",
            "block5a_se_expand True float32 <Policy \"float32\">\n",
            "block5a_se_excite True float32 <Policy \"float32\">\n",
            "block5a_project_conv True float32 <Policy \"float32\">\n",
            "block5a_project_bn True float32 <Policy \"float32\">\n",
            "block5b_expand_conv True float32 <Policy \"float32\">\n",
            "block5b_expand_bn True float32 <Policy \"float32\">\n",
            "block5b_expand_activation True float32 <Policy \"float32\">\n",
            "block5b_dwconv True float32 <Policy \"float32\">\n",
            "block5b_bn True float32 <Policy \"float32\">\n",
            "block5b_activation True float32 <Policy \"float32\">\n",
            "block5b_se_squeeze True float32 <Policy \"float32\">\n",
            "block5b_se_reshape True float32 <Policy \"float32\">\n",
            "block5b_se_reduce True float32 <Policy \"float32\">\n",
            "block5b_se_expand True float32 <Policy \"float32\">\n",
            "block5b_se_excite True float32 <Policy \"float32\">\n",
            "block5b_project_conv True float32 <Policy \"float32\">\n",
            "block5b_project_bn True float32 <Policy \"float32\">\n",
            "block5b_drop True float32 <Policy \"float32\">\n",
            "block5b_add True float32 <Policy \"float32\">\n",
            "block5c_expand_conv True float32 <Policy \"float32\">\n",
            "block5c_expand_bn True float32 <Policy \"float32\">\n",
            "block5c_expand_activation True float32 <Policy \"float32\">\n",
            "block5c_dwconv True float32 <Policy \"float32\">\n",
            "block5c_bn True float32 <Policy \"float32\">\n",
            "block5c_activation True float32 <Policy \"float32\">\n",
            "block5c_se_squeeze True float32 <Policy \"float32\">\n",
            "block5c_se_reshape True float32 <Policy \"float32\">\n",
            "block5c_se_reduce True float32 <Policy \"float32\">\n",
            "block5c_se_expand True float32 <Policy \"float32\">\n",
            "block5c_se_excite True float32 <Policy \"float32\">\n",
            "block5c_project_conv True float32 <Policy \"float32\">\n",
            "block5c_project_bn True float32 <Policy \"float32\">\n",
            "block5c_drop True float32 <Policy \"float32\">\n",
            "block5c_add True float32 <Policy \"float32\">\n",
            "block6a_expand_conv True float32 <Policy \"float32\">\n",
            "block6a_expand_bn True float32 <Policy \"float32\">\n",
            "block6a_expand_activation True float32 <Policy \"float32\">\n",
            "block6a_dwconv_pad True float32 <Policy \"float32\">\n",
            "block6a_dwconv True float32 <Policy \"float32\">\n",
            "block6a_bn True float32 <Policy \"float32\">\n",
            "block6a_activation True float32 <Policy \"float32\">\n",
            "block6a_se_squeeze True float32 <Policy \"float32\">\n",
            "block6a_se_reshape True float32 <Policy \"float32\">\n",
            "block6a_se_reduce True float32 <Policy \"float32\">\n",
            "block6a_se_expand True float32 <Policy \"float32\">\n",
            "block6a_se_excite True float32 <Policy \"float32\">\n",
            "block6a_project_conv True float32 <Policy \"float32\">\n",
            "block6a_project_bn True float32 <Policy \"float32\">\n",
            "block6b_expand_conv True float32 <Policy \"float32\">\n",
            "block6b_expand_bn True float32 <Policy \"float32\">\n",
            "block6b_expand_activation True float32 <Policy \"float32\">\n",
            "block6b_dwconv True float32 <Policy \"float32\">\n",
            "block6b_bn True float32 <Policy \"float32\">\n",
            "block6b_activation True float32 <Policy \"float32\">\n",
            "block6b_se_squeeze True float32 <Policy \"float32\">\n",
            "block6b_se_reshape True float32 <Policy \"float32\">\n",
            "block6b_se_reduce True float32 <Policy \"float32\">\n",
            "block6b_se_expand True float32 <Policy \"float32\">\n",
            "block6b_se_excite True float32 <Policy \"float32\">\n",
            "block6b_project_conv True float32 <Policy \"float32\">\n",
            "block6b_project_bn True float32 <Policy \"float32\">\n",
            "block6b_drop True float32 <Policy \"float32\">\n",
            "block6b_add True float32 <Policy \"float32\">\n",
            "block6c_expand_conv True float32 <Policy \"float32\">\n",
            "block6c_expand_bn True float32 <Policy \"float32\">\n",
            "block6c_expand_activation True float32 <Policy \"float32\">\n",
            "block6c_dwconv True float32 <Policy \"float32\">\n",
            "block6c_bn True float32 <Policy \"float32\">\n",
            "block6c_activation True float32 <Policy \"float32\">\n",
            "block6c_se_squeeze True float32 <Policy \"float32\">\n",
            "block6c_se_reshape True float32 <Policy \"float32\">\n",
            "block6c_se_reduce True float32 <Policy \"float32\">\n",
            "block6c_se_expand True float32 <Policy \"float32\">\n",
            "block6c_se_excite True float32 <Policy \"float32\">\n",
            "block6c_project_conv True float32 <Policy \"float32\">\n",
            "block6c_project_bn True float32 <Policy \"float32\">\n",
            "block6c_drop True float32 <Policy \"float32\">\n",
            "block6c_add True float32 <Policy \"float32\">\n",
            "block6d_expand_conv True float32 <Policy \"float32\">\n",
            "block6d_expand_bn True float32 <Policy \"float32\">\n",
            "block6d_expand_activation True float32 <Policy \"float32\">\n",
            "block6d_dwconv True float32 <Policy \"float32\">\n",
            "block6d_bn True float32 <Policy \"float32\">\n",
            "block6d_activation True float32 <Policy \"float32\">\n",
            "block6d_se_squeeze True float32 <Policy \"float32\">\n",
            "block6d_se_reshape True float32 <Policy \"float32\">\n",
            "block6d_se_reduce True float32 <Policy \"float32\">\n",
            "block6d_se_expand True float32 <Policy \"float32\">\n",
            "block6d_se_excite True float32 <Policy \"float32\">\n",
            "block6d_project_conv True float32 <Policy \"float32\">\n",
            "block6d_project_bn True float32 <Policy \"float32\">\n",
            "block6d_drop True float32 <Policy \"float32\">\n",
            "block6d_add True float32 <Policy \"float32\">\n",
            "block7a_expand_conv True float32 <Policy \"float32\">\n",
            "block7a_expand_bn True float32 <Policy \"float32\">\n",
            "block7a_expand_activation True float32 <Policy \"float32\">\n",
            "block7a_dwconv True float32 <Policy \"float32\">\n",
            "block7a_bn True float32 <Policy \"float32\">\n",
            "block7a_activation True float32 <Policy \"float32\">\n"
          ]
        }
      ]
    },
    {
      "cell_type": "code",
      "source": [
        "# Compile the model\n",
        "loaded_saved_model.compile(loss=\"categorical_crossentropy\", # sparse_categorical_crossentropy for labels that are *not* one-hot\n",
        "                           optimizer=tf.keras.optimizers.Adam(0.0001), # 10x lower learning rate than the default\n",
        "                           metrics=[\"accuracy\"])"
      ],
      "metadata": {
        "id": "zlmdoBKd9vYi"
      },
      "execution_count": null,
      "outputs": []
    },
    {
      "cell_type": "code",
      "source": [
        "# Start to fine-tune (all layers)\n",
        "history_veg_fine_tune = loaded_saved_model.fit(train_data,\n",
        "                                                        epochs=10, # fine-tune for a maximum of 100 epochs\n",
        "                                                        steps_per_epoch=len(train_data),\n",
        "                                                        validation_data=test_data,\n",
        "                                                        validation_steps=int(0.15 * len(test_data)), # validation during training on 15% of test data\n",
        "                                                        callbacks=[create_tensorboard_callback(\"training_logs\", \"efficientb0_veg_fine_tuning\"), # track the model training logs\n",
        "                                                                   model_checkpoint, # save only the best model during training\n",
        "                                                                   early_stopping, # stop model after X epochs of no improvements\n",
        "                                                                   reduce_lr]) # reduce the learning rate after X epochs of no improvements"
      ],
      "metadata": {
        "colab": {
          "base_uri": "https://localhost:8080/",
          "height": 992
        },
        "id": "OPFyv7M2Ps7_",
        "outputId": "3b32b427-7a69-4741-9e6d-ea1ccd12d52b"
      },
      "execution_count": null,
      "outputs": [
        {
          "output_type": "stream",
          "name": "stdout",
          "text": [
            "Saving TensorBoard log files to: training_logs/efficientb0_veg_fine_tuning/20230111-004131\n",
            "Epoch 1/100\n",
            "469/469 [==============================] - ETA: 0s - loss: 0.0167 - accuracy: 0.9945"
          ]
        },
        {
          "output_type": "stream",
          "name": "stderr",
          "text": [
            "WARNING:absl:Found untraced functions such as _jit_compiled_convolution_op, _jit_compiled_convolution_op, _jit_compiled_convolution_op, _jit_compiled_convolution_op, _jit_compiled_convolution_op while saving (showing 5 of 81). These functions will not be directly callable after loading.\n"
          ]
        },
        {
          "output_type": "stream",
          "name": "stdout",
          "text": [
            "\b\b\b\b\b\b\b\b\b\b\b\b\b\b\b\b\b\b\b\b\b\b\b\b\b\b\b\b\b\b\b\b\b\b\b\b\b\b\b\b\b\b\b\b\b\b\b\b\b\b\b\b\b\b\b\b\b\b\b\b\b\b\b\b\b\b\b\b\b\b\b\b\b\b\b\b\b\b\b\b\b\b\b\b\r469/469 [==============================] - 217s 431ms/step - loss: 0.0167 - accuracy: 0.9945 - val_loss: 0.1251 - val_accuracy: 0.9576 - lr: 1.0000e-04\n",
            "Epoch 2/100\n",
            "469/469 [==============================] - ETA: 0s - loss: 0.0060 - accuracy: 0.9983"
          ]
        },
        {
          "output_type": "stream",
          "name": "stderr",
          "text": [
            "WARNING:absl:Found untraced functions such as _jit_compiled_convolution_op, _jit_compiled_convolution_op, _jit_compiled_convolution_op, _jit_compiled_convolution_op, _jit_compiled_convolution_op while saving (showing 5 of 81). These functions will not be directly callable after loading.\n"
          ]
        },
        {
          "output_type": "stream",
          "name": "stdout",
          "text": [
            "\b\b\b\b\b\b\b\b\b\b\b\b\b\b\b\b\b\b\b\b\b\b\b\b\b\b\b\b\b\b\b\b\b\b\b\b\b\b\b\b\b\b\b\b\b\b\b\b\b\b\b\b\b\b\b\b\b\b\b\b\b\b\b\b\b\b\b\b\b\b\b\b\b\b\b\b\b\b\b\b\b\b\b\b\r469/469 [==============================] - 204s 430ms/step - loss: 0.0060 - accuracy: 0.9983 - val_loss: 0.0715 - val_accuracy: 0.9688 - lr: 1.0000e-04\n",
            "Epoch 3/100\n",
            "469/469 [==============================] - 160s 337ms/step - loss: 0.0034 - accuracy: 0.9989 - val_loss: 0.0720 - val_accuracy: 0.9732 - lr: 1.0000e-04\n",
            "Epoch 4/100\n",
            "469/469 [==============================] - ETA: 0s - loss: 0.0109 - accuracy: 0.9971"
          ]
        },
        {
          "output_type": "stream",
          "name": "stderr",
          "text": [
            "WARNING:absl:Found untraced functions such as _jit_compiled_convolution_op, _jit_compiled_convolution_op, _jit_compiled_convolution_op, _jit_compiled_convolution_op, _jit_compiled_convolution_op while saving (showing 5 of 81). These functions will not be directly callable after loading.\n"
          ]
        },
        {
          "output_type": "stream",
          "name": "stdout",
          "text": [
            "\b\b\b\b\b\b\b\b\b\b\b\b\b\b\b\b\b\b\b\b\b\b\b\b\b\b\b\b\b\b\b\b\b\b\b\b\b\b\b\b\b\b\b\b\b\b\b\b\b\b\b\b\b\b\b\b\b\b\b\b\b\b\b\b\b\b\b\b\b\b\b\b\b\b\b\b\b\b\b\b\b\b\b\b\r469/469 [==============================] - 203s 429ms/step - loss: 0.0109 - accuracy: 0.9971 - val_loss: 0.0249 - val_accuracy: 0.9933 - lr: 1.0000e-04\n",
            "Epoch 5/100\n",
            "469/469 [==============================] - 161s 339ms/step - loss: 0.0042 - accuracy: 0.9989 - val_loss: 0.5334 - val_accuracy: 0.8170 - lr: 1.0000e-04\n",
            "Epoch 6/100\n",
            "469/469 [==============================] - ETA: 0s - loss: 0.0147 - accuracy: 0.9967\n",
            "Epoch 6: ReduceLROnPlateau reducing learning rate to 1.9999999494757503e-05.\n",
            "469/469 [==============================] - 160s 336ms/step - loss: 0.0147 - accuracy: 0.9967 - val_loss: 1.0636 - val_accuracy: 0.7054 - lr: 1.0000e-04\n",
            "Epoch 7/100\n",
            "469/469 [==============================] - ETA: 0s - loss: 0.0217 - accuracy: 0.9939"
          ]
        },
        {
          "output_type": "stream",
          "name": "stderr",
          "text": [
            "WARNING:absl:Found untraced functions such as _jit_compiled_convolution_op, _jit_compiled_convolution_op, _jit_compiled_convolution_op, _jit_compiled_convolution_op, _jit_compiled_convolution_op while saving (showing 5 of 81). These functions will not be directly callable after loading.\n"
          ]
        },
        {
          "output_type": "stream",
          "name": "stdout",
          "text": [
            "\b\b\b\b\b\b\b\b\b\b\b\b\b\b\b\b\b\b\b\b\b\b\b\b\b\b\b\b\b\b\b\b\b\b\b\b\b\b\b\b\b\b\b\b\b\b\b\b\b\b\b\b\b\b\b\b\b\b\b\b\b\b\b\b\b\b\b\b\b\b\b\b\b\b\b\b\b\b\b\b\b\b\b\b\r469/469 [==============================] - 203s 429ms/step - loss: 0.0217 - accuracy: 0.9939 - val_loss: 0.0016 - val_accuracy: 1.0000 - lr: 2.0000e-05\n",
            "Epoch 8/100\n",
            "469/469 [==============================] - 162s 341ms/step - loss: 6.6772e-04 - accuracy: 1.0000 - val_loss: 0.0030 - val_accuracy: 0.9978 - lr: 2.0000e-05\n",
            "Epoch 9/100\n",
            "469/469 [==============================] - ETA: 0s - loss: 2.5823e-04 - accuracy: 1.0000"
          ]
        },
        {
          "output_type": "stream",
          "name": "stderr",
          "text": [
            "WARNING:absl:Found untraced functions such as _jit_compiled_convolution_op, _jit_compiled_convolution_op, _jit_compiled_convolution_op, _jit_compiled_convolution_op, _jit_compiled_convolution_op while saving (showing 5 of 81). These functions will not be directly callable after loading.\n"
          ]
        },
        {
          "output_type": "stream",
          "name": "stdout",
          "text": [
            "\b\b\b\b\b\b\b\b\b\b\b\b\b\b\b\b\b\b\b\b\b\b\b\b\b\b\b\b\b\b\b\b\b\b\b\b\b\b\b\b\b\b\b\b\b\b\b\b\b\b\b\b\b\b\b\b\b\b\b\b\b\b\b\b\b\b\b\b\b\b\b\b\b\b\b\b\b\b\b\b\b\b\b\b\b\b\b\b\r469/469 [==============================] - 204s 430ms/step - loss: 2.5823e-04 - accuracy: 1.0000 - val_loss: 5.7531e-04 - val_accuracy: 1.0000 - lr: 2.0000e-05\n",
            "Epoch 10/100\n",
            "469/469 [==============================] - ETA: 0s - loss: 1.1596e-04 - accuracy: 1.0000"
          ]
        },
        {
          "output_type": "stream",
          "name": "stderr",
          "text": [
            "WARNING:absl:Found untraced functions such as _jit_compiled_convolution_op, _jit_compiled_convolution_op, _jit_compiled_convolution_op, _jit_compiled_convolution_op, _jit_compiled_convolution_op while saving (showing 5 of 81). These functions will not be directly callable after loading.\n"
          ]
        },
        {
          "output_type": "stream",
          "name": "stdout",
          "text": [
            "\b\b\b\b\b\b\b\b\b\b\b\b\b\b\b\b\b\b\b\b\b\b\b\b\b\b\b\b\b\b\b\b\b\b\b\b\b\b\b\b\b\b\b\b\b\b\b\b\b\b\b\b\b\b\b\b\b\b\b\b\b\b\b\b\b\b\b\b\b\b\b\b\b\b\b\b\b\b\b\b\b\b\b\b\b\b\b\b\r469/469 [==============================] - 204s 431ms/step - loss: 1.1596e-04 - accuracy: 1.0000 - val_loss: 5.0054e-04 - val_accuracy: 1.0000 - lr: 2.0000e-05\n",
            "Epoch 11/100\n",
            "469/469 [==============================] - ETA: 0s - loss: 7.0573e-05 - accuracy: 1.0000"
          ]
        },
        {
          "output_type": "stream",
          "name": "stderr",
          "text": [
            "WARNING:absl:Found untraced functions such as _jit_compiled_convolution_op, _jit_compiled_convolution_op, _jit_compiled_convolution_op, _jit_compiled_convolution_op, _jit_compiled_convolution_op while saving (showing 5 of 81). These functions will not be directly callable after loading.\n"
          ]
        },
        {
          "output_type": "stream",
          "name": "stdout",
          "text": [
            "\b\b\b\b\b\b\b\b\b\b\b\b\b\b\b\b\b\b\b\b\b\b\b\b\b\b\b\b\b\b\b\b\b\b\b\b\b\b\b\b\b\b\b\b\b\b\b\b\b\b\b\b\b\b\b\b\b\b\b\b\b\b\b\b\b\b\b\b\b\b\b\b\b\b\b\b\b\b\b\b\b\b\b\b\b\b\b\b\r469/469 [==============================] - 202s 428ms/step - loss: 7.0573e-05 - accuracy: 1.0000 - val_loss: 4.1141e-04 - val_accuracy: 1.0000 - lr: 2.0000e-05\n",
            "Epoch 12/100\n",
            "469/469 [==============================] - ETA: 0s - loss: 5.0998e-05 - accuracy: 1.0000"
          ]
        },
        {
          "output_type": "stream",
          "name": "stderr",
          "text": [
            "WARNING:absl:Found untraced functions such as _jit_compiled_convolution_op, _jit_compiled_convolution_op, _jit_compiled_convolution_op, _jit_compiled_convolution_op, _jit_compiled_convolution_op while saving (showing 5 of 81). These functions will not be directly callable after loading.\n"
          ]
        },
        {
          "output_type": "error",
          "ename": "KeyboardInterrupt",
          "evalue": "ignored",
          "traceback": [
            "\u001b[0;31m---------------------------------------------------------------------------\u001b[0m",
            "\u001b[0;31mKeyboardInterrupt\u001b[0m                         Traceback (most recent call last)",
            "\u001b[0;32m<ipython-input-36-21e018faca87>\u001b[0m in \u001b[0;36m<module>\u001b[0;34m\u001b[0m\n\u001b[1;32m      1\u001b[0m \u001b[0;31m# Start to fine-tune (all layers)\u001b[0m\u001b[0;34m\u001b[0m\u001b[0;34m\u001b[0m\u001b[0;34m\u001b[0m\u001b[0m\n\u001b[0;32m----> 2\u001b[0;31m history_veg_fine_tune = loaded_saved_model.fit(train_data,\n\u001b[0m\u001b[1;32m      3\u001b[0m                                                         \u001b[0mepochs\u001b[0m\u001b[0;34m=\u001b[0m\u001b[0;36m100\u001b[0m\u001b[0;34m,\u001b[0m \u001b[0;31m# fine-tune for a maximum of 100 epochs\u001b[0m\u001b[0;34m\u001b[0m\u001b[0;34m\u001b[0m\u001b[0m\n\u001b[1;32m      4\u001b[0m                                                         \u001b[0msteps_per_epoch\u001b[0m\u001b[0;34m=\u001b[0m\u001b[0mlen\u001b[0m\u001b[0;34m(\u001b[0m\u001b[0mtrain_data\u001b[0m\u001b[0;34m)\u001b[0m\u001b[0;34m,\u001b[0m\u001b[0;34m\u001b[0m\u001b[0;34m\u001b[0m\u001b[0m\n\u001b[1;32m      5\u001b[0m                                                         \u001b[0mvalidation_data\u001b[0m\u001b[0;34m=\u001b[0m\u001b[0mtest_data\u001b[0m\u001b[0;34m,\u001b[0m\u001b[0;34m\u001b[0m\u001b[0;34m\u001b[0m\u001b[0m\n",
            "\u001b[0;32m/usr/local/lib/python3.8/dist-packages/keras/utils/traceback_utils.py\u001b[0m in \u001b[0;36merror_handler\u001b[0;34m(*args, **kwargs)\u001b[0m\n\u001b[1;32m     62\u001b[0m     \u001b[0mfiltered_tb\u001b[0m \u001b[0;34m=\u001b[0m \u001b[0;32mNone\u001b[0m\u001b[0;34m\u001b[0m\u001b[0;34m\u001b[0m\u001b[0m\n\u001b[1;32m     63\u001b[0m     \u001b[0;32mtry\u001b[0m\u001b[0;34m:\u001b[0m\u001b[0;34m\u001b[0m\u001b[0;34m\u001b[0m\u001b[0m\n\u001b[0;32m---> 64\u001b[0;31m       \u001b[0;32mreturn\u001b[0m \u001b[0mfn\u001b[0m\u001b[0;34m(\u001b[0m\u001b[0;34m*\u001b[0m\u001b[0margs\u001b[0m\u001b[0;34m,\u001b[0m \u001b[0;34m**\u001b[0m\u001b[0mkwargs\u001b[0m\u001b[0;34m)\u001b[0m\u001b[0;34m\u001b[0m\u001b[0;34m\u001b[0m\u001b[0m\n\u001b[0m\u001b[1;32m     65\u001b[0m     \u001b[0;32mexcept\u001b[0m \u001b[0mException\u001b[0m \u001b[0;32mas\u001b[0m \u001b[0me\u001b[0m\u001b[0;34m:\u001b[0m  \u001b[0;31m# pylint: disable=broad-except\u001b[0m\u001b[0;34m\u001b[0m\u001b[0;34m\u001b[0m\u001b[0m\n\u001b[1;32m     66\u001b[0m       \u001b[0mfiltered_tb\u001b[0m \u001b[0;34m=\u001b[0m \u001b[0m_process_traceback_frames\u001b[0m\u001b[0;34m(\u001b[0m\u001b[0me\u001b[0m\u001b[0;34m.\u001b[0m\u001b[0m__traceback__\u001b[0m\u001b[0;34m)\u001b[0m\u001b[0;34m\u001b[0m\u001b[0;34m\u001b[0m\u001b[0m\n",
            "\u001b[0;32m/usr/local/lib/python3.8/dist-packages/keras/engine/training.py\u001b[0m in \u001b[0;36mfit\u001b[0;34m(self, x, y, batch_size, epochs, verbose, callbacks, validation_split, validation_data, shuffle, class_weight, sample_weight, initial_epoch, steps_per_epoch, validation_steps, validation_batch_size, validation_freq, max_queue_size, workers, use_multiprocessing)\u001b[0m\n\u001b[1;32m   1458\u001b[0m           \u001b[0mepoch_logs\u001b[0m\u001b[0;34m.\u001b[0m\u001b[0mupdate\u001b[0m\u001b[0;34m(\u001b[0m\u001b[0mval_logs\u001b[0m\u001b[0;34m)\u001b[0m\u001b[0;34m\u001b[0m\u001b[0;34m\u001b[0m\u001b[0m\n\u001b[1;32m   1459\u001b[0m \u001b[0;34m\u001b[0m\u001b[0m\n\u001b[0;32m-> 1460\u001b[0;31m         \u001b[0mcallbacks\u001b[0m\u001b[0;34m.\u001b[0m\u001b[0mon_epoch_end\u001b[0m\u001b[0;34m(\u001b[0m\u001b[0mepoch\u001b[0m\u001b[0;34m,\u001b[0m \u001b[0mepoch_logs\u001b[0m\u001b[0;34m)\u001b[0m\u001b[0;34m\u001b[0m\u001b[0;34m\u001b[0m\u001b[0m\n\u001b[0m\u001b[1;32m   1461\u001b[0m         \u001b[0mtraining_logs\u001b[0m \u001b[0;34m=\u001b[0m \u001b[0mepoch_logs\u001b[0m\u001b[0;34m\u001b[0m\u001b[0;34m\u001b[0m\u001b[0m\n\u001b[1;32m   1462\u001b[0m         \u001b[0;32mif\u001b[0m \u001b[0mself\u001b[0m\u001b[0;34m.\u001b[0m\u001b[0mstop_training\u001b[0m\u001b[0;34m:\u001b[0m\u001b[0;34m\u001b[0m\u001b[0;34m\u001b[0m\u001b[0m\n",
            "\u001b[0;32m/usr/local/lib/python3.8/dist-packages/keras/callbacks.py\u001b[0m in \u001b[0;36mon_epoch_end\u001b[0;34m(self, epoch, logs)\u001b[0m\n\u001b[1;32m    414\u001b[0m     \u001b[0mlogs\u001b[0m \u001b[0;34m=\u001b[0m \u001b[0mself\u001b[0m\u001b[0;34m.\u001b[0m\u001b[0m_process_logs\u001b[0m\u001b[0;34m(\u001b[0m\u001b[0mlogs\u001b[0m\u001b[0;34m)\u001b[0m\u001b[0;34m\u001b[0m\u001b[0;34m\u001b[0m\u001b[0m\n\u001b[1;32m    415\u001b[0m     \u001b[0;32mfor\u001b[0m \u001b[0mcallback\u001b[0m \u001b[0;32min\u001b[0m \u001b[0mself\u001b[0m\u001b[0;34m.\u001b[0m\u001b[0mcallbacks\u001b[0m\u001b[0;34m:\u001b[0m\u001b[0;34m\u001b[0m\u001b[0;34m\u001b[0m\u001b[0m\n\u001b[0;32m--> 416\u001b[0;31m       \u001b[0mcallback\u001b[0m\u001b[0;34m.\u001b[0m\u001b[0mon_epoch_end\u001b[0m\u001b[0;34m(\u001b[0m\u001b[0mepoch\u001b[0m\u001b[0;34m,\u001b[0m \u001b[0mlogs\u001b[0m\u001b[0;34m)\u001b[0m\u001b[0;34m\u001b[0m\u001b[0;34m\u001b[0m\u001b[0m\n\u001b[0m\u001b[1;32m    417\u001b[0m \u001b[0;34m\u001b[0m\u001b[0m\n\u001b[1;32m    418\u001b[0m   \u001b[0;32mdef\u001b[0m \u001b[0mon_train_batch_begin\u001b[0m\u001b[0;34m(\u001b[0m\u001b[0mself\u001b[0m\u001b[0;34m,\u001b[0m \u001b[0mbatch\u001b[0m\u001b[0;34m,\u001b[0m \u001b[0mlogs\u001b[0m\u001b[0;34m=\u001b[0m\u001b[0;32mNone\u001b[0m\u001b[0;34m)\u001b[0m\u001b[0;34m:\u001b[0m\u001b[0;34m\u001b[0m\u001b[0;34m\u001b[0m\u001b[0m\n",
            "\u001b[0;32m/usr/local/lib/python3.8/dist-packages/keras/callbacks.py\u001b[0m in \u001b[0;36mon_epoch_end\u001b[0;34m(self, epoch, logs)\u001b[0m\n\u001b[1;32m   1387\u001b[0m     \u001b[0;31m# pylint: disable=protected-access\u001b[0m\u001b[0;34m\u001b[0m\u001b[0;34m\u001b[0m\u001b[0;34m\u001b[0m\u001b[0m\n\u001b[1;32m   1388\u001b[0m     \u001b[0;32mif\u001b[0m \u001b[0mself\u001b[0m\u001b[0;34m.\u001b[0m\u001b[0msave_freq\u001b[0m \u001b[0;34m==\u001b[0m \u001b[0;34m'epoch'\u001b[0m\u001b[0;34m:\u001b[0m\u001b[0;34m\u001b[0m\u001b[0;34m\u001b[0m\u001b[0m\n\u001b[0;32m-> 1389\u001b[0;31m       \u001b[0mself\u001b[0m\u001b[0;34m.\u001b[0m\u001b[0m_save_model\u001b[0m\u001b[0;34m(\u001b[0m\u001b[0mepoch\u001b[0m\u001b[0;34m=\u001b[0m\u001b[0mepoch\u001b[0m\u001b[0;34m,\u001b[0m \u001b[0mbatch\u001b[0m\u001b[0;34m=\u001b[0m\u001b[0;32mNone\u001b[0m\u001b[0;34m,\u001b[0m \u001b[0mlogs\u001b[0m\u001b[0;34m=\u001b[0m\u001b[0mlogs\u001b[0m\u001b[0;34m)\u001b[0m\u001b[0;34m\u001b[0m\u001b[0;34m\u001b[0m\u001b[0m\n\u001b[0m\u001b[1;32m   1390\u001b[0m \u001b[0;34m\u001b[0m\u001b[0m\n\u001b[1;32m   1391\u001b[0m   \u001b[0;32mdef\u001b[0m \u001b[0m_should_save_on_batch\u001b[0m\u001b[0;34m(\u001b[0m\u001b[0mself\u001b[0m\u001b[0;34m,\u001b[0m \u001b[0mbatch\u001b[0m\u001b[0;34m)\u001b[0m\u001b[0;34m:\u001b[0m\u001b[0;34m\u001b[0m\u001b[0;34m\u001b[0m\u001b[0m\n",
            "\u001b[0;32m/usr/local/lib/python3.8/dist-packages/keras/callbacks.py\u001b[0m in \u001b[0;36m_save_model\u001b[0;34m(self, epoch, batch, logs)\u001b[0m\n\u001b[1;32m   1442\u001b[0m                     filepath, overwrite=True, options=self._options)\n\u001b[1;32m   1443\u001b[0m               \u001b[0;32melse\u001b[0m\u001b[0;34m:\u001b[0m\u001b[0;34m\u001b[0m\u001b[0;34m\u001b[0m\u001b[0m\n\u001b[0;32m-> 1444\u001b[0;31m                 \u001b[0mself\u001b[0m\u001b[0;34m.\u001b[0m\u001b[0mmodel\u001b[0m\u001b[0;34m.\u001b[0m\u001b[0msave\u001b[0m\u001b[0;34m(\u001b[0m\u001b[0mfilepath\u001b[0m\u001b[0;34m,\u001b[0m \u001b[0moverwrite\u001b[0m\u001b[0;34m=\u001b[0m\u001b[0;32mTrue\u001b[0m\u001b[0;34m,\u001b[0m \u001b[0moptions\u001b[0m\u001b[0;34m=\u001b[0m\u001b[0mself\u001b[0m\u001b[0;34m.\u001b[0m\u001b[0m_options\u001b[0m\u001b[0;34m)\u001b[0m\u001b[0;34m\u001b[0m\u001b[0;34m\u001b[0m\u001b[0m\n\u001b[0m\u001b[1;32m   1445\u001b[0m             \u001b[0;32melse\u001b[0m\u001b[0;34m:\u001b[0m\u001b[0;34m\u001b[0m\u001b[0;34m\u001b[0m\u001b[0m\n\u001b[1;32m   1446\u001b[0m               \u001b[0;32mif\u001b[0m \u001b[0mself\u001b[0m\u001b[0;34m.\u001b[0m\u001b[0mverbose\u001b[0m \u001b[0;34m>\u001b[0m \u001b[0;36m0\u001b[0m\u001b[0;34m:\u001b[0m\u001b[0;34m\u001b[0m\u001b[0;34m\u001b[0m\u001b[0m\n",
            "\u001b[0;32m/usr/local/lib/python3.8/dist-packages/keras/utils/traceback_utils.py\u001b[0m in \u001b[0;36merror_handler\u001b[0;34m(*args, **kwargs)\u001b[0m\n\u001b[1;32m     62\u001b[0m     \u001b[0mfiltered_tb\u001b[0m \u001b[0;34m=\u001b[0m \u001b[0;32mNone\u001b[0m\u001b[0;34m\u001b[0m\u001b[0;34m\u001b[0m\u001b[0m\n\u001b[1;32m     63\u001b[0m     \u001b[0;32mtry\u001b[0m\u001b[0;34m:\u001b[0m\u001b[0;34m\u001b[0m\u001b[0;34m\u001b[0m\u001b[0m\n\u001b[0;32m---> 64\u001b[0;31m       \u001b[0;32mreturn\u001b[0m \u001b[0mfn\u001b[0m\u001b[0;34m(\u001b[0m\u001b[0;34m*\u001b[0m\u001b[0margs\u001b[0m\u001b[0;34m,\u001b[0m \u001b[0;34m**\u001b[0m\u001b[0mkwargs\u001b[0m\u001b[0;34m)\u001b[0m\u001b[0;34m\u001b[0m\u001b[0;34m\u001b[0m\u001b[0m\n\u001b[0m\u001b[1;32m     65\u001b[0m     \u001b[0;32mexcept\u001b[0m \u001b[0mException\u001b[0m \u001b[0;32mas\u001b[0m \u001b[0me\u001b[0m\u001b[0;34m:\u001b[0m  \u001b[0;31m# pylint: disable=broad-except\u001b[0m\u001b[0;34m\u001b[0m\u001b[0;34m\u001b[0m\u001b[0m\n\u001b[1;32m     66\u001b[0m       \u001b[0mfiltered_tb\u001b[0m \u001b[0;34m=\u001b[0m \u001b[0m_process_traceback_frames\u001b[0m\u001b[0;34m(\u001b[0m\u001b[0me\u001b[0m\u001b[0;34m.\u001b[0m\u001b[0m__traceback__\u001b[0m\u001b[0;34m)\u001b[0m\u001b[0;34m\u001b[0m\u001b[0;34m\u001b[0m\u001b[0m\n",
            "\u001b[0;32m/usr/local/lib/python3.8/dist-packages/keras/engine/training.py\u001b[0m in \u001b[0;36msave\u001b[0;34m(self, filepath, overwrite, include_optimizer, save_format, signatures, options, save_traces)\u001b[0m\n\u001b[1;32m   2433\u001b[0m     \"\"\"\n\u001b[1;32m   2434\u001b[0m     \u001b[0;31m# pylint: enable=line-too-long\u001b[0m\u001b[0;34m\u001b[0m\u001b[0;34m\u001b[0m\u001b[0;34m\u001b[0m\u001b[0m\n\u001b[0;32m-> 2435\u001b[0;31m     save.save_model(self, filepath, overwrite, include_optimizer, save_format,\n\u001b[0m\u001b[1;32m   2436\u001b[0m                     signatures, options, save_traces)\n\u001b[1;32m   2437\u001b[0m \u001b[0;34m\u001b[0m\u001b[0m\n",
            "\u001b[0;32m/usr/local/lib/python3.8/dist-packages/keras/utils/traceback_utils.py\u001b[0m in \u001b[0;36merror_handler\u001b[0;34m(*args, **kwargs)\u001b[0m\n\u001b[1;32m     62\u001b[0m     \u001b[0mfiltered_tb\u001b[0m \u001b[0;34m=\u001b[0m \u001b[0;32mNone\u001b[0m\u001b[0;34m\u001b[0m\u001b[0;34m\u001b[0m\u001b[0m\n\u001b[1;32m     63\u001b[0m     \u001b[0;32mtry\u001b[0m\u001b[0;34m:\u001b[0m\u001b[0;34m\u001b[0m\u001b[0;34m\u001b[0m\u001b[0m\n\u001b[0;32m---> 64\u001b[0;31m       \u001b[0;32mreturn\u001b[0m \u001b[0mfn\u001b[0m\u001b[0;34m(\u001b[0m\u001b[0;34m*\u001b[0m\u001b[0margs\u001b[0m\u001b[0;34m,\u001b[0m \u001b[0;34m**\u001b[0m\u001b[0mkwargs\u001b[0m\u001b[0;34m)\u001b[0m\u001b[0;34m\u001b[0m\u001b[0;34m\u001b[0m\u001b[0m\n\u001b[0m\u001b[1;32m     65\u001b[0m     \u001b[0;32mexcept\u001b[0m \u001b[0mException\u001b[0m \u001b[0;32mas\u001b[0m \u001b[0me\u001b[0m\u001b[0;34m:\u001b[0m  \u001b[0;31m# pylint: disable=broad-except\u001b[0m\u001b[0;34m\u001b[0m\u001b[0;34m\u001b[0m\u001b[0m\n\u001b[1;32m     66\u001b[0m       \u001b[0mfiltered_tb\u001b[0m \u001b[0;34m=\u001b[0m \u001b[0m_process_traceback_frames\u001b[0m\u001b[0;34m(\u001b[0m\u001b[0me\u001b[0m\u001b[0;34m.\u001b[0m\u001b[0m__traceback__\u001b[0m\u001b[0;34m)\u001b[0m\u001b[0;34m\u001b[0m\u001b[0;34m\u001b[0m\u001b[0m\n",
            "\u001b[0;32m/usr/local/lib/python3.8/dist-packages/keras/saving/save.py\u001b[0m in \u001b[0;36msave_model\u001b[0;34m(model, filepath, overwrite, include_optimizer, save_format, signatures, options, save_traces)\u001b[0m\n\u001b[1;32m    151\u001b[0m   \u001b[0;32melse\u001b[0m\u001b[0;34m:\u001b[0m\u001b[0;34m\u001b[0m\u001b[0;34m\u001b[0m\u001b[0m\n\u001b[1;32m    152\u001b[0m     \u001b[0;32mwith\u001b[0m \u001b[0mgeneric_utils\u001b[0m\u001b[0;34m.\u001b[0m\u001b[0mSharedObjectSavingScope\u001b[0m\u001b[0;34m(\u001b[0m\u001b[0;34m)\u001b[0m\u001b[0;34m:\u001b[0m\u001b[0;34m\u001b[0m\u001b[0;34m\u001b[0m\u001b[0m\n\u001b[0;32m--> 153\u001b[0;31m       saved_model_save.save(model, filepath, overwrite, include_optimizer,\n\u001b[0m\u001b[1;32m    154\u001b[0m                             signatures, options, save_traces)\n\u001b[1;32m    155\u001b[0m \u001b[0;34m\u001b[0m\u001b[0m\n",
            "\u001b[0;32m/usr/local/lib/python3.8/dist-packages/keras/saving/saved_model/save.py\u001b[0m in \u001b[0;36msave\u001b[0;34m(model, filepath, overwrite, include_optimizer, signatures, options, save_traces)\u001b[0m\n\u001b[1;32m     91\u001b[0m   \u001b[0;32mwith\u001b[0m \u001b[0mbackend\u001b[0m\u001b[0;34m.\u001b[0m\u001b[0mdeprecated_internal_learning_phase_scope\u001b[0m\u001b[0;34m(\u001b[0m\u001b[0;36m0\u001b[0m\u001b[0;34m)\u001b[0m\u001b[0;34m:\u001b[0m\u001b[0;34m\u001b[0m\u001b[0;34m\u001b[0m\u001b[0m\n\u001b[1;32m     92\u001b[0m     \u001b[0;32mwith\u001b[0m \u001b[0mutils\u001b[0m\u001b[0;34m.\u001b[0m\u001b[0mkeras_option_scope\u001b[0m\u001b[0;34m(\u001b[0m\u001b[0msave_traces\u001b[0m\u001b[0;34m)\u001b[0m\u001b[0;34m:\u001b[0m\u001b[0;34m\u001b[0m\u001b[0;34m\u001b[0m\u001b[0m\n\u001b[0;32m---> 93\u001b[0;31m       saved_nodes, node_paths = save_lib.save_and_return_nodes(\n\u001b[0m\u001b[1;32m     94\u001b[0m           model, filepath, signatures, options)\n\u001b[1;32m     95\u001b[0m \u001b[0;34m\u001b[0m\u001b[0m\n",
            "\u001b[0;32m/usr/local/lib/python3.8/dist-packages/tensorflow/python/saved_model/save.py\u001b[0m in \u001b[0;36msave_and_return_nodes\u001b[0;34m(obj, export_dir, signatures, options, experimental_skip_checkpoint)\u001b[0m\n\u001b[1;32m   1323\u001b[0m \u001b[0;34m\u001b[0m\u001b[0m\n\u001b[1;32m   1324\u001b[0m   _, exported_graph, object_saver, asset_info, saved_nodes, node_paths = (\n\u001b[0;32m-> 1325\u001b[0;31m       _build_meta_graph(obj, signatures, options, meta_graph_def))\n\u001b[0m\u001b[1;32m   1326\u001b[0m   saved_model.saved_model_schema_version = (\n\u001b[1;32m   1327\u001b[0m       constants.SAVED_MODEL_SCHEMA_VERSION)\n",
            "\u001b[0;32m/usr/local/lib/python3.8/dist-packages/tensorflow/python/saved_model/save.py\u001b[0m in \u001b[0;36m_build_meta_graph\u001b[0;34m(obj, signatures, options, meta_graph_def)\u001b[0m\n\u001b[1;32m   1489\u001b[0m \u001b[0;34m\u001b[0m\u001b[0m\n\u001b[1;32m   1490\u001b[0m   \u001b[0;32mwith\u001b[0m \u001b[0msave_context\u001b[0m\u001b[0;34m.\u001b[0m\u001b[0msave_context\u001b[0m\u001b[0;34m(\u001b[0m\u001b[0moptions\u001b[0m\u001b[0;34m)\u001b[0m\u001b[0;34m:\u001b[0m\u001b[0;34m\u001b[0m\u001b[0;34m\u001b[0m\u001b[0m\n\u001b[0;32m-> 1491\u001b[0;31m     \u001b[0;32mreturn\u001b[0m \u001b[0m_build_meta_graph_impl\u001b[0m\u001b[0;34m(\u001b[0m\u001b[0mobj\u001b[0m\u001b[0;34m,\u001b[0m \u001b[0msignatures\u001b[0m\u001b[0;34m,\u001b[0m \u001b[0moptions\u001b[0m\u001b[0;34m,\u001b[0m \u001b[0mmeta_graph_def\u001b[0m\u001b[0;34m)\u001b[0m\u001b[0;34m\u001b[0m\u001b[0;34m\u001b[0m\u001b[0m\n\u001b[0m",
            "\u001b[0;32m/usr/local/lib/python3.8/dist-packages/tensorflow/python/saved_model/save.py\u001b[0m in \u001b[0;36m_build_meta_graph_impl\u001b[0;34m(obj, signatures, options, meta_graph_def)\u001b[0m\n\u001b[1;32m   1443\u001b[0m   \u001b[0msaveable_view\u001b[0m \u001b[0;34m=\u001b[0m \u001b[0m_SaveableView\u001b[0m\u001b[0;34m(\u001b[0m\u001b[0maugmented_graph_view\u001b[0m\u001b[0;34m,\u001b[0m \u001b[0moptions\u001b[0m\u001b[0;34m)\u001b[0m\u001b[0;34m\u001b[0m\u001b[0;34m\u001b[0m\u001b[0m\n\u001b[1;32m   1444\u001b[0m   \u001b[0mobject_saver\u001b[0m \u001b[0;34m=\u001b[0m \u001b[0mutil\u001b[0m\u001b[0;34m.\u001b[0m\u001b[0mTrackableSaver\u001b[0m\u001b[0;34m(\u001b[0m\u001b[0maugmented_graph_view\u001b[0m\u001b[0;34m)\u001b[0m\u001b[0;34m\u001b[0m\u001b[0;34m\u001b[0m\u001b[0m\n\u001b[0;32m-> 1445\u001b[0;31m   asset_info, exported_graph = _fill_meta_graph_def(\n\u001b[0m\u001b[1;32m   1446\u001b[0m       \u001b[0mmeta_graph_def\u001b[0m\u001b[0;34m,\u001b[0m \u001b[0msaveable_view\u001b[0m\u001b[0;34m,\u001b[0m \u001b[0msignatures\u001b[0m\u001b[0;34m,\u001b[0m\u001b[0;34m\u001b[0m\u001b[0;34m\u001b[0m\u001b[0m\n\u001b[1;32m   1447\u001b[0m       options.namespace_whitelist, options.experimental_custom_gradients)\n",
            "\u001b[0;32m/usr/local/lib/python3.8/dist-packages/tensorflow/python/saved_model/save.py\u001b[0m in \u001b[0;36m_fill_meta_graph_def\u001b[0;34m(meta_graph_def, saveable_view, signature_functions, namespace_whitelist, save_custom_gradients)\u001b[0m\n\u001b[1;32m    903\u001b[0m       \u001b[0mconcrete_function\u001b[0m\u001b[0;34m.\u001b[0m\u001b[0madd_to_graph\u001b[0m\u001b[0;34m(\u001b[0m\u001b[0;34m)\u001b[0m\u001b[0;34m\u001b[0m\u001b[0;34m\u001b[0m\u001b[0m\n\u001b[1;32m    904\u001b[0m     \u001b[0;32mif\u001b[0m \u001b[0msave_custom_gradients\u001b[0m\u001b[0;34m:\u001b[0m\u001b[0;34m\u001b[0m\u001b[0;34m\u001b[0m\u001b[0m\n\u001b[0;32m--> 905\u001b[0;31m       \u001b[0m_trace_gradient_functions\u001b[0m\u001b[0;34m(\u001b[0m\u001b[0mexported_graph\u001b[0m\u001b[0;34m,\u001b[0m \u001b[0msaveable_view\u001b[0m\u001b[0;34m)\u001b[0m\u001b[0;34m\u001b[0m\u001b[0;34m\u001b[0m\u001b[0m\n\u001b[0m\u001b[1;32m    906\u001b[0m     \u001b[0msaver_def\u001b[0m \u001b[0;34m=\u001b[0m \u001b[0msaver\u001b[0m\u001b[0;34m.\u001b[0m\u001b[0mto_proto\u001b[0m\u001b[0;34m(\u001b[0m\u001b[0;34m)\u001b[0m\u001b[0;34m\u001b[0m\u001b[0;34m\u001b[0m\u001b[0m\n\u001b[1;32m    907\u001b[0m     \u001b[0mmeta_graph_def\u001b[0m\u001b[0;34m.\u001b[0m\u001b[0msaver_def\u001b[0m\u001b[0;34m.\u001b[0m\u001b[0mCopyFrom\u001b[0m\u001b[0;34m(\u001b[0m\u001b[0msaver_def\u001b[0m\u001b[0;34m)\u001b[0m\u001b[0;34m\u001b[0m\u001b[0;34m\u001b[0m\u001b[0m\n",
            "\u001b[0;32m/usr/local/lib/python3.8/dist-packages/tensorflow/python/saved_model/save.py\u001b[0m in \u001b[0;36m_trace_gradient_functions\u001b[0;34m(graph, saveable_view)\u001b[0m\n\u001b[1;32m    809\u001b[0m           \u001b[0;32mif\u001b[0m \u001b[0misinstance\u001b[0m\u001b[0;34m(\u001b[0m\u001b[0mouter_fn\u001b[0m\u001b[0;34m,\u001b[0m \u001b[0mdefun\u001b[0m\u001b[0;34m.\u001b[0m\u001b[0m_EagerDefinedFunction\u001b[0m\u001b[0;34m)\u001b[0m\u001b[0;34m:\u001b[0m  \u001b[0;31m# pylint:disable=protected-access\u001b[0m\u001b[0;34m\u001b[0m\u001b[0;34m\u001b[0m\u001b[0m\n\u001b[1;32m    810\u001b[0m             \u001b[0;32mtry\u001b[0m\u001b[0;34m:\u001b[0m\u001b[0;34m\u001b[0m\u001b[0;34m\u001b[0m\u001b[0m\n\u001b[0;32m--> 811\u001b[0;31m               \u001b[0marg_index\u001b[0m \u001b[0;34m=\u001b[0m \u001b[0mouter_fn\u001b[0m\u001b[0;34m.\u001b[0m\u001b[0mgraph\u001b[0m\u001b[0;34m.\u001b[0m\u001b[0minputs\u001b[0m\u001b[0;34m.\u001b[0m\u001b[0mindex\u001b[0m\u001b[0;34m(\u001b[0m\u001b[0mouter_capture\u001b[0m\u001b[0;34m)\u001b[0m\u001b[0;34m\u001b[0m\u001b[0;34m\u001b[0m\u001b[0m\n\u001b[0m\u001b[1;32m    812\u001b[0m               \u001b[0mcapture_name\u001b[0m \u001b[0;34m=\u001b[0m \u001b[0mouter_fn\u001b[0m\u001b[0;34m.\u001b[0m\u001b[0msignature\u001b[0m\u001b[0;34m.\u001b[0m\u001b[0minput_arg\u001b[0m\u001b[0;34m[\u001b[0m\u001b[0marg_index\u001b[0m\u001b[0;34m]\u001b[0m\u001b[0;34m.\u001b[0m\u001b[0mname\u001b[0m \u001b[0;34m+\u001b[0m \u001b[0;34m\":0\"\u001b[0m\u001b[0;34m\u001b[0m\u001b[0;34m\u001b[0m\u001b[0m\n\u001b[1;32m    813\u001b[0m             \u001b[0;32mexcept\u001b[0m \u001b[0mValueError\u001b[0m\u001b[0;34m:\u001b[0m\u001b[0;34m\u001b[0m\u001b[0;34m\u001b[0m\u001b[0m\n",
            "\u001b[0;32m/usr/local/lib/python3.8/dist-packages/tensorflow/python/util/traceback_utils.py\u001b[0m in \u001b[0;36merror_handler\u001b[0;34m(*args, **kwargs)\u001b[0m\n\u001b[1;32m    148\u001b[0m     \u001b[0mfiltered_tb\u001b[0m \u001b[0;34m=\u001b[0m \u001b[0;32mNone\u001b[0m\u001b[0;34m\u001b[0m\u001b[0;34m\u001b[0m\u001b[0m\n\u001b[1;32m    149\u001b[0m     \u001b[0;32mtry\u001b[0m\u001b[0;34m:\u001b[0m\u001b[0;34m\u001b[0m\u001b[0;34m\u001b[0m\u001b[0m\n\u001b[0;32m--> 150\u001b[0;31m       \u001b[0;32mreturn\u001b[0m \u001b[0mfn\u001b[0m\u001b[0;34m(\u001b[0m\u001b[0;34m*\u001b[0m\u001b[0margs\u001b[0m\u001b[0;34m,\u001b[0m \u001b[0;34m**\u001b[0m\u001b[0mkwargs\u001b[0m\u001b[0;34m)\u001b[0m\u001b[0;34m\u001b[0m\u001b[0;34m\u001b[0m\u001b[0m\n\u001b[0m\u001b[1;32m    151\u001b[0m     \u001b[0;32mexcept\u001b[0m \u001b[0mException\u001b[0m \u001b[0;32mas\u001b[0m \u001b[0me\u001b[0m\u001b[0;34m:\u001b[0m\u001b[0;34m\u001b[0m\u001b[0;34m\u001b[0m\u001b[0m\n\u001b[1;32m    152\u001b[0m       \u001b[0mfiltered_tb\u001b[0m \u001b[0;34m=\u001b[0m \u001b[0m_process_traceback_frames\u001b[0m\u001b[0;34m(\u001b[0m\u001b[0me\u001b[0m\u001b[0;34m.\u001b[0m\u001b[0m__traceback__\u001b[0m\u001b[0;34m)\u001b[0m\u001b[0;34m\u001b[0m\u001b[0;34m\u001b[0m\u001b[0m\n",
            "\u001b[0;32m/usr/local/lib/python3.8/dist-packages/tensorflow/python/util/dispatch.py\u001b[0m in \u001b[0;36mop_dispatch_handler\u001b[0;34m(*args, **kwargs)\u001b[0m\n\u001b[1;32m   1080\u001b[0m       \u001b[0;31m# Fallback dispatch system (dispatch v1):\u001b[0m\u001b[0;34m\u001b[0m\u001b[0;34m\u001b[0m\u001b[0;34m\u001b[0m\u001b[0m\n\u001b[1;32m   1081\u001b[0m       \u001b[0;32mtry\u001b[0m\u001b[0;34m:\u001b[0m\u001b[0;34m\u001b[0m\u001b[0;34m\u001b[0m\u001b[0m\n\u001b[0;32m-> 1082\u001b[0;31m         \u001b[0;32mreturn\u001b[0m \u001b[0mdispatch_target\u001b[0m\u001b[0;34m(\u001b[0m\u001b[0;34m*\u001b[0m\u001b[0margs\u001b[0m\u001b[0;34m,\u001b[0m \u001b[0;34m**\u001b[0m\u001b[0mkwargs\u001b[0m\u001b[0;34m)\u001b[0m\u001b[0;34m\u001b[0m\u001b[0;34m\u001b[0m\u001b[0m\n\u001b[0m\u001b[1;32m   1083\u001b[0m       \u001b[0;32mexcept\u001b[0m \u001b[0;34m(\u001b[0m\u001b[0mTypeError\u001b[0m\u001b[0;34m,\u001b[0m \u001b[0mValueError\u001b[0m\u001b[0;34m)\u001b[0m\u001b[0;34m:\u001b[0m\u001b[0;34m\u001b[0m\u001b[0;34m\u001b[0m\u001b[0m\n\u001b[1;32m   1084\u001b[0m         \u001b[0;31m# Note: convert_to_eager_tensor currently raises a ValueError, not a\u001b[0m\u001b[0;34m\u001b[0m\u001b[0;34m\u001b[0m\u001b[0;34m\u001b[0m\u001b[0m\n",
            "\u001b[0;32m/usr/local/lib/python3.8/dist-packages/tensorflow/python/ops/math_ops.py\u001b[0m in \u001b[0;36mtensor_equals\u001b[0;34m(self, other)\u001b[0m\n\u001b[1;32m   1989\u001b[0m   \u001b[0;32mif\u001b[0m \u001b[0mother\u001b[0m \u001b[0;32mis\u001b[0m \u001b[0;32mNone\u001b[0m\u001b[0;34m:\u001b[0m\u001b[0;34m\u001b[0m\u001b[0;34m\u001b[0m\u001b[0m\n\u001b[1;32m   1990\u001b[0m     \u001b[0;32mreturn\u001b[0m \u001b[0;32mFalse\u001b[0m\u001b[0;34m\u001b[0m\u001b[0;34m\u001b[0m\u001b[0m\n\u001b[0;32m-> 1991\u001b[0;31m   \u001b[0mg\u001b[0m \u001b[0;34m=\u001b[0m \u001b[0mgetattr\u001b[0m\u001b[0;34m(\u001b[0m\u001b[0mself\u001b[0m\u001b[0;34m,\u001b[0m \u001b[0;34m\"graph\"\u001b[0m\u001b[0;34m,\u001b[0m \u001b[0;32mNone\u001b[0m\u001b[0;34m)\u001b[0m\u001b[0;34m\u001b[0m\u001b[0;34m\u001b[0m\u001b[0m\n\u001b[0m\u001b[1;32m   1992\u001b[0m   if (ops.Tensor._USE_EQUALITY and ops.executing_eagerly_outside_functions() and\n\u001b[1;32m   1993\u001b[0m       (g is None or g.building_function)):\n",
            "\u001b[0;32m/usr/local/lib/python3.8/dist-packages/tensorflow/python/framework/ops.py\u001b[0m in \u001b[0;36mgraph\u001b[0;34m(self)\u001b[0m\n\u001b[1;32m    465\u001b[0m   \u001b[0;32mdef\u001b[0m \u001b[0mgraph\u001b[0m\u001b[0;34m(\u001b[0m\u001b[0mself\u001b[0m\u001b[0;34m)\u001b[0m\u001b[0;34m:\u001b[0m\u001b[0;34m\u001b[0m\u001b[0;34m\u001b[0m\u001b[0m\n\u001b[1;32m    466\u001b[0m     \u001b[0;34m\"\"\"The `Graph` that contains this tensor.\"\"\"\u001b[0m\u001b[0;34m\u001b[0m\u001b[0;34m\u001b[0m\u001b[0m\n\u001b[0;32m--> 467\u001b[0;31m     \u001b[0;32mreturn\u001b[0m \u001b[0mself\u001b[0m\u001b[0;34m.\u001b[0m\u001b[0m_op\u001b[0m\u001b[0;34m.\u001b[0m\u001b[0mgraph\u001b[0m\u001b[0;34m\u001b[0m\u001b[0;34m\u001b[0m\u001b[0m\n\u001b[0m\u001b[1;32m    468\u001b[0m \u001b[0;34m\u001b[0m\u001b[0m\n\u001b[1;32m    469\u001b[0m   \u001b[0;34m@\u001b[0m\u001b[0mproperty\u001b[0m\u001b[0;34m\u001b[0m\u001b[0;34m\u001b[0m\u001b[0m\n",
            "\u001b[0;32m/usr/local/lib/python3.8/dist-packages/tensorflow/python/framework/ops.py\u001b[0m in \u001b[0;36mgraph\u001b[0;34m(self)\u001b[0m\n\u001b[1;32m   2544\u001b[0m   \u001b[0;32mdef\u001b[0m \u001b[0mgraph\u001b[0m\u001b[0;34m(\u001b[0m\u001b[0mself\u001b[0m\u001b[0;34m)\u001b[0m\u001b[0;34m:\u001b[0m\u001b[0;34m\u001b[0m\u001b[0;34m\u001b[0m\u001b[0m\n\u001b[1;32m   2545\u001b[0m     \u001b[0;34m\"\"\"The `Graph` that contains this operation.\"\"\"\u001b[0m\u001b[0;34m\u001b[0m\u001b[0;34m\u001b[0m\u001b[0m\n\u001b[0;32m-> 2546\u001b[0;31m     \u001b[0;32mreturn\u001b[0m \u001b[0mself\u001b[0m\u001b[0;34m.\u001b[0m\u001b[0m_graph\u001b[0m\u001b[0;34m\u001b[0m\u001b[0;34m\u001b[0m\u001b[0m\n\u001b[0m\u001b[1;32m   2547\u001b[0m \u001b[0;34m\u001b[0m\u001b[0m\n\u001b[1;32m   2548\u001b[0m   \u001b[0;34m@\u001b[0m\u001b[0mproperty\u001b[0m\u001b[0;34m\u001b[0m\u001b[0;34m\u001b[0m\u001b[0m\n",
            "\u001b[0;31mKeyboardInterrupt\u001b[0m: "
          ]
        }
      ]
    }
  ]
}