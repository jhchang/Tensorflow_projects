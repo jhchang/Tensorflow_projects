{
  "nbformat": 4,
  "nbformat_minor": 0,
  "metadata": {
    "colab": {
      "provenance": [],
      "authorship_tag": "ABX9TyMhK9cEYAkNCNMB1LDi0Wr2",
      "include_colab_link": true
    },
    "kernelspec": {
      "name": "python3",
      "display_name": "Python 3"
    },
    "language_info": {
      "name": "python"
    },
    "accelerator": "GPU",
    "gpuClass": "standard"
  },
  "cells": [
    {
      "cell_type": "markdown",
      "metadata": {
        "id": "view-in-github",
        "colab_type": "text"
      },
      "source": [
        "<a href=\"https://colab.research.google.com/github/jhchang/Tensorflow_projects/blob/main/TimeSeriesPredictWeather.ipynb\" target=\"_parent\"><img src=\"https://colab.research.google.com/assets/colab-badge.svg\" alt=\"Open In Colab\"/></a>"
      ]
    },
    {
      "cell_type": "code",
      "execution_count": 110,
      "metadata": {
        "colab": {
          "base_uri": "https://localhost:8080/"
        },
        "id": "C7Md-W7QgGFz",
        "outputId": "028ad78a-44c2-4026-8f89-8676a6085aaa"
      },
      "outputs": [
        {
          "output_type": "stream",
          "name": "stdout",
          "text": [
            "GPU 0: Tesla T4 (UUID: GPU-d58e25ef-041d-1985-e799-72f6225f8c9f)\n"
          ]
        }
      ],
      "source": [
        "# Need a compute power of 7.0+ to use mixed precision training\n",
        "!nvidia-smi -L"
      ]
    },
    {
      "cell_type": "code",
      "source": [
        "import tensorflow as tf\n",
        "print(tf.__version__)"
      ],
      "metadata": {
        "colab": {
          "base_uri": "https://localhost:8080/"
        },
        "id": "nCuzsLGFgPc4",
        "outputId": "904a5906-9621-4f9a-8b53-dfe1d7590333"
      },
      "execution_count": 111,
      "outputs": [
        {
          "output_type": "stream",
          "name": "stdout",
          "text": [
            "2.9.2\n"
          ]
        }
      ]
    },
    {
      "cell_type": "code",
      "source": [
        "import numpy as np\n",
        "from tensorflow.keras import layers"
      ],
      "metadata": {
        "id": "su8g7FFSgUT4"
      },
      "execution_count": 112,
      "outputs": []
    },
    {
      "cell_type": "code",
      "source": [
        "# Get helper functions file\n",
        "import os \n",
        "\n",
        "if not os.path.exists(\"helper_functions.py\"):\n",
        "    !wget https://raw.githubusercontent.com/mrdbourke/tensorflow-deep-learning/main/extras/helper_functions.py\n",
        "else:\n",
        "    print(\"[INFO] 'helper_functions.py' already exists, skipping download.\")"
      ],
      "metadata": {
        "colab": {
          "base_uri": "https://localhost:8080/"
        },
        "id": "Sp_cMlRQgdoB",
        "outputId": "00da1eca-4065-4971-b7f4-3a8dc025a950"
      },
      "execution_count": 113,
      "outputs": [
        {
          "output_type": "stream",
          "name": "stdout",
          "text": [
            "[INFO] 'helper_functions.py' already exists, skipping download.\n"
          ]
        }
      ]
    },
    {
      "cell_type": "code",
      "source": [
        "from helper_functions import create_tensorboard_callback, plot_loss_curves, compare_historys, unzip_data, walk_through_dir"
      ],
      "metadata": {
        "id": "HbWM_2j6gpxP"
      },
      "execution_count": 114,
      "outputs": []
    },
    {
      "cell_type": "code",
      "source": [
        "from google.colab import drive\n",
        "drive.mount('/content/drive')"
      ],
      "metadata": {
        "colab": {
          "base_uri": "https://localhost:8080/"
        },
        "id": "qzhCcFu2hEVs",
        "outputId": "e32c0ba6-c616-4456-fd74-f2ce30cc5506"
      },
      "execution_count": 115,
      "outputs": [
        {
          "output_type": "stream",
          "name": "stdout",
          "text": [
            "Drive already mounted at /content/drive; to attempt to forcibly remount, call drive.mount(\"/content/drive\", force_remount=True).\n"
          ]
        }
      ]
    },
    {
      "cell_type": "code",
      "source": [
        "if os.path.exists('TimeSeriesWeather/'):\n",
        "    print('Directory already exists')\n",
        "else:\n",
        "    !mkdir -p TimeSeriesWeather\n",
        "    !unzip /content/drive/MyDrive/TimeSeriesWeather.zip -d TimeSeriesWeather"
      ],
      "metadata": {
        "colab": {
          "base_uri": "https://localhost:8080/"
        },
        "id": "pFZfUla4gtCy",
        "outputId": "3a6982ab-d774-4ecd-cab1-782a5c127016"
      },
      "execution_count": 116,
      "outputs": [
        {
          "output_type": "stream",
          "name": "stdout",
          "text": [
            "Directory already exists\n"
          ]
        }
      ]
    },
    {
      "cell_type": "code",
      "source": [
        "data_dir = \"TimeSeriesWeather/\""
      ],
      "metadata": {
        "id": "lbj7e-fBhA1G"
      },
      "execution_count": 117,
      "outputs": []
    },
    {
      "cell_type": "code",
      "source": [
        "# Check all of the filenames in the target directory\n",
        "import os\n",
        "filenames = [data_dir + filename for filename in os.listdir(data_dir)]\n",
        "filenames"
      ],
      "metadata": {
        "colab": {
          "base_uri": "https://localhost:8080/"
        },
        "id": "FKlNJcXYhcT8",
        "outputId": "adae92cf-0373-43d7-bf3a-3ac2a5c69587"
      },
      "execution_count": 118,
      "outputs": [
        {
          "output_type": "execute_result",
          "data": {
            "text/plain": [
              "['TimeSeriesWeather/DailyDelhiClimateTest.csv',\n",
              " 'TimeSeriesWeather/DailyDelhiClimateTrain.csv']"
            ]
          },
          "metadata": {},
          "execution_count": 118
        }
      ]
    },
    {
      "cell_type": "code",
      "source": [
        "!pwd"
      ],
      "metadata": {
        "colab": {
          "base_uri": "https://localhost:8080/"
        },
        "id": "uOpopKi_kCO2",
        "outputId": "6e648fb8-25e1-4610-d5c7-fef4e80d893b"
      },
      "execution_count": 119,
      "outputs": [
        {
          "output_type": "stream",
          "name": "stdout",
          "text": [
            "/content\n"
          ]
        }
      ]
    },
    {
      "cell_type": "code",
      "source": [
        "!ls"
      ],
      "metadata": {
        "colab": {
          "base_uri": "https://localhost:8080/"
        },
        "id": "BS2wmJG9kGeG",
        "outputId": "0d9d2cf4-8275-4e0c-9ba2-0badf125670d"
      },
      "execution_count": 120,
      "outputs": [
        {
          "output_type": "stream",
          "name": "stdout",
          "text": [
            "drive\t\t     model_experiments\tsample_data\n",
            "helper_functions.py  __pycache__\tTimeSeriesWeather\n"
          ]
        }
      ]
    },
    {
      "cell_type": "code",
      "source": [
        "# Import with pandas \n",
        "import pandas as pd\n",
        "# Parse dates and set date column to index\n",
        "df = pd.read_csv(\"TimeSeriesWeather/DailyDelhiClimateTrain.csv\", \n",
        "                 parse_dates=[\"date\"], \n",
        "                 index_col=[\"date\"]) # parse the date column (tell pandas column 1 is a datetime)\n",
        "df.head()"
      ],
      "metadata": {
        "colab": {
          "base_uri": "https://localhost:8080/",
          "height": 238
        },
        "id": "I1HJAj7KjqFY",
        "outputId": "18cc617b-bcdd-42b1-c29d-0ebe54a64cd1"
      },
      "execution_count": 121,
      "outputs": [
        {
          "output_type": "execute_result",
          "data": {
            "text/plain": [
              "             meantemp   humidity  wind_speed  meanpressure\n",
              "date                                                      \n",
              "2013-01-01  10.000000  84.500000    0.000000   1015.666667\n",
              "2013-01-02   7.400000  92.000000    2.980000   1017.800000\n",
              "2013-01-03   7.166667  87.000000    4.633333   1018.666667\n",
              "2013-01-04   8.666667  71.333333    1.233333   1017.166667\n",
              "2013-01-05   6.000000  86.833333    3.700000   1016.500000"
            ],
            "text/html": [
              "\n",
              "  <div id=\"df-cd1bd3e0-a825-4b9c-959b-9e52bd7beb5d\">\n",
              "    <div class=\"colab-df-container\">\n",
              "      <div>\n",
              "<style scoped>\n",
              "    .dataframe tbody tr th:only-of-type {\n",
              "        vertical-align: middle;\n",
              "    }\n",
              "\n",
              "    .dataframe tbody tr th {\n",
              "        vertical-align: top;\n",
              "    }\n",
              "\n",
              "    .dataframe thead th {\n",
              "        text-align: right;\n",
              "    }\n",
              "</style>\n",
              "<table border=\"1\" class=\"dataframe\">\n",
              "  <thead>\n",
              "    <tr style=\"text-align: right;\">\n",
              "      <th></th>\n",
              "      <th>meantemp</th>\n",
              "      <th>humidity</th>\n",
              "      <th>wind_speed</th>\n",
              "      <th>meanpressure</th>\n",
              "    </tr>\n",
              "    <tr>\n",
              "      <th>date</th>\n",
              "      <th></th>\n",
              "      <th></th>\n",
              "      <th></th>\n",
              "      <th></th>\n",
              "    </tr>\n",
              "  </thead>\n",
              "  <tbody>\n",
              "    <tr>\n",
              "      <th>2013-01-01</th>\n",
              "      <td>10.000000</td>\n",
              "      <td>84.500000</td>\n",
              "      <td>0.000000</td>\n",
              "      <td>1015.666667</td>\n",
              "    </tr>\n",
              "    <tr>\n",
              "      <th>2013-01-02</th>\n",
              "      <td>7.400000</td>\n",
              "      <td>92.000000</td>\n",
              "      <td>2.980000</td>\n",
              "      <td>1017.800000</td>\n",
              "    </tr>\n",
              "    <tr>\n",
              "      <th>2013-01-03</th>\n",
              "      <td>7.166667</td>\n",
              "      <td>87.000000</td>\n",
              "      <td>4.633333</td>\n",
              "      <td>1018.666667</td>\n",
              "    </tr>\n",
              "    <tr>\n",
              "      <th>2013-01-04</th>\n",
              "      <td>8.666667</td>\n",
              "      <td>71.333333</td>\n",
              "      <td>1.233333</td>\n",
              "      <td>1017.166667</td>\n",
              "    </tr>\n",
              "    <tr>\n",
              "      <th>2013-01-05</th>\n",
              "      <td>6.000000</td>\n",
              "      <td>86.833333</td>\n",
              "      <td>3.700000</td>\n",
              "      <td>1016.500000</td>\n",
              "    </tr>\n",
              "  </tbody>\n",
              "</table>\n",
              "</div>\n",
              "      <button class=\"colab-df-convert\" onclick=\"convertToInteractive('df-cd1bd3e0-a825-4b9c-959b-9e52bd7beb5d')\"\n",
              "              title=\"Convert this dataframe to an interactive table.\"\n",
              "              style=\"display:none;\">\n",
              "        \n",
              "  <svg xmlns=\"http://www.w3.org/2000/svg\" height=\"24px\"viewBox=\"0 0 24 24\"\n",
              "       width=\"24px\">\n",
              "    <path d=\"M0 0h24v24H0V0z\" fill=\"none\"/>\n",
              "    <path d=\"M18.56 5.44l.94 2.06.94-2.06 2.06-.94-2.06-.94-.94-2.06-.94 2.06-2.06.94zm-11 1L8.5 8.5l.94-2.06 2.06-.94-2.06-.94L8.5 2.5l-.94 2.06-2.06.94zm10 10l.94 2.06.94-2.06 2.06-.94-2.06-.94-.94-2.06-.94 2.06-2.06.94z\"/><path d=\"M17.41 7.96l-1.37-1.37c-.4-.4-.92-.59-1.43-.59-.52 0-1.04.2-1.43.59L10.3 9.45l-7.72 7.72c-.78.78-.78 2.05 0 2.83L4 21.41c.39.39.9.59 1.41.59.51 0 1.02-.2 1.41-.59l7.78-7.78 2.81-2.81c.8-.78.8-2.07 0-2.86zM5.41 20L4 18.59l7.72-7.72 1.47 1.35L5.41 20z\"/>\n",
              "  </svg>\n",
              "      </button>\n",
              "      \n",
              "  <style>\n",
              "    .colab-df-container {\n",
              "      display:flex;\n",
              "      flex-wrap:wrap;\n",
              "      gap: 12px;\n",
              "    }\n",
              "\n",
              "    .colab-df-convert {\n",
              "      background-color: #E8F0FE;\n",
              "      border: none;\n",
              "      border-radius: 50%;\n",
              "      cursor: pointer;\n",
              "      display: none;\n",
              "      fill: #1967D2;\n",
              "      height: 32px;\n",
              "      padding: 0 0 0 0;\n",
              "      width: 32px;\n",
              "    }\n",
              "\n",
              "    .colab-df-convert:hover {\n",
              "      background-color: #E2EBFA;\n",
              "      box-shadow: 0px 1px 2px rgba(60, 64, 67, 0.3), 0px 1px 3px 1px rgba(60, 64, 67, 0.15);\n",
              "      fill: #174EA6;\n",
              "    }\n",
              "\n",
              "    [theme=dark] .colab-df-convert {\n",
              "      background-color: #3B4455;\n",
              "      fill: #D2E3FC;\n",
              "    }\n",
              "\n",
              "    [theme=dark] .colab-df-convert:hover {\n",
              "      background-color: #434B5C;\n",
              "      box-shadow: 0px 1px 3px 1px rgba(0, 0, 0, 0.15);\n",
              "      filter: drop-shadow(0px 1px 2px rgba(0, 0, 0, 0.3));\n",
              "      fill: #FFFFFF;\n",
              "    }\n",
              "  </style>\n",
              "\n",
              "      <script>\n",
              "        const buttonEl =\n",
              "          document.querySelector('#df-cd1bd3e0-a825-4b9c-959b-9e52bd7beb5d button.colab-df-convert');\n",
              "        buttonEl.style.display =\n",
              "          google.colab.kernel.accessAllowed ? 'block' : 'none';\n",
              "\n",
              "        async function convertToInteractive(key) {\n",
              "          const element = document.querySelector('#df-cd1bd3e0-a825-4b9c-959b-9e52bd7beb5d');\n",
              "          const dataTable =\n",
              "            await google.colab.kernel.invokeFunction('convertToInteractive',\n",
              "                                                     [key], {});\n",
              "          if (!dataTable) return;\n",
              "\n",
              "          const docLinkHtml = 'Like what you see? Visit the ' +\n",
              "            '<a target=\"_blank\" href=https://colab.research.google.com/notebooks/data_table.ipynb>data table notebook</a>'\n",
              "            + ' to learn more about interactive tables.';\n",
              "          element.innerHTML = '';\n",
              "          dataTable['output_type'] = 'display_data';\n",
              "          await google.colab.output.renderOutput(dataTable, element);\n",
              "          const docLink = document.createElement('div');\n",
              "          docLink.innerHTML = docLinkHtml;\n",
              "          element.appendChild(docLink);\n",
              "        }\n",
              "      </script>\n",
              "    </div>\n",
              "  </div>\n",
              "  "
            ]
          },
          "metadata": {},
          "execution_count": 121
        }
      ]
    },
    {
      "cell_type": "code",
      "source": [
        "df.info()"
      ],
      "metadata": {
        "colab": {
          "base_uri": "https://localhost:8080/"
        },
        "id": "H7qAquIflbbm",
        "outputId": "9093bc0a-a519-4251-8585-85f24ba1a5e2"
      },
      "execution_count": 122,
      "outputs": [
        {
          "output_type": "stream",
          "name": "stdout",
          "text": [
            "<class 'pandas.core.frame.DataFrame'>\n",
            "DatetimeIndex: 1462 entries, 2013-01-01 to 2017-01-01\n",
            "Data columns (total 4 columns):\n",
            " #   Column        Non-Null Count  Dtype  \n",
            "---  ------        --------------  -----  \n",
            " 0   meantemp      1462 non-null   float64\n",
            " 1   humidity      1462 non-null   float64\n",
            " 2   wind_speed    1462 non-null   float64\n",
            " 3   meanpressure  1462 non-null   float64\n",
            "dtypes: float64(4)\n",
            "memory usage: 57.1 KB\n"
          ]
        }
      ]
    },
    {
      "cell_type": "code",
      "source": [
        "# How many samples do we have?\n",
        "len(df)"
      ],
      "metadata": {
        "colab": {
          "base_uri": "https://localhost:8080/"
        },
        "id": "JDx-O9_ilclj",
        "outputId": "828dd00a-ba95-48b2-facd-f14dc6c8fc7a"
      },
      "execution_count": 123,
      "outputs": [
        {
          "output_type": "execute_result",
          "data": {
            "text/plain": [
              "1462"
            ]
          },
          "metadata": {},
          "execution_count": 123
        }
      ]
    },
    {
      "cell_type": "code",
      "source": [
        "# Only want closing price for each day \n",
        "mean_temps = pd.DataFrame(df[\"meantemp\"])\n",
        "mean_temps.head()"
      ],
      "metadata": {
        "colab": {
          "base_uri": "https://localhost:8080/",
          "height": 238
        },
        "id": "sdU0LvEolg59",
        "outputId": "ae509fab-0e21-492d-a635-c9ce141bcfb5"
      },
      "execution_count": 124,
      "outputs": [
        {
          "output_type": "execute_result",
          "data": {
            "text/plain": [
              "             meantemp\n",
              "date                 \n",
              "2013-01-01  10.000000\n",
              "2013-01-02   7.400000\n",
              "2013-01-03   7.166667\n",
              "2013-01-04   8.666667\n",
              "2013-01-05   6.000000"
            ],
            "text/html": [
              "\n",
              "  <div id=\"df-17afb790-29bc-4e24-91f2-8c10e818f7dc\">\n",
              "    <div class=\"colab-df-container\">\n",
              "      <div>\n",
              "<style scoped>\n",
              "    .dataframe tbody tr th:only-of-type {\n",
              "        vertical-align: middle;\n",
              "    }\n",
              "\n",
              "    .dataframe tbody tr th {\n",
              "        vertical-align: top;\n",
              "    }\n",
              "\n",
              "    .dataframe thead th {\n",
              "        text-align: right;\n",
              "    }\n",
              "</style>\n",
              "<table border=\"1\" class=\"dataframe\">\n",
              "  <thead>\n",
              "    <tr style=\"text-align: right;\">\n",
              "      <th></th>\n",
              "      <th>meantemp</th>\n",
              "    </tr>\n",
              "    <tr>\n",
              "      <th>date</th>\n",
              "      <th></th>\n",
              "    </tr>\n",
              "  </thead>\n",
              "  <tbody>\n",
              "    <tr>\n",
              "      <th>2013-01-01</th>\n",
              "      <td>10.000000</td>\n",
              "    </tr>\n",
              "    <tr>\n",
              "      <th>2013-01-02</th>\n",
              "      <td>7.400000</td>\n",
              "    </tr>\n",
              "    <tr>\n",
              "      <th>2013-01-03</th>\n",
              "      <td>7.166667</td>\n",
              "    </tr>\n",
              "    <tr>\n",
              "      <th>2013-01-04</th>\n",
              "      <td>8.666667</td>\n",
              "    </tr>\n",
              "    <tr>\n",
              "      <th>2013-01-05</th>\n",
              "      <td>6.000000</td>\n",
              "    </tr>\n",
              "  </tbody>\n",
              "</table>\n",
              "</div>\n",
              "      <button class=\"colab-df-convert\" onclick=\"convertToInteractive('df-17afb790-29bc-4e24-91f2-8c10e818f7dc')\"\n",
              "              title=\"Convert this dataframe to an interactive table.\"\n",
              "              style=\"display:none;\">\n",
              "        \n",
              "  <svg xmlns=\"http://www.w3.org/2000/svg\" height=\"24px\"viewBox=\"0 0 24 24\"\n",
              "       width=\"24px\">\n",
              "    <path d=\"M0 0h24v24H0V0z\" fill=\"none\"/>\n",
              "    <path d=\"M18.56 5.44l.94 2.06.94-2.06 2.06-.94-2.06-.94-.94-2.06-.94 2.06-2.06.94zm-11 1L8.5 8.5l.94-2.06 2.06-.94-2.06-.94L8.5 2.5l-.94 2.06-2.06.94zm10 10l.94 2.06.94-2.06 2.06-.94-2.06-.94-.94-2.06-.94 2.06-2.06.94z\"/><path d=\"M17.41 7.96l-1.37-1.37c-.4-.4-.92-.59-1.43-.59-.52 0-1.04.2-1.43.59L10.3 9.45l-7.72 7.72c-.78.78-.78 2.05 0 2.83L4 21.41c.39.39.9.59 1.41.59.51 0 1.02-.2 1.41-.59l7.78-7.78 2.81-2.81c.8-.78.8-2.07 0-2.86zM5.41 20L4 18.59l7.72-7.72 1.47 1.35L5.41 20z\"/>\n",
              "  </svg>\n",
              "      </button>\n",
              "      \n",
              "  <style>\n",
              "    .colab-df-container {\n",
              "      display:flex;\n",
              "      flex-wrap:wrap;\n",
              "      gap: 12px;\n",
              "    }\n",
              "\n",
              "    .colab-df-convert {\n",
              "      background-color: #E8F0FE;\n",
              "      border: none;\n",
              "      border-radius: 50%;\n",
              "      cursor: pointer;\n",
              "      display: none;\n",
              "      fill: #1967D2;\n",
              "      height: 32px;\n",
              "      padding: 0 0 0 0;\n",
              "      width: 32px;\n",
              "    }\n",
              "\n",
              "    .colab-df-convert:hover {\n",
              "      background-color: #E2EBFA;\n",
              "      box-shadow: 0px 1px 2px rgba(60, 64, 67, 0.3), 0px 1px 3px 1px rgba(60, 64, 67, 0.15);\n",
              "      fill: #174EA6;\n",
              "    }\n",
              "\n",
              "    [theme=dark] .colab-df-convert {\n",
              "      background-color: #3B4455;\n",
              "      fill: #D2E3FC;\n",
              "    }\n",
              "\n",
              "    [theme=dark] .colab-df-convert:hover {\n",
              "      background-color: #434B5C;\n",
              "      box-shadow: 0px 1px 3px 1px rgba(0, 0, 0, 0.15);\n",
              "      filter: drop-shadow(0px 1px 2px rgba(0, 0, 0, 0.3));\n",
              "      fill: #FFFFFF;\n",
              "    }\n",
              "  </style>\n",
              "\n",
              "      <script>\n",
              "        const buttonEl =\n",
              "          document.querySelector('#df-17afb790-29bc-4e24-91f2-8c10e818f7dc button.colab-df-convert');\n",
              "        buttonEl.style.display =\n",
              "          google.colab.kernel.accessAllowed ? 'block' : 'none';\n",
              "\n",
              "        async function convertToInteractive(key) {\n",
              "          const element = document.querySelector('#df-17afb790-29bc-4e24-91f2-8c10e818f7dc');\n",
              "          const dataTable =\n",
              "            await google.colab.kernel.invokeFunction('convertToInteractive',\n",
              "                                                     [key], {});\n",
              "          if (!dataTable) return;\n",
              "\n",
              "          const docLinkHtml = 'Like what you see? Visit the ' +\n",
              "            '<a target=\"_blank\" href=https://colab.research.google.com/notebooks/data_table.ipynb>data table notebook</a>'\n",
              "            + ' to learn more about interactive tables.';\n",
              "          element.innerHTML = '';\n",
              "          dataTable['output_type'] = 'display_data';\n",
              "          await google.colab.output.renderOutput(dataTable, element);\n",
              "          const docLink = document.createElement('div');\n",
              "          docLink.innerHTML = docLinkHtml;\n",
              "          element.appendChild(docLink);\n",
              "        }\n",
              "      </script>\n",
              "    </div>\n",
              "  </div>\n",
              "  "
            ]
          },
          "metadata": {},
          "execution_count": 124
        }
      ]
    },
    {
      "cell_type": "code",
      "source": [
        "import matplotlib.pyplot as plt\n",
        "mean_temps.plot(figsize=(10, 7))\n",
        "plt.ylabel(\"mean_temps\")\n",
        "plt.title(\"Mean temperature in Delhi from Jan 1st 2013 to April 24th 2017\", fontsize=16)\n",
        "plt.legend(fontsize=14);"
      ],
      "metadata": {
        "colab": {
          "base_uri": "https://localhost:8080/",
          "height": 460
        },
        "id": "5aH_dI6-l6cz",
        "outputId": "8424af22-bda1-4848-b8a6-37871c823f6a"
      },
      "execution_count": 125,
      "outputs": [
        {
          "output_type": "display_data",
          "data": {
            "text/plain": [
              "<Figure size 720x504 with 1 Axes>"
            ],
            "image/png": "[encoded data removed]"
          },
          "metadata": {
            "needs_background": "light"
          }
        }
      ]
    },
    {
      "cell_type": "code",
      "source": [
        "# Get bitcoin date array\n",
        "timesteps = mean_temps.index.to_numpy()\n",
        "meantemps_np = mean_temps[\"meantemp\"].to_numpy()\n",
        "\n",
        "timesteps[:10], meantemps_np[:10]"
      ],
      "metadata": {
        "colab": {
          "base_uri": "https://localhost:8080/"
        },
        "id": "wkZLdsuNmMJN",
        "outputId": "079e4fbd-3f17-4c0c-e45f-aefec63ac29f"
      },
      "execution_count": 126,
      "outputs": [
        {
          "output_type": "execute_result",
          "data": {
            "text/plain": [
              "(array(['2013-01-01T00:00:00.000000000', '2013-01-02T00:00:00.000000000',\n",
              "        '2013-01-03T00:00:00.000000000', '2013-01-04T00:00:00.000000000',\n",
              "        '2013-01-05T00:00:00.000000000', '2013-01-06T00:00:00.000000000',\n",
              "        '2013-01-07T00:00:00.000000000', '2013-01-08T00:00:00.000000000',\n",
              "        '2013-01-09T00:00:00.000000000', '2013-01-10T00:00:00.000000000'],\n",
              "       dtype='datetime64[ns]'),\n",
              " array([10.        ,  7.4       ,  7.16666667,  8.66666667,  6.        ,\n",
              "         7.        ,  7.        ,  8.85714286, 14.        , 11.        ]))"
            ]
          },
          "metadata": {},
          "execution_count": 126
        }
      ]
    },
    {
      "cell_type": "code",
      "source": [
        "# Create train and test splits the right way for time series data\n",
        "split_size = int(0.80 * len(meantemps_np)) # 80% train, 20% test\n",
        "\n",
        "# Create train data splits (everything before the split)\n",
        "X_train, y_train = timesteps[:split_size], meantemps_np[:split_size]\n",
        "\n",
        "# Create test data splits (everything after the split)\n",
        "X_test, y_test = timesteps[split_size:], meantemps_np[split_size:]\n",
        "\n",
        "len(X_train), len(X_test), len(y_train), len(y_test)"
      ],
      "metadata": {
        "colab": {
          "base_uri": "https://localhost:8080/"
        },
        "id": "z-nXMyBaopMw",
        "outputId": "db8615f7-8ef0-451c-9075-b500837c360a"
      },
      "execution_count": 127,
      "outputs": [
        {
          "output_type": "execute_result",
          "data": {
            "text/plain": [
              "(1169, 293, 1169, 293)"
            ]
          },
          "metadata": {},
          "execution_count": 127
        }
      ]
    },
    {
      "cell_type": "code",
      "source": [
        "# Plot correctly made splits\n",
        "plt.figure(figsize=(10, 7))\n",
        "plt.scatter(X_train, y_train, s=5, label=\"Train data\")\n",
        "plt.scatter(X_test, y_test, s=5, label=\"Test data\")\n",
        "plt.xlabel(\"Date\")\n",
        "plt.ylabel(\"Mean temps\")\n",
        "plt.legend(fontsize=14)\n",
        "plt.show();"
      ],
      "metadata": {
        "colab": {
          "base_uri": "https://localhost:8080/",
          "height": 443
        },
        "id": "ZmTdv0MUo9Ys",
        "outputId": "fb0a504f-7219-4326-f0e1-61ed5860b0d4"
      },
      "execution_count": 128,
      "outputs": [
        {
          "output_type": "display_data",
          "data": {
            "text/plain": [
              "<Figure size 720x504 with 1 Axes>"
            ],
            "image/png": "[encoded data removed]"
          },
          "metadata": {
            "needs_background": "light"
          }
        }
      ]
    },
    {
      "cell_type": "code",
      "source": [
        "# Create a function to plot time series data\n",
        "def plot_time_series(timesteps, values, format='.', start=0, end=None, label=None):\n",
        "  \"\"\"\n",
        "  Plots a timesteps (a series of points in time) against values (a series of values across timesteps).\n",
        "  \n",
        "  Parameters\n",
        "  ---------\n",
        "  timesteps : array of timesteps\n",
        "  values : array of values across time\n",
        "  format : style of plot, default \".\"\n",
        "  start : where to start the plot (setting a value will index from start of timesteps & values)\n",
        "  end : where to end the plot (setting a value will index from end of timesteps & values)\n",
        "  label : label to show on plot of values\n",
        "  \"\"\"\n",
        "  # Plot the series\n",
        "  plt.plot(timesteps[start:end], values[start:end], format, label=label)\n",
        "  plt.xlabel(\"Time\")\n",
        "  plt.ylabel(\"Mean temps\")\n",
        "  if label:\n",
        "    plt.legend(fontsize=14) # make label bigger\n",
        "  plt.grid(True)"
      ],
      "metadata": {
        "id": "oodRAGL8pLOz"
      },
      "execution_count": 129,
      "outputs": []
    },
    {
      "cell_type": "code",
      "source": [
        "# Try out our plotting function\n",
        "plt.figure(figsize=(10, 7))\n",
        "plot_time_series(timesteps=X_train, values=y_train, label=\"Train data\")\n",
        "plot_time_series(timesteps=X_test, values=y_test, label=\"Test data\")"
      ],
      "metadata": {
        "colab": {
          "base_uri": "https://localhost:8080/",
          "height": 443
        },
        "id": "gKv62OqHpNYw",
        "outputId": "d1c87b0e-4728-4099-c872-c77004fe1496"
      },
      "execution_count": 130,
      "outputs": [
        {
          "output_type": "display_data",
          "data": {
            "text/plain": [
              "<Figure size 720x504 with 1 Axes>"
            ],
            "image/png": "[encoded data removed]"
          },
          "metadata": {
            "needs_background": "light"
          }
        }
      ]
    },
    {
      "cell_type": "code",
      "source": [
        "# Create a naïve forecast\n",
        "naive_forecast = y_test[:-1] # Naïve forecast equals every value excluding the last value\n",
        "naive_forecast[:10], naive_forecast[-10:] # View frist 10 and last 10"
      ],
      "metadata": {
        "colab": {
          "base_uri": "https://localhost:8080/"
        },
        "id": "ZjBxQQPIpi1z",
        "outputId": "56473152-a109-40fc-9860-9ec8190d144d"
      },
      "execution_count": 131,
      "outputs": [
        {
          "output_type": "execute_result",
          "data": {
            "text/plain": [
              "(array([24.06666667, 23.9375    , 26.3125    , 26.1875    , 26.78571429,\n",
              "        27.13333333, 26.625     , 25.0625    , 26.2       , 28.13333333]),\n",
              " array([17.28571429, 15.55      , 17.31818182, 14.        , 17.14285714,\n",
              "        16.85      , 17.2173913 , 15.23809524, 14.0952381 , 15.05263158]))"
            ]
          },
          "metadata": {},
          "execution_count": 131
        }
      ]
    },
    {
      "cell_type": "code",
      "source": [
        "# Plot naive forecast\n",
        "plt.figure(figsize=(10, 7))\n",
        "plot_time_series(timesteps=X_train, values=y_train, label=\"Train data\")\n",
        "plot_time_series(timesteps=X_test, values=y_test, label=\"Test data\")\n",
        "plot_time_series(timesteps=X_test[1:], values=naive_forecast, format=\"-\", label=\"Naive forecast\");"
      ],
      "metadata": {
        "colab": {
          "base_uri": "https://localhost:8080/",
          "height": 443
        },
        "id": "EY0DwfxXpkQW",
        "outputId": "04331235-8de6-4f19-95a4-74c378095be1"
      },
      "execution_count": 132,
      "outputs": [
        {
          "output_type": "display_data",
          "data": {
            "text/plain": [
              "<Figure size 720x504 with 1 Axes>"
            ],
            "image/png": "[encoded data removed]"
          },
          "metadata": {
            "needs_background": "light"
          }
        }
      ]
    },
    {
      "cell_type": "code",
      "source": [
        "plt.figure(figsize=(10, 7))\n",
        "offset = 0 # offset the values by 300 timesteps \n",
        "plot_time_series(timesteps=X_test, values=y_test, start=offset, label=\"Test data\")\n",
        "plot_time_series(timesteps=X_test[1:], values=naive_forecast, format=\"-\", start=offset, label=\"Naive forecast\");"
      ],
      "metadata": {
        "colab": {
          "base_uri": "https://localhost:8080/",
          "height": 442
        },
        "id": "T8E_K1y1poCP",
        "outputId": "477071ad-4e41-406b-8cb9-faf3aab4bd5e"
      },
      "execution_count": 133,
      "outputs": [
        {
          "output_type": "display_data",
          "data": {
            "text/plain": [
              "<Figure size 720x504 with 1 Axes>"
            ],
            "image/png": "[encoded data removed]"
          },
          "metadata": {
            "needs_background": "light"
          }
        }
      ]
    },
    {
      "cell_type": "code",
      "source": [
        "# MASE implemented courtesy of sktime - https://github.com/alan-turing-institute/sktime/blob/ee7a06843a44f4aaec7582d847e36073a9ab0566/sktime/performance_metrics/forecasting/_functions.py#L16\n",
        "def mean_absolute_scaled_error(y_true, y_pred):\n",
        "  \"\"\"\n",
        "  Implement MASE (assuming no seasonality of data).\n",
        "  \"\"\"\n",
        "  mae = tf.reduce_mean(tf.abs(y_true - y_pred))\n",
        "\n",
        "  # Find MAE of naive forecast (no seasonality)\n",
        "  mae_naive_no_season = tf.reduce_mean(tf.abs(y_true[1:] - y_true[:-1])) # our seasonality is 1 day (hence the shifting of 1 day)\n",
        "\n",
        "  return mae / mae_naive_no_season\n"
      ],
      "metadata": {
        "id": "UTLFxMworx9Y"
      },
      "execution_count": 134,
      "outputs": []
    },
    {
      "cell_type": "code",
      "source": [
        "def evaluate_preds(y_true, y_pred):\n",
        "  # Make sure float32 (for metric calculations)\n",
        "  y_true = tf.cast(y_true, dtype=tf.float32)\n",
        "  y_pred = tf.cast(y_pred, dtype=tf.float32)\n",
        "\n",
        "  # Calculate various metrics\n",
        "  mae = tf.keras.metrics.mean_absolute_error(y_true, y_pred)\n",
        "  mse = tf.keras.metrics.mean_squared_error(y_true, y_pred) # puts and emphasis on outliers (all errors get squared)\n",
        "  rmse = tf.sqrt(mse)\n",
        "  mape = tf.keras.metrics.mean_absolute_percentage_error(y_true, y_pred)\n",
        "  mase = mean_absolute_scaled_error(y_true, y_pred)\n",
        "  \n",
        "  return {\"mae\": mae.numpy(),\n",
        "          \"mse\": mse.numpy(),\n",
        "          \"rmse\": rmse.numpy(),\n",
        "          \"mape\": mape.numpy(),\n",
        "          \"mase\": mase.numpy()}"
      ],
      "metadata": {
        "id": "Z7XJTKKUr7AE"
      },
      "execution_count": 135,
      "outputs": []
    },
    {
      "cell_type": "code",
      "source": [
        "naive_results = evaluate_preds(y_true=y_test[1:],\n",
        "                               y_pred=naive_forecast)\n",
        "naive_results"
      ],
      "metadata": {
        "colab": {
          "base_uri": "https://localhost:8080/"
        },
        "id": "cc4a-M4Gr8xc",
        "outputId": "b84f9b9a-5200-4e8e-94f9-a683a9b8edbe"
      },
      "execution_count": 136,
      "outputs": [
        {
          "output_type": "execute_result",
          "data": {
            "text/plain": [
              "{'mae': 1.2577628,\n",
              " 'mse': 2.8376758,\n",
              " 'rmse': 1.6845403,\n",
              " 'mape': 4.638832,\n",
              " 'mase': 0.99692595}"
            ]
          },
          "metadata": {},
          "execution_count": 136
        }
      ]
    },
    {
      "cell_type": "code",
      "source": [
        "# Find average price of temp in test dataset\n",
        "tf.reduce_mean(y_test).numpy()"
      ],
      "metadata": {
        "colab": {
          "base_uri": "https://localhost:8080/"
        },
        "id": "QboT-DF8sKt8",
        "outputId": "6953cc26-54be-43b2-afec-2fd00ffa51f0"
      },
      "execution_count": 137,
      "outputs": [
        {
          "output_type": "execute_result",
          "data": {
            "text/plain": [
              "29.23515980008927"
            ]
          },
          "metadata": {},
          "execution_count": 137
        }
      ]
    },
    {
      "cell_type": "code",
      "source": [
        "HORIZON = 1 # predict 1 step at a time\n",
        "WINDOW_SIZE = 7 # use a week worth of timesteps to predict the horizon\n",
        "\n",
        "dataset = tf.keras.utils.timeseries_dataset_from_array(\n",
        "    meantemps_np[:-HORIZON], meantemps_np[WINDOW_SIZE+HORIZON-1:], sequence_length=WINDOW_SIZE)\n",
        "    # prices[:-WINDOW_SIZE+HORIZON], prices[WINDOW_SIZE+HORIZON-1:], sequence_length=7) WRONG DO NOT USE!!!!!!!!!!!\n",
        "# list(dataset.as_numpy_iterator())[0]\n",
        "\n",
        "#print first 4 windows for data\n",
        "print(\"print first 4 windows for data\")\n",
        "print(list(dataset.as_numpy_iterator())[0][0][:4])\n",
        "\n",
        "#print first 4 targets\n",
        "print(\"print first 4 targets\")\n",
        "print(list(dataset.as_numpy_iterator())[0][1][:4])\n",
        "\n",
        "print(\"print first 10 elements in dataset\")\n",
        "print(meantemps_np[:10])\n",
        "\n",
        "print(\"\\n=======================\\n\")\n",
        "\n",
        "#print last 4 windows for data\n",
        "print(\"print last 4 windows for target\")\n",
        "print(list(dataset.as_numpy_iterator())[-1][0][-4:])  # first dimension in this dataset is the batch # so the last elements are in the last batch, which is accessed by the -1 index\n",
        "\n",
        "#print last 4 targets\n",
        "print(\"print last 4 targets\")\n",
        "print(list(dataset.as_numpy_iterator())[-1][1][-4:])\n",
        "\n",
        "print(\"print last 10 elements in dataset\")\n",
        "print(meantemps_np[-10:])\n",
        "\n",
        "print(dataset)\n",
        "# print(list(dataset.as_numpy_iterator()))\n"
      ],
      "metadata": {
        "colab": {
          "base_uri": "https://localhost:8080/"
        },
        "id": "DvU7hG28s1Dv",
        "outputId": "80f59168-1332-4f4b-8214-855b9ec13dea"
      },
      "execution_count": 138,
      "outputs": [
        {
          "output_type": "stream",
          "name": "stdout",
          "text": [
            "print first 4 windows for data\n",
            "[[10.          7.4         7.16666667  8.66666667  6.          7.\n",
            "   7.        ]\n",
            " [ 7.4         7.16666667  8.66666667  6.          7.          7.\n",
            "   8.85714286]\n",
            " [ 7.16666667  8.66666667  6.          7.          7.          8.85714286\n",
            "  14.        ]\n",
            " [ 8.66666667  6.          7.          7.          8.85714286 14.\n",
            "  11.        ]]\n",
            "print first 4 targets\n",
            "[ 8.85714286 14.         11.         15.71428571]\n",
            "print first 10 elements in dataset\n",
            "[10.          7.4         7.16666667  8.66666667  6.          7.\n",
            "  7.          8.85714286 14.         11.        ]\n",
            "\n",
            "=======================\n",
            "\n",
            "print last 4 windows for target\n",
            "[[17.28571429 15.55       17.31818182 14.         17.14285714 16.85\n",
            "  17.2173913 ]\n",
            " [15.55       17.31818182 14.         17.14285714 16.85       17.2173913\n",
            "  15.23809524]\n",
            " [17.31818182 14.         17.14285714 16.85       17.2173913  15.23809524\n",
            "  14.0952381 ]\n",
            " [14.         17.14285714 16.85       17.2173913  15.23809524 14.0952381\n",
            "  15.05263158]]\n",
            "print last 4 targets\n",
            "[15.23809524 14.0952381  15.05263158 10.        ]\n",
            "print last 10 elements in dataset\n",
            "[15.55       17.31818182 14.         17.14285714 16.85       17.2173913\n",
            " 15.23809524 14.0952381  15.05263158 10.        ]\n",
            "<BatchDataset element_spec=(TensorSpec(shape=(None, None), dtype=tf.float64, name=None), TensorSpec(shape=(None,), dtype=tf.float64, name=None))>\n"
          ]
        }
      ]
    },
    {
      "cell_type": "code",
      "source": [
        "# Create function to label windowed data\n",
        "def get_labelled_windows(x, horizon=1):\n",
        "  \"\"\"\n",
        "  Creates labels for windowed dataset.\n",
        "\n",
        "  E.g. if horizon=1 (default)\n",
        "  Input: [1, 2, 3, 4, 5, 6] -> Output: ([1, 2, 3, 4, 5], [6])\n",
        "  \"\"\"\n",
        "  return x[:, :-horizon], x[:, -horizon:]"
      ],
      "metadata": {
        "id": "hYplHRg0uFxS"
      },
      "execution_count": 139,
      "outputs": []
    },
    {
      "cell_type": "code",
      "source": [
        "# Create function to view NumPy arrays as windows \n",
        "def make_windows(x, window_size=7, horizon=1):\n",
        "  \"\"\"\n",
        "  Turns a 1D array into a 2D array of sequential windows of window_size.\n",
        "  \"\"\"\n",
        "  # 1. Create a window of specific window_size (add the horizon on the end for later labelling)\n",
        "  window_step = np.expand_dims(np.arange(window_size+horizon), axis=0)\n",
        "  # print(f\"Window step:\\n {window_step}\")\n",
        "\n",
        "  # 2. Create a 2D array of multiple window steps (minus 1 to account for 0 indexing)\n",
        "  window_indexes = window_step + np.expand_dims(np.arange(len(x)-(window_size+horizon-1)), axis=0).T # create 2D array of windows of size window_size\n",
        "  # print(f\"Window indexes:\\n {window_indexes[:3], window_indexes[-3:], window_indexes.shape}\")\n",
        "\n",
        "  # 3. Index on the target array (time series) with 2D array of multiple window steps\n",
        "  windowed_array = x[window_indexes]\n",
        "\n",
        "  # 4. Get the labelled windows\n",
        "  windows, labels = get_labelled_windows(windowed_array, horizon=horizon)\n",
        "\n",
        "  return windows, labels"
      ],
      "metadata": {
        "id": "J9qoUXi8Lqj1"
      },
      "execution_count": 140,
      "outputs": []
    },
    {
      "cell_type": "code",
      "source": [
        "full_windows, full_labels = make_windows(meantemps_np, window_size=WINDOW_SIZE, horizon=HORIZON)\n",
        "len(full_windows), len(full_labels)"
      ],
      "metadata": {
        "colab": {
          "base_uri": "https://localhost:8080/"
        },
        "id": "jR7oNdQrLwkK",
        "outputId": "ffd375f3-641f-4305-d3a1-4013b2b85aa0"
      },
      "execution_count": 141,
      "outputs": [
        {
          "output_type": "execute_result",
          "data": {
            "text/plain": [
              "(1455, 1455)"
            ]
          },
          "metadata": {},
          "execution_count": 141
        }
      ]
    },
    {
      "cell_type": "code",
      "source": [
        "# View the first 3 windows/labels\n",
        "for i in range(3):\n",
        "  print(f\"Window: {full_windows[i]} -> Label: {full_labels[i]}\")"
      ],
      "metadata": {
        "colab": {
          "base_uri": "https://localhost:8080/"
        },
        "id": "WilRPH8eNfVL",
        "outputId": "b4177eb5-192a-4324-97ff-c7378b96e8ce"
      },
      "execution_count": 142,
      "outputs": [
        {
          "output_type": "stream",
          "name": "stdout",
          "text": [
            "Window: [10.          7.4         7.16666667  8.66666667  6.          7.\n",
            "  7.        ] -> Label: [8.85714286]\n",
            "Window: [7.4        7.16666667 8.66666667 6.         7.         7.\n",
            " 8.85714286] -> Label: [14.]\n",
            "Window: [ 7.16666667  8.66666667  6.          7.          7.          8.85714286\n",
            " 14.        ] -> Label: [11.]\n"
          ]
        }
      ]
    },
    {
      "cell_type": "code",
      "source": [
        "# View the last 3 windows/labels\n",
        "for i in range(3):\n",
        "  print(f\"Window: {full_windows[i-3]} -> Label: {full_labels[i-3]}\")"
      ],
      "metadata": {
        "colab": {
          "base_uri": "https://localhost:8080/"
        },
        "id": "TsLn4RNUNuPJ",
        "outputId": "4c0e176d-a644-428a-de9b-d3c0f49e1bdd"
      },
      "execution_count": 143,
      "outputs": [
        {
          "output_type": "stream",
          "name": "stdout",
          "text": [
            "Window: [15.55       17.31818182 14.         17.14285714 16.85       17.2173913\n",
            " 15.23809524] -> Label: [14.0952381]\n",
            "Window: [17.31818182 14.         17.14285714 16.85       17.2173913  15.23809524\n",
            " 14.0952381 ] -> Label: [15.05263158]\n",
            "Window: [14.         17.14285714 16.85       17.2173913  15.23809524 14.0952381\n",
            " 15.05263158] -> Label: [10.]\n"
          ]
        }
      ]
    },
    {
      "cell_type": "code",
      "source": [
        "# Make the train/test splits\n",
        "def make_train_test_splits(windows, labels, test_split=0.2):\n",
        "  \"\"\"\n",
        "  Splits matching pairs of windows and labels into train and test splits.\n",
        "  \"\"\"\n",
        "  split_size = int(len(windows) * (1-test_split)) # this will default to 80% train/20% test\n",
        "  train_windows = windows[:split_size]\n",
        "  train_labels = labels[:split_size]\n",
        "  test_windows = windows[split_size:]\n",
        "  test_labels = labels[split_size:]\n",
        "  return train_windows, test_windows, train_labels, test_labels"
      ],
      "metadata": {
        "id": "w7rR9pTXOY6I"
      },
      "execution_count": 144,
      "outputs": []
    },
    {
      "cell_type": "code",
      "source": [
        "train_windows, test_windows, train_labels, test_labels = make_train_test_splits(full_windows, full_labels, test_split=0.20)\n",
        "len(train_windows), len(test_windows), len(train_labels), len(test_labels)"
      ],
      "metadata": {
        "colab": {
          "base_uri": "https://localhost:8080/"
        },
        "id": "Ea8V5aGnOo9_",
        "outputId": "24113b5b-6495-47f7-be1a-8945c5b7f2da"
      },
      "execution_count": 145,
      "outputs": [
        {
          "output_type": "execute_result",
          "data": {
            "text/plain": [
              "(1164, 291, 1164, 291)"
            ]
          },
          "metadata": {},
          "execution_count": 145
        }
      ]
    },
    {
      "cell_type": "code",
      "source": [
        "train_windows[:5], train_labels[:5]"
      ],
      "metadata": {
        "colab": {
          "base_uri": "https://localhost:8080/"
        },
        "id": "knJ2ERPdOr-a",
        "outputId": "a79f7921-ee72-4011-bdce-596f8d6c4110"
      },
      "execution_count": 146,
      "outputs": [
        {
          "output_type": "execute_result",
          "data": {
            "text/plain": [
              "(array([[10.        ,  7.4       ,  7.16666667,  8.66666667,  6.        ,\n",
              "          7.        ,  7.        ],\n",
              "        [ 7.4       ,  7.16666667,  8.66666667,  6.        ,  7.        ,\n",
              "          7.        ,  8.85714286],\n",
              "        [ 7.16666667,  8.66666667,  6.        ,  7.        ,  7.        ,\n",
              "          8.85714286, 14.        ],\n",
              "        [ 8.66666667,  6.        ,  7.        ,  7.        ,  8.85714286,\n",
              "         14.        , 11.        ],\n",
              "        [ 6.        ,  7.        ,  7.        ,  8.85714286, 14.        ,\n",
              "         11.        , 15.71428571]]), array([[ 8.85714286],\n",
              "        [14.        ],\n",
              "        [11.        ],\n",
              "        [15.71428571],\n",
              "        [14.        ]]))"
            ]
          },
          "metadata": {},
          "execution_count": 146
        }
      ]
    },
    {
      "cell_type": "code",
      "source": [
        "print(np.squeeze(train_labels[:-HORIZON-1]))"
      ],
      "metadata": {
        "colab": {
          "base_uri": "https://localhost:8080/"
        },
        "id": "WPRoGF_BO4R8",
        "outputId": "e1b038d8-5123-4681-8159-7b4d95382535"
      },
      "execution_count": 147,
      "outputs": [
        {
          "output_type": "stream",
          "name": "stdout",
          "text": [
            "[ 8.85714286 14.         11.         ... 24.5625     24.25\n",
            " 22.375     ]\n"
          ]
        }
      ]
    },
    {
      "cell_type": "code",
      "source": [
        "print(y_train[WINDOW_SIZE:])"
      ],
      "metadata": {
        "colab": {
          "base_uri": "https://localhost:8080/"
        },
        "id": "k1qI21gIO_ec",
        "outputId": "60225cab-5827-4d22-abc8-9b72bcc4a99c"
      },
      "execution_count": 148,
      "outputs": [
        {
          "output_type": "stream",
          "name": "stdout",
          "text": [
            "[ 8.85714286 14.         11.         ... 24.5625     24.25\n",
            " 22.375     ]\n"
          ]
        }
      ]
    },
    {
      "cell_type": "code",
      "source": [
        "len(np.squeeze(train_labels[:-HORIZON-1]))"
      ],
      "metadata": {
        "colab": {
          "base_uri": "https://localhost:8080/"
        },
        "id": "AFXuDNHLPsCC",
        "outputId": "4dd75a9d-2b4d-4128-f92e-7dc39b628a3e"
      },
      "execution_count": 149,
      "outputs": [
        {
          "output_type": "execute_result",
          "data": {
            "text/plain": [
              "1162"
            ]
          },
          "metadata": {},
          "execution_count": 149
        }
      ]
    },
    {
      "cell_type": "code",
      "source": [
        "len(y_train[WINDOW_SIZE:])"
      ],
      "metadata": {
        "colab": {
          "base_uri": "https://localhost:8080/"
        },
        "id": "LOiokCnvPqvb",
        "outputId": "60e68c31-4289-43f4-a6a7-8019fce7546a"
      },
      "execution_count": 150,
      "outputs": [
        {
          "output_type": "execute_result",
          "data": {
            "text/plain": [
              "1162"
            ]
          },
          "metadata": {},
          "execution_count": 150
        }
      ]
    },
    {
      "cell_type": "code",
      "source": [
        "# Check to see if same (accounting for horizon and window size)\n",
        "np.array_equal(np.squeeze(train_labels[:-HORIZON-1]), y_train[WINDOW_SIZE:])"
      ],
      "metadata": {
        "colab": {
          "base_uri": "https://localhost:8080/"
        },
        "id": "tIsOB8v1Ovzo",
        "outputId": "3ad869ab-de48-4597-d17e-49036091600d"
      },
      "execution_count": 151,
      "outputs": [
        {
          "output_type": "execute_result",
          "data": {
            "text/plain": [
              "True"
            ]
          },
          "metadata": {},
          "execution_count": 151
        }
      ]
    },
    {
      "cell_type": "code",
      "source": [
        "import os\n",
        "\n",
        "# Create a function to implement a ModelCheckpoint callback with a specific filename \n",
        "def create_model_checkpoint(model_name, save_path=\"model_experiments\"):\n",
        "  return tf.keras.callbacks.ModelCheckpoint(filepath=os.path.join(save_path, model_name), # create filepath to save model\n",
        "                                            verbose=0, # only output a limited amount of text\n",
        "                                            save_best_only=True) # save only the best model to file"
      ],
      "metadata": {
        "id": "3Yt4AubbQ-7g"
      },
      "execution_count": 152,
      "outputs": []
    },
    {
      "cell_type": "code",
      "source": [
        "import tensorflow as tf\n",
        "from tensorflow.keras import layers\n",
        "\n",
        "# Set random seed for as reproducible results as possible\n",
        "tf.random.set_seed(42)\n",
        "\n",
        "# Construct model\n",
        "model_1 = tf.keras.Sequential([\n",
        "  layers.Dense(128, activation=\"relu\"),\n",
        "  layers.Dense(HORIZON, activation=\"linear\") # linear activation is the same as having no activation                        \n",
        "], name=\"model_1_dense\") # give the model a name so we can save it\n",
        "\n",
        "# Compile model\n",
        "model_1.compile(loss=\"mae\",\n",
        "                optimizer=tf.keras.optimizers.Adam(),\n",
        "                metrics=[\"mae\"]) # we don't necessarily need this when the loss function is already MAE\n",
        "\n",
        "# Fit model\n",
        "model_1.fit(x=train_windows, # train windows of 7 timesteps of Bitcoin prices\n",
        "            y=train_labels, # horizon value of 1 (using the previous 7 timesteps to predict next day)\n",
        "            epochs=100,\n",
        "            verbose=1,\n",
        "            batch_size=128,\n",
        "            validation_data=(test_windows, test_labels),\n",
        "            callbacks=[create_model_checkpoint(model_name=model_1.name)]) # create ModelCheckpoint callback to save best model"
      ],
      "metadata": {
        "colab": {
          "base_uri": "https://localhost:8080/"
        },
        "id": "MrXXNtWTRCpj",
        "outputId": "52c7347a-e715-457f-c548-6df95e825d3a"
      },
      "execution_count": 153,
      "outputs": [
        {
          "output_type": "stream",
          "name": "stdout",
          "text": [
            "Epoch 1/100\n",
            "10/10 [==============================] - 1s 81ms/step - loss: 9.1974 - mae: 9.1974 - val_loss: 1.5992 - val_mae: 1.5992\n",
            "Epoch 2/100\n",
            "10/10 [==============================] - 0s 7ms/step - loss: 2.8749 - mae: 2.8749 - val_loss: 2.8037 - val_mae: 2.8037\n",
            "Epoch 3/100\n",
            "10/10 [==============================] - 0s 8ms/step - loss: 1.9133 - mae: 1.9133 - val_loss: 2.0747 - val_mae: 2.0747\n",
            "Epoch 4/100\n",
            "10/10 [==============================] - 0s 9ms/step - loss: 1.7657 - mae: 1.7657 - val_loss: 1.7458 - val_mae: 1.7458\n",
            "Epoch 5/100\n",
            "10/10 [==============================] - 1s 66ms/step - loss: 1.6233 - mae: 1.6233 - val_loss: 1.5501 - val_mae: 1.5501\n",
            "Epoch 6/100\n",
            "10/10 [==============================] - 1s 65ms/step - loss: 1.5960 - mae: 1.5960 - val_loss: 1.5230 - val_mae: 1.5230\n",
            "Epoch 7/100\n",
            "10/10 [==============================] - 1s 63ms/step - loss: 1.5594 - mae: 1.5594 - val_loss: 1.4735 - val_mae: 1.4735\n",
            "Epoch 8/100\n",
            "10/10 [==============================] - 1s 65ms/step - loss: 1.5373 - mae: 1.5373 - val_loss: 1.4628 - val_mae: 1.4628\n",
            "Epoch 9/100\n",
            "10/10 [==============================] - 0s 53ms/step - loss: 1.5218 - mae: 1.5218 - val_loss: 1.4500 - val_mae: 1.4500\n",
            "Epoch 10/100\n",
            "10/10 [==============================] - 1s 77ms/step - loss: 1.4809 - mae: 1.4809 - val_loss: 1.4332 - val_mae: 1.4332\n",
            "Epoch 11/100\n",
            "10/10 [==============================] - 1s 60ms/step - loss: 1.4656 - mae: 1.4656 - val_loss: 1.4192 - val_mae: 1.4192\n",
            "Epoch 12/100\n",
            "10/10 [==============================] - 0s 11ms/step - loss: 1.4469 - mae: 1.4469 - val_loss: 1.4419 - val_mae: 1.4419\n",
            "Epoch 13/100\n",
            "10/10 [==============================] - 0s 10ms/step - loss: 1.4544 - mae: 1.4544 - val_loss: 1.4317 - val_mae: 1.4317\n",
            "Epoch 14/100\n",
            "10/10 [==============================] - 0s 9ms/step - loss: 1.4512 - mae: 1.4512 - val_loss: 1.4258 - val_mae: 1.4258\n",
            "Epoch 15/100\n",
            "10/10 [==============================] - 0s 5ms/step - loss: 1.4297 - mae: 1.4297 - val_loss: 1.4444 - val_mae: 1.4444\n",
            "Epoch 16/100\n",
            "10/10 [==============================] - 1s 61ms/step - loss: 1.4201 - mae: 1.4201 - val_loss: 1.3871 - val_mae: 1.3871\n",
            "Epoch 17/100\n",
            "10/10 [==============================] - 1s 90ms/step - loss: 1.3883 - mae: 1.3883 - val_loss: 1.3745 - val_mae: 1.3745\n",
            "Epoch 18/100\n",
            "10/10 [==============================] - 0s 9ms/step - loss: 1.3786 - mae: 1.3786 - val_loss: 1.4446 - val_mae: 1.4446\n",
            "Epoch 19/100\n",
            "10/10 [==============================] - 0s 9ms/step - loss: 1.3810 - mae: 1.3810 - val_loss: 1.4292 - val_mae: 1.4292\n",
            "Epoch 20/100\n",
            "10/10 [==============================] - 0s 49ms/step - loss: 1.4166 - mae: 1.4166 - val_loss: 1.3584 - val_mae: 1.3584\n",
            "Epoch 21/100\n",
            "10/10 [==============================] - 0s 5ms/step - loss: 1.3551 - mae: 1.3551 - val_loss: 1.3819 - val_mae: 1.3819\n",
            "Epoch 22/100\n",
            "10/10 [==============================] - 0s 6ms/step - loss: 1.3912 - mae: 1.3912 - val_loss: 1.3870 - val_mae: 1.3870\n",
            "Epoch 23/100\n",
            "10/10 [==============================] - 0s 44ms/step - loss: 1.3612 - mae: 1.3612 - val_loss: 1.3397 - val_mae: 1.3397\n",
            "Epoch 24/100\n",
            "10/10 [==============================] - 0s 5ms/step - loss: 1.3435 - mae: 1.3435 - val_loss: 1.3887 - val_mae: 1.3887\n",
            "Epoch 25/100\n",
            "10/10 [==============================] - 0s 5ms/step - loss: 1.3369 - mae: 1.3369 - val_loss: 1.3497 - val_mae: 1.3497\n",
            "Epoch 26/100\n",
            "10/10 [==============================] - 0s 46ms/step - loss: 1.3434 - mae: 1.3434 - val_loss: 1.3245 - val_mae: 1.3245\n",
            "Epoch 27/100\n",
            "10/10 [==============================] - 0s 5ms/step - loss: 1.3313 - mae: 1.3313 - val_loss: 1.4225 - val_mae: 1.4225\n",
            "Epoch 28/100\n",
            "10/10 [==============================] - 0s 5ms/step - loss: 1.3528 - mae: 1.3528 - val_loss: 1.3543 - val_mae: 1.3543\n",
            "Epoch 29/100\n",
            "10/10 [==============================] - 0s 45ms/step - loss: 1.3526 - mae: 1.3526 - val_loss: 1.3130 - val_mae: 1.3130\n",
            "Epoch 30/100\n",
            "10/10 [==============================] - 0s 46ms/step - loss: 1.3217 - mae: 1.3217 - val_loss: 1.3107 - val_mae: 1.3107\n",
            "Epoch 31/100\n",
            "10/10 [==============================] - 0s 43ms/step - loss: 1.2934 - mae: 1.2934 - val_loss: 1.3067 - val_mae: 1.3067\n",
            "Epoch 32/100\n",
            "10/10 [==============================] - 0s 45ms/step - loss: 1.2901 - mae: 1.2901 - val_loss: 1.3037 - val_mae: 1.3037\n",
            "Epoch 33/100\n",
            "10/10 [==============================] - 0s 5ms/step - loss: 1.3108 - mae: 1.3108 - val_loss: 1.3228 - val_mae: 1.3228\n",
            "Epoch 34/100\n",
            "10/10 [==============================] - 0s 5ms/step - loss: 1.3018 - mae: 1.3018 - val_loss: 1.4496 - val_mae: 1.4496\n",
            "Epoch 35/100\n",
            "10/10 [==============================] - 0s 7ms/step - loss: 1.3482 - mae: 1.3482 - val_loss: 1.3111 - val_mae: 1.3111\n",
            "Epoch 36/100\n",
            "10/10 [==============================] - 0s 5ms/step - loss: 1.2839 - mae: 1.2839 - val_loss: 1.3102 - val_mae: 1.3102\n",
            "Epoch 37/100\n",
            "10/10 [==============================] - 0s 5ms/step - loss: 1.2693 - mae: 1.2693 - val_loss: 1.3189 - val_mae: 1.3189\n",
            "Epoch 38/100\n",
            "10/10 [==============================] - 0s 5ms/step - loss: 1.2852 - mae: 1.2852 - val_loss: 1.3412 - val_mae: 1.3412\n",
            "Epoch 39/100\n",
            "10/10 [==============================] - 0s 43ms/step - loss: 1.2884 - mae: 1.2884 - val_loss: 1.3009 - val_mae: 1.3009\n",
            "Epoch 40/100\n",
            "10/10 [==============================] - 0s 7ms/step - loss: 1.2712 - mae: 1.2712 - val_loss: 1.3175 - val_mae: 1.3175\n",
            "Epoch 41/100\n",
            "10/10 [==============================] - 0s 5ms/step - loss: 1.2867 - mae: 1.2867 - val_loss: 1.3372 - val_mae: 1.3372\n",
            "Epoch 42/100\n",
            "10/10 [==============================] - 0s 43ms/step - loss: 1.2647 - mae: 1.2647 - val_loss: 1.2963 - val_mae: 1.2963\n",
            "Epoch 43/100\n",
            "10/10 [==============================] - 0s 5ms/step - loss: 1.2695 - mae: 1.2695 - val_loss: 1.3047 - val_mae: 1.3047\n",
            "Epoch 44/100\n",
            "10/10 [==============================] - 0s 5ms/step - loss: 1.2855 - mae: 1.2855 - val_loss: 1.3473 - val_mae: 1.3473\n",
            "Epoch 45/100\n",
            "10/10 [==============================] - 0s 43ms/step - loss: 1.2768 - mae: 1.2768 - val_loss: 1.2820 - val_mae: 1.2820\n",
            "Epoch 46/100\n",
            "10/10 [==============================] - 0s 49ms/step - loss: 1.2557 - mae: 1.2557 - val_loss: 1.2770 - val_mae: 1.2770\n",
            "Epoch 47/100\n",
            "10/10 [==============================] - 0s 5ms/step - loss: 1.2554 - mae: 1.2554 - val_loss: 1.2781 - val_mae: 1.2781\n",
            "Epoch 48/100\n",
            "10/10 [==============================] - 0s 5ms/step - loss: 1.2506 - mae: 1.2506 - val_loss: 1.4137 - val_mae: 1.4137\n",
            "Epoch 49/100\n",
            "10/10 [==============================] - 0s 5ms/step - loss: 1.2807 - mae: 1.2807 - val_loss: 1.3297 - val_mae: 1.3297\n",
            "Epoch 50/100\n",
            "10/10 [==============================] - 0s 5ms/step - loss: 1.2771 - mae: 1.2771 - val_loss: 1.2816 - val_mae: 1.2816\n",
            "Epoch 51/100\n",
            "10/10 [==============================] - 0s 5ms/step - loss: 1.2623 - mae: 1.2623 - val_loss: 1.2850 - val_mae: 1.2850\n",
            "Epoch 52/100\n",
            "10/10 [==============================] - 0s 7ms/step - loss: 1.2647 - mae: 1.2647 - val_loss: 1.2894 - val_mae: 1.2894\n",
            "Epoch 53/100\n",
            "10/10 [==============================] - 0s 5ms/step - loss: 1.2890 - mae: 1.2890 - val_loss: 1.2953 - val_mae: 1.2953\n",
            "Epoch 54/100\n",
            "10/10 [==============================] - 0s 6ms/step - loss: 1.2641 - mae: 1.2641 - val_loss: 1.2979 - val_mae: 1.2979\n",
            "Epoch 55/100\n",
            "10/10 [==============================] - 0s 5ms/step - loss: 1.2617 - mae: 1.2617 - val_loss: 1.2867 - val_mae: 1.2867\n",
            "Epoch 56/100\n",
            "10/10 [==============================] - 0s 5ms/step - loss: 1.2458 - mae: 1.2458 - val_loss: 1.3121 - val_mae: 1.3121\n",
            "Epoch 57/100\n",
            "10/10 [==============================] - 0s 5ms/step - loss: 1.2681 - mae: 1.2681 - val_loss: 1.4362 - val_mae: 1.4362\n",
            "Epoch 58/100\n",
            "10/10 [==============================] - 0s 5ms/step - loss: 1.2813 - mae: 1.2813 - val_loss: 1.2899 - val_mae: 1.2899\n",
            "Epoch 59/100\n",
            "10/10 [==============================] - 0s 46ms/step - loss: 1.2489 - mae: 1.2489 - val_loss: 1.2625 - val_mae: 1.2625\n",
            "Epoch 60/100\n",
            "10/10 [==============================] - 0s 8ms/step - loss: 1.2899 - mae: 1.2899 - val_loss: 1.2721 - val_mae: 1.2721\n",
            "Epoch 61/100\n",
            "10/10 [==============================] - 0s 43ms/step - loss: 1.2449 - mae: 1.2449 - val_loss: 1.2618 - val_mae: 1.2618\n",
            "Epoch 62/100\n",
            "10/10 [==============================] - 0s 5ms/step - loss: 1.2543 - mae: 1.2543 - val_loss: 1.3001 - val_mae: 1.3001\n",
            "Epoch 63/100\n",
            "10/10 [==============================] - 0s 45ms/step - loss: 1.2482 - mae: 1.2482 - val_loss: 1.2572 - val_mae: 1.2572\n",
            "Epoch 64/100\n",
            "10/10 [==============================] - 0s 44ms/step - loss: 1.2391 - mae: 1.2391 - val_loss: 1.2568 - val_mae: 1.2568\n",
            "Epoch 65/100\n",
            "10/10 [==============================] - 0s 6ms/step - loss: 1.2445 - mae: 1.2445 - val_loss: 1.2914 - val_mae: 1.2914\n",
            "Epoch 66/100\n",
            "10/10 [==============================] - 0s 5ms/step - loss: 1.2459 - mae: 1.2459 - val_loss: 1.3690 - val_mae: 1.3690\n",
            "Epoch 67/100\n",
            "10/10 [==============================] - 1s 76ms/step - loss: 1.2621 - mae: 1.2621 - val_loss: 1.2521 - val_mae: 1.2521\n",
            "Epoch 68/100\n",
            "10/10 [==============================] - 0s 5ms/step - loss: 1.2316 - mae: 1.2316 - val_loss: 1.3021 - val_mae: 1.3021\n",
            "Epoch 69/100\n",
            "10/10 [==============================] - 0s 5ms/step - loss: 1.2345 - mae: 1.2345 - val_loss: 1.2780 - val_mae: 1.2780\n",
            "Epoch 70/100\n",
            "10/10 [==============================] - 0s 7ms/step - loss: 1.2378 - mae: 1.2378 - val_loss: 1.2721 - val_mae: 1.2721\n",
            "Epoch 71/100\n",
            "10/10 [==============================] - 0s 5ms/step - loss: 1.2516 - mae: 1.2516 - val_loss: 1.3052 - val_mae: 1.3052\n",
            "Epoch 72/100\n",
            "10/10 [==============================] - 0s 5ms/step - loss: 1.2621 - mae: 1.2621 - val_loss: 1.2603 - val_mae: 1.2603\n",
            "Epoch 73/100\n",
            "10/10 [==============================] - 0s 5ms/step - loss: 1.2640 - mae: 1.2640 - val_loss: 1.3215 - val_mae: 1.3215\n",
            "Epoch 74/100\n",
            "10/10 [==============================] - 0s 5ms/step - loss: 1.2462 - mae: 1.2462 - val_loss: 1.3000 - val_mae: 1.3000\n",
            "Epoch 75/100\n",
            "10/10 [==============================] - 0s 7ms/step - loss: 1.2993 - mae: 1.2993 - val_loss: 1.4764 - val_mae: 1.4764\n",
            "Epoch 76/100\n",
            "10/10 [==============================] - 0s 44ms/step - loss: 1.2787 - mae: 1.2787 - val_loss: 1.2450 - val_mae: 1.2450\n",
            "Epoch 77/100\n",
            "10/10 [==============================] - 0s 5ms/step - loss: 1.2571 - mae: 1.2571 - val_loss: 1.2596 - val_mae: 1.2596\n",
            "Epoch 78/100\n",
            "10/10 [==============================] - 0s 6ms/step - loss: 1.2263 - mae: 1.2263 - val_loss: 1.2633 - val_mae: 1.2633\n",
            "Epoch 79/100\n",
            "10/10 [==============================] - 0s 5ms/step - loss: 1.2435 - mae: 1.2435 - val_loss: 1.2978 - val_mae: 1.2978\n",
            "Epoch 80/100\n",
            "10/10 [==============================] - 0s 46ms/step - loss: 1.2583 - mae: 1.2583 - val_loss: 1.2442 - val_mae: 1.2442\n",
            "Epoch 81/100\n",
            "10/10 [==============================] - 0s 6ms/step - loss: 1.2270 - mae: 1.2270 - val_loss: 1.2462 - val_mae: 1.2462\n",
            "Epoch 82/100\n",
            "10/10 [==============================] - 0s 5ms/step - loss: 1.2230 - mae: 1.2230 - val_loss: 1.2482 - val_mae: 1.2482\n",
            "Epoch 83/100\n",
            "10/10 [==============================] - 0s 5ms/step - loss: 1.2348 - mae: 1.2348 - val_loss: 1.2456 - val_mae: 1.2456\n",
            "Epoch 84/100\n",
            "10/10 [==============================] - 0s 6ms/step - loss: 1.2573 - mae: 1.2573 - val_loss: 1.4102 - val_mae: 1.4102\n",
            "Epoch 85/100\n",
            "10/10 [==============================] - 0s 5ms/step - loss: 1.2908 - mae: 1.2908 - val_loss: 1.3289 - val_mae: 1.3289\n",
            "Epoch 86/100\n",
            "10/10 [==============================] - 0s 5ms/step - loss: 1.2404 - mae: 1.2404 - val_loss: 1.3278 - val_mae: 1.3278\n",
            "Epoch 87/100\n",
            "10/10 [==============================] - 0s 5ms/step - loss: 1.2404 - mae: 1.2404 - val_loss: 1.3181 - val_mae: 1.3181\n",
            "Epoch 88/100\n",
            "10/10 [==============================] - 0s 5ms/step - loss: 1.2314 - mae: 1.2314 - val_loss: 1.3235 - val_mae: 1.3235\n",
            "Epoch 89/100\n",
            "10/10 [==============================] - 0s 5ms/step - loss: 1.2536 - mae: 1.2536 - val_loss: 1.3489 - val_mae: 1.3489\n",
            "Epoch 90/100\n",
            "10/10 [==============================] - 0s 5ms/step - loss: 1.2358 - mae: 1.2358 - val_loss: 1.3384 - val_mae: 1.3384\n",
            "Epoch 91/100\n",
            "10/10 [==============================] - 0s 44ms/step - loss: 1.2332 - mae: 1.2332 - val_loss: 1.2405 - val_mae: 1.2405\n",
            "Epoch 92/100\n",
            "10/10 [==============================] - 0s 7ms/step - loss: 1.2352 - mae: 1.2352 - val_loss: 1.2983 - val_mae: 1.2983\n",
            "Epoch 93/100\n",
            "10/10 [==============================] - 0s 5ms/step - loss: 1.2565 - mae: 1.2565 - val_loss: 1.2544 - val_mae: 1.2544\n",
            "Epoch 94/100\n",
            "10/10 [==============================] - 0s 5ms/step - loss: 1.2343 - mae: 1.2343 - val_loss: 1.3663 - val_mae: 1.3663\n",
            "Epoch 95/100\n",
            "10/10 [==============================] - 0s 5ms/step - loss: 1.2543 - mae: 1.2543 - val_loss: 1.2499 - val_mae: 1.2499\n",
            "Epoch 96/100\n",
            "10/10 [==============================] - 0s 6ms/step - loss: 1.2234 - mae: 1.2234 - val_loss: 1.2499 - val_mae: 1.2499\n",
            "Epoch 97/100\n",
            "10/10 [==============================] - 0s 5ms/step - loss: 1.2234 - mae: 1.2234 - val_loss: 1.3166 - val_mae: 1.3166\n",
            "Epoch 98/100\n",
            "10/10 [==============================] - 0s 5ms/step - loss: 1.2469 - mae: 1.2469 - val_loss: 1.3068 - val_mae: 1.3068\n",
            "Epoch 99/100\n",
            "10/10 [==============================] - 0s 5ms/step - loss: 1.2414 - mae: 1.2414 - val_loss: 1.2961 - val_mae: 1.2961\n",
            "Epoch 100/100\n",
            "10/10 [==============================] - 0s 43ms/step - loss: 1.2710 - mae: 1.2710 - val_loss: 1.2390 - val_mae: 1.2390\n"
          ]
        },
        {
          "output_type": "execute_result",
          "data": {
            "text/plain": [
              "<keras.callbacks.History at 0x7f24a0ec02e0>"
            ]
          },
          "metadata": {},
          "execution_count": 153
        }
      ]
    },
    {
      "cell_type": "code",
      "source": [
        "model_1.evaluate(test_windows, test_labels)"
      ],
      "metadata": {
        "colab": {
          "base_uri": "https://localhost:8080/"
        },
        "id": "wYkhkqeiRLIS",
        "outputId": "b17d1e58-675f-4ebe-888f-0d54c0d52999"
      },
      "execution_count": 154,
      "outputs": [
        {
          "output_type": "stream",
          "name": "stdout",
          "text": [
            "10/10 [==============================] - 0s 4ms/step - loss: 1.2390 - mae: 1.2390\n"
          ]
        },
        {
          "output_type": "execute_result",
          "data": {
            "text/plain": [
              "[1.2389637231826782, 1.2389637231826782]"
            ]
          },
          "metadata": {},
          "execution_count": 154
        }
      ]
    },
    {
      "cell_type": "code",
      "source": [
        "# Load in saved best performing model_1 and evaluate on test data\n",
        "model_1 = tf.keras.models.load_model(\"model_experiments/model_1_dense\")\n",
        "model_1.evaluate(test_windows, test_labels)"
      ],
      "metadata": {
        "colab": {
          "base_uri": "https://localhost:8080/"
        },
        "id": "44C6yMG8RNiC",
        "outputId": "1c075809-9d95-4d2e-d394-c459d353274c"
      },
      "execution_count": 155,
      "outputs": [
        {
          "output_type": "stream",
          "name": "stdout",
          "text": [
            "10/10 [==============================] - 0s 3ms/step - loss: 1.2390 - mae: 1.2390\n"
          ]
        },
        {
          "output_type": "execute_result",
          "data": {
            "text/plain": [
              "[1.2389637231826782, 1.2389637231826782]"
            ]
          },
          "metadata": {},
          "execution_count": 155
        }
      ]
    },
    {
      "cell_type": "code",
      "source": [
        "def make_preds(model, input_data):\n",
        "  \"\"\"\n",
        "  Uses model to make predictions on input_data.\n",
        "\n",
        "  Parameters\n",
        "  ----------\n",
        "  model: trained model \n",
        "  input_data: windowed input data (same kind of data model was trained on)\n",
        "\n",
        "  Returns model predictions on input_data.\n",
        "  \"\"\"\n",
        "  forecast = model.predict(input_data)\n",
        "  return tf.squeeze(forecast) # return 1D array of predictions"
      ],
      "metadata": {
        "id": "Dnbk-V7adp9z"
      },
      "execution_count": 156,
      "outputs": []
    },
    {
      "cell_type": "code",
      "source": [
        "# Make predictions using model_1 on the test dataset and view the results\n",
        "model_1_preds = make_preds(model_1, test_windows)\n",
        "len(model_1_preds), model_1_preds[:10]"
      ],
      "metadata": {
        "colab": {
          "base_uri": "https://localhost:8080/"
        },
        "id": "gv7qAYg8dw2_",
        "outputId": "80b6f727-8991-4ab9-db8e-55f9a73ddf5b"
      },
      "execution_count": 157,
      "outputs": [
        {
          "output_type": "stream",
          "name": "stdout",
          "text": [
            "10/10 [==============================] - 0s 3ms/step\n"
          ]
        },
        {
          "output_type": "execute_result",
          "data": {
            "text/plain": [
              "(291, <tf.Tensor: shape=(10,), dtype=float32, numpy=\n",
              " array([24.307346, 25.94479 , 26.216974, 26.6634  , 26.958132, 26.72631 ,\n",
              "        25.420496, 26.32216 , 27.885649, 29.41956 ], dtype=float32)>)"
            ]
          },
          "metadata": {},
          "execution_count": 157
        }
      ]
    },
    {
      "cell_type": "code",
      "source": [
        "model_1_results = evaluate_preds(y_true=tf.squeeze(test_labels), # reduce to right shape\n",
        "                                 y_pred=model_1_preds)\n",
        "model_1_results"
      ],
      "metadata": {
        "colab": {
          "base_uri": "https://localhost:8080/"
        },
        "id": "MQEoikohd0gV",
        "outputId": "f2d5e6d4-b884-4725-a2d9-38d3c8a0ba9f"
      },
      "execution_count": 158,
      "outputs": [
        {
          "output_type": "execute_result",
          "data": {
            "text/plain": [
              "{'mae': 1.2389638,\n",
              " 'mse': 2.7991846,\n",
              " 'rmse': 1.6730764,\n",
              " 'mape': 4.6026635,\n",
              " 'mase': 0.98502296}"
            ]
          },
          "metadata": {},
          "execution_count": 158
        }
      ]
    },
    {
      "cell_type": "code",
      "source": [
        "naive_results"
      ],
      "metadata": {
        "colab": {
          "base_uri": "https://localhost:8080/"
        },
        "id": "zyKIZopQd3-O",
        "outputId": "60d67b3c-b0a2-4c12-ca53-04c86163b268"
      },
      "execution_count": 159,
      "outputs": [
        {
          "output_type": "execute_result",
          "data": {
            "text/plain": [
              "{'mae': 1.2577628,\n",
              " 'mse': 2.8376758,\n",
              " 'rmse': 1.6845403,\n",
              " 'mape': 4.638832,\n",
              " 'mase': 0.99692595}"
            ]
          },
          "metadata": {},
          "execution_count": 159
        }
      ]
    },
    {
      "cell_type": "code",
      "source": [
        "offset = 0\n",
        "plt.figure(figsize=(10, 7))\n",
        "# Account for the test_window offset and index into test_labels to ensure correct plotting\n",
        "plot_time_series(timesteps=X_test[-len(test_windows):], values=test_labels[:, 0], start=offset, label=\"Test_data\")\n",
        "plot_time_series(timesteps=X_test[-len(test_windows):], values=model_1_preds, start=offset, format=\"-\", label=\"model_1_preds\")"
      ],
      "metadata": {
        "colab": {
          "base_uri": "https://localhost:8080/",
          "height": 442
        },
        "id": "itJH5P1Fd8UN",
        "outputId": "ad7da8f2-0604-4479-b98d-d98f2c39886a"
      },
      "execution_count": 160,
      "outputs": [
        {
          "output_type": "display_data",
          "data": {
            "text/plain": [
              "<Figure size 720x504 with 1 Axes>"
            ],
            "image/png": "[encoded data removed]"
          },
          "metadata": {
            "needs_background": "light"
          }
        }
      ]
    },
    {
      "cell_type": "code",
      "source": [
        "HORIZON = 1 # predict one step at a time\n",
        "WINDOW_SIZE = 30 # use 30 timesteps in the past"
      ],
      "metadata": {
        "id": "iv60zE8JeDHx"
      },
      "execution_count": 161,
      "outputs": []
    },
    {
      "cell_type": "code",
      "source": [
        "# Make windowed data with appropriate horizon and window sizes\n",
        "full_windows, full_labels = make_windows(meantemps_np, window_size=WINDOW_SIZE, horizon=HORIZON)\n",
        "len(full_windows), len(full_labels)"
      ],
      "metadata": {
        "colab": {
          "base_uri": "https://localhost:8080/"
        },
        "id": "RvVg9htHeEvh",
        "outputId": "0bbfadc0-c56d-4b32-adb4-e4930ba78547"
      },
      "execution_count": 162,
      "outputs": [
        {
          "output_type": "execute_result",
          "data": {
            "text/plain": [
              "(1432, 1432)"
            ]
          },
          "metadata": {},
          "execution_count": 162
        }
      ]
    },
    {
      "cell_type": "code",
      "source": [
        "# Make train and testing windows\n",
        "train_windows, test_windows, train_labels, test_labels = make_train_test_splits(windows=full_windows, labels=full_labels)\n",
        "len(train_windows), len(test_windows), len(train_labels), len(test_labels)"
      ],
      "metadata": {
        "colab": {
          "base_uri": "https://localhost:8080/"
        },
        "id": "REyRBfkLeLfd",
        "outputId": "b971f273-1b19-4043-dede-501c03eefb75"
      },
      "execution_count": 163,
      "outputs": [
        {
          "output_type": "execute_result",
          "data": {
            "text/plain": [
              "(1145, 287, 1145, 287)"
            ]
          },
          "metadata": {},
          "execution_count": 163
        }
      ]
    },
    {
      "cell_type": "code",
      "source": [
        "tf.random.set_seed(42)\n",
        "\n",
        "# Create model (same model as model 1 but data input will be different)\n",
        "model_2 = tf.keras.Sequential([\n",
        "  layers.Dense(128, activation=\"relu\"),\n",
        "  layers.Dense(HORIZON) # need to predict horizon number of steps into the future\n",
        "], name=\"model_2_dense\")\n",
        "\n",
        "model_2.compile(loss=\"mae\",\n",
        "                optimizer=tf.keras.optimizers.Adam())\n",
        "\n",
        "model_2.fit(train_windows,\n",
        "            train_labels,\n",
        "            epochs=100,\n",
        "            batch_size=128,\n",
        "            verbose=0,\n",
        "            validation_data=(test_windows, test_labels),\n",
        "            callbacks=[create_model_checkpoint(model_name=model_2.name)])"
      ],
      "metadata": {
        "colab": {
          "base_uri": "https://localhost:8080/"
        },
        "id": "a3MUnMmceM0t",
        "outputId": "61ab0782-a5c6-442b-cd09-167740b45416"
      },
      "execution_count": 164,
      "outputs": [
        {
          "output_type": "execute_result",
          "data": {
            "text/plain": [
              "<keras.callbacks.History at 0x7f252f071e80>"
            ]
          },
          "metadata": {},
          "execution_count": 164
        }
      ]
    },
    {
      "cell_type": "code",
      "source": [
        "# Evaluate model 2 preds\n",
        "model_2.evaluate(test_windows, test_labels)"
      ],
      "metadata": {
        "colab": {
          "base_uri": "https://localhost:8080/"
        },
        "id": "c_B0PpbneRL7",
        "outputId": "c26e601c-7066-492a-e993-818632f6f60b"
      },
      "execution_count": 165,
      "outputs": [
        {
          "output_type": "stream",
          "name": "stdout",
          "text": [
            "9/9 [==============================] - 0s 2ms/step - loss: 1.2943\n"
          ]
        },
        {
          "output_type": "execute_result",
          "data": {
            "text/plain": [
              "1.2942607402801514"
            ]
          },
          "metadata": {},
          "execution_count": 165
        }
      ]
    },
    {
      "cell_type": "code",
      "source": [
        "# Load in best performing model\n",
        "model_2 = tf.keras.models.load_model(\"model_experiments/model_2_dense/\")\n",
        "model_2.evaluate(test_windows, test_labels)"
      ],
      "metadata": {
        "colab": {
          "base_uri": "https://localhost:8080/"
        },
        "id": "0EjVZVwbeTbl",
        "outputId": "e3934ed9-4399-4b9c-fc87-eb6af43d02ba"
      },
      "execution_count": 166,
      "outputs": [
        {
          "output_type": "stream",
          "name": "stdout",
          "text": [
            "9/9 [==============================] - 0s 2ms/step - loss: 1.2943\n"
          ]
        },
        {
          "output_type": "execute_result",
          "data": {
            "text/plain": [
              "1.2942607402801514"
            ]
          },
          "metadata": {},
          "execution_count": 166
        }
      ]
    },
    {
      "cell_type": "code",
      "source": [
        "# Get forecast predictions\n",
        "model_2_preds = make_preds(model_2,\n",
        "                           input_data=test_windows)"
      ],
      "metadata": {
        "colab": {
          "base_uri": "https://localhost:8080/"
        },
        "id": "7vEgp29HeVgP",
        "outputId": "0a61082b-b2ca-4874-cc83-6c080be8b567"
      },
      "execution_count": 167,
      "outputs": [
        {
          "output_type": "stream",
          "name": "stdout",
          "text": [
            "9/9 [==============================] - 0s 2ms/step\n"
          ]
        }
      ]
    },
    {
      "cell_type": "code",
      "source": [
        "# Evaluate results for model 2 predictions\n",
        "model_2_results = evaluate_preds(y_true=tf.squeeze(test_labels), # remove 1 dimension of test labels\n",
        "                                 y_pred=model_2_preds)\n",
        "model_2_results"
      ],
      "metadata": {
        "colab": {
          "base_uri": "https://localhost:8080/"
        },
        "id": "SNGAA_OHeWiy",
        "outputId": "b190bae6-15f0-4fbd-8a24-7bc83135c5dd"
      },
      "execution_count": 168,
      "outputs": [
        {
          "output_type": "execute_result",
          "data": {
            "text/plain": [
              "{'mae': 1.2942606,\n",
              " 'mse': 2.9110098,\n",
              " 'rmse': 1.706168,\n",
              " 'mape': 4.736191,\n",
              " 'mase': 1.0192056}"
            ]
          },
          "metadata": {},
          "execution_count": 168
        }
      ]
    },
    {
      "cell_type": "code",
      "source": [
        "offset = 0\n",
        "plt.figure(figsize=(10, 7))\n",
        "# Account for the test_window offset\n",
        "plot_time_series(timesteps=X_test[-len(test_windows):], values=test_labels[:, 0], start=offset, label=\"test_data\")\n",
        "plot_time_series(timesteps=X_test[-len(test_windows):], values=model_2_preds, start=offset, format=\"-\", label=\"model_2_preds\") "
      ],
      "metadata": {
        "colab": {
          "base_uri": "https://localhost:8080/",
          "height": 442
        },
        "id": "VrePMZlHeZHs",
        "outputId": "d7c3ebe1-11e0-4621-9db1-9451f5bf28c6"
      },
      "execution_count": 169,
      "outputs": [
        {
          "output_type": "display_data",
          "data": {
            "text/plain": [
              "<Figure size 720x504 with 1 Axes>"
            ],
            "image/png": "[encoded data removed]"
          },
          "metadata": {
            "needs_background": "light"
          }
        }
      ]
    },
    {
      "cell_type": "code",
      "source": [
        "HORIZON = 7\n",
        "WINDOW_SIZE = 30\n",
        "\n",
        "full_windows, full_labels = make_windows(meantemps_np, window_size=WINDOW_SIZE, horizon=HORIZON)\n",
        "len(full_windows), len(full_labels)"
      ],
      "metadata": {
        "colab": {
          "base_uri": "https://localhost:8080/"
        },
        "id": "xMnkkTuxeeUw",
        "outputId": "b6810e0f-a65a-4297-efd7-c07c8017f509"
      },
      "execution_count": 170,
      "outputs": [
        {
          "output_type": "execute_result",
          "data": {
            "text/plain": [
              "(1426, 1426)"
            ]
          },
          "metadata": {},
          "execution_count": 170
        }
      ]
    },
    {
      "cell_type": "code",
      "source": [
        "train_windows, test_windows, train_labels, test_labels = make_train_test_splits(windows=full_windows, labels=full_labels, test_split=0.2)\n",
        "len(train_windows), len(test_windows), len(train_labels), len(test_labels)"
      ],
      "metadata": {
        "colab": {
          "base_uri": "https://localhost:8080/"
        },
        "id": "NP6bkQzyee1W",
        "outputId": "ca3a09c5-bbff-4b9d-f17f-c53acfe8eed0"
      },
      "execution_count": 171,
      "outputs": [
        {
          "output_type": "execute_result",
          "data": {
            "text/plain": [
              "(1140, 286, 1140, 286)"
            ]
          },
          "metadata": {},
          "execution_count": 171
        }
      ]
    },
    {
      "cell_type": "code",
      "source": [
        "tf.random.set_seed(42)\n",
        "\n",
        "# Create model (same as model_1 except with different data input size)\n",
        "model_3 = tf.keras.Sequential([\n",
        "  layers.Dense(128, activation=\"relu\"),\n",
        "  layers.Dense(HORIZON)\n",
        "], name=\"model_3_dense\")\n",
        "\n",
        "model_3.compile(loss=\"mae\",\n",
        "                optimizer=tf.keras.optimizers.Adam())\n",
        "\n",
        "model_3.fit(train_windows,\n",
        "            train_labels,\n",
        "            batch_size=128,\n",
        "            epochs=100,\n",
        "            verbose=0,\n",
        "            validation_data=(test_windows, test_labels),\n",
        "            callbacks=[create_model_checkpoint(model_name=model_3.name)])"
      ],
      "metadata": {
        "colab": {
          "base_uri": "https://localhost:8080/"
        },
        "id": "NAFFUttPejrZ",
        "outputId": "0cfd7197-c309-47b3-b025-ad5d3f942eb6"
      },
      "execution_count": 172,
      "outputs": [
        {
          "output_type": "execute_result",
          "data": {
            "text/plain": [
              "<keras.callbacks.History at 0x7f24b025d370>"
            ]
          },
          "metadata": {},
          "execution_count": 172
        }
      ]
    },
    {
      "cell_type": "code",
      "source": [
        "# How did our model with a larger window size and horizon go?\n",
        "model_3.evaluate(test_windows, test_labels)"
      ],
      "metadata": {
        "colab": {
          "base_uri": "https://localhost:8080/"
        },
        "id": "AQD7lGEMenoZ",
        "outputId": "8ac40bf4-9b21-47a3-cafc-59b068e6a035"
      },
      "execution_count": 173,
      "outputs": [
        {
          "output_type": "stream",
          "name": "stdout",
          "text": [
            "9/9 [==============================] - 0s 2ms/step - loss: 1.7218\n"
          ]
        },
        {
          "output_type": "execute_result",
          "data": {
            "text/plain": [
              "1.7218388319015503"
            ]
          },
          "metadata": {},
          "execution_count": 173
        }
      ]
    },
    {
      "cell_type": "code",
      "source": [
        "# Load in best version of model_3 and evaluate\n",
        "model_3 = tf.keras.models.load_model(\"model_experiments/model_3_dense/\")\n",
        "model_3.evaluate(test_windows, test_labels)"
      ],
      "metadata": {
        "colab": {
          "base_uri": "https://localhost:8080/"
        },
        "id": "oUto4-nleou6",
        "outputId": "28d0750f-4c97-4875-a0a7-36eece6028a5"
      },
      "execution_count": 174,
      "outputs": [
        {
          "output_type": "stream",
          "name": "stdout",
          "text": [
            "9/9 [==============================] - 0s 2ms/step - loss: 1.6936\n"
          ]
        },
        {
          "output_type": "execute_result",
          "data": {
            "text/plain": [
              "1.6936486959457397"
            ]
          },
          "metadata": {},
          "execution_count": 174
        }
      ]
    },
    {
      "cell_type": "code",
      "source": [
        "# The predictions are going to be 7 steps at a time (this is the HORIZON size)\n",
        "model_3_preds = make_preds(model_3,\n",
        "                           input_data=test_windows)\n",
        "model_3_preds[:5]"
      ],
      "metadata": {
        "colab": {
          "base_uri": "https://localhost:8080/"
        },
        "id": "mZrUoeO9fNxt",
        "outputId": "6a712d93-39c0-4f60-b83e-e34e7a7133d2"
      },
      "execution_count": 175,
      "outputs": [
        {
          "output_type": "stream",
          "name": "stdout",
          "text": [
            "9/9 [==============================] - 0s 2ms/step\n"
          ]
        },
        {
          "output_type": "execute_result",
          "data": {
            "text/plain": [
              "<tf.Tensor: shape=(5, 7), dtype=float32, numpy=\n",
              "array([[24.325176, 23.924072, 24.52441 , 24.362354, 24.802826, 25.54739 ,\n",
              "        25.089798],\n",
              "       [24.546206, 23.726564, 24.623482, 24.843662, 25.090652, 25.197842,\n",
              "        24.529308],\n",
              "       [26.001194, 25.484665, 25.008602, 25.381687, 25.506596, 25.79566 ,\n",
              "        24.760843],\n",
              "       [26.795609, 25.618637, 25.514696, 26.04537 , 26.05303 , 26.13782 ,\n",
              "        26.087803],\n",
              "       [26.493801, 26.171764, 25.70045 , 26.62767 , 26.01839 , 26.10349 ,\n",
              "        25.690937]], dtype=float32)>"
            ]
          },
          "metadata": {},
          "execution_count": 175
        }
      ]
    },
    {
      "cell_type": "code",
      "source": [
        "def evaluate_preds(y_true, y_pred):\n",
        "  # Make sure float32 (for metric calculations)\n",
        "  y_true = tf.cast(y_true, dtype=tf.float32)\n",
        "  y_pred = tf.cast(y_pred, dtype=tf.float32)\n",
        "\n",
        "  # Calculate various metrics\n",
        "  mae = tf.keras.metrics.mean_absolute_error(y_true, y_pred)\n",
        "  mse = tf.keras.metrics.mean_squared_error(y_true, y_pred)\n",
        "  rmse = tf.sqrt(mse)\n",
        "  mape = tf.keras.metrics.mean_absolute_percentage_error(y_true, y_pred)\n",
        "  mase = mean_absolute_scaled_error(y_true, y_pred)\n",
        "\n",
        "  # Account for different sized metrics (for longer horizons, reduce to single number)\n",
        "  if mae.ndim > 0: # if mae isn't already a scalar, reduce it to one by aggregating tensors to mean\n",
        "    mae = tf.reduce_mean(mae)\n",
        "    mse = tf.reduce_mean(mse)\n",
        "    rmse = tf.reduce_mean(rmse)\n",
        "    mape = tf.reduce_mean(mape)\n",
        "    mase = tf.reduce_mean(mase)\n",
        "\n",
        "  return {\"mae\": mae.numpy(),\n",
        "          \"mse\": mse.numpy(),\n",
        "          \"rmse\": rmse.numpy(),\n",
        "          \"mape\": mape.numpy(),\n",
        "          \"mase\": mase.numpy()}"
      ],
      "metadata": {
        "id": "1acVTgWIesBQ"
      },
      "execution_count": 176,
      "outputs": []
    },
    {
      "cell_type": "code",
      "source": [
        "# Get model_3 results aggregated to single values\n",
        "model_3_results = evaluate_preds(y_true=tf.squeeze(test_labels),\n",
        "                                 y_pred=model_3_preds)\n",
        "model_3_results"
      ],
      "metadata": {
        "colab": {
          "base_uri": "https://localhost:8080/"
        },
        "id": "A1oX3ATOezae",
        "outputId": "0ce5debd-3dca-4772-aa21-58a5e1307ca3"
      },
      "execution_count": 177,
      "outputs": [
        {
          "output_type": "execute_result",
          "data": {
            "text/plain": [
              "{'mae': 1.6936487,\n",
              " 'mse': 4.796108,\n",
              " 'rmse': 1.992962,\n",
              " 'mape': 5.941473,\n",
              " 'mase': 1.3502175}"
            ]
          },
          "metadata": {},
          "execution_count": 177
        }
      ]
    },
    {
      "cell_type": "code",
      "source": [
        "offset = 0\n",
        "plt.figure(figsize=(10, 7))\n",
        "# Plot model_3_preds by aggregating them (note: this condenses information so the preds will look fruther ahead than the test data)\n",
        "plot_time_series(timesteps=X_test[-len(test_windows):], \n",
        "                 values=test_labels[:, 0], \n",
        "                 start=offset, \n",
        "                 label=\"Test_data\")\n",
        "plot_time_series(timesteps=X_test[-len(test_windows):], \n",
        "                 values=tf.reduce_mean(model_3_preds, axis=1), \n",
        "                 format=\"-\",\n",
        "                 start=offset, \n",
        "                 label=\"model_3_preds\")"
      ],
      "metadata": {
        "colab": {
          "base_uri": "https://localhost:8080/",
          "height": 442
        },
        "id": "3KAAP-ybe06Y",
        "outputId": "e4527fb4-967a-4dc7-be36-a2e580ea5aae"
      },
      "execution_count": 178,
      "outputs": [
        {
          "output_type": "display_data",
          "data": {
            "text/plain": [
              "<Figure size 720x504 with 1 Axes>"
            ],
            "image/png": "[encoded data removed]"
          },
          "metadata": {
            "needs_background": "light"
          }
        }
      ]
    },
    {
      "cell_type": "code",
      "source": [
        "pd.DataFrame({\"naive\": naive_results[\"mae\"], \n",
        "              \"horizon_1_window_7\": model_1_results[\"mae\"], \n",
        "              \"horizon_1_window_30\": model_2_results[\"mae\"], \n",
        "              \"horizon_7_window_30\": model_3_results[\"mae\"]}, index=[\"mae\"]).plot(figsize=(10, 7), kind=\"bar\");"
      ],
      "metadata": {
        "colab": {
          "base_uri": "https://localhost:8080/",
          "height": 440
        },
        "id": "Tj5A072qfWFI",
        "outputId": "a70fbb96-b991-408e-b731-7a3109e58e5c"
      },
      "execution_count": 179,
      "outputs": [
        {
          "output_type": "display_data",
          "data": {
            "text/plain": [
              "<Figure size 720x504 with 1 Axes>"
            ],
            "image/png": "[encoded data removed]"
          },
          "metadata": {
            "needs_background": "light"
          }
        }
      ]
    },
    {
      "cell_type": "code",
      "source": [
        "HORIZON = 1 # predict next day\n",
        "WINDOW_SIZE = 7 # use previous week worth of data"
      ],
      "metadata": {
        "id": "qCUpud-Hfcuj"
      },
      "execution_count": 180,
      "outputs": []
    },
    {
      "cell_type": "code",
      "source": [
        "# Create windowed dataset\n",
        "full_windows, full_labels = make_windows(meantemps_np, window_size=WINDOW_SIZE, horizon=HORIZON)\n",
        "len(full_windows), len(full_labels)"
      ],
      "metadata": {
        "colab": {
          "base_uri": "https://localhost:8080/"
        },
        "id": "SZ1rbnogffDK",
        "outputId": "91d8dad3-7add-486a-bf5a-870733072ec7"
      },
      "execution_count": 181,
      "outputs": [
        {
          "output_type": "execute_result",
          "data": {
            "text/plain": [
              "(1455, 1455)"
            ]
          },
          "metadata": {},
          "execution_count": 181
        }
      ]
    },
    {
      "cell_type": "code",
      "source": [
        "# Create train/test splits\n",
        "train_windows, test_windows, train_labels, test_labels = make_train_test_splits(full_windows, full_labels)\n",
        "len(train_windows), len(test_windows), len(train_labels), len(test_labels)"
      ],
      "metadata": {
        "colab": {
          "base_uri": "https://localhost:8080/"
        },
        "id": "H3sMGGG_fge3",
        "outputId": "8e2a182d-d42e-416f-d817-5326bf7d8f46"
      },
      "execution_count": 182,
      "outputs": [
        {
          "output_type": "execute_result",
          "data": {
            "text/plain": [
              "(1164, 291, 1164, 291)"
            ]
          },
          "metadata": {},
          "execution_count": 182
        }
      ]
    },
    {
      "cell_type": "code",
      "source": [
        "# Check data sample shapes\n",
        "train_windows[0].shape # returns (WINDOW_SIZE, )"
      ],
      "metadata": {
        "colab": {
          "base_uri": "https://localhost:8080/"
        },
        "id": "1EmRH7d9fkfr",
        "outputId": "5fd3ef7c-eed7-45f8-e745-b7297887636b"
      },
      "execution_count": 183,
      "outputs": [
        {
          "output_type": "execute_result",
          "data": {
            "text/plain": [
              "(7,)"
            ]
          },
          "metadata": {},
          "execution_count": 183
        }
      ]
    },
    {
      "cell_type": "code",
      "source": [
        "# Before we pass our data to the Conv1D layer, we have to reshape it in order to make sure it works\n",
        "x = tf.constant(train_windows[0])\n",
        "expand_dims_layer = layers.Lambda(lambda x: tf.expand_dims(x, axis=1)) # add an extra dimension for timesteps\n",
        "print(f\"Original shape: {x.shape}\") # (WINDOW_SIZE)\n",
        "print(f\"Expanded shape: {expand_dims_layer(x).shape}\") # (WINDOW_SIZE, input_dim) \n",
        "print(f\"Original values with expanded shape:\\n {expand_dims_layer(x)}\")"
      ],
      "metadata": {
        "colab": {
          "base_uri": "https://localhost:8080/"
        },
        "id": "ZhgaHMplfmkQ",
        "outputId": "37aedd4a-443e-485a-9acc-8ea03c5dd168"
      },
      "execution_count": 184,
      "outputs": [
        {
          "output_type": "stream",
          "name": "stdout",
          "text": [
            "Original shape: (7,)\n",
            "Expanded shape: (7, 1)\n",
            "Original values with expanded shape:\n",
            " [[10.       ]\n",
            " [ 7.4      ]\n",
            " [ 7.1666665]\n",
            " [ 8.666667 ]\n",
            " [ 6.       ]\n",
            " [ 7.       ]\n",
            " [ 7.       ]]\n"
          ]
        }
      ]
    },
    {
      "cell_type": "code",
      "source": [
        "tf.random.set_seed(42)\n",
        "\n",
        "# Create model\n",
        "model_4 = tf.keras.Sequential([\n",
        "  # Create Lambda layer to reshape inputs, without this layer, the model will error\n",
        "  layers.Lambda(lambda x: tf.expand_dims(x, axis=1)), # resize the inputs to adjust for window size / Conv1D 3D input requirements\n",
        "  layers.Conv1D(filters=128, kernel_size=5, padding=\"causal\", activation=\"relu\"),\n",
        "  layers.Dense(HORIZON)\n",
        "], name=\"model_4_conv1D\")\n",
        "\n",
        "# Compile model\n",
        "model_4.compile(loss=\"mae\",\n",
        "                optimizer=tf.keras.optimizers.Adam())\n",
        "\n",
        "# Fit model\n",
        "model_4.fit(train_windows,\n",
        "            train_labels,\n",
        "            batch_size=128, \n",
        "            epochs=100,\n",
        "            verbose=0,\n",
        "            validation_data=(test_windows, test_labels),\n",
        "            callbacks=[create_model_checkpoint(model_name=model_4.name)])"
      ],
      "metadata": {
        "colab": {
          "base_uri": "https://localhost:8080/"
        },
        "id": "_K58opTSfxi3",
        "outputId": "d3bb889e-e58f-48a4-aded-3c634857cfb7"
      },
      "execution_count": 185,
      "outputs": [
        {
          "output_type": "stream",
          "name": "stderr",
          "text": [
            "WARNING:absl:Found untraced functions such as _jit_compiled_convolution_op while saving (showing 1 of 1). These functions will not be directly callable after loading.\n",
            "WARNING:absl:Found untraced functions such as _jit_compiled_convolution_op while saving (showing 1 of 1). These functions will not be directly callable after loading.\n",
            "WARNING:absl:Found untraced functions such as _jit_compiled_convolution_op while saving (showing 1 of 1). These functions will not be directly callable after loading.\n",
            "WARNING:absl:Found untraced functions such as _jit_compiled_convolution_op while saving (showing 1 of 1). These functions will not be directly callable after loading.\n",
            "WARNING:absl:Found untraced functions such as _jit_compiled_convolution_op while saving (showing 1 of 1). These functions will not be directly callable after loading.\n",
            "WARNING:absl:Found untraced functions such as _jit_compiled_convolution_op while saving (showing 1 of 1). These functions will not be directly callable after loading.\n",
            "WARNING:absl:Found untraced functions such as _jit_compiled_convolution_op while saving (showing 1 of 1). These functions will not be directly callable after loading.\n",
            "WARNING:absl:Found untraced functions such as _jit_compiled_convolution_op while saving (showing 1 of 1). These functions will not be directly callable after loading.\n",
            "WARNING:absl:Found untraced functions such as _jit_compiled_convolution_op while saving (showing 1 of 1). These functions will not be directly callable after loading.\n",
            "WARNING:absl:Found untraced functions such as _jit_compiled_convolution_op while saving (showing 1 of 1). These functions will not be directly callable after loading.\n",
            "WARNING:absl:Found untraced functions such as _jit_compiled_convolution_op while saving (showing 1 of 1). These functions will not be directly callable after loading.\n",
            "WARNING:absl:Found untraced functions such as _jit_compiled_convolution_op while saving (showing 1 of 1). These functions will not be directly callable after loading.\n",
            "WARNING:absl:Found untraced functions such as _jit_compiled_convolution_op while saving (showing 1 of 1). These functions will not be directly callable after loading.\n",
            "WARNING:absl:Found untraced functions such as _jit_compiled_convolution_op while saving (showing 1 of 1). These functions will not be directly callable after loading.\n",
            "WARNING:absl:Found untraced functions such as _jit_compiled_convolution_op while saving (showing 1 of 1). These functions will not be directly callable after loading.\n",
            "WARNING:absl:Found untraced functions such as _jit_compiled_convolution_op while saving (showing 1 of 1). These functions will not be directly callable after loading.\n",
            "WARNING:absl:Found untraced functions such as _jit_compiled_convolution_op while saving (showing 1 of 1). These functions will not be directly callable after loading.\n",
            "WARNING:absl:Found untraced functions such as _jit_compiled_convolution_op while saving (showing 1 of 1). These functions will not be directly callable after loading.\n",
            "WARNING:absl:Found untraced functions such as _jit_compiled_convolution_op while saving (showing 1 of 1). These functions will not be directly callable after loading.\n",
            "WARNING:absl:Found untraced functions such as _jit_compiled_convolution_op while saving (showing 1 of 1). These functions will not be directly callable after loading.\n",
            "WARNING:absl:Found untraced functions such as _jit_compiled_convolution_op while saving (showing 1 of 1). These functions will not be directly callable after loading.\n",
            "WARNING:absl:Found untraced functions such as _jit_compiled_convolution_op while saving (showing 1 of 1). These functions will not be directly callable after loading.\n",
            "WARNING:absl:Found untraced functions such as _jit_compiled_convolution_op while saving (showing 1 of 1). These functions will not be directly callable after loading.\n",
            "WARNING:absl:Found untraced functions such as _jit_compiled_convolution_op while saving (showing 1 of 1). These functions will not be directly callable after loading.\n",
            "WARNING:absl:Found untraced functions such as _jit_compiled_convolution_op while saving (showing 1 of 1). These functions will not be directly callable after loading.\n",
            "WARNING:absl:Found untraced functions such as _jit_compiled_convolution_op while saving (showing 1 of 1). These functions will not be directly callable after loading.\n",
            "WARNING:absl:Found untraced functions such as _jit_compiled_convolution_op while saving (showing 1 of 1). These functions will not be directly callable after loading.\n",
            "WARNING:absl:Found untraced functions such as _jit_compiled_convolution_op while saving (showing 1 of 1). These functions will not be directly callable after loading.\n",
            "WARNING:absl:Found untraced functions such as _jit_compiled_convolution_op while saving (showing 1 of 1). These functions will not be directly callable after loading.\n",
            "WARNING:absl:Found untraced functions such as _jit_compiled_convolution_op while saving (showing 1 of 1). These functions will not be directly callable after loading.\n",
            "WARNING:absl:Found untraced functions such as _jit_compiled_convolution_op while saving (showing 1 of 1). These functions will not be directly callable after loading.\n",
            "WARNING:absl:Found untraced functions such as _jit_compiled_convolution_op while saving (showing 1 of 1). These functions will not be directly callable after loading.\n",
            "WARNING:absl:Found untraced functions such as _jit_compiled_convolution_op while saving (showing 1 of 1). These functions will not be directly callable after loading.\n",
            "WARNING:absl:Found untraced functions such as _jit_compiled_convolution_op while saving (showing 1 of 1). These functions will not be directly callable after loading.\n"
          ]
        },
        {
          "output_type": "execute_result",
          "data": {
            "text/plain": [
              "<keras.callbacks.History at 0x7f24b34ce190>"
            ]
          },
          "metadata": {},
          "execution_count": 185
        }
      ]
    },
    {
      "cell_type": "code",
      "source": [
        "model_4.summary()"
      ],
      "metadata": {
        "colab": {
          "base_uri": "https://localhost:8080/"
        },
        "id": "_o5kr3Bbfzfp",
        "outputId": "a27c4d2f-0628-4bee-d99b-c471e24ae726"
      },
      "execution_count": 186,
      "outputs": [
        {
          "output_type": "stream",
          "name": "stdout",
          "text": [
            "Model: \"model_4_conv1D\"\n",
            "_________________________________________________________________\n",
            " Layer (type)                Output Shape              Param #   \n",
            "=================================================================\n",
            " lambda_4 (Lambda)           (None, 1, 7)              0         \n",
            "                                                                 \n",
            " conv1d_1 (Conv1D)           (None, 1, 128)            4608      \n",
            "                                                                 \n",
            " dense_18 (Dense)            (None, 1, 1)              129       \n",
            "                                                                 \n",
            "=================================================================\n",
            "Total params: 4,737\n",
            "Trainable params: 4,737\n",
            "Non-trainable params: 0\n",
            "_________________________________________________________________\n"
          ]
        }
      ]
    },
    {
      "cell_type": "code",
      "source": [
        "# Load in best performing Conv1D model and evaluate it on the test data\n",
        "model_4 = tf.keras.models.load_model(\"model_experiments/model_4_conv1D\")\n",
        "model_4.evaluate(test_windows, test_labels)"
      ],
      "metadata": {
        "colab": {
          "base_uri": "https://localhost:8080/"
        },
        "id": "oHzZM8H_f2JJ",
        "outputId": "26e1dae5-6b6c-4f05-fcfc-68d203a14f1e"
      },
      "execution_count": 187,
      "outputs": [
        {
          "output_type": "stream",
          "name": "stdout",
          "text": [
            "10/10 [==============================] - 0s 3ms/step - loss: 1.2384\n"
          ]
        },
        {
          "output_type": "execute_result",
          "data": {
            "text/plain": [
              "1.2384446859359741"
            ]
          },
          "metadata": {},
          "execution_count": 187
        }
      ]
    },
    {
      "cell_type": "code",
      "source": [
        "# Make predictions\n",
        "model_4_preds = make_preds(model_4, test_windows)\n",
        "model_4_preds[:10]"
      ],
      "metadata": {
        "colab": {
          "base_uri": "https://localhost:8080/"
        },
        "id": "-6rEcnVUf29i",
        "outputId": "4c162995-99a0-4cb0-94d5-05503e73624c"
      },
      "execution_count": 188,
      "outputs": [
        {
          "output_type": "stream",
          "name": "stdout",
          "text": [
            "10/10 [==============================] - 0s 3ms/step\n"
          ]
        },
        {
          "output_type": "execute_result",
          "data": {
            "text/plain": [
              "<tf.Tensor: shape=(10,), dtype=float32, numpy=\n",
              "array([24.182653, 25.674831, 26.142742, 26.489292, 26.913519, 26.694622,\n",
              "       25.615334, 26.151785, 27.647804, 29.208807], dtype=float32)>"
            ]
          },
          "metadata": {},
          "execution_count": 188
        }
      ]
    },
    {
      "cell_type": "code",
      "source": [
        "# Evaluate predictions\n",
        "model_4_results = evaluate_preds(y_true=tf.squeeze(test_labels),\n",
        "                                 y_pred=model_4_preds)\n",
        "model_4_results"
      ],
      "metadata": {
        "colab": {
          "base_uri": "https://localhost:8080/"
        },
        "id": "PLiWm3NNf4ln",
        "outputId": "6281d7d3-2cb9-4fd6-de31-87f4e18b5a8e"
      },
      "execution_count": 189,
      "outputs": [
        {
          "output_type": "execute_result",
          "data": {
            "text/plain": [
              "{'mae': 1.2384447,\n",
              " 'mse': 2.7660706,\n",
              " 'rmse': 1.6631508,\n",
              " 'mape': 4.5807223,\n",
              " 'mase': 0.9846102}"
            ]
          },
          "metadata": {},
          "execution_count": 189
        }
      ]
    },
    {
      "cell_type": "code",
      "source": [
        "tf.random.set_seed(42)\n",
        "\n",
        "# Let's build an LSTM model with the Functional API\n",
        "inputs = layers.Input(shape=(WINDOW_SIZE))\n",
        "x = layers.Lambda(lambda x: tf.expand_dims(x, axis=1))(inputs) # expand input dimension to be compatible with LSTM\n",
        "# print(x.shape)\n",
        "# x = layers.LSTM(128, activation=\"relu\", return_sequences=True)(x) # this layer will error if the inputs are not the right shape\n",
        "x = layers.LSTM(128, activation=\"relu\")(x) # using the tanh loss function results in a massive error\n",
        "# print(x.shape)\n",
        "# Add another optional dense layer (you could add more of these to see if they improve model performance)\n",
        "# x = layers.Dense(32, activation=\"relu\")(x)\n",
        "output = layers.Dense(HORIZON)(x)\n",
        "model_5 = tf.keras.Model(inputs=inputs, outputs=output, name=\"model_5_lstm\")\n",
        "\n",
        "# Compile model\n",
        "model_5.compile(loss=\"mae\",\n",
        "                optimizer=tf.keras.optimizers.Adam())\n",
        "\n",
        "# Seems when saving the model several warnings are appearing: https://github.com/tensorflow/tensorflow/issues/47554 \n",
        "model_5.fit(train_windows,\n",
        "            train_labels,\n",
        "            epochs=100,\n",
        "            verbose=0,\n",
        "            batch_size=128,\n",
        "            validation_data=(test_windows, test_labels),\n",
        "            callbacks=[create_model_checkpoint(model_name=model_5.name)])"
      ],
      "metadata": {
        "colab": {
          "base_uri": "https://localhost:8080/"
        },
        "id": "Nc-qiIM7f6Dv",
        "outputId": "7e14dae8-a283-416e-d284-430a837d10da"
      },
      "execution_count": 190,
      "outputs": [
        {
          "output_type": "stream",
          "name": "stderr",
          "text": [
            "WARNING:tensorflow:Layer lstm_1 will not use cuDNN kernels since it doesn't meet the criteria. It will use a generic GPU kernel as fallback when running on GPU.\n"
          ]
        },
        {
          "output_type": "execute_result",
          "data": {
            "text/plain": [
              "<keras.callbacks.History at 0x7f24b3319820>"
            ]
          },
          "metadata": {},
          "execution_count": 190
        }
      ]
    },
    {
      "cell_type": "code",
      "source": [
        "# Load in best version of model 5 and evaluate on the test data\n",
        "model_5 = tf.keras.models.load_model(\"model_experiments/model_5_lstm/\")\n",
        "model_5.evaluate(test_windows, test_labels)"
      ],
      "metadata": {
        "colab": {
          "base_uri": "https://localhost:8080/"
        },
        "id": "2IPlI01nf-aP",
        "outputId": "69ce0be7-9a72-4fff-cdb2-72ab2e896694"
      },
      "execution_count": 191,
      "outputs": [
        {
          "output_type": "stream",
          "name": "stderr",
          "text": [
            "WARNING:tensorflow:Layer lstm_1 will not use cuDNN kernels since it doesn't meet the criteria. It will use a generic GPU kernel as fallback when running on GPU.\n"
          ]
        },
        {
          "output_type": "stream",
          "name": "stdout",
          "text": [
            "10/10 [==============================] - 0s 3ms/step - loss: 1.2042\n"
          ]
        },
        {
          "output_type": "execute_result",
          "data": {
            "text/plain": [
              "1.204153060913086"
            ]
          },
          "metadata": {},
          "execution_count": 191
        }
      ]
    },
    {
      "cell_type": "code",
      "source": [
        "# Make predictions with our LSTM model\n",
        "model_5_preds = make_preds(model_5, test_windows)\n",
        "model_5_preds[:10]"
      ],
      "metadata": {
        "colab": {
          "base_uri": "https://localhost:8080/"
        },
        "id": "lMDNmkMGgDMD",
        "outputId": "fa8f0029-f227-4e7a-d7ab-5a44a26d75d1"
      },
      "execution_count": 192,
      "outputs": [
        {
          "output_type": "stream",
          "name": "stdout",
          "text": [
            "10/10 [==============================] - 0s 3ms/step\n"
          ]
        },
        {
          "output_type": "execute_result",
          "data": {
            "text/plain": [
              "<tf.Tensor: shape=(10,), dtype=float32, numpy=\n",
              "array([24.059658, 25.60666 , 25.97793 , 26.222246, 26.751957, 26.34838 ,\n",
              "       25.292868, 26.03132 , 27.667604, 29.148174], dtype=float32)>"
            ]
          },
          "metadata": {},
          "execution_count": 192
        }
      ]
    },
    {
      "cell_type": "code",
      "source": [
        "# Evaluate model 5 preds\n",
        "model_5_results = evaluate_preds(y_true=tf.squeeze(test_labels),\n",
        "                                 y_pred=model_5_preds)\n",
        "model_5_results"
      ],
      "metadata": {
        "colab": {
          "base_uri": "https://localhost:8080/"
        },
        "id": "DQCbBkXhgEJn",
        "outputId": "39cb10db-3421-4007-c4f5-cbf8160e9aa2"
      },
      "execution_count": 193,
      "outputs": [
        {
          "output_type": "execute_result",
          "data": {
            "text/plain": [
              "{'mae': 1.2041531,\n",
              " 'mse': 2.5879805,\n",
              " 'rmse': 1.6087202,\n",
              " 'mape': 4.438367,\n",
              " 'mase': 0.95734704}"
            ]
          },
          "metadata": {},
          "execution_count": 193
        }
      ]
    },
    {
      "cell_type": "code",
      "source": [
        "'''\n",
        "multivariate time series\n",
        "target: meantemp\n",
        "data: meantemp, humidity, wind_speed, meanpressure\n",
        "\n",
        "gonna have to use pandas shift method for all variables so the size of the input\n",
        "would be n*7. n = # of variables.\n",
        "4*7=28\n",
        "\n",
        "dataframe columns will look like this:\n",
        "meantemp+1, meantemp+2, ..., meantemp + 7, humidity+1, ..., humidity+7, ...\n",
        "'''"
      ],
      "metadata": {
        "colab": {
          "base_uri": "https://localhost:8080/",
          "height": 52
        },
        "id": "YFknJjeCgFO3",
        "outputId": "c834c405-e2b4-4135-ea74-344f13e0b32f"
      },
      "execution_count": 194,
      "outputs": [
        {
          "output_type": "execute_result",
          "data": {
            "text/plain": [
              "'\\nmultivariate time series\\ntarget: meantemp\\ndata: meantemp, humidity, wind_speed, meanpressure\\n\\ngonna have to use pandas shift method for all variables so the size of the input\\nwould be n*7. n = # of variables.\\n4*7=28\\n\\ndataframe columns will look like this:\\nmeantemp+1, meantemp+2, ..., meantemp + 7, humidity+1, ..., humidity+7, ...\\n'"
            ],
            "application/vnd.google.colaboratory.intrinsic+json": {
              "type": "string"
            }
          },
          "metadata": {},
          "execution_count": 194
        }
      ]
    },
    {
      "cell_type": "code",
      "source": [
        "# Make a copy of the Bitcoin historical data with block reward feature\n",
        "multivariate_windowed = df.copy()\n",
        "n_list = [\"meantemp\", \"humidity\", \"wind_speed\", \"meanpressure\"]\n",
        "# Add windowed columns\n",
        "for name in n_list:\n",
        "    for i in range(WINDOW_SIZE): # Shift values for each step in WINDOW_SIZE\n",
        "        multivariate_windowed[f\"{name}+{i+1}\"] = multivariate_windowed[f\"{name}\"].shift(periods=i+1)\n",
        "multivariate_windowed.head(10)"
      ],
      "metadata": {
        "colab": {
          "base_uri": "https://localhost:8080/",
          "height": 661
        },
        "id": "Zi0mX4EYg9I5",
        "outputId": "3e2f81a8-53cd-4615-e3f7-99d5ac0c629d"
      },
      "execution_count": 195,
      "outputs": [
        {
          "output_type": "execute_result",
          "data": {
            "text/plain": [
              "             meantemp   humidity  wind_speed  meanpressure  meantemp+1  \\\n",
              "date                                                                     \n",
              "2013-01-01  10.000000  84.500000    0.000000   1015.666667         NaN   \n",
              "2013-01-02   7.400000  92.000000    2.980000   1017.800000   10.000000   \n",
              "2013-01-03   7.166667  87.000000    4.633333   1018.666667    7.400000   \n",
              "2013-01-04   8.666667  71.333333    1.233333   1017.166667    7.166667   \n",
              "2013-01-05   6.000000  86.833333    3.700000   1016.500000    8.666667   \n",
              "2013-01-06   7.000000  82.800000    1.480000   1018.000000    6.000000   \n",
              "2013-01-07   7.000000  78.600000    6.300000   1020.000000    7.000000   \n",
              "2013-01-08   8.857143  63.714286    7.142857   1018.714286    7.000000   \n",
              "2013-01-09  14.000000  51.250000   12.500000   1017.000000    8.857143   \n",
              "2013-01-10  11.000000  62.000000    7.400000   1015.666667   14.000000   \n",
              "\n",
              "            meantemp+2  meantemp+3  meantemp+4  meantemp+5  meantemp+6  ...  \\\n",
              "date                                                                    ...   \n",
              "2013-01-01         NaN         NaN         NaN         NaN         NaN  ...   \n",
              "2013-01-02         NaN         NaN         NaN         NaN         NaN  ...   \n",
              "2013-01-03   10.000000         NaN         NaN         NaN         NaN  ...   \n",
              "2013-01-04    7.400000   10.000000         NaN         NaN         NaN  ...   \n",
              "2013-01-05    7.166667    7.400000   10.000000         NaN         NaN  ...   \n",
              "2013-01-06    8.666667    7.166667    7.400000   10.000000         NaN  ...   \n",
              "2013-01-07    6.000000    8.666667    7.166667    7.400000   10.000000  ...   \n",
              "2013-01-08    7.000000    6.000000    8.666667    7.166667    7.400000  ...   \n",
              "2013-01-09    7.000000    7.000000    6.000000    8.666667    7.166667  ...   \n",
              "2013-01-10    8.857143    7.000000    7.000000    6.000000    8.666667  ...   \n",
              "\n",
              "            wind_speed+5  wind_speed+6  wind_speed+7  meanpressure+1  \\\n",
              "date                                                                   \n",
              "2013-01-01           NaN           NaN           NaN             NaN   \n",
              "2013-01-02           NaN           NaN           NaN     1015.666667   \n",
              "2013-01-03           NaN           NaN           NaN     1017.800000   \n",
              "2013-01-04           NaN           NaN           NaN     1018.666667   \n",
              "2013-01-05           NaN           NaN           NaN     1017.166667   \n",
              "2013-01-06      0.000000           NaN           NaN     1016.500000   \n",
              "2013-01-07      2.980000      0.000000           NaN     1018.000000   \n",
              "2013-01-08      4.633333      2.980000      0.000000     1020.000000   \n",
              "2013-01-09      1.233333      4.633333      2.980000     1018.714286   \n",
              "2013-01-10      3.700000      1.233333      4.633333     1017.000000   \n",
              "\n",
              "            meanpressure+2  meanpressure+3  meanpressure+4  meanpressure+5  \\\n",
              "date                                                                         \n",
              "2013-01-01             NaN             NaN             NaN             NaN   \n",
              "2013-01-02             NaN             NaN             NaN             NaN   \n",
              "2013-01-03     1015.666667             NaN             NaN             NaN   \n",
              "2013-01-04     1017.800000     1015.666667             NaN             NaN   \n",
              "2013-01-05     1018.666667     1017.800000     1015.666667             NaN   \n",
              "2013-01-06     1017.166667     1018.666667     1017.800000     1015.666667   \n",
              "2013-01-07     1016.500000     1017.166667     1018.666667     1017.800000   \n",
              "2013-01-08     1018.000000     1016.500000     1017.166667     1018.666667   \n",
              "2013-01-09     1020.000000     1018.000000     1016.500000     1017.166667   \n",
              "2013-01-10     1018.714286     1020.000000     1018.000000     1016.500000   \n",
              "\n",
              "            meanpressure+6  meanpressure+7  \n",
              "date                                        \n",
              "2013-01-01             NaN             NaN  \n",
              "2013-01-02             NaN             NaN  \n",
              "2013-01-03             NaN             NaN  \n",
              "2013-01-04             NaN             NaN  \n",
              "2013-01-05             NaN             NaN  \n",
              "2013-01-06             NaN             NaN  \n",
              "2013-01-07     1015.666667             NaN  \n",
              "2013-01-08     1017.800000     1015.666667  \n",
              "2013-01-09     1018.666667     1017.800000  \n",
              "2013-01-10     1017.166667     1018.666667  \n",
              "\n",
              "[10 rows x 32 columns]"
            ],
            "text/html": [
              "\n",
              "  <div id=\"df-4d4dbe7b-fe18-49a7-a8be-2dfe0763b9b8\">\n",
              "    <div class=\"colab-df-container\">\n",
              "      <div>\n",
              "<style scoped>\n",
              "    .dataframe tbody tr th:only-of-type {\n",
              "        vertical-align: middle;\n",
              "    }\n",
              "\n",
              "    .dataframe tbody tr th {\n",
              "        vertical-align: top;\n",
              "    }\n",
              "\n",
              "    .dataframe thead th {\n",
              "        text-align: right;\n",
              "    }\n",
              "</style>\n",
              "<table border=\"1\" class=\"dataframe\">\n",
              "  <thead>\n",
              "    <tr style=\"text-align: right;\">\n",
              "      <th></th>\n",
              "      <th>meantemp</th>\n",
              "      <th>humidity</th>\n",
              "      <th>wind_speed</th>\n",
              "      <th>meanpressure</th>\n",
              "      <th>meantemp+1</th>\n",
              "      <th>meantemp+2</th>\n",
              "      <th>meantemp+3</th>\n",
              "      <th>meantemp+4</th>\n",
              "      <th>meantemp+5</th>\n",
              "      <th>meantemp+6</th>\n",
              "      <th>...</th>\n",
              "      <th>wind_speed+5</th>\n",
              "      <th>wind_speed+6</th>\n",
              "      <th>wind_speed+7</th>\n",
              "      <th>meanpressure+1</th>\n",
              "      <th>meanpressure+2</th>\n",
              "      <th>meanpressure+3</th>\n",
              "      <th>meanpressure+4</th>\n",
              "      <th>meanpressure+5</th>\n",
              "      <th>meanpressure+6</th>\n",
              "      <th>meanpressure+7</th>\n",
              "    </tr>\n",
              "    <tr>\n",
              "      <th>date</th>\n",
              "      <th></th>\n",
              "      <th></th>\n",
              "      <th></th>\n",
              "      <th></th>\n",
              "      <th></th>\n",
              "      <th></th>\n",
              "      <th></th>\n",
              "      <th></th>\n",
              "      <th></th>\n",
              "      <th></th>\n",
              "      <th></th>\n",
              "      <th></th>\n",
              "      <th></th>\n",
              "      <th></th>\n",
              "      <th></th>\n",
              "      <th></th>\n",
              "      <th></th>\n",
              "      <th></th>\n",
              "      <th></th>\n",
              "      <th></th>\n",
              "      <th></th>\n",
              "    </tr>\n",
              "  </thead>\n",
              "  <tbody>\n",
              "    <tr>\n",
              "      <th>2013-01-01</th>\n",
              "      <td>10.000000</td>\n",
              "      <td>84.500000</td>\n",
              "      <td>0.000000</td>\n",
              "      <td>1015.666667</td>\n",
              "      <td>NaN</td>\n",
              "      <td>NaN</td>\n",
              "      <td>NaN</td>\n",
              "      <td>NaN</td>\n",
              "      <td>NaN</td>\n",
              "      <td>NaN</td>\n",
              "      <td>...</td>\n",
              "      <td>NaN</td>\n",
              "      <td>NaN</td>\n",
              "      <td>NaN</td>\n",
              "      <td>NaN</td>\n",
              "      <td>NaN</td>\n",
              "      <td>NaN</td>\n",
              "      <td>NaN</td>\n",
              "      <td>NaN</td>\n",
              "      <td>NaN</td>\n",
              "      <td>NaN</td>\n",
              "    </tr>\n",
              "    <tr>\n",
              "      <th>2013-01-02</th>\n",
              "      <td>7.400000</td>\n",
              "      <td>92.000000</td>\n",
              "      <td>2.980000</td>\n",
              "      <td>1017.800000</td>\n",
              "      <td>10.000000</td>\n",
              "      <td>NaN</td>\n",
              "      <td>NaN</td>\n",
              "      <td>NaN</td>\n",
              "      <td>NaN</td>\n",
              "      <td>NaN</td>\n",
              "      <td>...</td>\n",
              "      <td>NaN</td>\n",
              "      <td>NaN</td>\n",
              "      <td>NaN</td>\n",
              "      <td>1015.666667</td>\n",
              "      <td>NaN</td>\n",
              "      <td>NaN</td>\n",
              "      <td>NaN</td>\n",
              "      <td>NaN</td>\n",
              "      <td>NaN</td>\n",
              "      <td>NaN</td>\n",
              "    </tr>\n",
              "    <tr>\n",
              "      <th>2013-01-03</th>\n",
              "      <td>7.166667</td>\n",
              "      <td>87.000000</td>\n",
              "      <td>4.633333</td>\n",
              "      <td>1018.666667</td>\n",
              "      <td>7.400000</td>\n",
              "      <td>10.000000</td>\n",
              "      <td>NaN</td>\n",
              "      <td>NaN</td>\n",
              "      <td>NaN</td>\n",
              "      <td>NaN</td>\n",
              "      <td>...</td>\n",
              "      <td>NaN</td>\n",
              "      <td>NaN</td>\n",
              "      <td>NaN</td>\n",
              "      <td>1017.800000</td>\n",
              "      <td>1015.666667</td>\n",
              "      <td>NaN</td>\n",
              "      <td>NaN</td>\n",
              "      <td>NaN</td>\n",
              "      <td>NaN</td>\n",
              "      <td>NaN</td>\n",
              "    </tr>\n",
              "    <tr>\n",
              "      <th>2013-01-04</th>\n",
              "      <td>8.666667</td>\n",
              "      <td>71.333333</td>\n",
              "      <td>1.233333</td>\n",
              "      <td>1017.166667</td>\n",
              "      <td>7.166667</td>\n",
              "      <td>7.400000</td>\n",
              "      <td>10.000000</td>\n",
              "      <td>NaN</td>\n",
              "      <td>NaN</td>\n",
              "      <td>NaN</td>\n",
              "      <td>...</td>\n",
              "      <td>NaN</td>\n",
              "      <td>NaN</td>\n",
              "      <td>NaN</td>\n",
              "      <td>1018.666667</td>\n",
              "      <td>1017.800000</td>\n",
              "      <td>1015.666667</td>\n",
              "      <td>NaN</td>\n",
              "      <td>NaN</td>\n",
              "      <td>NaN</td>\n",
              "      <td>NaN</td>\n",
              "    </tr>\n",
              "    <tr>\n",
              "      <th>2013-01-05</th>\n",
              "      <td>6.000000</td>\n",
              "      <td>86.833333</td>\n",
              "      <td>3.700000</td>\n",
              "      <td>1016.500000</td>\n",
              "      <td>8.666667</td>\n",
              "      <td>7.166667</td>\n",
              "      <td>7.400000</td>\n",
              "      <td>10.000000</td>\n",
              "      <td>NaN</td>\n",
              "      <td>NaN</td>\n",
              "      <td>...</td>\n",
              "      <td>NaN</td>\n",
              "      <td>NaN</td>\n",
              "      <td>NaN</td>\n",
              "      <td>1017.166667</td>\n",
              "      <td>1018.666667</td>\n",
              "      <td>1017.800000</td>\n",
              "      <td>1015.666667</td>\n",
              "      <td>NaN</td>\n",
              "      <td>NaN</td>\n",
              "      <td>NaN</td>\n",
              "    </tr>\n",
              "    <tr>\n",
              "      <th>2013-01-06</th>\n",
              "      <td>7.000000</td>\n",
              "      <td>82.800000</td>\n",
              "      <td>1.480000</td>\n",
              "      <td>1018.000000</td>\n",
              "      <td>6.000000</td>\n",
              "      <td>8.666667</td>\n",
              "      <td>7.166667</td>\n",
              "      <td>7.400000</td>\n",
              "      <td>10.000000</td>\n",
              "      <td>NaN</td>\n",
              "      <td>...</td>\n",
              "      <td>0.000000</td>\n",
              "      <td>NaN</td>\n",
              "      <td>NaN</td>\n",
              "      <td>1016.500000</td>\n",
              "      <td>1017.166667</td>\n",
              "      <td>1018.666667</td>\n",
              "      <td>1017.800000</td>\n",
              "      <td>1015.666667</td>\n",
              "      <td>NaN</td>\n",
              "      <td>NaN</td>\n",
              "    </tr>\n",
              "    <tr>\n",
              "      <th>2013-01-07</th>\n",
              "      <td>7.000000</td>\n",
              "      <td>78.600000</td>\n",
              "      <td>6.300000</td>\n",
              "      <td>1020.000000</td>\n",
              "      <td>7.000000</td>\n",
              "      <td>6.000000</td>\n",
              "      <td>8.666667</td>\n",
              "      <td>7.166667</td>\n",
              "      <td>7.400000</td>\n",
              "      <td>10.000000</td>\n",
              "      <td>...</td>\n",
              "      <td>2.980000</td>\n",
              "      <td>0.000000</td>\n",
              "      <td>NaN</td>\n",
              "      <td>1018.000000</td>\n",
              "      <td>1016.500000</td>\n",
              "      <td>1017.166667</td>\n",
              "      <td>1018.666667</td>\n",
              "      <td>1017.800000</td>\n",
              "      <td>1015.666667</td>\n",
              "      <td>NaN</td>\n",
              "    </tr>\n",
              "    <tr>\n",
              "      <th>2013-01-08</th>\n",
              "      <td>8.857143</td>\n",
              "      <td>63.714286</td>\n",
              "      <td>7.142857</td>\n",
              "      <td>1018.714286</td>\n",
              "      <td>7.000000</td>\n",
              "      <td>7.000000</td>\n",
              "      <td>6.000000</td>\n",
              "      <td>8.666667</td>\n",
              "      <td>7.166667</td>\n",
              "      <td>7.400000</td>\n",
              "      <td>...</td>\n",
              "      <td>4.633333</td>\n",
              "      <td>2.980000</td>\n",
              "      <td>0.000000</td>\n",
              "      <td>1020.000000</td>\n",
              "      <td>1018.000000</td>\n",
              "      <td>1016.500000</td>\n",
              "      <td>1017.166667</td>\n",
              "      <td>1018.666667</td>\n",
              "      <td>1017.800000</td>\n",
              "      <td>1015.666667</td>\n",
              "    </tr>\n",
              "    <tr>\n",
              "      <th>2013-01-09</th>\n",
              "      <td>14.000000</td>\n",
              "      <td>51.250000</td>\n",
              "      <td>12.500000</td>\n",
              "      <td>1017.000000</td>\n",
              "      <td>8.857143</td>\n",
              "      <td>7.000000</td>\n",
              "      <td>7.000000</td>\n",
              "      <td>6.000000</td>\n",
              "      <td>8.666667</td>\n",
              "      <td>7.166667</td>\n",
              "      <td>...</td>\n",
              "      <td>1.233333</td>\n",
              "      <td>4.633333</td>\n",
              "      <td>2.980000</td>\n",
              "      <td>1018.714286</td>\n",
              "      <td>1020.000000</td>\n",
              "      <td>1018.000000</td>\n",
              "      <td>1016.500000</td>\n",
              "      <td>1017.166667</td>\n",
              "      <td>1018.666667</td>\n",
              "      <td>1017.800000</td>\n",
              "    </tr>\n",
              "    <tr>\n",
              "      <th>2013-01-10</th>\n",
              "      <td>11.000000</td>\n",
              "      <td>62.000000</td>\n",
              "      <td>7.400000</td>\n",
              "      <td>1015.666667</td>\n",
              "      <td>14.000000</td>\n",
              "      <td>8.857143</td>\n",
              "      <td>7.000000</td>\n",
              "      <td>7.000000</td>\n",
              "      <td>6.000000</td>\n",
              "      <td>8.666667</td>\n",
              "      <td>...</td>\n",
              "      <td>3.700000</td>\n",
              "      <td>1.233333</td>\n",
              "      <td>4.633333</td>\n",
              "      <td>1017.000000</td>\n",
              "      <td>1018.714286</td>\n",
              "      <td>1020.000000</td>\n",
              "      <td>1018.000000</td>\n",
              "      <td>1016.500000</td>\n",
              "      <td>1017.166667</td>\n",
              "      <td>1018.666667</td>\n",
              "    </tr>\n",
              "  </tbody>\n",
              "</table>\n",
              "<p>10 rows × 32 columns</p>\n",
              "</div>\n",
              "      <button class=\"colab-df-convert\" onclick=\"convertToInteractive('df-4d4dbe7b-fe18-49a7-a8be-2dfe0763b9b8')\"\n",
              "              title=\"Convert this dataframe to an interactive table.\"\n",
              "              style=\"display:none;\">\n",
              "        \n",
              "  <svg xmlns=\"http://www.w3.org/2000/svg\" height=\"24px\"viewBox=\"0 0 24 24\"\n",
              "       width=\"24px\">\n",
              "    <path d=\"M0 0h24v24H0V0z\" fill=\"none\"/>\n",
              "    <path d=\"M18.56 5.44l.94 2.06.94-2.06 2.06-.94-2.06-.94-.94-2.06-.94 2.06-2.06.94zm-11 1L8.5 8.5l.94-2.06 2.06-.94-2.06-.94L8.5 2.5l-.94 2.06-2.06.94zm10 10l.94 2.06.94-2.06 2.06-.94-2.06-.94-.94-2.06-.94 2.06-2.06.94z\"/><path d=\"M17.41 7.96l-1.37-1.37c-.4-.4-.92-.59-1.43-.59-.52 0-1.04.2-1.43.59L10.3 9.45l-7.72 7.72c-.78.78-.78 2.05 0 2.83L4 21.41c.39.39.9.59 1.41.59.51 0 1.02-.2 1.41-.59l7.78-7.78 2.81-2.81c.8-.78.8-2.07 0-2.86zM5.41 20L4 18.59l7.72-7.72 1.47 1.35L5.41 20z\"/>\n",
              "  </svg>\n",
              "      </button>\n",
              "      \n",
              "  <style>\n",
              "    .colab-df-container {\n",
              "      display:flex;\n",
              "      flex-wrap:wrap;\n",
              "      gap: 12px;\n",
              "    }\n",
              "\n",
              "    .colab-df-convert {\n",
              "      background-color: #E8F0FE;\n",
              "      border: none;\n",
              "      border-radius: 50%;\n",
              "      cursor: pointer;\n",
              "      display: none;\n",
              "      fill: #1967D2;\n",
              "      height: 32px;\n",
              "      padding: 0 0 0 0;\n",
              "      width: 32px;\n",
              "    }\n",
              "\n",
              "    .colab-df-convert:hover {\n",
              "      background-color: #E2EBFA;\n",
              "      box-shadow: 0px 1px 2px rgba(60, 64, 67, 0.3), 0px 1px 3px 1px rgba(60, 64, 67, 0.15);\n",
              "      fill: #174EA6;\n",
              "    }\n",
              "\n",
              "    [theme=dark] .colab-df-convert {\n",
              "      background-color: #3B4455;\n",
              "      fill: #D2E3FC;\n",
              "    }\n",
              "\n",
              "    [theme=dark] .colab-df-convert:hover {\n",
              "      background-color: #434B5C;\n",
              "      box-shadow: 0px 1px 3px 1px rgba(0, 0, 0, 0.15);\n",
              "      filter: drop-shadow(0px 1px 2px rgba(0, 0, 0, 0.3));\n",
              "      fill: #FFFFFF;\n",
              "    }\n",
              "  </style>\n",
              "\n",
              "      <script>\n",
              "        const buttonEl =\n",
              "          document.querySelector('#df-4d4dbe7b-fe18-49a7-a8be-2dfe0763b9b8 button.colab-df-convert');\n",
              "        buttonEl.style.display =\n",
              "          google.colab.kernel.accessAllowed ? 'block' : 'none';\n",
              "\n",
              "        async function convertToInteractive(key) {\n",
              "          const element = document.querySelector('#df-4d4dbe7b-fe18-49a7-a8be-2dfe0763b9b8');\n",
              "          const dataTable =\n",
              "            await google.colab.kernel.invokeFunction('convertToInteractive',\n",
              "                                                     [key], {});\n",
              "          if (!dataTable) return;\n",
              "\n",
              "          const docLinkHtml = 'Like what you see? Visit the ' +\n",
              "            '<a target=\"_blank\" href=https://colab.research.google.com/notebooks/data_table.ipynb>data table notebook</a>'\n",
              "            + ' to learn more about interactive tables.';\n",
              "          element.innerHTML = '';\n",
              "          dataTable['output_type'] = 'display_data';\n",
              "          await google.colab.output.renderOutput(dataTable, element);\n",
              "          const docLink = document.createElement('div');\n",
              "          docLink.innerHTML = docLinkHtml;\n",
              "          element.appendChild(docLink);\n",
              "        }\n",
              "      </script>\n",
              "    </div>\n",
              "  </div>\n",
              "  "
            ]
          },
          "metadata": {},
          "execution_count": 195
        }
      ]
    },
    {
      "cell_type": "code",
      "source": [
        "# Let's create X & y, remove the NaN's and convert to float32 to prevent TensorFlow errors \n",
        "X = multivariate_windowed.dropna().drop([\"meantemp\", \"humidity\", \"wind_speed\", \"meanpressure\"], axis=1).astype(np.float32) \n",
        "y = multivariate_windowed.dropna()[\"meantemp\"].astype(np.float32)\n",
        "X.head()"
      ],
      "metadata": {
        "colab": {
          "base_uri": "https://localhost:8080/",
          "height": 418
        },
        "id": "eyC_fVszk1cY",
        "outputId": "4369dba8-b949-4183-e6c0-95e057cd0073"
      },
      "execution_count": 196,
      "outputs": [
        {
          "output_type": "execute_result",
          "data": {
            "text/plain": [
              "            meantemp+1  meantemp+2  meantemp+3  meantemp+4  meantemp+5  \\\n",
              "date                                                                     \n",
              "2013-01-08    7.000000    7.000000    6.000000    8.666667    7.166667   \n",
              "2013-01-09    8.857142    7.000000    7.000000    6.000000    8.666667   \n",
              "2013-01-10   14.000000    8.857142    7.000000    7.000000    6.000000   \n",
              "2013-01-11   11.000000   14.000000    8.857142    7.000000    7.000000   \n",
              "2013-01-12   15.714286   11.000000   14.000000    8.857142    7.000000   \n",
              "\n",
              "            meantemp+6  meantemp+7  humidity+1  humidity+2  humidity+3  ...  \\\n",
              "date                                                                    ...   \n",
              "2013-01-08    7.400000   10.000000   78.599998   82.800003   86.833336  ...   \n",
              "2013-01-09    7.166667    7.400000   63.714287   78.599998   82.800003  ...   \n",
              "2013-01-10    8.666667    7.166667   51.250000   63.714287   78.599998  ...   \n",
              "2013-01-11    6.000000    8.666667   62.000000   51.250000   63.714287  ...   \n",
              "2013-01-12    7.000000    6.000000   51.285713   62.000000   51.250000  ...   \n",
              "\n",
              "            wind_speed+5  wind_speed+6  wind_speed+7  meanpressure+1  \\\n",
              "date                                                                   \n",
              "2013-01-08      4.633333      2.980000      0.000000     1020.000000   \n",
              "2013-01-09      1.233333      4.633333      2.980000     1018.714294   \n",
              "2013-01-10      3.700000      1.233333      4.633333     1017.000000   \n",
              "2013-01-11      1.480000      3.700000      1.233333     1015.666687   \n",
              "2013-01-12      6.300000      1.480000      3.700000     1016.142883   \n",
              "\n",
              "            meanpressure+2  meanpressure+3  meanpressure+4  meanpressure+5  \\\n",
              "date                                                                         \n",
              "2013-01-08     1018.000000     1016.500000     1017.166687     1018.666687   \n",
              "2013-01-09     1020.000000     1018.000000     1016.500000     1017.166687   \n",
              "2013-01-10     1018.714294     1020.000000     1018.000000     1016.500000   \n",
              "2013-01-11     1017.000000     1018.714294     1020.000000     1018.000000   \n",
              "2013-01-12     1015.666687     1017.000000     1018.714294     1020.000000   \n",
              "\n",
              "            meanpressure+6  meanpressure+7  \n",
              "date                                        \n",
              "2013-01-08     1017.799988     1015.666687  \n",
              "2013-01-09     1018.666687     1017.799988  \n",
              "2013-01-10     1017.166687     1018.666687  \n",
              "2013-01-11     1016.500000     1017.166687  \n",
              "2013-01-12     1018.000000     1016.500000  \n",
              "\n",
              "[5 rows x 28 columns]"
            ],
            "text/html": [
              "\n",
              "  <div id=\"df-8b03922b-87b3-41ab-9e2f-585bbc5417d1\">\n",
              "    <div class=\"colab-df-container\">\n",
              "      <div>\n",
              "<style scoped>\n",
              "    .dataframe tbody tr th:only-of-type {\n",
              "        vertical-align: middle;\n",
              "    }\n",
              "\n",
              "    .dataframe tbody tr th {\n",
              "        vertical-align: top;\n",
              "    }\n",
              "\n",
              "    .dataframe thead th {\n",
              "        text-align: right;\n",
              "    }\n",
              "</style>\n",
              "<table border=\"1\" class=\"dataframe\">\n",
              "  <thead>\n",
              "    <tr style=\"text-align: right;\">\n",
              "      <th></th>\n",
              "      <th>meantemp+1</th>\n",
              "      <th>meantemp+2</th>\n",
              "      <th>meantemp+3</th>\n",
              "      <th>meantemp+4</th>\n",
              "      <th>meantemp+5</th>\n",
              "      <th>meantemp+6</th>\n",
              "      <th>meantemp+7</th>\n",
              "      <th>humidity+1</th>\n",
              "      <th>humidity+2</th>\n",
              "      <th>humidity+3</th>\n",
              "      <th>...</th>\n",
              "      <th>wind_speed+5</th>\n",
              "      <th>wind_speed+6</th>\n",
              "      <th>wind_speed+7</th>\n",
              "      <th>meanpressure+1</th>\n",
              "      <th>meanpressure+2</th>\n",
              "      <th>meanpressure+3</th>\n",
              "      <th>meanpressure+4</th>\n",
              "      <th>meanpressure+5</th>\n",
              "      <th>meanpressure+6</th>\n",
              "      <th>meanpressure+7</th>\n",
              "    </tr>\n",
              "    <tr>\n",
              "      <th>date</th>\n",
              "      <th></th>\n",
              "      <th></th>\n",
              "      <th></th>\n",
              "      <th></th>\n",
              "      <th></th>\n",
              "      <th></th>\n",
              "      <th></th>\n",
              "      <th></th>\n",
              "      <th></th>\n",
              "      <th></th>\n",
              "      <th></th>\n",
              "      <th></th>\n",
              "      <th></th>\n",
              "      <th></th>\n",
              "      <th></th>\n",
              "      <th></th>\n",
              "      <th></th>\n",
              "      <th></th>\n",
              "      <th></th>\n",
              "      <th></th>\n",
              "      <th></th>\n",
              "    </tr>\n",
              "  </thead>\n",
              "  <tbody>\n",
              "    <tr>\n",
              "      <th>2013-01-08</th>\n",
              "      <td>7.000000</td>\n",
              "      <td>7.000000</td>\n",
              "      <td>6.000000</td>\n",
              "      <td>8.666667</td>\n",
              "      <td>7.166667</td>\n",
              "      <td>7.400000</td>\n",
              "      <td>10.000000</td>\n",
              "      <td>78.599998</td>\n",
              "      <td>82.800003</td>\n",
              "      <td>86.833336</td>\n",
              "      <td>...</td>\n",
              "      <td>4.633333</td>\n",
              "      <td>2.980000</td>\n",
              "      <td>0.000000</td>\n",
              "      <td>1020.000000</td>\n",
              "      <td>1018.000000</td>\n",
              "      <td>1016.500000</td>\n",
              "      <td>1017.166687</td>\n",
              "      <td>1018.666687</td>\n",
              "      <td>1017.799988</td>\n",
              "      <td>1015.666687</td>\n",
              "    </tr>\n",
              "    <tr>\n",
              "      <th>2013-01-09</th>\n",
              "      <td>8.857142</td>\n",
              "      <td>7.000000</td>\n",
              "      <td>7.000000</td>\n",
              "      <td>6.000000</td>\n",
              "      <td>8.666667</td>\n",
              "      <td>7.166667</td>\n",
              "      <td>7.400000</td>\n",
              "      <td>63.714287</td>\n",
              "      <td>78.599998</td>\n",
              "      <td>82.800003</td>\n",
              "      <td>...</td>\n",
              "      <td>1.233333</td>\n",
              "      <td>4.633333</td>\n",
              "      <td>2.980000</td>\n",
              "      <td>1018.714294</td>\n",
              "      <td>1020.000000</td>\n",
              "      <td>1018.000000</td>\n",
              "      <td>1016.500000</td>\n",
              "      <td>1017.166687</td>\n",
              "      <td>1018.666687</td>\n",
              "      <td>1017.799988</td>\n",
              "    </tr>\n",
              "    <tr>\n",
              "      <th>2013-01-10</th>\n",
              "      <td>14.000000</td>\n",
              "      <td>8.857142</td>\n",
              "      <td>7.000000</td>\n",
              "      <td>7.000000</td>\n",
              "      <td>6.000000</td>\n",
              "      <td>8.666667</td>\n",
              "      <td>7.166667</td>\n",
              "      <td>51.250000</td>\n",
              "      <td>63.714287</td>\n",
              "      <td>78.599998</td>\n",
              "      <td>...</td>\n",
              "      <td>3.700000</td>\n",
              "      <td>1.233333</td>\n",
              "      <td>4.633333</td>\n",
              "      <td>1017.000000</td>\n",
              "      <td>1018.714294</td>\n",
              "      <td>1020.000000</td>\n",
              "      <td>1018.000000</td>\n",
              "      <td>1016.500000</td>\n",
              "      <td>1017.166687</td>\n",
              "      <td>1018.666687</td>\n",
              "    </tr>\n",
              "    <tr>\n",
              "      <th>2013-01-11</th>\n",
              "      <td>11.000000</td>\n",
              "      <td>14.000000</td>\n",
              "      <td>8.857142</td>\n",
              "      <td>7.000000</td>\n",
              "      <td>7.000000</td>\n",
              "      <td>6.000000</td>\n",
              "      <td>8.666667</td>\n",
              "      <td>62.000000</td>\n",
              "      <td>51.250000</td>\n",
              "      <td>63.714287</td>\n",
              "      <td>...</td>\n",
              "      <td>1.480000</td>\n",
              "      <td>3.700000</td>\n",
              "      <td>1.233333</td>\n",
              "      <td>1015.666687</td>\n",
              "      <td>1017.000000</td>\n",
              "      <td>1018.714294</td>\n",
              "      <td>1020.000000</td>\n",
              "      <td>1018.000000</td>\n",
              "      <td>1016.500000</td>\n",
              "      <td>1017.166687</td>\n",
              "    </tr>\n",
              "    <tr>\n",
              "      <th>2013-01-12</th>\n",
              "      <td>15.714286</td>\n",
              "      <td>11.000000</td>\n",
              "      <td>14.000000</td>\n",
              "      <td>8.857142</td>\n",
              "      <td>7.000000</td>\n",
              "      <td>7.000000</td>\n",
              "      <td>6.000000</td>\n",
              "      <td>51.285713</td>\n",
              "      <td>62.000000</td>\n",
              "      <td>51.250000</td>\n",
              "      <td>...</td>\n",
              "      <td>6.300000</td>\n",
              "      <td>1.480000</td>\n",
              "      <td>3.700000</td>\n",
              "      <td>1016.142883</td>\n",
              "      <td>1015.666687</td>\n",
              "      <td>1017.000000</td>\n",
              "      <td>1018.714294</td>\n",
              "      <td>1020.000000</td>\n",
              "      <td>1018.000000</td>\n",
              "      <td>1016.500000</td>\n",
              "    </tr>\n",
              "  </tbody>\n",
              "</table>\n",
              "<p>5 rows × 28 columns</p>\n",
              "</div>\n",
              "      <button class=\"colab-df-convert\" onclick=\"convertToInteractive('df-8b03922b-87b3-41ab-9e2f-585bbc5417d1')\"\n",
              "              title=\"Convert this dataframe to an interactive table.\"\n",
              "              style=\"display:none;\">\n",
              "        \n",
              "  <svg xmlns=\"http://www.w3.org/2000/svg\" height=\"24px\"viewBox=\"0 0 24 24\"\n",
              "       width=\"24px\">\n",
              "    <path d=\"M0 0h24v24H0V0z\" fill=\"none\"/>\n",
              "    <path d=\"M18.56 5.44l.94 2.06.94-2.06 2.06-.94-2.06-.94-.94-2.06-.94 2.06-2.06.94zm-11 1L8.5 8.5l.94-2.06 2.06-.94-2.06-.94L8.5 2.5l-.94 2.06-2.06.94zm10 10l.94 2.06.94-2.06 2.06-.94-2.06-.94-.94-2.06-.94 2.06-2.06.94z\"/><path d=\"M17.41 7.96l-1.37-1.37c-.4-.4-.92-.59-1.43-.59-.52 0-1.04.2-1.43.59L10.3 9.45l-7.72 7.72c-.78.78-.78 2.05 0 2.83L4 21.41c.39.39.9.59 1.41.59.51 0 1.02-.2 1.41-.59l7.78-7.78 2.81-2.81c.8-.78.8-2.07 0-2.86zM5.41 20L4 18.59l7.72-7.72 1.47 1.35L5.41 20z\"/>\n",
              "  </svg>\n",
              "      </button>\n",
              "      \n",
              "  <style>\n",
              "    .colab-df-container {\n",
              "      display:flex;\n",
              "      flex-wrap:wrap;\n",
              "      gap: 12px;\n",
              "    }\n",
              "\n",
              "    .colab-df-convert {\n",
              "      background-color: #E8F0FE;\n",
              "      border: none;\n",
              "      border-radius: 50%;\n",
              "      cursor: pointer;\n",
              "      display: none;\n",
              "      fill: #1967D2;\n",
              "      height: 32px;\n",
              "      padding: 0 0 0 0;\n",
              "      width: 32px;\n",
              "    }\n",
              "\n",
              "    .colab-df-convert:hover {\n",
              "      background-color: #E2EBFA;\n",
              "      box-shadow: 0px 1px 2px rgba(60, 64, 67, 0.3), 0px 1px 3px 1px rgba(60, 64, 67, 0.15);\n",
              "      fill: #174EA6;\n",
              "    }\n",
              "\n",
              "    [theme=dark] .colab-df-convert {\n",
              "      background-color: #3B4455;\n",
              "      fill: #D2E3FC;\n",
              "    }\n",
              "\n",
              "    [theme=dark] .colab-df-convert:hover {\n",
              "      background-color: #434B5C;\n",
              "      box-shadow: 0px 1px 3px 1px rgba(0, 0, 0, 0.15);\n",
              "      filter: drop-shadow(0px 1px 2px rgba(0, 0, 0, 0.3));\n",
              "      fill: #FFFFFF;\n",
              "    }\n",
              "  </style>\n",
              "\n",
              "      <script>\n",
              "        const buttonEl =\n",
              "          document.querySelector('#df-8b03922b-87b3-41ab-9e2f-585bbc5417d1 button.colab-df-convert');\n",
              "        buttonEl.style.display =\n",
              "          google.colab.kernel.accessAllowed ? 'block' : 'none';\n",
              "\n",
              "        async function convertToInteractive(key) {\n",
              "          const element = document.querySelector('#df-8b03922b-87b3-41ab-9e2f-585bbc5417d1');\n",
              "          const dataTable =\n",
              "            await google.colab.kernel.invokeFunction('convertToInteractive',\n",
              "                                                     [key], {});\n",
              "          if (!dataTable) return;\n",
              "\n",
              "          const docLinkHtml = 'Like what you see? Visit the ' +\n",
              "            '<a target=\"_blank\" href=https://colab.research.google.com/notebooks/data_table.ipynb>data table notebook</a>'\n",
              "            + ' to learn more about interactive tables.';\n",
              "          element.innerHTML = '';\n",
              "          dataTable['output_type'] = 'display_data';\n",
              "          await google.colab.output.renderOutput(dataTable, element);\n",
              "          const docLink = document.createElement('div');\n",
              "          docLink.innerHTML = docLinkHtml;\n",
              "          element.appendChild(docLink);\n",
              "        }\n",
              "      </script>\n",
              "    </div>\n",
              "  </div>\n",
              "  "
            ]
          },
          "metadata": {},
          "execution_count": 196
        }
      ]
    },
    {
      "cell_type": "code",
      "source": [
        "y.head()"
      ],
      "metadata": {
        "colab": {
          "base_uri": "https://localhost:8080/"
        },
        "id": "yUm1VC26l3DQ",
        "outputId": "a8d33c34-a3ef-4ac3-91bd-99e5aadf7ead"
      },
      "execution_count": 197,
      "outputs": [
        {
          "output_type": "execute_result",
          "data": {
            "text/plain": [
              "date\n",
              "2013-01-08     8.857142\n",
              "2013-01-09    14.000000\n",
              "2013-01-10    11.000000\n",
              "2013-01-11    15.714286\n",
              "2013-01-12    14.000000\n",
              "Name: meantemp, dtype: float32"
            ]
          },
          "metadata": {},
          "execution_count": 197
        }
      ]
    },
    {
      "cell_type": "code",
      "source": [
        "# Make train and test sets\n",
        "split_size = int(len(X) * 0.8)\n",
        "X_train, y_train = X[:split_size], y[:split_size]\n",
        "X_test, y_test = X[split_size:], y[split_size:]\n",
        "len(X_train), len(y_train), len(X_test), len(y_test)"
      ],
      "metadata": {
        "colab": {
          "base_uri": "https://localhost:8080/"
        },
        "id": "6itqvH4ImOHK",
        "outputId": "aeca4b46-6848-469f-b800-8b51c8c57c64"
      },
      "execution_count": 198,
      "outputs": [
        {
          "output_type": "execute_result",
          "data": {
            "text/plain": [
              "(1164, 1164, 291, 291)"
            ]
          },
          "metadata": {},
          "execution_count": 198
        }
      ]
    },
    {
      "cell_type": "code",
      "source": [
        "tf.random.set_seed(42)\n",
        "\n",
        "# Make multivariate time series model\n",
        "model_6 = tf.keras.Sequential([\n",
        "  layers.Dense(256, activation=\"relu\"),\n",
        "  layers.Dense(128, activation=\"relu\"), # adding an extra layer here should lead to beating the naive model\n",
        "  layers.Dense(64, activation=\"relu\"),\n",
        "  layers.Dense(HORIZON)\n",
        "], name=\"model_6_dense_multivariate\")\n",
        "\n",
        "# Compile\n",
        "model_6.compile(loss=\"mae\",\n",
        "                optimizer=tf.keras.optimizers.Adam(lr=0.005))\n",
        "\n",
        "# Fit\n",
        "history_model_6 = model_6.fit(X_train, y_train,\n",
        "                            epochs=200,\n",
        "                            batch_size=128,\n",
        "                            verbose=0, # only print 1 line per epoch\n",
        "                            validation_data=(X_test, y_test),\n",
        "                            callbacks=[create_model_checkpoint(model_name=model_6.name)])"
      ],
      "metadata": {
        "colab": {
          "base_uri": "https://localhost:8080/"
        },
        "id": "VYmKh_sOmRdL",
        "outputId": "24d0ae87-4b6f-4b7e-e719-be3491024437"
      },
      "execution_count": 217,
      "outputs": [
        {
          "output_type": "stream",
          "name": "stderr",
          "text": [
            "/usr/local/lib/python3.8/dist-packages/keras/optimizers/optimizer_v2/adam.py:110: UserWarning: The `lr` argument is deprecated, use `learning_rate` instead.\n",
            "  super(Adam, self).__init__(name, **kwargs)\n"
          ]
        }
      ]
    },
    {
      "cell_type": "code",
      "source": [
        "def plot_loss_curves(history):\n",
        "  \"\"\"\n",
        "  Returns separate loss curves for training and validation metrics.\n",
        "\n",
        "  Args:\n",
        "    history: TensorFlow model History object (see: https://www.tensorflow.org/api_docs/python/tf/keras/callbacks/History)\n",
        "  \"\"\" \n",
        "  loss = history.history['loss']\n",
        "  val_loss = history.history['val_loss']\n",
        "\n",
        "  epochs = range(len(history.history['loss']))\n",
        "\n",
        "  # Plot loss\n",
        "  plt.plot(epochs, loss, label='training_loss')\n",
        "  plt.plot(epochs, val_loss, label='val_loss')\n",
        "  plt.title('Loss')\n",
        "  plt.xlabel('Epochs')\n",
        "  plt.legend()"
      ],
      "metadata": {
        "id": "AcmKVBBNntCo"
      },
      "execution_count": 218,
      "outputs": []
    },
    {
      "cell_type": "code",
      "source": [
        "plot_loss_curves(history_model_6)"
      ],
      "metadata": {
        "colab": {
          "base_uri": "https://localhost:8080/",
          "height": 295
        },
        "id": "dC5esax7nI0c",
        "outputId": "d7d71bc8-f1fd-42cd-98d0-f58bcfe4e879"
      },
      "execution_count": 219,
      "outputs": [
        {
          "output_type": "display_data",
          "data": {
            "text/plain": [
              "<Figure size 432x288 with 1 Axes>"
            ],
            "image/png": "[encoded data removed]"
          },
          "metadata": {
            "needs_background": "light"
          }
        }
      ]
    },
    {
      "cell_type": "code",
      "source": [
        "# Make sure best model is loaded and evaluate\n",
        "model_6 = tf.keras.models.load_model(\"model_experiments/model_6_dense_multivariate\")\n",
        "model_6.evaluate(X_test, y_test)"
      ],
      "metadata": {
        "colab": {
          "base_uri": "https://localhost:8080/"
        },
        "id": "HxB1HiCEmU3W",
        "outputId": "cba658f7-1064-4bde-9b7c-8139de9eafe4"
      },
      "execution_count": 220,
      "outputs": [
        {
          "output_type": "stream",
          "name": "stdout",
          "text": [
            "10/10 [==============================] - 0s 3ms/step - loss: 2.2731\n"
          ]
        },
        {
          "output_type": "execute_result",
          "data": {
            "text/plain": [
              "2.273083209991455"
            ]
          },
          "metadata": {},
          "execution_count": 220
        }
      ]
    },
    {
      "cell_type": "code",
      "source": [
        "# Make predictions on multivariate data\n",
        "model_6_preds = tf.squeeze(model_6.predict(X_test))\n",
        "model_6_preds[:10]"
      ],
      "metadata": {
        "colab": {
          "base_uri": "https://localhost:8080/"
        },
        "id": "OeCSDXUrmWkx",
        "outputId": "152b152a-37fe-4cb0-b72f-cb427cbd2906"
      },
      "execution_count": 221,
      "outputs": [
        {
          "output_type": "stream",
          "name": "stdout",
          "text": [
            "10/10 [==============================] - 0s 2ms/step\n"
          ]
        },
        {
          "output_type": "execute_result",
          "data": {
            "text/plain": [
              "<tf.Tensor: shape=(10,), dtype=float32, numpy=\n",
              "array([24.577253, 25.303234, 25.17347 , 25.266718, 25.969898, 26.920515,\n",
              "       26.624216, 26.677496, 27.434982, 27.853785], dtype=float32)>"
            ]
          },
          "metadata": {},
          "execution_count": 221
        }
      ]
    },
    {
      "cell_type": "code",
      "source": [
        "# Evaluate preds\n",
        "model_6_results = evaluate_preds(y_true=y_test,\n",
        "                                 y_pred=model_6_preds)\n",
        "model_6_results"
      ],
      "metadata": {
        "colab": {
          "base_uri": "https://localhost:8080/"
        },
        "id": "xOYQR_7AmXEj",
        "outputId": "4172c7e8-6c8a-4537-b317-c66cec567bc6"
      },
      "execution_count": 222,
      "outputs": [
        {
          "output_type": "execute_result",
          "data": {
            "text/plain": [
              "{'mae': 2.2730832,\n",
              " 'mse': 42.09058,\n",
              " 'rmse': 6.4877253,\n",
              " 'mape': 8.24006,\n",
              " 'mase': 1.8071868}"
            ]
          },
          "metadata": {},
          "execution_count": 222
        }
      ]
    },
    {
      "cell_type": "code",
      "source": [
        "model_2_results"
      ],
      "metadata": {
        "colab": {
          "base_uri": "https://localhost:8080/"
        },
        "id": "40Ecb0vGmYBD",
        "outputId": "32e12a6a-c903-4c57-95db-bacbdf5c2566"
      },
      "execution_count": 205,
      "outputs": [
        {
          "output_type": "execute_result",
          "data": {
            "text/plain": [
              "{'mae': 1.2942606,\n",
              " 'mse': 2.9110098,\n",
              " 'rmse': 1.706168,\n",
              " 'mape': 4.736191,\n",
              " 'mase': 1.0192056}"
            ]
          },
          "metadata": {},
          "execution_count": 205
        }
      ]
    },
    {
      "cell_type": "code",
      "source": [
        "'''\n",
        "TODO:\n",
        "Figure out why the multivariate time series data is performing worse, increasing\n",
        "the epochs wouldn't look like it would help since the curves are sloping down.\n",
        "I feel maybe I have to increase the complexity of the model?\n",
        "-add more layers *\n",
        "-inc # of hidden units *\n",
        "-change activation func\n",
        "-change optimization func\n",
        "-change lr *\n",
        "'''"
      ],
      "metadata": {
        "colab": {
          "base_uri": "https://localhost:8080/",
          "height": 52
        },
        "id": "o7w4UYRlmbUM",
        "outputId": "d5a5b583-0e25-4a91-9d71-62e4e1a4d126"
      },
      "execution_count": 206,
      "outputs": [
        {
          "output_type": "execute_result",
          "data": {
            "text/plain": [
              "\"\\nTODO:\\nFigure out why the multivariate time series data is performing worse, increasing\\nthe epochs wouldn't look like it would help since the curves are sloping down.\\nI feel maybe I have to increase the complexity of the model?\\n-add more layers\\n-inc # of hidden units\\n-change activation func\\n-change optimization func\\n-change lr\\n\""
            ],
            "application/vnd.google.colaboratory.intrinsic+json": {
              "type": "string"
            }
          },
          "metadata": {},
          "execution_count": 206
        }
      ]
    },
    {
      "cell_type": "code",
      "source": [],
      "metadata": {
        "id": "Lj91_Mcx0Cv0"
      },
      "execution_count": null,
      "outputs": []
    }
  ]
}